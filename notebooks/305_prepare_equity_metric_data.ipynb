{
 "cells": [
  {
   "cell_type": "markdown",
   "metadata": {},
   "source": [
    "# 305 Prepare equity metric data\n",
    "\n",
    "In this notebook, we pull out the R10 data for the following variables:\n",
    "* Emissions|CO2|Energy and Industrial Processes\n",
    "* Population\n",
    "We do this across the set of C1 scenarios assessed in this study (100_scenario_names.csv)"
   ]
  },
  {
   "cell_type": "code",
   "execution_count": 1,
   "metadata": {},
   "outputs": [
    {
     "data": {
      "application/javascript": "if (typeof IPython !== 'undefined') { IPython.OutputArea.prototype._should_scroll = function(lines){ return false; }}",
      "text/plain": [
       "<IPython.core.display.Javascript object>"
      ]
     },
     "metadata": {},
     "output_type": "display_data"
    }
   ],
   "source": [
    "import pyam\n",
    "import pandas as pd\n",
    "import numpy as np\n",
    "\n",
    "from pathlib import Path\n",
    "import os\n",
    "import dotenv"
   ]
  },
  {
   "cell_type": "code",
   "execution_count": 2,
   "metadata": {},
   "outputs": [
    {
     "data": {
      "text/plain": [
       "True"
      ]
     },
     "execution_count": 2,
     "metadata": {},
     "output_type": "execute_result"
    }
   ],
   "source": [
    "dotenv.load_dotenv()"
   ]
  },
  {
   "cell_type": "markdown",
   "metadata": {},
   "source": [
    "Step 1: Read in the AR6 R10 data and downselect to the necessary variables."
   ]
  },
  {
   "cell_type": "code",
   "execution_count": 3,
   "metadata": {},
   "outputs": [],
   "source": [
    "ar6_r10 = pd.read_csv(\n",
    "    os.environ['AR6_R10']\n",
    ")"
   ]
  },
  {
   "cell_type": "code",
   "execution_count": 4,
   "metadata": {},
   "outputs": [],
   "source": [
    "ar6_r10_vars = (\n",
    "    ar6_r10[ar6_r10['Variable'].isin(\n",
    "        ['Emissions|CO2|Energy and Industrial Processes', 'Population']\n",
    "    )]\n",
    ")"
   ]
  },
  {
   "cell_type": "code",
   "execution_count": 5,
   "metadata": {},
   "outputs": [],
   "source": [
    "ar6_r10_pyam = pyam.IamDataFrame(ar6_r10_vars)"
   ]
  },
  {
   "cell_type": "code",
   "execution_count": 6,
   "metadata": {},
   "outputs": [
    {
     "name": "stderr",
     "output_type": "stream",
     "text": [
      "pyam.core - WARNING: No meta indicators for the following scenarios:\n",
      "          model             scenario\n",
      "0  GCAM-USA 5.3  EN_NP_2025_-1002050\n",
      "1  GCAM-USA 5.3   EN_NP_2025_-502050\n",
      "2  GCAM-USA 5.3             EN_NP_BL\n",
      "3  GCAM-USA 5.3         EN_NP_CurPol\n",
      "4  GCAM-USA 5.3           EN_NP_UNDC\n",
      "...\n",
      "pyam.core - WARNING: Ignoring meta indicators for the following scenarios:\n",
      "         model                scenario\n",
      "0  AIM/CGE 2.0  ADVANCE_2020_1.5C-2100\n",
      "1  AIM/CGE 2.0      ADVANCE_2020_Med2C\n",
      "2  AIM/CGE 2.0       ADVANCE_2020_WB2C\n",
      "3  AIM/CGE 2.0      ADVANCE_2030_Med2C\n",
      "4  AIM/CGE 2.0  ADVANCE_2030_Price1.5C\n",
      "...\n"
     ]
    }
   ],
   "source": [
    "ar6_r10_pyam.load_meta(\n",
    "    os.environ['AR6_META']\n",
    ")"
   ]
  },
  {
   "cell_type": "markdown",
   "metadata": {},
   "source": [
    "Step 2: Filter for the C1 scenarios."
   ]
  },
  {
   "cell_type": "code",
   "execution_count": 7,
   "metadata": {},
   "outputs": [],
   "source": [
    "ar6_c1 = ar6_r10_pyam.filter(\n",
    "    Category='C1'\n",
    ")"
   ]
  },
  {
   "cell_type": "markdown",
   "metadata": {},
   "source": [
    "Step 3: Check which scenarios report all the R10 regions."
   ]
  },
  {
   "cell_type": "code",
   "execution_count": 8,
   "metadata": {},
   "outputs": [],
   "source": [
    "regions = set(ar6_c1.region) - set(['R10ROWO'])"
   ]
  },
  {
   "cell_type": "code",
   "execution_count": 9,
   "metadata": {},
   "outputs": [
    {
     "name": "stderr",
     "output_type": "stream",
     "text": [
      "pyam.validation - INFO: 2 scenarios failed validation and will be set as `exclude=True`.\n"
     ]
    },
    {
     "data": {
      "text/html": [
       "<div>\n",
       "<style scoped>\n",
       "    .dataframe tbody tr th:only-of-type {\n",
       "        vertical-align: middle;\n",
       "    }\n",
       "\n",
       "    .dataframe tbody tr th {\n",
       "        vertical-align: top;\n",
       "    }\n",
       "\n",
       "    .dataframe thead th {\n",
       "        text-align: right;\n",
       "    }\n",
       "</style>\n",
       "<table border=\"1\" class=\"dataframe\">\n",
       "  <thead>\n",
       "    <tr style=\"text-align: right;\">\n",
       "      <th></th>\n",
       "      <th>model</th>\n",
       "      <th>scenario</th>\n",
       "      <th>region</th>\n",
       "    </tr>\n",
       "  </thead>\n",
       "  <tbody>\n",
       "    <tr>\n",
       "      <th>0</th>\n",
       "      <td>GEM-E3_V2021</td>\n",
       "      <td>EN_NPi2020_500</td>\n",
       "      <td>R10AFRICA</td>\n",
       "    </tr>\n",
       "    <tr>\n",
       "      <th>1</th>\n",
       "      <td>GEM-E3_V2021</td>\n",
       "      <td>EN_NPi2020_600_COV</td>\n",
       "      <td>R10AFRICA</td>\n",
       "    </tr>\n",
       "  </tbody>\n",
       "</table>\n",
       "</div>"
      ],
      "text/plain": [
       "          model            scenario     region\n",
       "0  GEM-E3_V2021      EN_NPi2020_500  R10AFRICA\n",
       "1  GEM-E3_V2021  EN_NPi2020_600_COV  R10AFRICA"
      ]
     },
     "execution_count": 9,
     "metadata": {},
     "output_type": "execute_result"
    }
   ],
   "source": [
    "ar6_c1.require_data(\n",
    "    region=regions,\n",
    "    exclude_on_fail=True\n",
    ")"
   ]
  },
  {
   "cell_type": "code",
   "execution_count": 10,
   "metadata": {},
   "outputs": [],
   "source": [
    "ar6_c1.filter(\n",
    "    exclude=False,\n",
    "    inplace=True\n",
    ")"
   ]
  },
  {
   "cell_type": "code",
   "execution_count": 11,
   "metadata": {},
   "outputs": [],
   "source": [
    "ar6_c1.interpolate(\n",
    "    time=range(2015, 2101, 5),\n",
    "    inplace=True\n",
    ")"
   ]
  },
  {
   "cell_type": "markdown",
   "metadata": {},
   "source": [
    "Step 4: Write this out for further assessment."
   ]
  },
  {
   "cell_type": "code",
   "execution_count": 12,
   "metadata": {},
   "outputs": [],
   "source": [
    "ar6_c1.to_csv(\n",
    "    Path(\n",
    "        '../data/305_equity_input.csv'\n",
    "    )\n",
    ")"
   ]
  }
 ],
 "metadata": {
  "kernelspec": {
   "display_name": "cdr_climate_uncertainty",
   "language": "python",
   "name": "python3"
  },
  "language_info": {
   "codemirror_mode": {
    "name": "ipython",
    "version": 3
   },
   "file_extension": ".py",
   "mimetype": "text/x-python",
   "name": "python",
   "nbconvert_exporter": "python",
   "pygments_lexer": "ipython3",
   "version": "3.10.12"
  }
 },
 "nbformat": 4,
 "nbformat_minor": 2
}
