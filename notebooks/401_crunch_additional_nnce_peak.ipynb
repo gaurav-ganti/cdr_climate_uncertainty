{
 "cells": [
  {
   "cell_type": "markdown",
   "metadata": {},
   "source": [
    "# 401 Crunch additional NNCE for peak emissions\n",
    "\n",
    "In this notebook, we assess the additional net-negative emissions to ensure peak warming stays below a desired value."
   ]
  },
  {
   "cell_type": "code",
   "execution_count": 1,
   "metadata": {},
   "outputs": [],
   "source": [
    "PEAK = 1.6\n",
    "ENSEMBLE_MEMBER = 2"
   ]
  },
  {
   "cell_type": "code",
   "execution_count": 49,
   "metadata": {},
   "outputs": [],
   "source": [
    "import pyam\n",
    "import scmdata\n",
    "import copy\n",
    "import pandas as pd\n",
    "import json\n",
    "import os\n",
    "\n",
    "import dotenv\n",
    "from climate_assessment.climate.wg3 import clean_wg3_scenarios\n",
    "import openscm_runner\n",
    "from utils import assign_peak_and_2100_warming\n",
    "\n",
    "import matplotlib.pyplot as plt\n",
    "\n",
    "from pathlib import Path"
   ]
  },
  {
   "cell_type": "markdown",
   "metadata": {},
   "source": [
    "## Read in the necessary data\n",
    "Step 1: Read in the prepared metrics."
   ]
  },
  {
   "cell_type": "code",
   "execution_count": 3,
   "metadata": {},
   "outputs": [],
   "source": [
    "metrics = pd.read_csv(\n",
    "    Path(\n",
    "        '../data/304_compiled_metrics.csv'\n",
    "    ),\n",
    "    index_col=[0,1,2]\n",
    ")"
   ]
  },
  {
   "cell_type": "code",
   "execution_count": 4,
   "metadata": {},
   "outputs": [],
   "source": [
    "metrics_ensemble = metrics.loc[\n",
    "    pd.IndexSlice[:,:,ENSEMBLE_MEMBER],\n",
    "    :\n",
    "]"
   ]
  },
  {
   "cell_type": "markdown",
   "metadata": {},
   "source": [
    "Step 2: Read in the emissions dataframe that we will tamper with."
   ]
  },
  {
   "cell_type": "code",
   "execution_count": 5,
   "metadata": {},
   "outputs": [
    {
     "name": "stderr",
     "output_type": "stream",
     "text": [
      "pyam - INFO: Running in a notebook, setting up a basic logging at level INFO\n",
      "pyam.core - INFO: Reading file ../data/100_scenarios.csv\n"
     ]
    }
   ],
   "source": [
    "emissions = pyam.IamDataFrame(\n",
    "    Path(\n",
    "        '../data/100_scenarios.csv'\n",
    "    )\n",
    ")"
   ]
  },
  {
   "cell_type": "markdown",
   "metadata": {},
   "source": [
    "Step 3: Read in the MAGICC runs for a given ensemble members"
   ]
  },
  {
   "cell_type": "code",
   "execution_count": 6,
   "metadata": {},
   "outputs": [
    {
     "data": {
      "text/plain": [
       "True"
      ]
     },
     "execution_count": 6,
     "metadata": {},
     "output_type": "execute_result"
    }
   ],
   "source": [
    "dotenv.load_dotenv()"
   ]
  },
  {
   "cell_type": "code",
   "execution_count": 7,
   "metadata": {},
   "outputs": [],
   "source": [
    "os.environ['DYLD_LIBRARY_PATH'] = '/usr/local/Cellar/gcc/13.1.0/lib/gcc/current/'"
   ]
  },
  {
   "cell_type": "code",
   "execution_count": 8,
   "metadata": {},
   "outputs": [
    {
     "data": {
      "text/plain": [
       "'IPCC AR6 config drawn on 9th Feb 2021. Sub-sample set 0fd0f62 from derived metrics set f023edb. Drawn in 532_plot_and_save_subsampled_distribution.ipynb.'"
      ]
     },
     "metadata": {},
     "output_type": "display_data"
    }
   ],
   "source": [
    "with open(os.environ[\"MAGICC_AR6_PROBABILISTIC_DISTRIBUTION\"]) as f:\n",
    "    prob_dist = json.load(f)\n",
    "\n",
    "display(prob_dist[\"description\"])\n",
    "cfg_to_run = [\n",
    "    d for d in prob_dist[\"configurations\"] if d[\"paraset_id\"] == ENSEMBLE_MEMBER\n",
    "]\n",
    "assert len(cfg_to_run) == 1\n",
    "cfg_to_run = {k.lower(): v for k, v in cfg_to_run[0][\"nml_allcfgs\"].items()}"
   ]
  },
  {
   "cell_type": "markdown",
   "metadata": {},
   "source": [
    "## Data processing\n",
    "Step 1: Select necessary columns from the metrics dataframe."
   ]
  },
  {
   "cell_type": "code",
   "execution_count": 9,
   "metadata": {},
   "outputs": [],
   "source": [
    "columns = [\n",
    "    'peak_warming',\n",
    "    'year_peak_warming',\n",
    "    'cum_emissions_to_peak_GtCO2',\n",
    "    'eTCREup'\n",
    "]"
   ]
  },
  {
   "cell_type": "code",
   "execution_count": 10,
   "metadata": {},
   "outputs": [],
   "source": [
    "metrics_small = metrics_ensemble.loc[:,columns]"
   ]
  },
  {
   "cell_type": "markdown",
   "metadata": {},
   "source": [
    "Step 2: Add a column with the necessary \"cooling\" to be achieved."
   ]
  },
  {
   "cell_type": "code",
   "execution_count": 11,
   "metadata": {},
   "outputs": [],
   "source": [
    "metrics_small.loc[:,'cooling_needs'] = (\n",
    "    metrics_small\n",
    "    .apply(\n",
    "        lambda x: x['peak_warming'] - PEAK if x['peak_warming'] > PEAK else 0,\n",
    "        axis=1\n",
    "    )\n",
    ")"
   ]
  },
  {
   "cell_type": "markdown",
   "metadata": {},
   "source": [
    "Step 3: Calculate the additional negative emissions needed to achieve this cooling."
   ]
  },
  {
   "cell_type": "code",
   "execution_count": 12,
   "metadata": {},
   "outputs": [],
   "source": [
    "metrics_small.loc[:, 'nnce_guess_peak'] = (\n",
    "    metrics_small.loc[:,'cooling_needs']\n",
    "    /\n",
    "    metrics_small.loc[:,'eTCREup']\n",
    ")"
   ]
  },
  {
   "cell_type": "code",
   "execution_count": 13,
   "metadata": {},
   "outputs": [
    {
     "data": {
      "text/html": [
       "<div>\n",
       "<style scoped>\n",
       "    .dataframe tbody tr th:only-of-type {\n",
       "        vertical-align: middle;\n",
       "    }\n",
       "\n",
       "    .dataframe tbody tr th {\n",
       "        vertical-align: top;\n",
       "    }\n",
       "\n",
       "    .dataframe thead th {\n",
       "        text-align: right;\n",
       "    }\n",
       "</style>\n",
       "<table border=\"1\" class=\"dataframe\">\n",
       "  <thead>\n",
       "    <tr style=\"text-align: right;\">\n",
       "      <th></th>\n",
       "      <th></th>\n",
       "      <th></th>\n",
       "      <th>peak_warming</th>\n",
       "      <th>year_peak_warming</th>\n",
       "      <th>cum_emissions_to_peak_GtCO2</th>\n",
       "      <th>eTCREup</th>\n",
       "      <th>cooling_needs</th>\n",
       "      <th>nnce_guess_peak</th>\n",
       "    </tr>\n",
       "    <tr>\n",
       "      <th>model</th>\n",
       "      <th>scenario</th>\n",
       "      <th>run_id</th>\n",
       "      <th></th>\n",
       "      <th></th>\n",
       "      <th></th>\n",
       "      <th></th>\n",
       "      <th></th>\n",
       "      <th></th>\n",
       "    </tr>\n",
       "  </thead>\n",
       "  <tbody>\n",
       "    <tr>\n",
       "      <th>COFFEE 1.1</th>\n",
       "      <th>EN_NPi2020_400f_lowBECCS</th>\n",
       "      <th>2</th>\n",
       "      <td>2.108080</td>\n",
       "      <td>2060</td>\n",
       "      <td>983.807875</td>\n",
       "      <td>0.000866</td>\n",
       "      <td>0.508080</td>\n",
       "      <td>586.729568</td>\n",
       "    </tr>\n",
       "    <tr>\n",
       "      <th>REMIND-MAgPIE 2.1-4.2</th>\n",
       "      <th>SusDev_SDP-PkBudg1000</th>\n",
       "      <th>2</th>\n",
       "      <td>1.782709</td>\n",
       "      <td>2038</td>\n",
       "      <td>689.232522</td>\n",
       "      <td>0.000764</td>\n",
       "      <td>0.182709</td>\n",
       "      <td>239.117122</td>\n",
       "    </tr>\n",
       "    <tr>\n",
       "      <th>REMIND-MAgPIE 2.1-4.3</th>\n",
       "      <th>DeepElec_SSP2_ HighRE_Budg900</th>\n",
       "      <th>2</th>\n",
       "      <td>1.821199</td>\n",
       "      <td>2048</td>\n",
       "      <td>698.951810</td>\n",
       "      <td>0.000809</td>\n",
       "      <td>0.221199</td>\n",
       "      <td>273.496172</td>\n",
       "    </tr>\n",
       "  </tbody>\n",
       "</table>\n",
       "</div>"
      ],
      "text/plain": [
       "                                                            peak_warming  \\\n",
       "model                 scenario                      run_id                 \n",
       "COFFEE 1.1            EN_NPi2020_400f_lowBECCS      2           2.108080   \n",
       "REMIND-MAgPIE 2.1-4.2 SusDev_SDP-PkBudg1000         2           1.782709   \n",
       "REMIND-MAgPIE 2.1-4.3 DeepElec_SSP2_ HighRE_Budg900 2           1.821199   \n",
       "\n",
       "                                                            year_peak_warming  \\\n",
       "model                 scenario                      run_id                      \n",
       "COFFEE 1.1            EN_NPi2020_400f_lowBECCS      2                    2060   \n",
       "REMIND-MAgPIE 2.1-4.2 SusDev_SDP-PkBudg1000         2                    2038   \n",
       "REMIND-MAgPIE 2.1-4.3 DeepElec_SSP2_ HighRE_Budg900 2                    2048   \n",
       "\n",
       "                                                            cum_emissions_to_peak_GtCO2  \\\n",
       "model                 scenario                      run_id                                \n",
       "COFFEE 1.1            EN_NPi2020_400f_lowBECCS      2                        983.807875   \n",
       "REMIND-MAgPIE 2.1-4.2 SusDev_SDP-PkBudg1000         2                        689.232522   \n",
       "REMIND-MAgPIE 2.1-4.3 DeepElec_SSP2_ HighRE_Budg900 2                        698.951810   \n",
       "\n",
       "                                                             eTCREup  \\\n",
       "model                 scenario                      run_id             \n",
       "COFFEE 1.1            EN_NPi2020_400f_lowBECCS      2       0.000866   \n",
       "REMIND-MAgPIE 2.1-4.2 SusDev_SDP-PkBudg1000         2       0.000764   \n",
       "REMIND-MAgPIE 2.1-4.3 DeepElec_SSP2_ HighRE_Budg900 2       0.000809   \n",
       "\n",
       "                                                            cooling_needs  \\\n",
       "model                 scenario                      run_id                  \n",
       "COFFEE 1.1            EN_NPi2020_400f_lowBECCS      2            0.508080   \n",
       "REMIND-MAgPIE 2.1-4.2 SusDev_SDP-PkBudg1000         2            0.182709   \n",
       "REMIND-MAgPIE 2.1-4.3 DeepElec_SSP2_ HighRE_Budg900 2            0.221199   \n",
       "\n",
       "                                                            nnce_guess_peak  \n",
       "model                 scenario                      run_id                   \n",
       "COFFEE 1.1            EN_NPi2020_400f_lowBECCS      2            586.729568  \n",
       "REMIND-MAgPIE 2.1-4.2 SusDev_SDP-PkBudg1000         2            239.117122  \n",
       "REMIND-MAgPIE 2.1-4.3 DeepElec_SSP2_ HighRE_Budg900 2            273.496172  "
      ]
     },
     "execution_count": 13,
     "metadata": {},
     "output_type": "execute_result"
    }
   ],
   "source": [
    "metrics_small"
   ]
  },
  {
   "cell_type": "markdown",
   "metadata": {},
   "source": [
    "Step 4: We need a helper function to construct a \"DAC\" pathway."
   ]
  },
  {
   "cell_type": "code",
   "execution_count": 14,
   "metadata": {},
   "outputs": [],
   "source": [
    "def construct_a_cdr_pathway(\n",
    "    index,\n",
    "    values\n",
    "):\n",
    "    \"\"\"\n",
    "    Helper function to construct the pathway\n",
    "    assuming we have an iterator\n",
    "    \"\"\"\n",
    "    structure = pd.DataFrame(\n",
    "        {\n",
    "            'model':index[0],\n",
    "            'scenario':index[1],\n",
    "            'variable':'CDR',\n",
    "            'region':'World',\n",
    "            'unit':'Gt CO2/yr',\n",
    "        },\n",
    "        index=[0]\n",
    "    )\n",
    "    # First we set it to 0 DAC between 2015 and 2025\n",
    "    for t in range(2015, 2025):\n",
    "        structure.loc[:,t]=0\n",
    "    # Second, we scale up CDR from 2025 on a yearly basis\n",
    "    yearly_value = (\n",
    "        values['nnce_guess_peak']\n",
    "        /\n",
    "        (values['year_peak_warming'] - 2025)\n",
    "    )\n",
    "    for t in range(2025, int(values['year_peak_warming'])+1):\n",
    "        structure.loc[:,t]=yearly_value\n",
    "    # Finally, we set the rest of the values to zero again\n",
    "    for t in range(int(values['year_peak_warming']+1), 2101):\n",
    "        structure.loc[:,t]=0\n",
    "    # Cast to a pyam dataframe and write this out\n",
    "    return pyam.IamDataFrame(structure)"
   ]
  },
  {
   "cell_type": "markdown",
   "metadata": {},
   "source": [
    "Step 5: Run through each model-scenario-run_id combination to get the new CDR pathways"
   ]
  },
  {
   "cell_type": "code",
   "execution_count": 33,
   "metadata": {},
   "outputs": [],
   "source": [
    "def construct_new_pathways(metric_data_input):\n",
    "    # Step 5.1: Construct the CDR pathways\n",
    "    dfs = []\n",
    "    for index, value in metric_data_input.iterrows():\n",
    "        dfs.append(\n",
    "            construct_a_cdr_pathway(\n",
    "                index,\n",
    "                value\n",
    "            )\n",
    "        )\n",
    "    compiled_cdr_pathways = pyam.concat(\n",
    "        dfs\n",
    "    )\n",
    "    # Step 5.2: COnvert units\n",
    "    compiled_cdr_pathways.convert_unit(\n",
    "        current='Gt CO2/yr',\n",
    "        to='Mt CO2/yr',\n",
    "        inplace=True\n",
    "    )\n",
    "    # Step 5.3: Construct a new CO2 pathway\n",
    "    co2_pathways_initial = (\n",
    "        emissions\n",
    "        .filter(\n",
    "            variable='AR6 climate diagnostics|Infilled|Emissions|CO2|Energy and Industrial Processes'\n",
    "        )\n",
    "        .swap_time_for_year()\n",
    "    )\n",
    "    # Step 5.4: Append the CDR pathways to this dataframe\n",
    "    co2_pathways_initial = pyam.concat(\n",
    "        [\n",
    "            co2_pathways_initial,\n",
    "            compiled_cdr_pathways\n",
    "        ]\n",
    "    )\n",
    "    # Step 5.5: Construct a \"new\" CO2 pathway by subtracting the CDR from the CO2 emissions\n",
    "    co2_pathways_new = (\n",
    "        co2_pathways_initial\n",
    "        .subtract(\n",
    "            a='AR6 climate diagnostics|Infilled|Emissions|CO2|Energy and Industrial Processes',\n",
    "            b='CDR',\n",
    "            name='AR6 climate diagnostics|Infilled|Emissions|CO2|Energy and Industrial Processes',\n",
    "            ignore_units='Mt CO2/yr'\n",
    "        )\n",
    "    )\n",
    "    # Step 5.6: Compile a new set of emissions to run through MAGICC\n",
    "    emissions_input = copy.copy(emissions)\n",
    "    emissions_input.swap_time_for_year(\n",
    "        inplace=True\n",
    "    )\n",
    "    emissions_input.filter(\n",
    "        variable='AR6 climate diagnostics|Infilled|Emissions|CO2|Energy and Industrial Processes',\n",
    "        keep=False,\n",
    "        inplace=True\n",
    "    )\n",
    "    emissions_input = pyam.concat(\n",
    "        [\n",
    "            emissions_input,\n",
    "            co2_pathways_new\n",
    "        ]\n",
    "    )\n",
    "    # Step 5.7: Prepare an scmdataframe\n",
    "    input_scm = scmdata.ScmRun(\n",
    "        clean_wg3_scenarios(\n",
    "            emissions_input\n",
    "        )\n",
    "    )\n",
    "    return input_scm"
   ]
  },
  {
   "cell_type": "markdown",
   "metadata": {},
   "source": [
    "Step 6: Add a helper function to compile metrics based on the output."
   ]
  },
  {
   "cell_type": "code",
   "execution_count": null,
   "metadata": {},
   "outputs": [],
   "source": [
    "def make_new_metric_df(input_data):\n",
    "    # Step 6.1: Run MAGICC\n",
    "    temp_initial_guess = openscm_runner.run(\n",
    "        {'MAGICC7':[cfg_to_run]},\n",
    "        input_scm,\n",
    "        output_variables=[\n",
    "            'Surface Temperature',\n",
    "        ]    \n",
    "    )\n",
    "    # Step 6.2: Construct metric dataframe\n",
    "    metrics = (\n",
    "        assign_peak_and_2100_warming(\n",
    "            temp_initial_guess\n",
    "            .relative_to_ref_period_mean(\n",
    "                year=[1850,1900]\n",
    "            )\n",
    "        )\n",
    "    ) \n"
   ]
  },
  {
   "cell_type": "code",
   "execution_count": 36,
   "metadata": {},
   "outputs": [
    {
     "data": {
      "application/vnd.jupyter.widget-view+json": {
       "model_id": "ff265071b3b8466e9134e5933f56e281",
       "version_major": 2,
       "version_minor": 0
      },
      "text/plain": [
       "Climate models:   0%|          | 0.00/1.00 [00:00<?, ?it/s]"
      ]
     },
     "metadata": {},
     "output_type": "display_data"
    },
    {
     "name": "stderr",
     "output_type": "stream",
     "text": [
      "openscm_runner.adapters.magicc7.magicc7 - WARNING: Historical data has not been checked\n"
     ]
    },
    {
     "data": {
      "application/vnd.jupyter.widget-view+json": {
       "model_id": "937ca5edd5a44b26871f80352c2e44e4",
       "version_major": 2,
       "version_minor": 0
      },
      "text/plain": [
       "Writing SCEN7 files:   0%|          | 0.00/3.00 [00:00<?, ?it/s]"
      ]
     },
     "metadata": {},
     "output_type": "display_data"
    },
    {
     "name": "stderr",
     "output_type": "stream",
     "text": [
      "openscm_runner.adapters.magicc7._run_magicc_parallel - INFO: Entered _parallel_magicc_compact_out\n",
      "openscm_runner.adapters.magicc7._run_magicc_parallel - INFO: Running in parallel with up to 4 workers\n"
     ]
    },
    {
     "data": {
      "application/vnd.jupyter.widget-view+json": {
       "model_id": "3133a6b1f1fc43b4b21ac50eedd9cec2",
       "version_major": 2,
       "version_minor": 0
      },
      "text/plain": [
       "Front serial:   0%|          | 0.00/2.00 [00:00<?, ?it/s]"
      ]
     },
     "metadata": {},
     "output_type": "display_data"
    },
    {
     "name": "stderr",
     "output_type": "stream",
     "text": [
      "openscm_runner.adapters.magicc7._magicc_instances - INFO: Creating new magicc instance: (7, 'MainProcess') - /Users/gauravganti/Documents/github_projects/cdr_climate_uncertainty/pymagicc-irp9tmpc\n",
      "openscm_runner.adapters.magicc7._run_magicc_parallel - INFO: Setting up MAGICC worker in /Users/gauravganti/Documents/github_projects/cdr_climate_uncertainty/pymagicc-irp9tmpc\n",
      "openscm_runner.adapters.magicc7._run_magicc_parallel - INFO: Writing Pymagicc compatible MAGCFG_USER.CFG in /Users/gauravganti/Documents/github_projects/cdr_climate_uncertainty/pymagicc-irp9tmpc/run\n",
      "/Users/gauravganti/opt/anaconda3/envs/cdr_climate_uncertainty/lib/python3.10/site-packages/pymagicc/core.py:436: UserWarning: magicc logged a ERROR message. Check the 'stderr' key of the result's `metadata` attribute.\n",
      "  warnings.warn(\n",
      "openscm_runner.adapters.magicc7._run_magicc_parallel - INFO: magicc run stderr: [Aug 18 2023 13:37:13][write_single_variable] <ERROR> Unknown variable DAT_INVERSEEMIS\n",
      "\n",
      "openscm_runner.adapters.magicc7._run_magicc_parallel - INFO: cfg: {'file_emisscen': 'DEEPELEC_SSP2_-HIGHRE_BUDG900_REMIND-MAGPIE-2.1-4.3.SCEN7', 'run_id': 0, 'co2_detrituspool_initial': 72.1718, 'co2_feedbackfactor_detritus': -0.05764151, 'co2_feedbackfactor_npp': -0.0301817, 'co2_feedbackfactor_respiration': -0.02422113, 'co2_feedbackfactor_soil': 0.06802003, 'co2_fertilization_factor': 1.054845, 'co2_fertilization_factor2': 100.0, 'co2_fertilization_method': 1.000004, 'co2_fraction_deforest_detritus': 0.05, 'co2_fraction_deforest_plant': 0.7, 'co2_fraction_detritus_2_soil': 0.001000023, 'co2_fraction_npp_2_detritus': 0.5732079, 'co2_fraction_npp_2_plant': 0.2183031, 'co2_fraction_plant_2_detritus': 0.9988565, 'co2_npp_initial': 53.2807, 'co2_plantboxresp_fertscale': 0.95, 'co2_plantboxresp_method': 2, 'co2_plantpool_initial': 351.4974, 'co2_respiration_initial': 9.856929, 'co2_soilpool_initial': 1308.113, 'ncycle_apply': 0, 'oceancc_scale_gasxchange': 1.6120864381510953, 'oceancc_scale_impulseresponse': 1.8454342777125572, 'oceancc_tempfeedback': 0.0467523368098311, 'pf_apply': 1, 'pf_nbands': 50, 'pf_meltingtemp_max': 14.4156, 'pf_meltingtemp_min': 1, 'pf_ms_thawfreeze_percperk_rate': 0.11154, 'pf_peat_thawfreeze_percperk_rate': 0.066213, 'pf_ms_thawfreeze_exp_temp': 1, 'pf_peat_thawfreeze_exp_temp': 1, 'pf_arctic_amplification': 1.6118, 'pf_tsoilannualcycle_ampl': 5.1541, 'pf_ms_aerob_decomp_turnovertime': 12.1073, 'pf_q10_ms_aerob_alpha': 277.3474, 'pf_q10_ms_anaerob_alpha': 645.5521, 'pf_q10_peat_aerob_alpha': 322.2248, 'pf_q10_peat_anaerob_alpha': 535.9207, 'pf_q10_temp1': 56.02, 'pf_q10_temp2': 46.02, 'pf_soilwater_m': 0.021226, 'pf_soilwater_offset': 0.29067, 'pf_soilwater_minw': 0.29924, 'pf_decomprate_peat_over_ms_ratio': 0.37607, 'pf_decomprate_anaerob_over_aerob_ratio': 0.084313, 'pf_ms_anaerob_initial_areafraction': 0.053825, 'pf_ms_anaerob_max_areafraction': 0.31591, 'pf_ms_anaerob_moistsens': 0, 'pf_peat_anaerob_initial_areafraction': 0.85607, 'pf_peat_anaerob_max_areafraction': 0.9, 'pf_peat_anaerob_moistsens': 0, 'pf_ms_ch4oxidisation_fraction': 0.39704, 'pf_peat_ch4oxidisation_fraction': 0.54168, 'pf_tot_pool': 555.4519, 'pf_minsoil_southern_poolfraction': 0.81747, 'pf_minsoil_northern_poolfraction': 0.87131, 'pf_zonal_pooldistr': 0.26671, 'slr_expansion_scaling': 1.078815116058106, 'oceancc_model': 'HILDA', 'ch4_addedstrath2o_percent': 0.06492352200470827, 'cloud_bci2bcb_soluble_ratio': 0.7838727374119626, 'cloud_weight_bc': 0.015205581957847745, 'cloud_weight_no3': 0.10468172673384273, 'cloud_weight_oc': 0.16011380763553146, 'cloud_weight_sox': 0.15920070740767658, 'cloud_weight_ss': 0.13631244466592957, 'core_amplify_ocn2land_heatxchng': 1.0582182591966978, 'core_climatesensitivity': 3.9596537418404254, 'core_feedback_cumtsensitivity': 0.09008222129077043, 'core_feedback_qsensitivity': 0.0018150306559744098, 'core_heatxchange_landground': 0.07421397884915167, 'core_heatxchange_landocean': 2.5837233647274505, 'core_heatxchange_northsouth': 0.26374347842354984, 'core_initial_upwelling_rate': 3.2727913703242923, 'core_olbl_ch4_a3': -0.00010059344115089438, 'core_olbl_ch4_b3': -0.00012896039572452488, 'core_olbl_ch4_d3': 0.048372320242512305, 'core_olbl_co2_a1': -2.416003978414598e-07, 'core_olbl_co2_b1': 0.0008259531046774346, 'core_olbl_co2_c1': -0.0023003867137022654, 'core_olbl_co2_d1': 4.698273280992632, 'core_olbl_n2o_a2': -0.00034365413173282066, 'core_olbl_n2o_b2': 0.00029470988442441287, 'core_olbl_n2o_c2': -0.00027024672544607666, 'core_olbl_n2o_d2': 0.12417290295362683, 'core_polarsinkwater_tempratio': 0.17960875443260016, 'core_rfrapidadjust_ch4': 0.8951442509152756, 'core_rfrapidadjust_co2': 1.1373654220770448, 'core_rlo': 1.4547289328243602, 'core_tempadjust_ocn2atm_alpha': 1.084498652973292, 'core_tempadjust_ocn2atm_gamma': -0.00015500305407708671, 'core_upwelling_variable_part': 0.7772248491785525, 'core_upwell_thresh_temp_nh': 5.741708177459953, 'core_verticaldiffusivity': 1.3456837246050601, 'core_verticaldiffusivity_min': 0.25113353055158955, 'core_verticaldiff_top_dkdt': -1.1908994484256346, 'ozdueton2o_radeff': 0.0005606960983683158, 'ozduetotemperature_scale': -0.025640816692411264, 'rf_bci_dir_wm2': 0.3411216392934523, 'rf_bcsnow_albedo_wm2': 0.2257950359485699, 'rf_cloud_albedo_aer_wm2': -1.3291826875274528, 'rf_efficacy_aer_dir': 1.204377727970629, 'rf_efficacy_bc': 0.9497703590525806, 'rf_efficacy_bcsnow': 1.0215087405129417, 'rf_efficacy_ch4oxstrath2o': 0.81895509558872, 'rf_efficacy_cloud_albedo': 0.8482554073399986, 'rf_efficacy_fgas': 0.8611388477598533, 'rf_efficacy_landuse': 0.8245302712843992, 'rf_efficacy_mhalo': 1.1276510695639115, 'rf_efficacy_n2o': 1.1199201935855734, 'rf_efficacy_no3': 0.8393968672185944, 'rf_efficacy_oc': 0.8213448788886201, 'rf_efficacy_solar': 0.6173080391537895, 'rf_efficacy_sox': 1.086809695966966, 'rf_efficacy_stratoz': 1.2134806705051753, 'rf_efficacy_tropoz': 0.8536408088565073, 'rf_efficacy_volc': 0.9667298348791916, 'rf_fgassum_scale': 0.8854211211190063, 'rf_landuse_albedo_wm2': -0.278394198685406, 'rf_mhalosum_scale': 0.9199456529642595, 'rf_mineraldust_dir_wm2': -0.05761726306779062, 'rf_nh3n_emis': 23.519383259785094, 'rf_no3t_dir_wm2': -0.10191249537555086, 'rf_no3_burden2ot_exp': 0.5503574727143127, 'rf_no3_lambdaso2': 1.6813098908592274, 'rf_no3_preindot': 1.8574086557606961, 'rf_noxn_emis': 9.98502509236891, 'rf_oci_dir_wm2': -0.10629939549950952, 'rf_solar_scale': 0.9958896815380741, 'rf_soxi_dir_wm2': -0.24238552862577137, 'rf_volcanic_scale': 0.8857808768378281, 'sox_natural_emissions': 17.474988504476926, 'stratoz_clexpon': 2.146748219747036, 'stratoz_o3scale': -0.0025191607860033287, 'tropoz_ozch4': 6.702948149958057, 'tropoz_ozco': 0.0046694451910628265, 'tropoz_oznox': 0.18951560565986564, 'tropoz_ozvoc': 0.011692020709319205, 'tropoz_radeff_wm2perdu': 0.03295897079400756, 'rf_bci_dir_apply': 2, 'rf_bci_dir_factor': 0.04938659118489955, 'rf_bcsnow_albedo_apply': 2, 'rf_bcsnow_albedo_factor': 4.334982526117673, 'rf_cloud_albedo_aer_apply': 2, 'rf_cloud_albedo_aer_factor': 1.5877344933545032, 'rf_landuse_albedo_apply': 2, 'rf_landuse_albedo_factor': 2.96884684512419, 'rf_mineraldust_dir_apply': 2, 'rf_mineraldust_dir_factor': 0.6144410712983289, 'rf_no3t_dir_apply': 2, 'rf_no3t_dir_factor': -0.021429667132898487, 'rf_soxi_dir_apply': 2, 'rf_soxi_dir_factor': 0.005187134375924193, 'rf_oci_dir_apply': 2, 'rf_oci_dir_factor': 0.0063843506955847, 'slr_expansion_params': [39.9433, 1.0834, 1.0867, 0.0, 21.0694, 0.9437], 'rf_regions_cloud_albedo': [-0.9556438969584462, -1.285996420410744, -0.3772220808462831, -0.7219998444184608], 'rf_regions_dust': [-0.7622444023331787, -1.708417041426061, -0.36332531231542725, -0.6340243516525873], 'rf_regions_no3': [-1.6823677085283684, -1.4780665826040889, -0.4365937033430977, -0.5893722926317357], 'rf_regions_seasalt': [-1.0017970594534156, -0.18252820382668175, -1.6489999364634498, -0.19812307306844223], 'rf_regions_stratoz': [-0.012320167584622704, -0.022312842396316642, -0.0700056787249515, -0.23115340597273623], 'rf_regions_tropoz': [0.41133013301878385, 0.5462001209696992, 0.1949110058305249, 0.21436099462680763], 'file_emisscen_2': 'NONE', 'file_emisscen_3': 'NONE', 'file_emisscen_4': 'NONE', 'file_emisscen_5': 'NONE', 'file_emisscen_6': 'NONE', 'file_emisscen_7': 'NONE', 'file_emisscen_8': 'NONE', 'only': ['Surface Temperature', 'Radiative Forcing', 'INVERSEEMIS', 'Atmospheric Concentrations|CO2'], 'out_dynamic_vars': ['DAT_SURFACE_TEMP', 'DAT_TOTAL_INCLVOLCANIC_RF', 'DAT_INVERSEEMIS', 'DAT_CO2_CONC']}\n",
      "/Users/gauravganti/opt/anaconda3/envs/cdr_climate_uncertainty/lib/python3.10/site-packages/pymagicc/core.py:436: UserWarning: magicc logged a ERROR message. Check the 'stderr' key of the result's `metadata` attribute.\n",
      "  warnings.warn(\n",
      "openscm_runner.adapters.magicc7._run_magicc_parallel - INFO: magicc run stderr: [Aug 18 2023 13:37:13][write_single_variable] <ERROR> Unknown variable DAT_INVERSEEMIS\n",
      "\n",
      "openscm_runner.adapters.magicc7._run_magicc_parallel - INFO: cfg: {'file_emisscen': 'EN_NPI2020_400F_LOWBECCS_COFFEE-1.1.SCEN7', 'run_id': 1, 'co2_detrituspool_initial': 72.1718, 'co2_feedbackfactor_detritus': -0.05764151, 'co2_feedbackfactor_npp': -0.0301817, 'co2_feedbackfactor_respiration': -0.02422113, 'co2_feedbackfactor_soil': 0.06802003, 'co2_fertilization_factor': 1.054845, 'co2_fertilization_factor2': 100.0, 'co2_fertilization_method': 1.000004, 'co2_fraction_deforest_detritus': 0.05, 'co2_fraction_deforest_plant': 0.7, 'co2_fraction_detritus_2_soil': 0.001000023, 'co2_fraction_npp_2_detritus': 0.5732079, 'co2_fraction_npp_2_plant': 0.2183031, 'co2_fraction_plant_2_detritus': 0.9988565, 'co2_npp_initial': 53.2807, 'co2_plantboxresp_fertscale': 0.95, 'co2_plantboxresp_method': 2, 'co2_plantpool_initial': 351.4974, 'co2_respiration_initial': 9.856929, 'co2_soilpool_initial': 1308.113, 'ncycle_apply': 0, 'oceancc_scale_gasxchange': 1.6120864381510953, 'oceancc_scale_impulseresponse': 1.8454342777125572, 'oceancc_tempfeedback': 0.0467523368098311, 'pf_apply': 1, 'pf_nbands': 50, 'pf_meltingtemp_max': 14.4156, 'pf_meltingtemp_min': 1, 'pf_ms_thawfreeze_percperk_rate': 0.11154, 'pf_peat_thawfreeze_percperk_rate': 0.066213, 'pf_ms_thawfreeze_exp_temp': 1, 'pf_peat_thawfreeze_exp_temp': 1, 'pf_arctic_amplification': 1.6118, 'pf_tsoilannualcycle_ampl': 5.1541, 'pf_ms_aerob_decomp_turnovertime': 12.1073, 'pf_q10_ms_aerob_alpha': 277.3474, 'pf_q10_ms_anaerob_alpha': 645.5521, 'pf_q10_peat_aerob_alpha': 322.2248, 'pf_q10_peat_anaerob_alpha': 535.9207, 'pf_q10_temp1': 56.02, 'pf_q10_temp2': 46.02, 'pf_soilwater_m': 0.021226, 'pf_soilwater_offset': 0.29067, 'pf_soilwater_minw': 0.29924, 'pf_decomprate_peat_over_ms_ratio': 0.37607, 'pf_decomprate_anaerob_over_aerob_ratio': 0.084313, 'pf_ms_anaerob_initial_areafraction': 0.053825, 'pf_ms_anaerob_max_areafraction': 0.31591, 'pf_ms_anaerob_moistsens': 0, 'pf_peat_anaerob_initial_areafraction': 0.85607, 'pf_peat_anaerob_max_areafraction': 0.9, 'pf_peat_anaerob_moistsens': 0, 'pf_ms_ch4oxidisation_fraction': 0.39704, 'pf_peat_ch4oxidisation_fraction': 0.54168, 'pf_tot_pool': 555.4519, 'pf_minsoil_southern_poolfraction': 0.81747, 'pf_minsoil_northern_poolfraction': 0.87131, 'pf_zonal_pooldistr': 0.26671, 'slr_expansion_scaling': 1.078815116058106, 'oceancc_model': 'HILDA', 'ch4_addedstrath2o_percent': 0.06492352200470827, 'cloud_bci2bcb_soluble_ratio': 0.7838727374119626, 'cloud_weight_bc': 0.015205581957847745, 'cloud_weight_no3': 0.10468172673384273, 'cloud_weight_oc': 0.16011380763553146, 'cloud_weight_sox': 0.15920070740767658, 'cloud_weight_ss': 0.13631244466592957, 'core_amplify_ocn2land_heatxchng': 1.0582182591966978, 'core_climatesensitivity': 3.9596537418404254, 'core_feedback_cumtsensitivity': 0.09008222129077043, 'core_feedback_qsensitivity': 0.0018150306559744098, 'core_heatxchange_landground': 0.07421397884915167, 'core_heatxchange_landocean': 2.5837233647274505, 'core_heatxchange_northsouth': 0.26374347842354984, 'core_initial_upwelling_rate': 3.2727913703242923, 'core_olbl_ch4_a3': -0.00010059344115089438, 'core_olbl_ch4_b3': -0.00012896039572452488, 'core_olbl_ch4_d3': 0.048372320242512305, 'core_olbl_co2_a1': -2.416003978414598e-07, 'core_olbl_co2_b1': 0.0008259531046774346, 'core_olbl_co2_c1': -0.0023003867137022654, 'core_olbl_co2_d1': 4.698273280992632, 'core_olbl_n2o_a2': -0.00034365413173282066, 'core_olbl_n2o_b2': 0.00029470988442441287, 'core_olbl_n2o_c2': -0.00027024672544607666, 'core_olbl_n2o_d2': 0.12417290295362683, 'core_polarsinkwater_tempratio': 0.17960875443260016, 'core_rfrapidadjust_ch4': 0.8951442509152756, 'core_rfrapidadjust_co2': 1.1373654220770448, 'core_rlo': 1.4547289328243602, 'core_tempadjust_ocn2atm_alpha': 1.084498652973292, 'core_tempadjust_ocn2atm_gamma': -0.00015500305407708671, 'core_upwelling_variable_part': 0.7772248491785525, 'core_upwell_thresh_temp_nh': 5.741708177459953, 'core_verticaldiffusivity': 1.3456837246050601, 'core_verticaldiffusivity_min': 0.25113353055158955, 'core_verticaldiff_top_dkdt': -1.1908994484256346, 'ozdueton2o_radeff': 0.0005606960983683158, 'ozduetotemperature_scale': -0.025640816692411264, 'rf_bci_dir_wm2': 0.3411216392934523, 'rf_bcsnow_albedo_wm2': 0.2257950359485699, 'rf_cloud_albedo_aer_wm2': -1.3291826875274528, 'rf_efficacy_aer_dir': 1.204377727970629, 'rf_efficacy_bc': 0.9497703590525806, 'rf_efficacy_bcsnow': 1.0215087405129417, 'rf_efficacy_ch4oxstrath2o': 0.81895509558872, 'rf_efficacy_cloud_albedo': 0.8482554073399986, 'rf_efficacy_fgas': 0.8611388477598533, 'rf_efficacy_landuse': 0.8245302712843992, 'rf_efficacy_mhalo': 1.1276510695639115, 'rf_efficacy_n2o': 1.1199201935855734, 'rf_efficacy_no3': 0.8393968672185944, 'rf_efficacy_oc': 0.8213448788886201, 'rf_efficacy_solar': 0.6173080391537895, 'rf_efficacy_sox': 1.086809695966966, 'rf_efficacy_stratoz': 1.2134806705051753, 'rf_efficacy_tropoz': 0.8536408088565073, 'rf_efficacy_volc': 0.9667298348791916, 'rf_fgassum_scale': 0.8854211211190063, 'rf_landuse_albedo_wm2': -0.278394198685406, 'rf_mhalosum_scale': 0.9199456529642595, 'rf_mineraldust_dir_wm2': -0.05761726306779062, 'rf_nh3n_emis': 23.519383259785094, 'rf_no3t_dir_wm2': -0.10191249537555086, 'rf_no3_burden2ot_exp': 0.5503574727143127, 'rf_no3_lambdaso2': 1.6813098908592274, 'rf_no3_preindot': 1.8574086557606961, 'rf_noxn_emis': 9.98502509236891, 'rf_oci_dir_wm2': -0.10629939549950952, 'rf_solar_scale': 0.9958896815380741, 'rf_soxi_dir_wm2': -0.24238552862577137, 'rf_volcanic_scale': 0.8857808768378281, 'sox_natural_emissions': 17.474988504476926, 'stratoz_clexpon': 2.146748219747036, 'stratoz_o3scale': -0.0025191607860033287, 'tropoz_ozch4': 6.702948149958057, 'tropoz_ozco': 0.0046694451910628265, 'tropoz_oznox': 0.18951560565986564, 'tropoz_ozvoc': 0.011692020709319205, 'tropoz_radeff_wm2perdu': 0.03295897079400756, 'rf_bci_dir_apply': 2, 'rf_bci_dir_factor': 0.04938659118489955, 'rf_bcsnow_albedo_apply': 2, 'rf_bcsnow_albedo_factor': 4.334982526117673, 'rf_cloud_albedo_aer_apply': 2, 'rf_cloud_albedo_aer_factor': 1.5877344933545032, 'rf_landuse_albedo_apply': 2, 'rf_landuse_albedo_factor': 2.96884684512419, 'rf_mineraldust_dir_apply': 2, 'rf_mineraldust_dir_factor': 0.6144410712983289, 'rf_no3t_dir_apply': 2, 'rf_no3t_dir_factor': -0.021429667132898487, 'rf_soxi_dir_apply': 2, 'rf_soxi_dir_factor': 0.005187134375924193, 'rf_oci_dir_apply': 2, 'rf_oci_dir_factor': 0.0063843506955847, 'slr_expansion_params': [39.9433, 1.0834, 1.0867, 0.0, 21.0694, 0.9437], 'rf_regions_cloud_albedo': [-0.9556438969584462, -1.285996420410744, -0.3772220808462831, -0.7219998444184608], 'rf_regions_dust': [-0.7622444023331787, -1.708417041426061, -0.36332531231542725, -0.6340243516525873], 'rf_regions_no3': [-1.6823677085283684, -1.4780665826040889, -0.4365937033430977, -0.5893722926317357], 'rf_regions_seasalt': [-1.0017970594534156, -0.18252820382668175, -1.6489999364634498, -0.19812307306844223], 'rf_regions_stratoz': [-0.012320167584622704, -0.022312842396316642, -0.0700056787249515, -0.23115340597273623], 'rf_regions_tropoz': [0.41133013301878385, 0.5462001209696992, 0.1949110058305249, 0.21436099462680763], 'file_emisscen_2': 'NONE', 'file_emisscen_3': 'NONE', 'file_emisscen_4': 'NONE', 'file_emisscen_5': 'NONE', 'file_emisscen_6': 'NONE', 'file_emisscen_7': 'NONE', 'file_emisscen_8': 'NONE', 'only': ['Surface Temperature', 'Radiative Forcing', 'INVERSEEMIS', 'Atmospheric Concentrations|CO2'], 'out_dynamic_vars': ['DAT_SURFACE_TEMP', 'DAT_TOTAL_INCLVOLCANIC_RF', 'DAT_INVERSEEMIS', 'DAT_CO2_CONC']}\n"
     ]
    },
    {
     "data": {
      "application/vnd.jupyter.widget-view+json": {
       "model_id": "20562e6a8b7540ed90a3723f0d997cc7",
       "version_major": 2,
       "version_minor": 0
      },
      "text/plain": [
       "Front parallel:   0%|          | 0.00/1.00 [00:00<?, ?it/s]"
      ]
     },
     "metadata": {},
     "output_type": "display_data"
    },
    {
     "name": "stderr",
     "output_type": "stream",
     "text": [
      "/Users/gauravganti/opt/anaconda3/envs/cdr_climate_uncertainty/lib/python3.10/site-packages/pymagicc/core.py:436: UserWarning: magicc logged a ERROR message. Check the 'stderr' key of the result's `metadata` attribute.\n",
      "  warnings.warn(\n"
     ]
    },
    {
     "data": {
      "application/vnd.jupyter.widget-view+json": {
       "model_id": "68c2d24e95cd4ba5b9017e1ca2361c4c",
       "version_major": 2,
       "version_minor": 0
      },
      "text/plain": [
       "Parallel runs: 0.00it [00:00, ?it/s]"
      ]
     },
     "metadata": {},
     "output_type": "display_data"
    },
    {
     "name": "stderr",
     "output_type": "stream",
     "text": [
      "openscm_runner.adapters.magicc7._run_magicc_parallel - INFO: Appending results into a single ScmRun\n",
      "openscm_runner.adapters.magicc7._magicc_instances - INFO: removing /Users/gauravganti/Documents/github_projects/cdr_climate_uncertainty/pymagicc-irp9tmpc\n",
      "openscm_runner.adapters.magicc7._magicc_instances - INFO: removing /Users/gauravganti/Documents/github_projects/cdr_climate_uncertainty/pymagicc-rnlbb18n\n",
      "openscm_runner.adapters.magicc7._run_magicc_parallel - INFO: Shutting down parallel pool\n",
      "openscm_runner.run - INFO: Only one model run, returning its results\n"
     ]
    }
   ],
   "source": [
    "temp_initial_guess = openscm_runner.run(\n",
    "    {'MAGICC7':[cfg_to_run]},\n",
    "    input_scm,\n",
    "    output_variables=[\n",
    "        'Surface Temperature',\n",
    "    ]\n",
    ")"
   ]
  },
  {
   "cell_type": "code",
   "execution_count": 27,
   "metadata": {},
   "outputs": [],
   "source": [
    "temp_world = temp_initial_guess.filter(\n",
    "    region='World'\n",
    ")"
   ]
  },
  {
   "cell_type": "code",
   "execution_count": 28,
   "metadata": {},
   "outputs": [],
   "source": [
    "temp_world_rebased = (\n",
    "    temp_world\n",
    "    .relative_to_ref_period_mean(\n",
    "        year=[1850,1900]\n",
    "    )\n",
    ")"
   ]
  },
  {
   "cell_type": "code",
   "execution_count": 32,
   "metadata": {},
   "outputs": [
    {
     "data": {
      "text/plain": [
       "climate_model  model                  reference_period_end_year  reference_period_start_year  region  run_id  scenario                       unit  variable                      \n",
       "MAGICCv7.5.3   REMIND-MAgPIE 2.1-4.3  1900                       1850                         World   0       DeepElec_SSP2_ HighRE_Budg900  K     Surface Air Temperature Change    1.710209\n",
       "               COFFEE 1.1             1900                       1850                         World   1       EN_NPi2020_400f_lowBECCS       K     Surface Air Temperature Change    1.834458\n",
       "               REMIND-MAgPIE 2.1-4.2  1900                       1850                         World   2       SusDev_SDP-PkBudg1000          K     Surface Air Temperature Change    1.665385\n",
       "dtype: float64"
      ]
     },
     "execution_count": 32,
     "metadata": {},
     "output_type": "execute_result"
    }
   ],
   "source": [
    "temp_world_rebased.timeseries().max(axis=1)"
   ]
  },
  {
   "cell_type": "code",
   "execution_count": 30,
   "metadata": {},
   "outputs": [
    {
     "data": {
      "text/html": [
       "<div>\n",
       "<style scoped>\n",
       "    .dataframe tbody tr th:only-of-type {\n",
       "        vertical-align: middle;\n",
       "    }\n",
       "\n",
       "    .dataframe tbody tr th {\n",
       "        vertical-align: top;\n",
       "    }\n",
       "\n",
       "    .dataframe thead th {\n",
       "        text-align: right;\n",
       "    }\n",
       "</style>\n",
       "<table border=\"1\" class=\"dataframe\">\n",
       "  <thead>\n",
       "    <tr style=\"text-align: right;\">\n",
       "      <th></th>\n",
       "      <th></th>\n",
       "      <th></th>\n",
       "      <th>peak_warming</th>\n",
       "      <th>year_peak_warming</th>\n",
       "      <th>cum_emissions_to_peak_GtCO2</th>\n",
       "      <th>eTCREup</th>\n",
       "      <th>cooling_needs</th>\n",
       "      <th>nnce_guess_peak</th>\n",
       "    </tr>\n",
       "    <tr>\n",
       "      <th>model</th>\n",
       "      <th>scenario</th>\n",
       "      <th>run_id</th>\n",
       "      <th></th>\n",
       "      <th></th>\n",
       "      <th></th>\n",
       "      <th></th>\n",
       "      <th></th>\n",
       "      <th></th>\n",
       "    </tr>\n",
       "  </thead>\n",
       "  <tbody>\n",
       "    <tr>\n",
       "      <th>COFFEE 1.1</th>\n",
       "      <th>EN_NPi2020_400f_lowBECCS</th>\n",
       "      <th>2</th>\n",
       "      <td>2.108080</td>\n",
       "      <td>2060</td>\n",
       "      <td>983.807875</td>\n",
       "      <td>0.000866</td>\n",
       "      <td>0.508080</td>\n",
       "      <td>586.729568</td>\n",
       "    </tr>\n",
       "    <tr>\n",
       "      <th>REMIND-MAgPIE 2.1-4.2</th>\n",
       "      <th>SusDev_SDP-PkBudg1000</th>\n",
       "      <th>2</th>\n",
       "      <td>1.782709</td>\n",
       "      <td>2038</td>\n",
       "      <td>689.232522</td>\n",
       "      <td>0.000764</td>\n",
       "      <td>0.182709</td>\n",
       "      <td>239.117122</td>\n",
       "    </tr>\n",
       "    <tr>\n",
       "      <th>REMIND-MAgPIE 2.1-4.3</th>\n",
       "      <th>DeepElec_SSP2_ HighRE_Budg900</th>\n",
       "      <th>2</th>\n",
       "      <td>1.821199</td>\n",
       "      <td>2048</td>\n",
       "      <td>698.951810</td>\n",
       "      <td>0.000809</td>\n",
       "      <td>0.221199</td>\n",
       "      <td>273.496172</td>\n",
       "    </tr>\n",
       "  </tbody>\n",
       "</table>\n",
       "</div>"
      ],
      "text/plain": [
       "                                                            peak_warming  \\\n",
       "model                 scenario                      run_id                 \n",
       "COFFEE 1.1            EN_NPi2020_400f_lowBECCS      2           2.108080   \n",
       "REMIND-MAgPIE 2.1-4.2 SusDev_SDP-PkBudg1000         2           1.782709   \n",
       "REMIND-MAgPIE 2.1-4.3 DeepElec_SSP2_ HighRE_Budg900 2           1.821199   \n",
       "\n",
       "                                                            year_peak_warming  \\\n",
       "model                 scenario                      run_id                      \n",
       "COFFEE 1.1            EN_NPi2020_400f_lowBECCS      2                    2060   \n",
       "REMIND-MAgPIE 2.1-4.2 SusDev_SDP-PkBudg1000         2                    2038   \n",
       "REMIND-MAgPIE 2.1-4.3 DeepElec_SSP2_ HighRE_Budg900 2                    2048   \n",
       "\n",
       "                                                            cum_emissions_to_peak_GtCO2  \\\n",
       "model                 scenario                      run_id                                \n",
       "COFFEE 1.1            EN_NPi2020_400f_lowBECCS      2                        983.807875   \n",
       "REMIND-MAgPIE 2.1-4.2 SusDev_SDP-PkBudg1000         2                        689.232522   \n",
       "REMIND-MAgPIE 2.1-4.3 DeepElec_SSP2_ HighRE_Budg900 2                        698.951810   \n",
       "\n",
       "                                                             eTCREup  \\\n",
       "model                 scenario                      run_id             \n",
       "COFFEE 1.1            EN_NPi2020_400f_lowBECCS      2       0.000866   \n",
       "REMIND-MAgPIE 2.1-4.2 SusDev_SDP-PkBudg1000         2       0.000764   \n",
       "REMIND-MAgPIE 2.1-4.3 DeepElec_SSP2_ HighRE_Budg900 2       0.000809   \n",
       "\n",
       "                                                            cooling_needs  \\\n",
       "model                 scenario                      run_id                  \n",
       "COFFEE 1.1            EN_NPi2020_400f_lowBECCS      2            0.508080   \n",
       "REMIND-MAgPIE 2.1-4.2 SusDev_SDP-PkBudg1000         2            0.182709   \n",
       "REMIND-MAgPIE 2.1-4.3 DeepElec_SSP2_ HighRE_Budg900 2            0.221199   \n",
       "\n",
       "                                                            nnce_guess_peak  \n",
       "model                 scenario                      run_id                   \n",
       "COFFEE 1.1            EN_NPi2020_400f_lowBECCS      2            586.729568  \n",
       "REMIND-MAgPIE 2.1-4.2 SusDev_SDP-PkBudg1000         2            239.117122  \n",
       "REMIND-MAgPIE 2.1-4.3 DeepElec_SSP2_ HighRE_Budg900 2            273.496172  "
      ]
     },
     "execution_count": 30,
     "metadata": {},
     "output_type": "execute_result"
    }
   ],
   "source": [
    "metrics_small"
   ]
  },
  {
   "cell_type": "code",
   "execution_count": null,
   "metadata": {},
   "outputs": [],
   "source": []
  }
 ],
 "metadata": {
  "kernelspec": {
   "display_name": "cdr_climate_uncertainty",
   "language": "python",
   "name": "python3"
  },
  "language_info": {
   "codemirror_mode": {
    "name": "ipython",
    "version": 3
   },
   "file_extension": ".py",
   "mimetype": "text/x-python",
   "name": "python",
   "nbconvert_exporter": "python",
   "pygments_lexer": "ipython3",
   "version": "3.10.12"
  },
  "orig_nbformat": 4
 },
 "nbformat": 4,
 "nbformat_minor": 2
}
