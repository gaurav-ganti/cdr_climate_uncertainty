{
 "cells": [
  {
   "cell_type": "markdown",
   "metadata": {},
   "source": [
    "# 501 Prepare data for global assessment\n",
    "\n",
    "In this notebook, we prepare the data necessary for our global assessment."
   ]
  },
  {
   "cell_type": "code",
   "execution_count": 7,
   "metadata": {},
   "outputs": [],
   "source": [
    "import pyam\n",
    "import pandas as pd\n",
    "import numpy as np\n",
    "import scmdata\n",
    "from pathlib import Path\n",
    "from tqdm.notebook import tqdm\n",
    "\n",
    "import matplotlib.pyplot as plt"
   ]
  },
  {
   "cell_type": "markdown",
   "metadata": {},
   "source": [
    "Step 1: Read in the necessary data."
   ]
  },
  {
   "cell_type": "code",
   "execution_count": 8,
   "metadata": {},
   "outputs": [
    {
     "name": "stderr",
     "output_type": "stream",
     "text": [
      "pyam.core - INFO: Reading file ../data/100_novel_cdr.csv\n"
     ]
    }
   ],
   "source": [
    "cdr_original = pyam.IamDataFrame(\n",
    "    Path(\n",
    "        '../data/100_novel_cdr.csv'\n",
    "    )\n",
    ")"
   ]
  },
  {
   "cell_type": "code",
   "execution_count": 9,
   "metadata": {},
   "outputs": [
    {
     "name": "stderr",
     "output_type": "stream",
     "text": [
      "pyam.core - INFO: Reading file ../data/405_cdr_170324.csv\n"
     ]
    }
   ],
   "source": [
    "cdr_climate = pyam.IamDataFrame(\n",
    "    Path(\n",
    "        '../data/405_cdr_170324.csv'\n",
    "    )\n",
    ")"
   ]
  },
  {
   "cell_type": "code",
   "execution_count": 10,
   "metadata": {},
   "outputs": [],
   "source": [
    "metrics = pd.read_csv(\n",
    "    Path('../data/401_lookup.csv'),\n",
    "    index_col=[0,1]\n",
    ")"
   ]
  },
  {
   "cell_type": "markdown",
   "metadata": {},
   "source": [
    "Step 2: Now, per ensemble member, we want to calculate the additional cumulative CDR between net zero CO2 and 2100."
   ]
  },
  {
   "cell_type": "code",
   "execution_count": 11,
   "metadata": {},
   "outputs": [],
   "source": [
    "additional_cdr_climate = []"
   ]
  },
  {
   "cell_type": "code",
   "execution_count": 12,
   "metadata": {},
   "outputs": [],
   "source": [
    "cdr_original.interpolate(\n",
    "    time=range(2015, 2101),\n",
    "    inplace=True\n",
    ")"
   ]
  },
  {
   "cell_type": "code",
   "execution_count": 13,
   "metadata": {},
   "outputs": [
    {
     "data": {
      "application/vnd.jupyter.widget-view+json": {
       "model_id": "83b5e9e9bd564dc7879b873c7adb928d",
       "version_major": 2,
       "version_minor": 0
      },
      "text/plain": [
       "  0%|          | 0/95 [00:00<?, ?it/s]"
      ]
     },
     "metadata": {},
     "output_type": "display_data"
    }
   ],
   "source": [
    "for (model, scenario) in tqdm(cdr_original.meta.index):\n",
    "    # Filter for original CDR\n",
    "    cdr_orig = (\n",
    "        cdr_original\n",
    "        .filter(\n",
    "            model=model,\n",
    "            scenario=scenario\n",
    "        )\n",
    "        .timeseries()\n",
    "    )\n",
    "    # Filter for adapted CDR\n",
    "    cdr_alt = (\n",
    "        cdr_climate\n",
    "        .filter(\n",
    "            model=model,\n",
    "            scenario=scenario,\n",
    "        )\n",
    "        .timeseries()\n",
    "    )\n",
    "    # Subtract original from adapted\n",
    "    cdr_diff = pyam.IamDataFrame(cdr_alt - cdr_orig)\n",
    "    additional_cdr_climate.append(\n",
    "        pyam.IamDataFrame(cdr_diff)\n",
    "    )"
   ]
  },
  {
   "cell_type": "code",
   "execution_count": 14,
   "metadata": {},
   "outputs": [],
   "source": [
    "additional_cdr_climate = pyam.concat(additional_cdr_climate)"
   ]
  },
  {
   "cell_type": "code",
   "execution_count": 15,
   "metadata": {},
   "outputs": [],
   "source": [
    "additional_cdr_climate.rename(\n",
    "    variable={\n",
    "        'Carbon Dioxide Removal|Novel':'Carbon Dioxide Removal|Novel|Additional'\n",
    "    },\n",
    "    inplace=True\n",
    ")"
   ]
  },
  {
   "cell_type": "markdown",
   "metadata": {},
   "source": [
    "Step 3: Convert all the necessary units to Gt CO2"
   ]
  },
  {
   "cell_type": "code",
   "execution_count": 16,
   "metadata": {},
   "outputs": [],
   "source": [
    "additional_cdr_climate.convert_unit(\n",
    "    current='Mt CO2/yr',\n",
    "    to='Gt CO2/yr',\n",
    "    inplace=True\n",
    ")"
   ]
  },
  {
   "cell_type": "code",
   "execution_count": 17,
   "metadata": {},
   "outputs": [],
   "source": [
    "cdr_original.convert_unit(\n",
    "    current='Mt CO2/yr',\n",
    "    to='Gt CO2/yr',\n",
    "    inplace=True\n",
    ")"
   ]
  },
  {
   "cell_type": "markdown",
   "metadata": {},
   "source": [
    "Step 4: Now, we want to calculate the cumulative additional CDR from net zero CO2 to 2100. We can just sum up across all values for each timeseries entry, since we have already calculated the difference from the original model trajectory."
   ]
  },
  {
   "cell_type": "code",
   "execution_count": 18,
   "metadata": {},
   "outputs": [],
   "source": [
    "cumulative_cdr_additional = (\n",
    "    additional_cdr_climate\n",
    "    .timeseries()\n",
    "    .apply(\n",
    "        lambda x: format(pyam.timeseries.cumulative(\n",
    "            x,\n",
    "            first_year=2020,\n",
    "            last_year=2100\n",
    "        ),'f'),\n",
    "        axis=1\n",
    "    )\n",
    ")"
   ]
  },
  {
   "cell_type": "markdown",
   "metadata": {},
   "source": [
    "Step 5: Assign this as an additional column to the metrics dataframe. Then write this out for further analysis."
   ]
  },
  {
   "cell_type": "code",
   "execution_count": 19,
   "metadata": {},
   "outputs": [],
   "source": [
    "metrics = metrics.set_index('run_id', append=True)"
   ]
  },
  {
   "cell_type": "code",
   "execution_count": 20,
   "metadata": {},
   "outputs": [],
   "source": [
    "for (mod, scen, run) in metrics.index:\n",
    "    if mod == 'GEM-E3_V2021':\n",
    "        continue\n",
    "    metrics.loc[(mod, scen, run), 'additional_cdr_gtco2_final'] = (\n",
    "        cumulative_cdr_additional\n",
    "        .loc[pd.IndexSlice[mod, scen, :, :, :, :, run]]\n",
    "        .values[0]\n",
    "    )"
   ]
  },
  {
   "cell_type": "code",
   "execution_count": 21,
   "metadata": {},
   "outputs": [],
   "source": [
    "metrics['additional_cdr_gtco2_final'] = metrics['additional_cdr_gtco2_final'].astype('float').round(2)"
   ]
  },
  {
   "cell_type": "code",
   "execution_count": 22,
   "metadata": {},
   "outputs": [],
   "source": [
    "metrics.to_excel(\n",
    "    Path(\n",
    "        '../data/501_metrics_with_final_cdr.xlsx'\n",
    "    ),\n",
    "    merge_cells=False\n",
    ")"
   ]
  },
  {
   "cell_type": "code",
   "execution_count": 23,
   "metadata": {},
   "outputs": [
    {
     "data": {
      "text/html": [
       "<div>\n",
       "<style scoped>\n",
       "    .dataframe tbody tr th:only-of-type {\n",
       "        vertical-align: middle;\n",
       "    }\n",
       "\n",
       "    .dataframe tbody tr th {\n",
       "        vertical-align: top;\n",
       "    }\n",
       "\n",
       "    .dataframe thead th {\n",
       "        text-align: right;\n",
       "    }\n",
       "</style>\n",
       "<table border=\"1\" class=\"dataframe\">\n",
       "  <thead>\n",
       "    <tr style=\"text-align: right;\">\n",
       "      <th></th>\n",
       "      <th></th>\n",
       "      <th></th>\n",
       "      <th>drawdown_co2</th>\n",
       "      <th>ZEC</th>\n",
       "      <th>change_non_co2</th>\n",
       "      <th>2015_warming</th>\n",
       "      <th>2100_warming</th>\n",
       "      <th>peak_warming</th>\n",
       "      <th>year_peak_warming</th>\n",
       "      <th>cum_emissions_to_peak_GtCO2</th>\n",
       "      <th>cum_emissions_after_peak_GtCO2</th>\n",
       "      <th>eTCREup</th>\n",
       "      <th>eTCREdown</th>\n",
       "      <th>cooling_to_1p5</th>\n",
       "      <th>eTCREdown_first_guess</th>\n",
       "      <th>additional_cdr_gtco2_first_guess</th>\n",
       "      <th>netzero|CO2</th>\n",
       "      <th>additional_cdr_gtco2_final</th>\n",
       "    </tr>\n",
       "    <tr>\n",
       "      <th>model</th>\n",
       "      <th>scenario</th>\n",
       "      <th>run_id</th>\n",
       "      <th></th>\n",
       "      <th></th>\n",
       "      <th></th>\n",
       "      <th></th>\n",
       "      <th></th>\n",
       "      <th></th>\n",
       "      <th></th>\n",
       "      <th></th>\n",
       "      <th></th>\n",
       "      <th></th>\n",
       "      <th></th>\n",
       "      <th></th>\n",
       "      <th></th>\n",
       "      <th></th>\n",
       "      <th></th>\n",
       "      <th></th>\n",
       "    </tr>\n",
       "  </thead>\n",
       "  <tbody>\n",
       "    <tr>\n",
       "      <th rowspan=\"5\" valign=\"top\">AIM/CGE 2.1</th>\n",
       "      <th rowspan=\"5\" valign=\"top\">CD-LINKS_NPi2020_400</th>\n",
       "      <th>0</th>\n",
       "      <td>0.153213</td>\n",
       "      <td>-0.086132</td>\n",
       "      <td>0.024094</td>\n",
       "      <td>1.107815</td>\n",
       "      <td>1.391478</td>\n",
       "      <td>1.614685</td>\n",
       "      <td>2036</td>\n",
       "      <td>656.867099</td>\n",
       "      <td>-284.181724</td>\n",
       "      <td>0.000772</td>\n",
       "      <td>-0.000539</td>\n",
       "      <td>0.000000</td>\n",
       "      <td>-0.000539</td>\n",
       "      <td>-0.0</td>\n",
       "      <td>2046</td>\n",
       "      <td>0.00</td>\n",
       "    </tr>\n",
       "    <tr>\n",
       "      <th>1</th>\n",
       "      <td>-0.025027</td>\n",
       "      <td>-0.016988</td>\n",
       "      <td>0.054163</td>\n",
       "      <td>1.393747</td>\n",
       "      <td>2.494802</td>\n",
       "      <td>2.498626</td>\n",
       "      <td>2036</td>\n",
       "      <td>656.867099</td>\n",
       "      <td>-284.181724</td>\n",
       "      <td>0.001682</td>\n",
       "      <td>0.000088</td>\n",
       "      <td>-0.994802</td>\n",
       "      <td>-0.001682</td>\n",
       "      <td>591.0</td>\n",
       "      <td>2046</td>\n",
       "      <td>1203.96</td>\n",
       "    </tr>\n",
       "    <tr>\n",
       "      <th>2</th>\n",
       "      <td>0.164106</td>\n",
       "      <td>-0.065352</td>\n",
       "      <td>-0.009230</td>\n",
       "      <td>1.239155</td>\n",
       "      <td>1.542584</td>\n",
       "      <td>1.788063</td>\n",
       "      <td>2036</td>\n",
       "      <td>656.867099</td>\n",
       "      <td>-284.181724</td>\n",
       "      <td>0.000836</td>\n",
       "      <td>-0.000577</td>\n",
       "      <td>-0.042584</td>\n",
       "      <td>-0.000577</td>\n",
       "      <td>74.0</td>\n",
       "      <td>2046</td>\n",
       "      <td>73.90</td>\n",
       "    </tr>\n",
       "    <tr>\n",
       "      <th>3</th>\n",
       "      <td>0.122711</td>\n",
       "      <td>-0.119902</td>\n",
       "      <td>-0.081853</td>\n",
       "      <td>0.983549</td>\n",
       "      <td>1.031367</td>\n",
       "      <td>1.357680</td>\n",
       "      <td>2028</td>\n",
       "      <td>505.812623</td>\n",
       "      <td>-119.595330</td>\n",
       "      <td>0.000740</td>\n",
       "      <td>-0.001026</td>\n",
       "      <td>0.000000</td>\n",
       "      <td>-0.001026</td>\n",
       "      <td>-0.0</td>\n",
       "      <td>2046</td>\n",
       "      <td>0.00</td>\n",
       "    </tr>\n",
       "    <tr>\n",
       "      <th>4</th>\n",
       "      <td>0.143798</td>\n",
       "      <td>-0.097182</td>\n",
       "      <td>0.035314</td>\n",
       "      <td>1.194385</td>\n",
       "      <td>1.483014</td>\n",
       "      <td>1.695355</td>\n",
       "      <td>2037</td>\n",
       "      <td>668.530771</td>\n",
       "      <td>-297.241602</td>\n",
       "      <td>0.000749</td>\n",
       "      <td>-0.000484</td>\n",
       "      <td>0.000000</td>\n",
       "      <td>-0.000484</td>\n",
       "      <td>-0.0</td>\n",
       "      <td>2046</td>\n",
       "      <td>0.00</td>\n",
       "    </tr>\n",
       "    <tr>\n",
       "      <th>...</th>\n",
       "      <th>...</th>\n",
       "      <th>...</th>\n",
       "      <td>...</td>\n",
       "      <td>...</td>\n",
       "      <td>...</td>\n",
       "      <td>...</td>\n",
       "      <td>...</td>\n",
       "      <td>...</td>\n",
       "      <td>...</td>\n",
       "      <td>...</td>\n",
       "      <td>...</td>\n",
       "      <td>...</td>\n",
       "      <td>...</td>\n",
       "      <td>...</td>\n",
       "      <td>...</td>\n",
       "      <td>...</td>\n",
       "      <td>...</td>\n",
       "      <td>...</td>\n",
       "    </tr>\n",
       "    <tr>\n",
       "      <th rowspan=\"5\" valign=\"top\">WITCH-GLOBIOM 4.4</th>\n",
       "      <th rowspan=\"5\" valign=\"top\">CD-LINKS_NPi2020_400</th>\n",
       "      <th>595</th>\n",
       "      <td>0.205725</td>\n",
       "      <td>-0.155350</td>\n",
       "      <td>-0.189144</td>\n",
       "      <td>1.088553</td>\n",
       "      <td>0.818536</td>\n",
       "      <td>1.368591</td>\n",
       "      <td>2060</td>\n",
       "      <td>667.382684</td>\n",
       "      <td>-398.041085</td>\n",
       "      <td>0.000420</td>\n",
       "      <td>-0.000517</td>\n",
       "      <td>0.000000</td>\n",
       "      <td>-0.000517</td>\n",
       "      <td>-0.0</td>\n",
       "      <td>2055</td>\n",
       "      <td>0.00</td>\n",
       "    </tr>\n",
       "    <tr>\n",
       "      <th>596</th>\n",
       "      <td>0.245548</td>\n",
       "      <td>-0.010975</td>\n",
       "      <td>-0.053872</td>\n",
       "      <td>1.295575</td>\n",
       "      <td>1.659452</td>\n",
       "      <td>1.918303</td>\n",
       "      <td>2069</td>\n",
       "      <td>630.549343</td>\n",
       "      <td>-364.192470</td>\n",
       "      <td>0.000988</td>\n",
       "      <td>-0.000674</td>\n",
       "      <td>-0.159452</td>\n",
       "      <td>-0.000674</td>\n",
       "      <td>236.0</td>\n",
       "      <td>2055</td>\n",
       "      <td>238.62</td>\n",
       "    </tr>\n",
       "    <tr>\n",
       "      <th>597</th>\n",
       "      <td>0.143254</td>\n",
       "      <td>-0.004426</td>\n",
       "      <td>-0.003011</td>\n",
       "      <td>1.224026</td>\n",
       "      <td>1.486971</td>\n",
       "      <td>1.641801</td>\n",
       "      <td>2069</td>\n",
       "      <td>630.549343</td>\n",
       "      <td>-364.192470</td>\n",
       "      <td>0.000663</td>\n",
       "      <td>-0.000393</td>\n",
       "      <td>0.000000</td>\n",
       "      <td>-0.000393</td>\n",
       "      <td>-0.0</td>\n",
       "      <td>2055</td>\n",
       "      <td>0.00</td>\n",
       "    </tr>\n",
       "    <tr>\n",
       "      <th>598</th>\n",
       "      <td>0.167401</td>\n",
       "      <td>-0.042595</td>\n",
       "      <td>-0.142359</td>\n",
       "      <td>1.045557</td>\n",
       "      <td>0.993811</td>\n",
       "      <td>1.350887</td>\n",
       "      <td>2069</td>\n",
       "      <td>630.549343</td>\n",
       "      <td>-364.192470</td>\n",
       "      <td>0.000484</td>\n",
       "      <td>-0.000460</td>\n",
       "      <td>0.000000</td>\n",
       "      <td>-0.000460</td>\n",
       "      <td>-0.0</td>\n",
       "      <td>2055</td>\n",
       "      <td>0.00</td>\n",
       "    </tr>\n",
       "    <tr>\n",
       "      <th>599</th>\n",
       "      <td>0.186103</td>\n",
       "      <td>-0.002185</td>\n",
       "      <td>-0.093717</td>\n",
       "      <td>1.073903</td>\n",
       "      <td>1.100671</td>\n",
       "      <td>1.374493</td>\n",
       "      <td>2082</td>\n",
       "      <td>518.094618</td>\n",
       "      <td>-257.701016</td>\n",
       "      <td>0.000580</td>\n",
       "      <td>-0.000722</td>\n",
       "      <td>0.000000</td>\n",
       "      <td>-0.000722</td>\n",
       "      <td>-0.0</td>\n",
       "      <td>2055</td>\n",
       "      <td>0.00</td>\n",
       "    </tr>\n",
       "  </tbody>\n",
       "</table>\n",
       "<p>58200 rows × 16 columns</p>\n",
       "</div>"
      ],
      "text/plain": [
       "                                               drawdown_co2       ZEC  \\\n",
       "model             scenario             run_id                           \n",
       "AIM/CGE 2.1       CD-LINKS_NPi2020_400 0           0.153213 -0.086132   \n",
       "                                       1          -0.025027 -0.016988   \n",
       "                                       2           0.164106 -0.065352   \n",
       "                                       3           0.122711 -0.119902   \n",
       "                                       4           0.143798 -0.097182   \n",
       "...                                                     ...       ...   \n",
       "WITCH-GLOBIOM 4.4 CD-LINKS_NPi2020_400 595         0.205725 -0.155350   \n",
       "                                       596         0.245548 -0.010975   \n",
       "                                       597         0.143254 -0.004426   \n",
       "                                       598         0.167401 -0.042595   \n",
       "                                       599         0.186103 -0.002185   \n",
       "\n",
       "                                               change_non_co2  2015_warming  \\\n",
       "model             scenario             run_id                                 \n",
       "AIM/CGE 2.1       CD-LINKS_NPi2020_400 0             0.024094      1.107815   \n",
       "                                       1             0.054163      1.393747   \n",
       "                                       2            -0.009230      1.239155   \n",
       "                                       3            -0.081853      0.983549   \n",
       "                                       4             0.035314      1.194385   \n",
       "...                                                       ...           ...   \n",
       "WITCH-GLOBIOM 4.4 CD-LINKS_NPi2020_400 595          -0.189144      1.088553   \n",
       "                                       596          -0.053872      1.295575   \n",
       "                                       597          -0.003011      1.224026   \n",
       "                                       598          -0.142359      1.045557   \n",
       "                                       599          -0.093717      1.073903   \n",
       "\n",
       "                                               2100_warming  peak_warming  \\\n",
       "model             scenario             run_id                               \n",
       "AIM/CGE 2.1       CD-LINKS_NPi2020_400 0           1.391478      1.614685   \n",
       "                                       1           2.494802      2.498626   \n",
       "                                       2           1.542584      1.788063   \n",
       "                                       3           1.031367      1.357680   \n",
       "                                       4           1.483014      1.695355   \n",
       "...                                                     ...           ...   \n",
       "WITCH-GLOBIOM 4.4 CD-LINKS_NPi2020_400 595         0.818536      1.368591   \n",
       "                                       596         1.659452      1.918303   \n",
       "                                       597         1.486971      1.641801   \n",
       "                                       598         0.993811      1.350887   \n",
       "                                       599         1.100671      1.374493   \n",
       "\n",
       "                                               year_peak_warming  \\\n",
       "model             scenario             run_id                      \n",
       "AIM/CGE 2.1       CD-LINKS_NPi2020_400 0                    2036   \n",
       "                                       1                    2036   \n",
       "                                       2                    2036   \n",
       "                                       3                    2028   \n",
       "                                       4                    2037   \n",
       "...                                                          ...   \n",
       "WITCH-GLOBIOM 4.4 CD-LINKS_NPi2020_400 595                  2060   \n",
       "                                       596                  2069   \n",
       "                                       597                  2069   \n",
       "                                       598                  2069   \n",
       "                                       599                  2082   \n",
       "\n",
       "                                               cum_emissions_to_peak_GtCO2  \\\n",
       "model             scenario             run_id                                \n",
       "AIM/CGE 2.1       CD-LINKS_NPi2020_400 0                        656.867099   \n",
       "                                       1                        656.867099   \n",
       "                                       2                        656.867099   \n",
       "                                       3                        505.812623   \n",
       "                                       4                        668.530771   \n",
       "...                                                                    ...   \n",
       "WITCH-GLOBIOM 4.4 CD-LINKS_NPi2020_400 595                      667.382684   \n",
       "                                       596                      630.549343   \n",
       "                                       597                      630.549343   \n",
       "                                       598                      630.549343   \n",
       "                                       599                      518.094618   \n",
       "\n",
       "                                               cum_emissions_after_peak_GtCO2  \\\n",
       "model             scenario             run_id                                   \n",
       "AIM/CGE 2.1       CD-LINKS_NPi2020_400 0                          -284.181724   \n",
       "                                       1                          -284.181724   \n",
       "                                       2                          -284.181724   \n",
       "                                       3                          -119.595330   \n",
       "                                       4                          -297.241602   \n",
       "...                                                                       ...   \n",
       "WITCH-GLOBIOM 4.4 CD-LINKS_NPi2020_400 595                        -398.041085   \n",
       "                                       596                        -364.192470   \n",
       "                                       597                        -364.192470   \n",
       "                                       598                        -364.192470   \n",
       "                                       599                        -257.701016   \n",
       "\n",
       "                                                eTCREup  eTCREdown  \\\n",
       "model             scenario             run_id                        \n",
       "AIM/CGE 2.1       CD-LINKS_NPi2020_400 0       0.000772  -0.000539   \n",
       "                                       1       0.001682   0.000088   \n",
       "                                       2       0.000836  -0.000577   \n",
       "                                       3       0.000740  -0.001026   \n",
       "                                       4       0.000749  -0.000484   \n",
       "...                                                 ...        ...   \n",
       "WITCH-GLOBIOM 4.4 CD-LINKS_NPi2020_400 595     0.000420  -0.000517   \n",
       "                                       596     0.000988  -0.000674   \n",
       "                                       597     0.000663  -0.000393   \n",
       "                                       598     0.000484  -0.000460   \n",
       "                                       599     0.000580  -0.000722   \n",
       "\n",
       "                                               cooling_to_1p5  \\\n",
       "model             scenario             run_id                   \n",
       "AIM/CGE 2.1       CD-LINKS_NPi2020_400 0             0.000000   \n",
       "                                       1            -0.994802   \n",
       "                                       2            -0.042584   \n",
       "                                       3             0.000000   \n",
       "                                       4             0.000000   \n",
       "...                                                       ...   \n",
       "WITCH-GLOBIOM 4.4 CD-LINKS_NPi2020_400 595           0.000000   \n",
       "                                       596          -0.159452   \n",
       "                                       597           0.000000   \n",
       "                                       598           0.000000   \n",
       "                                       599           0.000000   \n",
       "\n",
       "                                               eTCREdown_first_guess  \\\n",
       "model             scenario             run_id                          \n",
       "AIM/CGE 2.1       CD-LINKS_NPi2020_400 0                   -0.000539   \n",
       "                                       1                   -0.001682   \n",
       "                                       2                   -0.000577   \n",
       "                                       3                   -0.001026   \n",
       "                                       4                   -0.000484   \n",
       "...                                                              ...   \n",
       "WITCH-GLOBIOM 4.4 CD-LINKS_NPi2020_400 595                 -0.000517   \n",
       "                                       596                 -0.000674   \n",
       "                                       597                 -0.000393   \n",
       "                                       598                 -0.000460   \n",
       "                                       599                 -0.000722   \n",
       "\n",
       "                                               additional_cdr_gtco2_first_guess  \\\n",
       "model             scenario             run_id                                     \n",
       "AIM/CGE 2.1       CD-LINKS_NPi2020_400 0                                   -0.0   \n",
       "                                       1                                  591.0   \n",
       "                                       2                                   74.0   \n",
       "                                       3                                   -0.0   \n",
       "                                       4                                   -0.0   \n",
       "...                                                                         ...   \n",
       "WITCH-GLOBIOM 4.4 CD-LINKS_NPi2020_400 595                                 -0.0   \n",
       "                                       596                                236.0   \n",
       "                                       597                                 -0.0   \n",
       "                                       598                                 -0.0   \n",
       "                                       599                                 -0.0   \n",
       "\n",
       "                                               netzero|CO2  \\\n",
       "model             scenario             run_id                \n",
       "AIM/CGE 2.1       CD-LINKS_NPi2020_400 0              2046   \n",
       "                                       1              2046   \n",
       "                                       2              2046   \n",
       "                                       3              2046   \n",
       "                                       4              2046   \n",
       "...                                                    ...   \n",
       "WITCH-GLOBIOM 4.4 CD-LINKS_NPi2020_400 595            2055   \n",
       "                                       596            2055   \n",
       "                                       597            2055   \n",
       "                                       598            2055   \n",
       "                                       599            2055   \n",
       "\n",
       "                                               additional_cdr_gtco2_final  \n",
       "model             scenario             run_id                              \n",
       "AIM/CGE 2.1       CD-LINKS_NPi2020_400 0                             0.00  \n",
       "                                       1                          1203.96  \n",
       "                                       2                            73.90  \n",
       "                                       3                             0.00  \n",
       "                                       4                             0.00  \n",
       "...                                                                   ...  \n",
       "WITCH-GLOBIOM 4.4 CD-LINKS_NPi2020_400 595                           0.00  \n",
       "                                       596                         238.62  \n",
       "                                       597                           0.00  \n",
       "                                       598                           0.00  \n",
       "                                       599                           0.00  \n",
       "\n",
       "[58200 rows x 16 columns]"
      ]
     },
     "execution_count": 23,
     "metadata": {},
     "output_type": "execute_result"
    }
   ],
   "source": [
    "metrics"
   ]
  },
  {
   "cell_type": "markdown",
   "metadata": {},
   "source": [
    "# Checks!\n",
    "Here, we do some checks to ensure we're getting sensible outcomes.\n",
    "1. Make sure that the additional CDR is zero in the time step before the year of net zero CO2."
   ]
  },
  {
   "cell_type": "code",
   "execution_count": 26,
   "metadata": {},
   "outputs": [],
   "source": [
    "additional_cdr_climate_ts = (\n",
    "    additional_cdr_climate\n",
    "    .timeseries()\n",
    ")"
   ]
  },
  {
   "cell_type": "code",
   "execution_count": 29,
   "metadata": {},
   "outputs": [
    {
     "data": {
      "application/vnd.jupyter.widget-view+json": {
       "model_id": "7012ebad488346679fc433f35ec60f8f",
       "version_major": 2,
       "version_minor": 0
      },
      "text/plain": [
       "  0%|          | 0/95 [00:00<?, ?it/s]"
      ]
     },
     "metadata": {},
     "output_type": "display_data"
    }
   ],
   "source": [
    "for (mod, scen) in tqdm(additional_cdr_climate.meta.index):\n",
    "    for run_id in range(600):\n",
    "        nz_year = metrics.loc[(mod, scen, run_id), 'netzero|CO2']\n",
    "        value = (\n",
    "            additional_cdr_climate\n",
    "            .filter(\n",
    "                model=mod,\n",
    "                scenario=scen,\n",
    "                year=nz_year - 1,\n",
    "                ensemble_member=run_id\n",
    "            )\n",
    "            .timeseries()\n",
    "            .values[0]\n",
    "        )\n",
    "        assert int(value) == 0"
   ]
  },
  {
   "cell_type": "markdown",
   "metadata": {},
   "source": [
    "2. Now, let us sum up the numbers and calculate the 90th percentile for each model-scenario combination"
   ]
  },
  {
   "cell_type": "code",
   "execution_count": 39,
   "metadata": {},
   "outputs": [
    {
     "data": {
      "text/plain": [
       "count      95\n",
       "mean      531\n",
       "std       286\n",
       "min         0\n",
       "25%       268\n",
       "50%       568\n",
       "75%       762\n",
       "max      1127\n",
       "dtype: int64"
      ]
     },
     "execution_count": 39,
     "metadata": {},
     "output_type": "execute_result"
    }
   ],
   "source": [
    "additional_cdr_climate_ts.sum(axis=1).groupby(['model', 'scenario']).quantile(q=0.9).describe().astype('int')"
   ]
  },
  {
   "cell_type": "markdown",
   "metadata": {},
   "source": [
    "Ok, need to change this in the text!"
   ]
  },
  {
   "cell_type": "code",
   "execution_count": 42,
   "metadata": {},
   "outputs": [
    {
     "data": {
      "text/plain": [
       "model                  scenario                \n",
       "AIM/CGE 2.1            CD-LINKS_NPi2020_400        408\n",
       "AIM/CGE 2.2            EN_NPi2020_300f             456\n",
       "                       EN_NPi2020_600              857\n",
       "AIM/Hub-Global 2.0     1.5C                        395\n",
       "C-ROADS-5.005          Ratchet-1.5-limCDR-noOS     220\n",
       "                       Ratchet-1.5-noCDR           684\n",
       "                       Ratchet-1.5-noCDR-noOS      460\n",
       "COFFEE 1.1             EN_NPi2020_400              963\n",
       "GCAM 4.2               SSP1-19                     604\n",
       "GCAM 5.3               R_MAC_30_n0                 752\n",
       "                       R_MAC_35_n8                 188\n",
       "                       R_MAC_40_n8                 298\n",
       "                       R_MAC_45_n8                 462\n",
       "                       R_MAC_50_n8                 667\n",
       "IMAGE 3.2              SSP1_SPA1_19I_D_LB          462\n",
       "                       SSP1_SPA1_19I_LIRE_LB       335\n",
       "                       SSP1_SPA1_19I_RE_LB         520\n",
       "                       SSP2_SPA1_19I_D_LB          630\n",
       "                       SSP2_SPA1_19I_LIRE_LB       579\n",
       "                       SSP2_SPA1_19I_RE_LB         791\n",
       "                       SSP2_SPA2_19I_LI            314\n",
       "MESSAGE-GLOBIOM 1.0    ADVANCE_2020_1.5C-2100      465\n",
       "                       EMF33_1.5C_cost100          213\n",
       "                       EMF33_1.5C_full             231\n",
       "                       SSP2-19                     266\n",
       "MESSAGEix-GLOBIOM 1.0  CD-LINKS_NPi2020_400         31\n",
       "                       LowEnergyDemand_1.3_IPCC    581\n",
       "MESSAGEix-GLOBIOM_1.1  EN_NPi2020_450              678\n",
       "                       EN_NPi2020_500              762\n",
       "                       EN_NPi2020_600_COV          885\n",
       "dtype: int64"
      ]
     },
     "execution_count": 42,
     "metadata": {},
     "output_type": "execute_result"
    }
   ],
   "source": [
    "additional_cdr_climate_ts.sum(axis=1).groupby(['model', 'scenario']).quantile(q=0.9).astype(int).head(30)"
   ]
  },
  {
   "cell_type": "code",
   "execution_count": null,
   "metadata": {},
   "outputs": [],
   "source": []
  }
 ],
 "metadata": {
  "kernelspec": {
   "display_name": "cdr_climate_uncertainty",
   "language": "python",
   "name": "python3"
  },
  "language_info": {
   "codemirror_mode": {
    "name": "ipython",
    "version": 3
   },
   "file_extension": ".py",
   "mimetype": "text/x-python",
   "name": "python",
   "nbconvert_exporter": "python",
   "pygments_lexer": "ipython3",
   "version": "3.10.12"
  }
 },
 "nbformat": 4,
 "nbformat_minor": 2
}
