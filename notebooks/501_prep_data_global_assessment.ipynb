{
 "cells": [
  {
   "cell_type": "markdown",
   "metadata": {},
   "source": [
    "# 501 Prepare data for global assessment\n",
    "\n",
    "In this notebook, we prepare the data necessary for our global assessment."
   ]
  },
  {
   "cell_type": "code",
   "execution_count": 1,
   "metadata": {},
   "outputs": [
    {
     "data": {
      "application/javascript": "if (typeof IPython !== 'undefined') { IPython.OutputArea.prototype._should_scroll = function(lines){ return false; }}",
      "text/plain": [
       "<IPython.core.display.Javascript object>"
      ]
     },
     "metadata": {},
     "output_type": "display_data"
    },
    {
     "name": "stderr",
     "output_type": "stream",
     "text": [
      "/Users/gauravganti/opt/anaconda3/envs/cdr_climate_uncertainty/lib/python3.10/site-packages/scmdata/database/_database.py:9: TqdmExperimentalWarning: Using `tqdm.autonotebook.tqdm` in notebook mode. Use `tqdm.tqdm` instead to force console mode (e.g. in jupyter console)\n",
      "  import tqdm.autonotebook as tqdman\n"
     ]
    }
   ],
   "source": [
    "import pyam\n",
    "import pandas as pd\n",
    "import numpy as np\n",
    "import scmdata\n",
    "from pathlib import Path\n",
    "from tqdm.notebook import tqdm\n",
    "\n",
    "import matplotlib.pyplot as plt"
   ]
  },
  {
   "cell_type": "markdown",
   "metadata": {},
   "source": [
    "Step 1: Read in the necessary data."
   ]
  },
  {
   "cell_type": "code",
   "execution_count": 2,
   "metadata": {},
   "outputs": [
    {
     "name": "stderr",
     "output_type": "stream",
     "text": [
      "pyam.core - INFO: Reading file ../data/100_novel_cdr.csv\n"
     ]
    }
   ],
   "source": [
    "cdr_original = pyam.IamDataFrame(\n",
    "    Path(\n",
    "        '../data/100_novel_cdr.csv'\n",
    "    )\n",
    ")"
   ]
  },
  {
   "cell_type": "code",
   "execution_count": 3,
   "metadata": {},
   "outputs": [
    {
     "name": "stderr",
     "output_type": "stream",
     "text": [
      "pyam.core - INFO: Reading file ../data/405_cdr_170324.csv\n"
     ]
    }
   ],
   "source": [
    "cdr_climate = pyam.IamDataFrame(\n",
    "    Path(\n",
    "        '../data/405_cdr_170324.csv'\n",
    "    )\n",
    ")"
   ]
  },
  {
   "cell_type": "code",
   "execution_count": 4,
   "metadata": {},
   "outputs": [],
   "source": [
    "metrics = pd.read_csv(\n",
    "    Path('../data/401_lookup.csv'),\n",
    "    index_col=[0,1]\n",
    ")"
   ]
  },
  {
   "cell_type": "markdown",
   "metadata": {},
   "source": [
    "Step 2: Now, per ensemble member, we want to calculate the additional cumulative CDR between net zero CO2 and 2100."
   ]
  },
  {
   "cell_type": "code",
   "execution_count": 5,
   "metadata": {},
   "outputs": [],
   "source": [
    "additional_cdr_climate = []"
   ]
  },
  {
   "cell_type": "code",
   "execution_count": 6,
   "metadata": {},
   "outputs": [],
   "source": [
    "cdr_original.interpolate(\n",
    "    time=range(2015, 2101),\n",
    "    inplace=True\n",
    ")"
   ]
  },
  {
   "cell_type": "code",
   "execution_count": 7,
   "metadata": {},
   "outputs": [
    {
     "data": {
      "application/vnd.jupyter.widget-view+json": {
       "model_id": "98f453c251e94abcb5670ffdb7726bee",
       "version_major": 2,
       "version_minor": 0
      },
      "text/plain": [
       "  0%|          | 0/95 [00:00<?, ?it/s]"
      ]
     },
     "metadata": {},
     "output_type": "display_data"
    }
   ],
   "source": [
    "for (model, scenario) in tqdm(cdr_original.meta.index):\n",
    "    # Filter for original CDR\n",
    "    cdr_orig = (\n",
    "        cdr_original\n",
    "        .filter(\n",
    "            model=model,\n",
    "            scenario=scenario\n",
    "        )\n",
    "        .timeseries()\n",
    "    )\n",
    "    # Filter for adapted CDR\n",
    "    cdr_alt = (\n",
    "        cdr_climate\n",
    "        .filter(\n",
    "            model=model,\n",
    "            scenario=scenario,\n",
    "        )\n",
    "        .timeseries()\n",
    "    )\n",
    "    # Subtract original from adapted\n",
    "    cdr_diff = pyam.IamDataFrame(cdr_alt - cdr_orig)\n",
    "    additional_cdr_climate.append(\n",
    "        pyam.IamDataFrame(cdr_diff)\n",
    "    )"
   ]
  },
  {
   "cell_type": "code",
   "execution_count": 8,
   "metadata": {},
   "outputs": [],
   "source": [
    "additional_cdr_climate = pyam.concat(additional_cdr_climate)"
   ]
  },
  {
   "cell_type": "code",
   "execution_count": 9,
   "metadata": {},
   "outputs": [],
   "source": [
    "additional_cdr_climate.rename(\n",
    "    variable={\n",
    "        'Carbon Dioxide Removal|Novel':'Carbon Dioxide Removal|Novel|Additional'\n",
    "    },\n",
    "    inplace=True\n",
    ")"
   ]
  },
  {
   "cell_type": "markdown",
   "metadata": {},
   "source": [
    "Step 3: Convert all the necessary units to Gt CO2"
   ]
  },
  {
   "cell_type": "code",
   "execution_count": 10,
   "metadata": {},
   "outputs": [],
   "source": [
    "additional_cdr_climate.convert_unit(\n",
    "    current='Mt CO2/yr',\n",
    "    to='Gt CO2/yr',\n",
    "    inplace=True\n",
    ")"
   ]
  },
  {
   "cell_type": "code",
   "execution_count": 11,
   "metadata": {},
   "outputs": [],
   "source": [
    "cdr_original.convert_unit(\n",
    "    current='Mt CO2/yr',\n",
    "    to='Gt CO2/yr',\n",
    "    inplace=True\n",
    ")"
   ]
  },
  {
   "cell_type": "markdown",
   "metadata": {},
   "source": [
    "Step 4: Now, we want to calculate the cumulative additional CDR from net zero CO2 to 2100. We can just sum up across all values for each timeseries entry, since we have already calculated the difference from the original model trajectory."
   ]
  },
  {
   "cell_type": "code",
   "execution_count": 12,
   "metadata": {},
   "outputs": [],
   "source": [
    "cumulative_cdr_additional = (\n",
    "    additional_cdr_climate\n",
    "    .timeseries()\n",
    "    .apply(\n",
    "        lambda x: format(pyam.timeseries.cumulative(\n",
    "            x,\n",
    "            first_year=2020,\n",
    "            last_year=2100\n",
    "        ),'f'),\n",
    "        axis=1\n",
    "    )\n",
    ")"
   ]
  },
  {
   "cell_type": "markdown",
   "metadata": {},
   "source": [
    "Step 5: Assign this as an additional column to the metrics dataframe. Then write this out for further analysis."
   ]
  },
  {
   "cell_type": "code",
   "execution_count": 13,
   "metadata": {},
   "outputs": [],
   "source": [
    "metrics = metrics.set_index('run_id', append=True)"
   ]
  },
  {
   "cell_type": "code",
   "execution_count": 14,
   "metadata": {},
   "outputs": [],
   "source": [
    "for (mod, scen, run) in metrics.index:\n",
    "    if mod == 'GEM-E3_V2021':\n",
    "        continue\n",
    "    metrics.loc[(mod, scen, run), 'additional_cdr_gtco2_final'] = (\n",
    "        cumulative_cdr_additional\n",
    "        .loc[pd.IndexSlice[mod, scen, :, :, :, :, run]]\n",
    "        .values[0]\n",
    "    )"
   ]
  },
  {
   "cell_type": "code",
   "execution_count": 15,
   "metadata": {},
   "outputs": [],
   "source": [
    "metrics['additional_cdr_gtco2_final'] = metrics['additional_cdr_gtco2_final'].astype('float').round(2)"
   ]
  },
  {
   "cell_type": "code",
   "execution_count": 16,
   "metadata": {},
   "outputs": [],
   "source": [
    "metrics.to_excel(\n",
    "    Path(\n",
    "        '../data/501_metrics_with_final_cdr.xlsx'\n",
    "    ),\n",
    "    merge_cells=False\n",
    ")"
   ]
  },
  {
   "cell_type": "code",
   "execution_count": null,
   "metadata": {},
   "outputs": [],
   "source": []
  }
 ],
 "metadata": {
  "kernelspec": {
   "display_name": "cdr_climate_uncertainty",
   "language": "python",
   "name": "python3"
  },
  "language_info": {
   "codemirror_mode": {
    "name": "ipython",
    "version": 3
   },
   "file_extension": ".py",
   "mimetype": "text/x-python",
   "name": "python",
   "nbconvert_exporter": "python",
   "pygments_lexer": "ipython3",
   "version": "3.10.12"
  }
 },
 "nbformat": 4,
 "nbformat_minor": 2
}
