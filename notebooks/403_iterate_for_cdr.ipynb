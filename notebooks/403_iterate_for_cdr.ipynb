{
 "cells": [
  {
   "cell_type": "markdown",
   "metadata": {},
   "source": [
    "# 403 Iterate for CDR\n",
    "In this notebook we will assess the new CDR needs based on an iterative search."
   ]
  },
  {
   "cell_type": "code",
   "execution_count": 1,
   "metadata": {
    "tags": [
     "parameters"
    ]
   },
   "outputs": [],
   "source": [
    "ENSEMBLE_MEMBER = 4\n",
    "MODEL='REMIND-MAgPIE 2.1-4.3'\n",
    "SCENARIO='DeepElec_SSP2_ HighRE_Budg900'"
   ]
  },
  {
   "cell_type": "code",
   "execution_count": 2,
   "metadata": {},
   "outputs": [
    {
     "data": {
      "application/javascript": [
       "if (typeof IPython !== 'undefined') { IPython.OutputArea.prototype._should_scroll = function(lines){ return false; }}"
      ],
      "text/plain": [
       "<IPython.core.display.Javascript object>"
      ]
     },
     "metadata": {},
     "output_type": "display_data"
    },
    {
     "name": "stderr",
     "output_type": "stream",
     "text": [
      "/home/gaurav/.conda/envs/cdr_climate_uncertainty/lib/python3.10/site-packages/scmdata/database/_database.py:9: TqdmExperimentalWarning: Using `tqdm.autonotebook.tqdm` in notebook mode. Use `tqdm.tqdm` instead to force console mode (e.g. in jupyter console)\n",
      "  import tqdm.autonotebook as tqdman\n"
     ]
    }
   ],
   "source": [
    "import json\n",
    "import os\n",
    "import platform\n",
    "from pathlib import Path\n",
    "\n",
    "import copy\n",
    "import dotenv\n",
    "import matplotlib.pyplot as plt\n",
    "import openscm_runner\n",
    "import scmdata\n",
    "import pyam\n",
    "import pandas as pd\n",
    "import numpy as np\n",
    "from scipy.optimize import minimize_scalar\n",
    "\n",
    "import sys\n",
    "sys.path.append('../scripts/')\n",
    "from cdr import *\n",
    "\n",
    "from climate_assessment.climate.wg3 import clean_wg3_scenarios\n",
    "from climate_assessment.climate.magicc7 import get_magicc7_configurations\n",
    "%load_ext autoreload\n",
    "%autoreload 2"
   ]
  },
  {
   "cell_type": "code",
   "execution_count": 3,
   "metadata": {},
   "outputs": [
    {
     "data": {
      "text/plain": [
       "True"
      ]
     },
     "execution_count": 3,
     "metadata": {},
     "output_type": "execute_result"
    }
   ],
   "source": [
    "dotenv.load_dotenv()"
   ]
  },
  {
   "cell_type": "code",
   "execution_count": 4,
   "metadata": {},
   "outputs": [
    {
     "name": "stdout",
     "output_type": "stream",
     "text": [
      "Linux\n"
     ]
    }
   ],
   "source": [
    "os_type = platform.system()\n",
    "print(os_type)\n",
    "\n",
    "match os_type:\n",
    "    case 'Darwin':\n",
    "        os.environ['MAGICC_EXECUTABLE_7']=os.path.join(\n",
    "            os.environ['MAGICC_7_BIN'],\n",
    "            'magicc-darwin-amd64'\n",
    "        )\n",
    "        os.environ['DYLD_LIBRARY_PATH'] = os.environ['DYLD_PATH_GCC']\n",
    "    case 'Linux':\n",
    "        os.environ['MAGICC_EXECUTABLE_7']=os.path.join(\n",
    "            os.environ['MAGICC_7_BIN'],\n",
    "            'magicc'\n",
    "        )"
   ]
  },
  {
   "cell_type": "markdown",
   "metadata": {},
   "source": [
    "Step 1: Load the MAGICC configurations and select the ensemble member (climate realisation) that we want to run through for this study."
   ]
  },
  {
   "cell_type": "code",
   "execution_count": 5,
   "metadata": {},
   "outputs": [],
   "source": [
    "magicc_cfgs, _ = get_magicc7_configurations(\n",
    "    magicc_version=\"v7.5.3\",\n",
    "    magicc_probabilistic_file=os.environ['MAGICC_AR6_PROBABILISTIC_DISTRIBUTION'],\n",
    "    magicc_extra_config=None,\n",
    "    num_cfgs=600,\n",
    "    co2_and_non_co2_warming=False\n",
    ")"
   ]
  },
  {
   "cell_type": "code",
   "execution_count": 6,
   "metadata": {},
   "outputs": [],
   "source": [
    "config_for_run = [magicc_cfgs[ENSEMBLE_MEMBER]]"
   ]
  },
  {
   "cell_type": "markdown",
   "metadata": {},
   "source": [
    "Step 2: Load the necessary emissions-related files for this assessment. We need:\n",
    "* The adapted novel CDR estimates lookup table\n",
    "* The emission dataset to input to the climate model\n",
    "* The original novel CDR estimates that we will use for the calibration iterations and the optimisation"
   ]
  },
  {
   "cell_type": "code",
   "execution_count": 7,
   "metadata": {},
   "outputs": [
    {
     "name": "stderr",
     "output_type": "stream",
     "text": [
      "pyam - INFO: Running in a notebook, setting up a basic logging at level INFO\n",
      "pyam.core - INFO: Reading file ../data/402_first_guess.csv\n"
     ]
    }
   ],
   "source": [
    "novel_cdr = pyam.IamDataFrame(\n",
    "    Path(\n",
    "        '../data/402_first_guess.csv'\n",
    "    )\n",
    ")"
   ]
  },
  {
   "cell_type": "code",
   "execution_count": 8,
   "metadata": {},
   "outputs": [
    {
     "name": "stderr",
     "output_type": "stream",
     "text": [
      "pyam.core - INFO: Reading file ../data/100_scenarios.csv\n"
     ]
    }
   ],
   "source": [
    "emissions = pyam.IamDataFrame(\n",
    "    Path(\n",
    "        '../data/100_scenarios.csv'\n",
    "    )\n",
    ")"
   ]
  },
  {
   "cell_type": "code",
   "execution_count": 9,
   "metadata": {},
   "outputs": [],
   "source": [
    "metrics = pd.read_csv(\n",
    "    Path(\n",
    "        '../data/401_lookup.csv'\n",
    "    ),\n",
    "    index_col=[0,1, 2]\n",
    ")"
   ]
  },
  {
   "cell_type": "code",
   "execution_count": 10,
   "metadata": {},
   "outputs": [
    {
     "name": "stderr",
     "output_type": "stream",
     "text": [
      "pyam.core - INFO: Reading file ../data/100_novel_cdr.csv\n"
     ]
    }
   ],
   "source": [
    "novel_cdr_original = pyam.IamDataFrame(\n",
    "    Path(\n",
    "        '../data/100_novel_cdr.csv'\n",
    "    )\n",
    ")"
   ]
  },
  {
   "cell_type": "markdown",
   "metadata": {},
   "source": [
    "Step 3: Filter both the datasets for the necessary model and scenario. Additionally, for the novel CDR dataframe, downselect it to get the ensemble member of choice."
   ]
  },
  {
   "cell_type": "code",
   "execution_count": 11,
   "metadata": {},
   "outputs": [],
   "source": [
    "novel_cdr_for_iteration = (\n",
    "    novel_cdr\n",
    "    .filter(\n",
    "        ensemble_member=ENSEMBLE_MEMBER,\n",
    "        model=MODEL,\n",
    "        scenario=SCENARIO\n",
    "    )\n",
    ")"
   ]
  },
  {
   "cell_type": "code",
   "execution_count": 12,
   "metadata": {},
   "outputs": [],
   "source": [
    "novel_cdr_for_iteration.interpolate(\n",
    "    time=range(2015, 2101),\n",
    "    inplace=True\n",
    ")"
   ]
  },
  {
   "cell_type": "code",
   "execution_count": 13,
   "metadata": {},
   "outputs": [],
   "source": [
    "emissions_for_iteration = (\n",
    "    emissions\n",
    "    .filter(\n",
    "        model=MODEL,\n",
    "        scenario=SCENARIO\n",
    "    )\n",
    ")"
   ]
  },
  {
   "cell_type": "code",
   "execution_count": 14,
   "metadata": {},
   "outputs": [],
   "source": [
    "emissions_for_iteration.swap_time_for_year(inplace=True)"
   ]
  },
  {
   "cell_type": "code",
   "execution_count": 15,
   "metadata": {},
   "outputs": [],
   "source": [
    "novel_cdr_original_filtered = (\n",
    "    novel_cdr_original\n",
    "    .filter(\n",
    "        model=MODEL,\n",
    "        scenario=SCENARIO\n",
    "    )\n",
    "    .interpolate(\n",
    "        time=range(2015, 2101)\n",
    "    )\n",
    ")"
   ]
  },
  {
   "cell_type": "markdown",
   "metadata": {},
   "source": [
    "Step 4: We need the year of net zero CO2 and zero out the CDR before (so that we do not have a double counting effect)"
   ]
  },
  {
   "cell_type": "code",
   "execution_count": 16,
   "metadata": {},
   "outputs": [],
   "source": [
    "def process_novel_cdr(data, netzero_timing):\n",
    "    data_to_return = (\n",
    "        data.timeseries()\n",
    "        -\n",
    "        novel_cdr_original_filtered.timeseries()\n",
    "    )\n",
    "    return pyam.IamDataFrame(data_to_return)"
   ]
  },
  {
   "cell_type": "code",
   "execution_count": 17,
   "metadata": {},
   "outputs": [],
   "source": [
    "netzero_timing = metrics.loc[\n",
    "    (MODEL, SCENARIO, ENSEMBLE_MEMBER),\n",
    "    'netzero|CO2'\n",
    "]"
   ]
  },
  {
   "cell_type": "code",
   "execution_count": 18,
   "metadata": {},
   "outputs": [],
   "source": [
    "novel_cdr_to_crunch = process_novel_cdr(\n",
    "    novel_cdr_for_iteration,\n",
    "    netzero_timing\n",
    ")"
   ]
  },
  {
   "cell_type": "code",
   "execution_count": 19,
   "metadata": {},
   "outputs": [],
   "source": [
    "novel_cdr_for_iteration.set_meta(\n",
    "    name='netzero|CO2',\n",
    "    meta=netzero_timing\n",
    ")"
   ]
  },
  {
   "cell_type": "markdown",
   "metadata": {},
   "source": [
    "Step 4: Make a function that constructs a new emission dataframe to run through the simple climate model."
   ]
  },
  {
   "cell_type": "code",
   "execution_count": 20,
   "metadata": {},
   "outputs": [],
   "source": [
    "def construct_new_emissions_dataframe(\n",
    "        emissions, cdr\n",
    "):\n",
    "    emissions_to_return = copy.deepcopy(emissions)\n",
    "    # Step 1: Get the CDR dataframe\n",
    "    cdr_altered = pyam.IamDataFrame(\n",
    "        cdr\n",
    "        .timeseries()\n",
    "        .reset_index()\n",
    "        .drop(columns=cdr.extra_cols)\n",
    "    )\n",
    "    # Step 2: Pull out the emissions\n",
    "    co2_ffi_var = 'AR6 climate diagnostics|Infilled|Emissions|CO2|Energy and Industrial Processes'\n",
    "    co2_ffi = (\n",
    "        emissions_to_return\n",
    "        .filter(variable=co2_ffi_var)\n",
    "    )\n",
    "    # Step 3: Create a non CO2 dataframe\n",
    "    nonco2_ffi = (\n",
    "        emissions_to_return\n",
    "        .filter(\n",
    "            variable=co2_ffi_var,\n",
    "            keep=False\n",
    "        )\n",
    "    )\n",
    "    # Step 4: Aggregate the two variables\n",
    "    concat = pyam.concat([cdr_altered, co2_ffi])\n",
    "    concat_co2_ffi = concat.subtract(\n",
    "        a=co2_ffi_var,\n",
    "        b='Carbon Dioxide Removal|Novel',\n",
    "        name=co2_ffi_var,\n",
    "        ignore_units='Mt CO2/yr'\n",
    "    )\n",
    "    # Step 5: Return this\n",
    "    df_to_return = pyam.concat([concat_co2_ffi, nonco2_ffi])\n",
    "    return df_to_return.filter(year=range(2015, 2101))"
   ]
  },
  {
   "cell_type": "code",
   "execution_count": 21,
   "metadata": {},
   "outputs": [],
   "source": [
    "test = construct_new_emissions_dataframe(emissions_for_iteration, novel_cdr_to_crunch)"
   ]
  },
  {
   "cell_type": "code",
   "execution_count": 22,
   "metadata": {},
   "outputs": [
    {
     "name": "stderr",
     "output_type": "stream",
     "text": [
      "/home/gaurav/.conda/envs/cdr_climate_uncertainty/lib/python3.10/site-packages/pyam/plotting.py:1073: FutureWarning: iteritems is deprecated and will be removed in a future version. Use .items instead.\n",
      "  for col, data in df.iteritems():\n",
      "/home/gaurav/.conda/envs/cdr_climate_uncertainty/lib/python3.10/site-packages/pyam/plotting.py:1073: FutureWarning: iteritems is deprecated and will be removed in a future version. Use .items instead.\n",
      "  for col, data in df.iteritems():\n"
     ]
    },
    {
     "data": {
      "text/plain": [
       "Text(0.5, 1.0, '')"
      ]
     },
     "execution_count": 22,
     "metadata": {},
     "output_type": "execute_result"
    },
    {
     "data": {
      "image/png": "[encoded data removed]",
      "text/plain": [
       "<Figure size 640x480 with 1 Axes>"
      ]
     },
     "metadata": {},
     "output_type": "display_data"
    }
   ],
   "source": [
    "fig, ax = plt.subplots()\n",
    "\n",
    "test.filter(\n",
    "    variable='*Emissions|CO2|Energy and Industrial Processes'\n",
    ").plot(ax=ax, color='red')\n",
    "\n",
    "emissions_for_iteration.filter(\n",
    "    variable='*Emissions|CO2|Energy and Industrial Processes'\n",
    ").plot(ax=ax, color='blue')\n",
    "\n",
    "ax.set_title('')"
   ]
  },
  {
   "cell_type": "markdown",
   "metadata": {},
   "source": [
    "Step 6: Create the input for MAGICC and run this through for a first cut."
   ]
  },
  {
   "cell_type": "code",
   "execution_count": 23,
   "metadata": {},
   "outputs": [
    {
     "name": "stderr",
     "output_type": "stream",
     "text": [
      "/home/gaurav/.conda/envs/cdr_climate_uncertainty/lib/python3.10/site-packages/climate_assessment/climate/wg3.py:42: FutureWarning: The default value of regex will change from True to False in a future version.\n",
      "  df_clean[\"variable\"] = df_clean[\"variable\"].str.replace(old, new)\n"
     ]
    }
   ],
   "source": [
    "input_scm = scmdata.ScmRun(\n",
    "    clean_wg3_scenarios(test)\n",
    ")"
   ]
  },
  {
   "cell_type": "code",
   "execution_count": 24,
   "metadata": {},
   "outputs": [
    {
     "data": {
      "application/vnd.jupyter.widget-view+json": {
       "model_id": "ef8bbac2da9d491fb11b957ef67b1679",
       "version_major": 2,
       "version_minor": 0
      },
      "text/plain": [
       "Climate models:   0%|          | 0.00/1.00 [00:00<?, ?it/s]"
      ]
     },
     "metadata": {},
     "output_type": "display_data"
    },
    {
     "name": "stderr",
     "output_type": "stream",
     "text": [
      "openscm_runner.adapters.magicc7.magicc7 - WARNING: Historical data has not been checked\n",
      "/home/gaurav/.conda/envs/cdr_climate_uncertainty/lib/python3.10/site-packages/openscm_units/_unit_registry.py:471: FutureWarning: iteritems is deprecated and will be removed in a future version. Use .items instead.\n",
      "  for label, val in metric_conversion.iteritems():\n"
     ]
    },
    {
     "data": {
      "application/vnd.jupyter.widget-view+json": {
       "model_id": "6ad54779481744d3b0a5945e0d3aed18",
       "version_major": 2,
       "version_minor": 0
      },
      "text/plain": [
       "Writing SCEN7 files:   0%|          | 0.00/1.00 [00:00<?, ?it/s]"
      ]
     },
     "metadata": {},
     "output_type": "display_data"
    },
    {
     "name": "stderr",
     "output_type": "stream",
     "text": [
      "openscm_runner.adapters.magicc7._run_magicc_parallel - INFO: Entered _parallel_magicc_compact_out\n",
      "openscm_runner.adapters.magicc7._run_magicc_parallel - INFO: Running in parallel with up to 4 workers\n"
     ]
    },
    {
     "data": {
      "application/vnd.jupyter.widget-view+json": {
       "model_id": "e5c8d9a1b3384b268724e3ff4771afe2",
       "version_major": 2,
       "version_minor": 0
      },
      "text/plain": [
       "Front serial:   0%|          | 0.00/1.00 [00:00<?, ?it/s]"
      ]
     },
     "metadata": {},
     "output_type": "display_data"
    },
    {
     "name": "stderr",
     "output_type": "stream",
     "text": [
      "openscm_runner.adapters.magicc7._magicc_instances - INFO: Creating new magicc instance: (7, 'MainProcess') - /mnt/gaurav/pymagicc-d67qslir\n",
      "openscm_runner.adapters.magicc7._run_magicc_parallel - INFO: Setting up MAGICC worker in /mnt/gaurav/pymagicc-d67qslir\n",
      "openscm_runner.adapters.magicc7._run_magicc_parallel - INFO: Writing Pymagicc compatible MAGCFG_USER.CFG in /mnt/gaurav/pymagicc-d67qslir/run\n",
      "/home/gaurav/.conda/envs/cdr_climate_uncertainty/lib/python3.10/site-packages/pymagicc/core.py:387: UserWarning: Not reading file: DAT_HEATCONT_EBALANCE_SUBANN.BINOUT. Monthly data are not read in automatically by `run`. Use `MAGICCData` instead.\n",
      "  warnings.warn(\n",
      "/home/gaurav/.conda/envs/cdr_climate_uncertainty/lib/python3.10/site-packages/pymagicc/core.py:387: UserWarning: Not reading file: DAT_HEATUPTK_EBALANCE_SUBANN.BINOUT. Monthly data are not read in automatically by `run`. Use `MAGICCData` instead.\n",
      "  warnings.warn(\n"
     ]
    },
    {
     "data": {
      "application/vnd.jupyter.widget-view+json": {
       "model_id": "c3e71d3d94714e5db549aeb9f7d73437",
       "version_major": 2,
       "version_minor": 0
      },
      "text/plain": [
       "Front parallel: 0.00it [00:00, ?it/s]"
      ]
     },
     "metadata": {},
     "output_type": "display_data"
    },
    {
     "data": {
      "application/vnd.jupyter.widget-view+json": {
       "model_id": "c082cc1dfdec4eadb11e365bcb1ea9a0",
       "version_major": 2,
       "version_minor": 0
      },
      "text/plain": [
       "Parallel runs: 0.00it [00:00, ?it/s]"
      ]
     },
     "metadata": {},
     "output_type": "display_data"
    },
    {
     "name": "stderr",
     "output_type": "stream",
     "text": [
      "openscm_runner.adapters.magicc7._run_magicc_parallel - INFO: Appending results into a single ScmRun\n",
      "openscm_runner.adapters.magicc7._magicc_instances - INFO: removing /mnt/gaurav/pymagicc-d67qslir\n",
      "openscm_runner.adapters.magicc7._run_magicc_parallel - INFO: Shutting down parallel pool\n",
      "openscm_runner.run - INFO: Only one model run, returning its results\n"
     ]
    }
   ],
   "source": [
    "temp_confirmation =  openscm_runner.run(\n",
    "    {'MAGICC7':config_for_run},\n",
    "    input_scm,\n",
    "    output_variables=[\n",
    "        'Surface Temperature'\n",
    "    ]\n",
    ")"
   ]
  },
  {
   "cell_type": "code",
   "execution_count": 25,
   "metadata": {},
   "outputs": [],
   "source": [
    "temp_proc = (\n",
    "    temp_confirmation\n",
    "    .filter(region='World')\n",
    "    .relative_to_ref_period_mean(\n",
    "        year=[1850, 1900]\n",
    "    )\n",
    "    .timeseries()\n",
    ")"
   ]
  },
  {
   "cell_type": "code",
   "execution_count": 26,
   "metadata": {},
   "outputs": [],
   "source": [
    "temp_calibrate_2100 = temp_proc['2100-01-01'].values[0].round(2)"
   ]
  },
  {
   "cell_type": "code",
   "execution_count": 27,
   "metadata": {},
   "outputs": [
    {
     "data": {
      "text/plain": [
       "<matplotlib.lines.Line2D at 0x7ef78ef737c0>"
      ]
     },
     "execution_count": 27,
     "metadata": {},
     "output_type": "execute_result"
    },
    {
     "data": {
      "image/png": "[encoded data removed]",
      "text/plain": [
       "<Figure size 640x480 with 1 Axes>"
      ]
     },
     "metadata": {},
     "output_type": "display_data"
    }
   ],
   "source": [
    "fig, ax = plt.subplots()\n",
    "\n",
    "metrics_small = metrics.loc[\n",
    "    (MODEL, SCENARIO, ENSEMBLE_MEMBER),\n",
    "]\n",
    "\n",
    "ax.bar(x=0, height=metrics_small['peak_warming'], width=0.1)\n",
    "ax.bar(x=0.3, height=metrics_small['2100_warming'], width=0.1)\n",
    "ax.bar(x=0.6, height=temp_calibrate_2100, width=0.1)\n",
    "ax.axhline(1.5, color='black')"
   ]
  },
  {
   "cell_type": "markdown",
   "metadata": {},
   "source": [
    "Step 7: Now that we know the direction (whether above or below), we now need a few calibration runs to get to the correct direction."
   ]
  },
  {
   "cell_type": "code",
   "execution_count": 28,
   "metadata": {},
   "outputs": [
    {
     "name": "stdout",
     "output_type": "stream",
     "text": [
      "0.050000000000000044\n"
     ]
    }
   ],
   "source": [
    "deviation = temp_calibrate_2100 - 1.5\n",
    "print(deviation)"
   ]
  },
  {
   "cell_type": "code",
   "execution_count": 29,
   "metadata": {},
   "outputs": [],
   "source": [
    "def return_temperature_deviation(input_emissions):\n",
    "    # Step 1: Run this through the simple climate model\n",
    "    temperatures = openscm_runner.run(\n",
    "        {'MAGICC7':config_for_run},\n",
    "        input_emissions,\n",
    "        output_variables=[\n",
    "            'Surface Temperature'\n",
    "        ]    \n",
    "    )\n",
    "    # Step 2: Rebase to 1850-1900 and return the 2100 value deviation\n",
    "    temperatures_rebased = (\n",
    "        temperatures\n",
    "        .filter(region='World')\n",
    "        .relative_to_ref_period_mean(year=[1850, 1900])\n",
    "    )\n",
    "    temp_2100 = (\n",
    "        temperatures_rebased\n",
    "        .timeseries()['2100-01-01']\n",
    "        .values[0]\n",
    "    )\n",
    "    # Step 3: Return the deviation\n",
    "    return temp_2100 - 1.5"
   ]
  },
  {
   "cell_type": "code",
   "execution_count": 30,
   "metadata": {},
   "outputs": [],
   "source": [
    "novel_cdr_for_iteration.angle[0]\n",
    "if deviation < 0:\n",
    "    calibrate_type = 'reduce'\n",
    "elif deviation > 0:\n",
    "    calibrate_type = 'increase'\n",
    "else:\n",
    "    calibrate_type = 'none'"
   ]
  },
  {
   "cell_type": "code",
   "execution_count": 31,
   "metadata": {},
   "outputs": [
    {
     "data": {
      "text/plain": [
       "<class 'pyam.core.IamDataFrame'>\n",
       "Index:\n",
       " * model           : REMIND-MAgPIE 2.1-4.3 (1)\n",
       " * scenario        : DeepElec_SSP2_ HighRE_Budg900 (1)\n",
       "Timeseries data coordinates:\n",
       "   region          : World (1)\n",
       "   variable        : Carbon Dioxide Removal|Novel (1)\n",
       "   unit            : Mt CO2/yr (1)\n",
       "   angle           : 89.57547881428569 (1)\n",
       "   ensemble_member : 4 (1)\n",
       "   year            : 2005, 2010, 2015, 2016, 2017, 2018, 2019, ... 2100 (88)\n",
       "Meta indicators:\n",
       "   exclude (bool) False (1)\n",
       "   netzero|CO2 (int64) 2057 (1)"
      ]
     },
     "execution_count": 31,
     "metadata": {},
     "output_type": "execute_result"
    }
   ],
   "source": [
    "novel_cdr_for_iteration"
   ]
  },
  {
   "cell_type": "code",
   "execution_count": 32,
   "metadata": {},
   "outputs": [],
   "source": [
    "novel_cdr_original_filtered.meta = novel_cdr_for_iteration.meta"
   ]
  },
  {
   "cell_type": "code",
   "execution_count": 33,
   "metadata": {},
   "outputs": [],
   "source": [
    "def initial_calibration(\n",
    "        emissions,\n",
    "        cdr_first_guess,\n",
    "        angle_first_guess,\n",
    "        current_deviation\n",
    "):\n",
    "    # Step 1: Create a dictionary to store the calibrations\n",
    "    calibration = {}\n",
    "    emissions_copy = copy.deepcopy(emissions)\n",
    "    cdr = copy.deepcopy(cdr_first_guess)\n",
    "    # Step 2: Determine walk direction\n",
    "    if current_deviation > 0:\n",
    "        new_deviation = current_deviation\n",
    "        step_size=0.5\n",
    "        while new_deviation > 0:\n",
    "            new_angle = angle_first_guess + step_size\n",
    "            print(new_deviation, new_angle)\n",
    "            if new_angle > 91:\n",
    "                break\n",
    "            new_cdr, _ = rotate_and_calc_cumulative(\n",
    "                cdr,\n",
    "                new_angle\n",
    "            )\n",
    "            new_emissions = (\n",
    "                scmdata.ScmRun(\n",
    "                    clean_wg3_scenarios(\n",
    "                        construct_new_emissions_dataframe(\n",
    "                            emissions_copy,\n",
    "                            process_novel_cdr(new_cdr, cdr.meta['netzero|CO2'].values[0])\n",
    "                        )\n",
    "                    \n",
    "                    )\n",
    "                )\n",
    "            )\n",
    "            new_deviation = return_temperature_deviation(new_emissions)\n",
    "            calibration[new_angle] = new_deviation\n",
    "            step_size += step_size\n",
    "    elif current_deviation < 0:\n",
    "        step_size=5\n",
    "        new_deviation = current_deviation\n",
    "        while new_deviation < 0:\n",
    "            new_angle = angle_first_guess - step_size\n",
    "            if new_angle < 0:\n",
    "                break\n",
    "            print(new_deviation, new_angle)\n",
    "            new_cdr, _ = rotate_and_calc_cumulative(\n",
    "                cdr,\n",
    "                new_angle\n",
    "            )\n",
    "            new_emissions = (\n",
    "                scmdata.ScmRun(\n",
    "                    clean_wg3_scenarios(\n",
    "                        construct_new_emissions_dataframe(\n",
    "                            emissions_copy,\n",
    "                            process_novel_cdr(new_cdr, cdr.meta['netzero|CO2'].values[0])\n",
    "                        )\n",
    "                    \n",
    "                    )\n",
    "                )\n",
    "            )\n",
    "            new_deviation = return_temperature_deviation(new_emissions)\n",
    "            calibration[new_angle] = new_deviation\n",
    "            step_size += step_size\n",
    "    return pd.DataFrame(\n",
    "        calibration.items(),\n",
    "        columns=['angle', 'deviation']\n",
    "    )"
   ]
  },
  {
   "cell_type": "code",
   "execution_count": 34,
   "metadata": {},
   "outputs": [
    {
     "name": "stdout",
     "output_type": "stream",
     "text": [
      "0.050000000000000044 90.07547881428569\n"
     ]
    },
    {
     "name": "stderr",
     "output_type": "stream",
     "text": [
      "/home/gaurav/.conda/envs/cdr_climate_uncertainty/lib/python3.10/site-packages/climate_assessment/climate/wg3.py:42: FutureWarning: The default value of regex will change from True to False in a future version.\n",
      "  df_clean[\"variable\"] = df_clean[\"variable\"].str.replace(old, new)\n"
     ]
    },
    {
     "data": {
      "application/vnd.jupyter.widget-view+json": {
       "model_id": "cf41401224984c98bd0765c4427ee19b",
       "version_major": 2,
       "version_minor": 0
      },
      "text/plain": [
       "Climate models:   0%|          | 0.00/1.00 [00:00<?, ?it/s]"
      ]
     },
     "metadata": {},
     "output_type": "display_data"
    },
    {
     "name": "stderr",
     "output_type": "stream",
     "text": [
      "openscm_runner.adapters.magicc7.magicc7 - WARNING: Historical data has not been checked\n"
     ]
    },
    {
     "data": {
      "application/vnd.jupyter.widget-view+json": {
       "model_id": "d72c31f3f2ee41a9bd915c024eb52cb7",
       "version_major": 2,
       "version_minor": 0
      },
      "text/plain": [
       "Writing SCEN7 files:   0%|          | 0.00/1.00 [00:00<?, ?it/s]"
      ]
     },
     "metadata": {},
     "output_type": "display_data"
    },
    {
     "name": "stderr",
     "output_type": "stream",
     "text": [
      "openscm_runner.adapters.magicc7._run_magicc_parallel - INFO: Entered _parallel_magicc_compact_out\n",
      "openscm_runner.adapters.magicc7._run_magicc_parallel - INFO: Running in parallel with up to 4 workers\n"
     ]
    },
    {
     "data": {
      "application/vnd.jupyter.widget-view+json": {
       "model_id": "521fa45d6adb435a93af5b5ac47e2e22",
       "version_major": 2,
       "version_minor": 0
      },
      "text/plain": [
       "Front serial:   0%|          | 0.00/1.00 [00:00<?, ?it/s]"
      ]
     },
     "metadata": {},
     "output_type": "display_data"
    },
    {
     "name": "stderr",
     "output_type": "stream",
     "text": [
      "openscm_runner.adapters.magicc7._magicc_instances - INFO: Creating new magicc instance: (7, 'MainProcess') - /mnt/gaurav/pymagicc-u89qj1i6\n",
      "openscm_runner.adapters.magicc7._run_magicc_parallel - INFO: Setting up MAGICC worker in /mnt/gaurav/pymagicc-u89qj1i6\n",
      "openscm_runner.adapters.magicc7._run_magicc_parallel - INFO: Writing Pymagicc compatible MAGCFG_USER.CFG in /mnt/gaurav/pymagicc-u89qj1i6/run\n",
      "/home/gaurav/.conda/envs/cdr_climate_uncertainty/lib/python3.10/site-packages/pymagicc/core.py:387: UserWarning: Not reading file: DAT_HEATCONT_EBALANCE_SUBANN.BINOUT. Monthly data are not read in automatically by `run`. Use `MAGICCData` instead.\n",
      "  warnings.warn(\n",
      "/home/gaurav/.conda/envs/cdr_climate_uncertainty/lib/python3.10/site-packages/pymagicc/core.py:387: UserWarning: Not reading file: DAT_HEATUPTK_EBALANCE_SUBANN.BINOUT. Monthly data are not read in automatically by `run`. Use `MAGICCData` instead.\n",
      "  warnings.warn(\n"
     ]
    },
    {
     "data": {
      "application/vnd.jupyter.widget-view+json": {
       "model_id": "0d9d13a33c2f4b4cae1d46f7bde266d8",
       "version_major": 2,
       "version_minor": 0
      },
      "text/plain": [
       "Front parallel: 0.00it [00:00, ?it/s]"
      ]
     },
     "metadata": {},
     "output_type": "display_data"
    },
    {
     "data": {
      "application/vnd.jupyter.widget-view+json": {
       "model_id": "9737776924ee4ee6940d81246e65f3ab",
       "version_major": 2,
       "version_minor": 0
      },
      "text/plain": [
       "Parallel runs: 0.00it [00:00, ?it/s]"
      ]
     },
     "metadata": {},
     "output_type": "display_data"
    },
    {
     "name": "stderr",
     "output_type": "stream",
     "text": [
      "openscm_runner.adapters.magicc7._run_magicc_parallel - INFO: Appending results into a single ScmRun\n",
      "openscm_runner.adapters.magicc7._magicc_instances - INFO: removing /mnt/gaurav/pymagicc-u89qj1i6\n",
      "openscm_runner.adapters.magicc7._run_magicc_parallel - INFO: Shutting down parallel pool\n",
      "openscm_runner.run - INFO: Only one model run, returning its results\n",
      "/home/gaurav/.conda/envs/cdr_climate_uncertainty/lib/python3.10/site-packages/climate_assessment/climate/wg3.py:42: FutureWarning: The default value of regex will change from True to False in a future version.\n",
      "  df_clean[\"variable\"] = df_clean[\"variable\"].str.replace(old, new)\n"
     ]
    },
    {
     "name": "stdout",
     "output_type": "stream",
     "text": [
      "0.4250717645928386 90.57547881428569\n"
     ]
    },
    {
     "data": {
      "application/vnd.jupyter.widget-view+json": {
       "model_id": "5b0d1e0ded3548bea5e02495fc9c48ab",
       "version_major": 2,
       "version_minor": 0
      },
      "text/plain": [
       "Climate models:   0%|          | 0.00/1.00 [00:00<?, ?it/s]"
      ]
     },
     "metadata": {},
     "output_type": "display_data"
    },
    {
     "name": "stderr",
     "output_type": "stream",
     "text": [
      "openscm_runner.adapters.magicc7.magicc7 - WARNING: Historical data has not been checked\n"
     ]
    },
    {
     "data": {
      "application/vnd.jupyter.widget-view+json": {
       "model_id": "aeeb773b615649fa87ce17dd6d07a593",
       "version_major": 2,
       "version_minor": 0
      },
      "text/plain": [
       "Writing SCEN7 files:   0%|          | 0.00/1.00 [00:00<?, ?it/s]"
      ]
     },
     "metadata": {},
     "output_type": "display_data"
    },
    {
     "name": "stderr",
     "output_type": "stream",
     "text": [
      "openscm_runner.adapters.magicc7._run_magicc_parallel - INFO: Entered _parallel_magicc_compact_out\n",
      "openscm_runner.adapters.magicc7._run_magicc_parallel - INFO: Running in parallel with up to 4 workers\n"
     ]
    },
    {
     "data": {
      "application/vnd.jupyter.widget-view+json": {
       "model_id": "33cea1ddfec7486c9b2f4f3bdae40841",
       "version_major": 2,
       "version_minor": 0
      },
      "text/plain": [
       "Front serial:   0%|          | 0.00/1.00 [00:00<?, ?it/s]"
      ]
     },
     "metadata": {},
     "output_type": "display_data"
    },
    {
     "name": "stderr",
     "output_type": "stream",
     "text": [
      "openscm_runner.adapters.magicc7._magicc_instances - INFO: Creating new magicc instance: (7, 'MainProcess') - /mnt/gaurav/pymagicc-bt7uspzh\n",
      "openscm_runner.adapters.magicc7._run_magicc_parallel - INFO: Setting up MAGICC worker in /mnt/gaurav/pymagicc-bt7uspzh\n",
      "openscm_runner.adapters.magicc7._run_magicc_parallel - INFO: Writing Pymagicc compatible MAGCFG_USER.CFG in /mnt/gaurav/pymagicc-bt7uspzh/run\n",
      "/home/gaurav/.conda/envs/cdr_climate_uncertainty/lib/python3.10/site-packages/pymagicc/core.py:387: UserWarning: Not reading file: DAT_HEATCONT_EBALANCE_SUBANN.BINOUT. Monthly data are not read in automatically by `run`. Use `MAGICCData` instead.\n",
      "  warnings.warn(\n",
      "/home/gaurav/.conda/envs/cdr_climate_uncertainty/lib/python3.10/site-packages/pymagicc/core.py:387: UserWarning: Not reading file: DAT_HEATUPTK_EBALANCE_SUBANN.BINOUT. Monthly data are not read in automatically by `run`. Use `MAGICCData` instead.\n",
      "  warnings.warn(\n"
     ]
    },
    {
     "data": {
      "application/vnd.jupyter.widget-view+json": {
       "model_id": "2a747a8d538a4962b00c22603e7af8e4",
       "version_major": 2,
       "version_minor": 0
      },
      "text/plain": [
       "Front parallel: 0.00it [00:00, ?it/s]"
      ]
     },
     "metadata": {},
     "output_type": "display_data"
    },
    {
     "data": {
      "application/vnd.jupyter.widget-view+json": {
       "model_id": "3198657fd98f4f748fc19bc98514e302",
       "version_major": 2,
       "version_minor": 0
      },
      "text/plain": [
       "Parallel runs: 0.00it [00:00, ?it/s]"
      ]
     },
     "metadata": {},
     "output_type": "display_data"
    },
    {
     "name": "stderr",
     "output_type": "stream",
     "text": [
      "openscm_runner.adapters.magicc7._run_magicc_parallel - INFO: Appending results into a single ScmRun\n",
      "openscm_runner.adapters.magicc7._magicc_instances - INFO: removing /mnt/gaurav/pymagicc-bt7uspzh\n",
      "openscm_runner.adapters.magicc7._run_magicc_parallel - INFO: Shutting down parallel pool\n",
      "openscm_runner.run - INFO: Only one model run, returning its results\n"
     ]
    },
    {
     "name": "stdout",
     "output_type": "stream",
     "text": [
      "0.15010343564920792 91.57547881428569\n"
     ]
    }
   ],
   "source": [
    "initial_calibration_set = initial_calibration(\n",
    "    emissions_for_iteration,\n",
    "    novel_cdr_original_filtered,\n",
    "    novel_cdr_for_iteration.angle[0],\n",
    "    current_deviation=deviation,\n",
    ")"
   ]
  },
  {
   "cell_type": "code",
   "execution_count": 35,
   "metadata": {},
   "outputs": [
    {
     "data": {
      "text/html": [
       "<div>\n",
       "<style scoped>\n",
       "    .dataframe tbody tr th:only-of-type {\n",
       "        vertical-align: middle;\n",
       "    }\n",
       "\n",
       "    .dataframe tbody tr th {\n",
       "        vertical-align: top;\n",
       "    }\n",
       "\n",
       "    .dataframe thead th {\n",
       "        text-align: right;\n",
       "    }\n",
       "</style>\n",
       "<table border=\"1\" class=\"dataframe\">\n",
       "  <thead>\n",
       "    <tr style=\"text-align: right;\">\n",
       "      <th></th>\n",
       "      <th>angle</th>\n",
       "      <th>deviation</th>\n",
       "    </tr>\n",
       "  </thead>\n",
       "  <tbody>\n",
       "    <tr>\n",
       "      <th>0</th>\n",
       "      <td>90.075479</td>\n",
       "      <td>0.425072</td>\n",
       "    </tr>\n",
       "    <tr>\n",
       "      <th>1</th>\n",
       "      <td>90.575479</td>\n",
       "      <td>0.150103</td>\n",
       "    </tr>\n",
       "  </tbody>\n",
       "</table>\n",
       "</div>"
      ],
      "text/plain": [
       "       angle  deviation\n",
       "0  90.075479   0.425072\n",
       "1  90.575479   0.150103"
      ]
     },
     "execution_count": 35,
     "metadata": {},
     "output_type": "execute_result"
    }
   ],
   "source": [
    "initial_calibration_set"
   ]
  },
  {
   "cell_type": "code",
   "execution_count": 36,
   "metadata": {},
   "outputs": [],
   "source": [
    "def objective(angle, emissions, cdr_first_guess):\n",
    "    # Step 1: Get the new CDR pathway\n",
    "    new_cdr, _ = rotate_and_calc_cumulative(\n",
    "        cdr_first_guess,\n",
    "        angle\n",
    "    )\n",
    "    # Step 2: Get the new emissions pathway\n",
    "    new_emissions = (\n",
    "        scmdata.ScmRun(\n",
    "            clean_wg3_scenarios(\n",
    "                construct_new_emissions_dataframe(\n",
    "                    emissions,\n",
    "                    process_novel_cdr(new_cdr, cdr_first_guess.meta['netzero|CO2'].values[0])\n",
    "                )        \n",
    "            )\n",
    "        )\n",
    "    )\n",
    "    new_deviation = abs(return_temperature_deviation(new_emissions))\n",
    "    return new_deviation"
   ]
  },
  {
   "cell_type": "code",
   "execution_count": 37,
   "metadata": {},
   "outputs": [
    {
     "data": {
      "text/plain": [
       "89.57547881428569"
      ]
     },
     "execution_count": 37,
     "metadata": {},
     "output_type": "execute_result"
    }
   ],
   "source": [
    "novel_cdr_for_iteration.angle[0]"
   ]
  },
  {
   "cell_type": "code",
   "execution_count": 38,
   "metadata": {},
   "outputs": [],
   "source": [
    "if calibrate_type == 'increase':\n",
    "    try: max_angle = min(90, initial_calibration_set.iloc[-1]['angle'])\n",
    "    except: max_angle=90\n",
    "    bounds = (novel_cdr_for_iteration.angle[0], max_angle)\n",
    "elif calibrate_type == 'reduce':\n",
    "    try: min_angle = max(0, initial_calibration_set.iloc[-1]['angle'])\n",
    "    except: min_angle=0\n",
    "    bounds = (min_angle, novel_cdr_for_iteration.angle[0])\n",
    "elif calibrate_type == 'none':\n",
    "    bounds = (novel_cdr_for_iteration.angle[0], novel_cdr_for_iteration.angle[0]) # Catch the issue where deviation is 0"
   ]
  },
  {
   "cell_type": "code",
   "execution_count": 39,
   "metadata": {},
   "outputs": [
    {
     "data": {
      "text/plain": [
       "(89.57547881428569, 90)"
      ]
     },
     "execution_count": 39,
     "metadata": {},
     "output_type": "execute_result"
    }
   ],
   "source": [
    "bounds"
   ]
  },
  {
   "cell_type": "markdown",
   "metadata": {},
   "source": [
    "try:\n",
    "    max_angle = min(90, initial_calibration_set.iloc[-1]['angle'])\n",
    "except: max_angle=90"
   ]
  },
  {
   "cell_type": "code",
   "execution_count": 40,
   "metadata": {},
   "outputs": [
    {
     "name": "stderr",
     "output_type": "stream",
     "text": [
      "/home/gaurav/.conda/envs/cdr_climate_uncertainty/lib/python3.10/site-packages/climate_assessment/climate/wg3.py:42: FutureWarning: The default value of regex will change from True to False in a future version.\n",
      "  df_clean[\"variable\"] = df_clean[\"variable\"].str.replace(old, new)\n"
     ]
    },
    {
     "data": {
      "application/vnd.jupyter.widget-view+json": {
       "model_id": "50e15677853f463cba53dc593eaa055a",
       "version_major": 2,
       "version_minor": 0
      },
      "text/plain": [
       "Climate models:   0%|          | 0.00/1.00 [00:00<?, ?it/s]"
      ]
     },
     "metadata": {},
     "output_type": "display_data"
    },
    {
     "name": "stderr",
     "output_type": "stream",
     "text": [
      "openscm_runner.adapters.magicc7.magicc7 - WARNING: Historical data has not been checked\n"
     ]
    },
    {
     "data": {
      "application/vnd.jupyter.widget-view+json": {
       "model_id": "c10b9c1842ce4b14b5e7abceccb0b3fe",
       "version_major": 2,
       "version_minor": 0
      },
      "text/plain": [
       "Writing SCEN7 files:   0%|          | 0.00/1.00 [00:00<?, ?it/s]"
      ]
     },
     "metadata": {},
     "output_type": "display_data"
    },
    {
     "name": "stderr",
     "output_type": "stream",
     "text": [
      "openscm_runner.adapters.magicc7._run_magicc_parallel - INFO: Entered _parallel_magicc_compact_out\n",
      "openscm_runner.adapters.magicc7._run_magicc_parallel - INFO: Running in parallel with up to 4 workers\n"
     ]
    },
    {
     "data": {
      "application/vnd.jupyter.widget-view+json": {
       "model_id": "b6c8bea9a19248eca8d7ea65afb7e331",
       "version_major": 2,
       "version_minor": 0
      },
      "text/plain": [
       "Front serial:   0%|          | 0.00/1.00 [00:00<?, ?it/s]"
      ]
     },
     "metadata": {},
     "output_type": "display_data"
    },
    {
     "name": "stderr",
     "output_type": "stream",
     "text": [
      "openscm_runner.adapters.magicc7._magicc_instances - INFO: Creating new magicc instance: (7, 'MainProcess') - /mnt/gaurav/pymagicc-k8_nc92q\n",
      "openscm_runner.adapters.magicc7._run_magicc_parallel - INFO: Setting up MAGICC worker in /mnt/gaurav/pymagicc-k8_nc92q\n",
      "openscm_runner.adapters.magicc7._run_magicc_parallel - INFO: Writing Pymagicc compatible MAGCFG_USER.CFG in /mnt/gaurav/pymagicc-k8_nc92q/run\n",
      "/home/gaurav/.conda/envs/cdr_climate_uncertainty/lib/python3.10/site-packages/pymagicc/core.py:387: UserWarning: Not reading file: DAT_HEATCONT_EBALANCE_SUBANN.BINOUT. Monthly data are not read in automatically by `run`. Use `MAGICCData` instead.\n",
      "  warnings.warn(\n",
      "/home/gaurav/.conda/envs/cdr_climate_uncertainty/lib/python3.10/site-packages/pymagicc/core.py:387: UserWarning: Not reading file: DAT_HEATUPTK_EBALANCE_SUBANN.BINOUT. Monthly data are not read in automatically by `run`. Use `MAGICCData` instead.\n",
      "  warnings.warn(\n"
     ]
    },
    {
     "data": {
      "application/vnd.jupyter.widget-view+json": {
       "model_id": "1a899ab914334c7096b13fed1a919247",
       "version_major": 2,
       "version_minor": 0
      },
      "text/plain": [
       "Front parallel: 0.00it [00:00, ?it/s]"
      ]
     },
     "metadata": {},
     "output_type": "display_data"
    },
    {
     "data": {
      "application/vnd.jupyter.widget-view+json": {
       "model_id": "2f830f53ca5844d4bf828a9f6392b6c2",
       "version_major": 2,
       "version_minor": 0
      },
      "text/plain": [
       "Parallel runs: 0.00it [00:00, ?it/s]"
      ]
     },
     "metadata": {},
     "output_type": "display_data"
    },
    {
     "name": "stderr",
     "output_type": "stream",
     "text": [
      "openscm_runner.adapters.magicc7._run_magicc_parallel - INFO: Appending results into a single ScmRun\n",
      "openscm_runner.adapters.magicc7._magicc_instances - INFO: removing /mnt/gaurav/pymagicc-k8_nc92q\n",
      "openscm_runner.adapters.magicc7._run_magicc_parallel - INFO: Shutting down parallel pool\n",
      "openscm_runner.run - INFO: Only one model run, returning its results\n",
      "/home/gaurav/.conda/envs/cdr_climate_uncertainty/lib/python3.10/site-packages/climate_assessment/climate/wg3.py:42: FutureWarning: The default value of regex will change from True to False in a future version.\n",
      "  df_clean[\"variable\"] = df_clean[\"variable\"].str.replace(old, new)\n"
     ]
    },
    {
     "data": {
      "application/vnd.jupyter.widget-view+json": {
       "model_id": "d4c7a5dd30dd426ea333e00b1ae7b904",
       "version_major": 2,
       "version_minor": 0
      },
      "text/plain": [
       "Climate models:   0%|          | 0.00/1.00 [00:00<?, ?it/s]"
      ]
     },
     "metadata": {},
     "output_type": "display_data"
    },
    {
     "name": "stderr",
     "output_type": "stream",
     "text": [
      "openscm_runner.adapters.magicc7.magicc7 - WARNING: Historical data has not been checked\n"
     ]
    },
    {
     "data": {
      "application/vnd.jupyter.widget-view+json": {
       "model_id": "64470ae77ebb49078977a1b2996461b0",
       "version_major": 2,
       "version_minor": 0
      },
      "text/plain": [
       "Writing SCEN7 files:   0%|          | 0.00/1.00 [00:00<?, ?it/s]"
      ]
     },
     "metadata": {},
     "output_type": "display_data"
    },
    {
     "name": "stderr",
     "output_type": "stream",
     "text": [
      "openscm_runner.adapters.magicc7._run_magicc_parallel - INFO: Entered _parallel_magicc_compact_out\n",
      "openscm_runner.adapters.magicc7._run_magicc_parallel - INFO: Running in parallel with up to 4 workers\n"
     ]
    },
    {
     "data": {
      "application/vnd.jupyter.widget-view+json": {
       "model_id": "0abf1220e08f4bb0aaf00671b95fc6c8",
       "version_major": 2,
       "version_minor": 0
      },
      "text/plain": [
       "Front serial:   0%|          | 0.00/1.00 [00:00<?, ?it/s]"
      ]
     },
     "metadata": {},
     "output_type": "display_data"
    },
    {
     "name": "stderr",
     "output_type": "stream",
     "text": [
      "openscm_runner.adapters.magicc7._magicc_instances - INFO: Creating new magicc instance: (7, 'MainProcess') - /mnt/gaurav/pymagicc-surnqjo2\n",
      "openscm_runner.adapters.magicc7._run_magicc_parallel - INFO: Setting up MAGICC worker in /mnt/gaurav/pymagicc-surnqjo2\n",
      "openscm_runner.adapters.magicc7._run_magicc_parallel - INFO: Writing Pymagicc compatible MAGCFG_USER.CFG in /mnt/gaurav/pymagicc-surnqjo2/run\n",
      "/home/gaurav/.conda/envs/cdr_climate_uncertainty/lib/python3.10/site-packages/pymagicc/core.py:387: UserWarning: Not reading file: DAT_HEATCONT_EBALANCE_SUBANN.BINOUT. Monthly data are not read in automatically by `run`. Use `MAGICCData` instead.\n",
      "  warnings.warn(\n",
      "/home/gaurav/.conda/envs/cdr_climate_uncertainty/lib/python3.10/site-packages/pymagicc/core.py:387: UserWarning: Not reading file: DAT_HEATUPTK_EBALANCE_SUBANN.BINOUT. Monthly data are not read in automatically by `run`. Use `MAGICCData` instead.\n",
      "  warnings.warn(\n"
     ]
    },
    {
     "data": {
      "application/vnd.jupyter.widget-view+json": {
       "model_id": "79c42fc002f049168e4b6e20557a66fa",
       "version_major": 2,
       "version_minor": 0
      },
      "text/plain": [
       "Front parallel: 0.00it [00:00, ?it/s]"
      ]
     },
     "metadata": {},
     "output_type": "display_data"
    },
    {
     "data": {
      "application/vnd.jupyter.widget-view+json": {
       "model_id": "eb24ea85ea3d44b28146e69db09aee94",
       "version_major": 2,
       "version_minor": 0
      },
      "text/plain": [
       "Parallel runs: 0.00it [00:00, ?it/s]"
      ]
     },
     "metadata": {},
     "output_type": "display_data"
    },
    {
     "name": "stderr",
     "output_type": "stream",
     "text": [
      "openscm_runner.adapters.magicc7._run_magicc_parallel - INFO: Appending results into a single ScmRun\n",
      "openscm_runner.adapters.magicc7._magicc_instances - INFO: removing /mnt/gaurav/pymagicc-surnqjo2\n",
      "openscm_runner.adapters.magicc7._run_magicc_parallel - INFO: Shutting down parallel pool\n",
      "openscm_runner.run - INFO: Only one model run, returning its results\n",
      "/home/gaurav/.conda/envs/cdr_climate_uncertainty/lib/python3.10/site-packages/climate_assessment/climate/wg3.py:42: FutureWarning: The default value of regex will change from True to False in a future version.\n",
      "  df_clean[\"variable\"] = df_clean[\"variable\"].str.replace(old, new)\n"
     ]
    },
    {
     "data": {
      "application/vnd.jupyter.widget-view+json": {
       "model_id": "dac387c1665745eea168e98691d955b3",
       "version_major": 2,
       "version_minor": 0
      },
      "text/plain": [
       "Climate models:   0%|          | 0.00/1.00 [00:00<?, ?it/s]"
      ]
     },
     "metadata": {},
     "output_type": "display_data"
    },
    {
     "name": "stderr",
     "output_type": "stream",
     "text": [
      "openscm_runner.adapters.magicc7.magicc7 - WARNING: Historical data has not been checked\n"
     ]
    },
    {
     "data": {
      "application/vnd.jupyter.widget-view+json": {
       "model_id": "79d28ee4539644a38a15d62d890f8c30",
       "version_major": 2,
       "version_minor": 0
      },
      "text/plain": [
       "Writing SCEN7 files:   0%|          | 0.00/1.00 [00:00<?, ?it/s]"
      ]
     },
     "metadata": {},
     "output_type": "display_data"
    },
    {
     "name": "stderr",
     "output_type": "stream",
     "text": [
      "openscm_runner.adapters.magicc7._run_magicc_parallel - INFO: Entered _parallel_magicc_compact_out\n",
      "openscm_runner.adapters.magicc7._run_magicc_parallel - INFO: Running in parallel with up to 4 workers\n"
     ]
    },
    {
     "data": {
      "application/vnd.jupyter.widget-view+json": {
       "model_id": "16b69116f9ca42b8b7344abb9765891d",
       "version_major": 2,
       "version_minor": 0
      },
      "text/plain": [
       "Front serial:   0%|          | 0.00/1.00 [00:00<?, ?it/s]"
      ]
     },
     "metadata": {},
     "output_type": "display_data"
    },
    {
     "name": "stderr",
     "output_type": "stream",
     "text": [
      "openscm_runner.adapters.magicc7._magicc_instances - INFO: Creating new magicc instance: (7, 'MainProcess') - /mnt/gaurav/pymagicc-3zpvxb69\n",
      "openscm_runner.adapters.magicc7._run_magicc_parallel - INFO: Setting up MAGICC worker in /mnt/gaurav/pymagicc-3zpvxb69\n",
      "openscm_runner.adapters.magicc7._run_magicc_parallel - INFO: Writing Pymagicc compatible MAGCFG_USER.CFG in /mnt/gaurav/pymagicc-3zpvxb69/run\n",
      "/home/gaurav/.conda/envs/cdr_climate_uncertainty/lib/python3.10/site-packages/pymagicc/core.py:387: UserWarning: Not reading file: DAT_HEATCONT_EBALANCE_SUBANN.BINOUT. Monthly data are not read in automatically by `run`. Use `MAGICCData` instead.\n",
      "  warnings.warn(\n",
      "/home/gaurav/.conda/envs/cdr_climate_uncertainty/lib/python3.10/site-packages/pymagicc/core.py:387: UserWarning: Not reading file: DAT_HEATUPTK_EBALANCE_SUBANN.BINOUT. Monthly data are not read in automatically by `run`. Use `MAGICCData` instead.\n",
      "  warnings.warn(\n"
     ]
    },
    {
     "data": {
      "application/vnd.jupyter.widget-view+json": {
       "model_id": "e481184c4708414d9717b3d5d0e9391d",
       "version_major": 2,
       "version_minor": 0
      },
      "text/plain": [
       "Front parallel: 0.00it [00:00, ?it/s]"
      ]
     },
     "metadata": {},
     "output_type": "display_data"
    },
    {
     "data": {
      "application/vnd.jupyter.widget-view+json": {
       "model_id": "52c1bfa7637043e0b651c64b18061225",
       "version_major": 2,
       "version_minor": 0
      },
      "text/plain": [
       "Parallel runs: 0.00it [00:00, ?it/s]"
      ]
     },
     "metadata": {},
     "output_type": "display_data"
    },
    {
     "name": "stderr",
     "output_type": "stream",
     "text": [
      "openscm_runner.adapters.magicc7._run_magicc_parallel - INFO: Appending results into a single ScmRun\n",
      "openscm_runner.adapters.magicc7._magicc_instances - INFO: removing /mnt/gaurav/pymagicc-3zpvxb69\n",
      "openscm_runner.adapters.magicc7._run_magicc_parallel - INFO: Shutting down parallel pool\n",
      "openscm_runner.run - INFO: Only one model run, returning its results\n",
      "/home/gaurav/.conda/envs/cdr_climate_uncertainty/lib/python3.10/site-packages/climate_assessment/climate/wg3.py:42: FutureWarning: The default value of regex will change from True to False in a future version.\n",
      "  df_clean[\"variable\"] = df_clean[\"variable\"].str.replace(old, new)\n"
     ]
    },
    {
     "data": {
      "application/vnd.jupyter.widget-view+json": {
       "model_id": "1f7c0df666f84a1cb24fffaf38b7cf82",
       "version_major": 2,
       "version_minor": 0
      },
      "text/plain": [
       "Climate models:   0%|          | 0.00/1.00 [00:00<?, ?it/s]"
      ]
     },
     "metadata": {},
     "output_type": "display_data"
    },
    {
     "name": "stderr",
     "output_type": "stream",
     "text": [
      "openscm_runner.adapters.magicc7.magicc7 - WARNING: Historical data has not been checked\n"
     ]
    },
    {
     "data": {
      "application/vnd.jupyter.widget-view+json": {
       "model_id": "a3cd3a6239fc437788132573396df20d",
       "version_major": 2,
       "version_minor": 0
      },
      "text/plain": [
       "Writing SCEN7 files:   0%|          | 0.00/1.00 [00:00<?, ?it/s]"
      ]
     },
     "metadata": {},
     "output_type": "display_data"
    },
    {
     "name": "stderr",
     "output_type": "stream",
     "text": [
      "openscm_runner.adapters.magicc7._run_magicc_parallel - INFO: Entered _parallel_magicc_compact_out\n",
      "openscm_runner.adapters.magicc7._run_magicc_parallel - INFO: Running in parallel with up to 4 workers\n"
     ]
    },
    {
     "data": {
      "application/vnd.jupyter.widget-view+json": {
       "model_id": "68d99162d1f74dcc8e1d610a19df61b8",
       "version_major": 2,
       "version_minor": 0
      },
      "text/plain": [
       "Front serial:   0%|          | 0.00/1.00 [00:00<?, ?it/s]"
      ]
     },
     "metadata": {},
     "output_type": "display_data"
    },
    {
     "name": "stderr",
     "output_type": "stream",
     "text": [
      "openscm_runner.adapters.magicc7._magicc_instances - INFO: Creating new magicc instance: (7, 'MainProcess') - /mnt/gaurav/pymagicc-sb75hf_6\n",
      "openscm_runner.adapters.magicc7._run_magicc_parallel - INFO: Setting up MAGICC worker in /mnt/gaurav/pymagicc-sb75hf_6\n",
      "openscm_runner.adapters.magicc7._run_magicc_parallel - INFO: Writing Pymagicc compatible MAGCFG_USER.CFG in /mnt/gaurav/pymagicc-sb75hf_6/run\n",
      "/home/gaurav/.conda/envs/cdr_climate_uncertainty/lib/python3.10/site-packages/pymagicc/core.py:387: UserWarning: Not reading file: DAT_HEATCONT_EBALANCE_SUBANN.BINOUT. Monthly data are not read in automatically by `run`. Use `MAGICCData` instead.\n",
      "  warnings.warn(\n",
      "/home/gaurav/.conda/envs/cdr_climate_uncertainty/lib/python3.10/site-packages/pymagicc/core.py:387: UserWarning: Not reading file: DAT_HEATUPTK_EBALANCE_SUBANN.BINOUT. Monthly data are not read in automatically by `run`. Use `MAGICCData` instead.\n",
      "  warnings.warn(\n"
     ]
    },
    {
     "data": {
      "application/vnd.jupyter.widget-view+json": {
       "model_id": "f879dd2f204743f491e726a3c607ee1d",
       "version_major": 2,
       "version_minor": 0
      },
      "text/plain": [
       "Front parallel: 0.00it [00:00, ?it/s]"
      ]
     },
     "metadata": {},
     "output_type": "display_data"
    },
    {
     "data": {
      "application/vnd.jupyter.widget-view+json": {
       "model_id": "a02e4c9face047a6ab317bb047bb153c",
       "version_major": 2,
       "version_minor": 0
      },
      "text/plain": [
       "Parallel runs: 0.00it [00:00, ?it/s]"
      ]
     },
     "metadata": {},
     "output_type": "display_data"
    },
    {
     "name": "stderr",
     "output_type": "stream",
     "text": [
      "openscm_runner.adapters.magicc7._run_magicc_parallel - INFO: Appending results into a single ScmRun\n",
      "openscm_runner.adapters.magicc7._magicc_instances - INFO: removing /mnt/gaurav/pymagicc-sb75hf_6\n",
      "openscm_runner.adapters.magicc7._run_magicc_parallel - INFO: Shutting down parallel pool\n",
      "openscm_runner.run - INFO: Only one model run, returning its results\n",
      "/home/gaurav/.conda/envs/cdr_climate_uncertainty/lib/python3.10/site-packages/climate_assessment/climate/wg3.py:42: FutureWarning: The default value of regex will change from True to False in a future version.\n",
      "  df_clean[\"variable\"] = df_clean[\"variable\"].str.replace(old, new)\n"
     ]
    },
    {
     "data": {
      "application/vnd.jupyter.widget-view+json": {
       "model_id": "4eadf3a540b84c8387a92ea0adef2bcb",
       "version_major": 2,
       "version_minor": 0
      },
      "text/plain": [
       "Climate models:   0%|          | 0.00/1.00 [00:00<?, ?it/s]"
      ]
     },
     "metadata": {},
     "output_type": "display_data"
    },
    {
     "name": "stderr",
     "output_type": "stream",
     "text": [
      "openscm_runner.adapters.magicc7.magicc7 - WARNING: Historical data has not been checked\n"
     ]
    },
    {
     "data": {
      "application/vnd.jupyter.widget-view+json": {
       "model_id": "c2f8201db38648efa7a7d5213e0fb5ee",
       "version_major": 2,
       "version_minor": 0
      },
      "text/plain": [
       "Writing SCEN7 files:   0%|          | 0.00/1.00 [00:00<?, ?it/s]"
      ]
     },
     "metadata": {},
     "output_type": "display_data"
    },
    {
     "name": "stderr",
     "output_type": "stream",
     "text": [
      "openscm_runner.adapters.magicc7._run_magicc_parallel - INFO: Entered _parallel_magicc_compact_out\n",
      "openscm_runner.adapters.magicc7._run_magicc_parallel - INFO: Running in parallel with up to 4 workers\n"
     ]
    },
    {
     "data": {
      "application/vnd.jupyter.widget-view+json": {
       "model_id": "c6c52d6389664d459beb28d8d5b86f1a",
       "version_major": 2,
       "version_minor": 0
      },
      "text/plain": [
       "Front serial:   0%|          | 0.00/1.00 [00:00<?, ?it/s]"
      ]
     },
     "metadata": {},
     "output_type": "display_data"
    },
    {
     "name": "stderr",
     "output_type": "stream",
     "text": [
      "openscm_runner.adapters.magicc7._magicc_instances - INFO: Creating new magicc instance: (7, 'MainProcess') - /mnt/gaurav/pymagicc-z7943j_1\n",
      "openscm_runner.adapters.magicc7._run_magicc_parallel - INFO: Setting up MAGICC worker in /mnt/gaurav/pymagicc-z7943j_1\n",
      "openscm_runner.adapters.magicc7._run_magicc_parallel - INFO: Writing Pymagicc compatible MAGCFG_USER.CFG in /mnt/gaurav/pymagicc-z7943j_1/run\n",
      "/home/gaurav/.conda/envs/cdr_climate_uncertainty/lib/python3.10/site-packages/pymagicc/core.py:387: UserWarning: Not reading file: DAT_HEATCONT_EBALANCE_SUBANN.BINOUT. Monthly data are not read in automatically by `run`. Use `MAGICCData` instead.\n",
      "  warnings.warn(\n",
      "/home/gaurav/.conda/envs/cdr_climate_uncertainty/lib/python3.10/site-packages/pymagicc/core.py:387: UserWarning: Not reading file: DAT_HEATUPTK_EBALANCE_SUBANN.BINOUT. Monthly data are not read in automatically by `run`. Use `MAGICCData` instead.\n",
      "  warnings.warn(\n"
     ]
    },
    {
     "data": {
      "application/vnd.jupyter.widget-view+json": {
       "model_id": "8d0f7a661ab2497abf50cc082acf8b22",
       "version_major": 2,
       "version_minor": 0
      },
      "text/plain": [
       "Front parallel: 0.00it [00:00, ?it/s]"
      ]
     },
     "metadata": {},
     "output_type": "display_data"
    },
    {
     "data": {
      "application/vnd.jupyter.widget-view+json": {
       "model_id": "7aa68c1d1d504db2b7f30c0e83093de9",
       "version_major": 2,
       "version_minor": 0
      },
      "text/plain": [
       "Parallel runs: 0.00it [00:00, ?it/s]"
      ]
     },
     "metadata": {},
     "output_type": "display_data"
    },
    {
     "name": "stderr",
     "output_type": "stream",
     "text": [
      "openscm_runner.adapters.magicc7._run_magicc_parallel - INFO: Appending results into a single ScmRun\n",
      "openscm_runner.adapters.magicc7._magicc_instances - INFO: removing /mnt/gaurav/pymagicc-z7943j_1\n",
      "openscm_runner.adapters.magicc7._run_magicc_parallel - INFO: Shutting down parallel pool\n",
      "openscm_runner.run - INFO: Only one model run, returning its results\n",
      "/home/gaurav/.conda/envs/cdr_climate_uncertainty/lib/python3.10/site-packages/climate_assessment/climate/wg3.py:42: FutureWarning: The default value of regex will change from True to False in a future version.\n",
      "  df_clean[\"variable\"] = df_clean[\"variable\"].str.replace(old, new)\n"
     ]
    },
    {
     "data": {
      "application/vnd.jupyter.widget-view+json": {
       "model_id": "5cd12b61d6854a7792f099ce753d6d14",
       "version_major": 2,
       "version_minor": 0
      },
      "text/plain": [
       "Climate models:   0%|          | 0.00/1.00 [00:00<?, ?it/s]"
      ]
     },
     "metadata": {},
     "output_type": "display_data"
    },
    {
     "name": "stderr",
     "output_type": "stream",
     "text": [
      "openscm_runner.adapters.magicc7.magicc7 - WARNING: Historical data has not been checked\n"
     ]
    },
    {
     "data": {
      "application/vnd.jupyter.widget-view+json": {
       "model_id": "d5da74a61189455596ddcd2ff7989a1d",
       "version_major": 2,
       "version_minor": 0
      },
      "text/plain": [
       "Writing SCEN7 files:   0%|          | 0.00/1.00 [00:00<?, ?it/s]"
      ]
     },
     "metadata": {},
     "output_type": "display_data"
    },
    {
     "name": "stderr",
     "output_type": "stream",
     "text": [
      "openscm_runner.adapters.magicc7._run_magicc_parallel - INFO: Entered _parallel_magicc_compact_out\n",
      "openscm_runner.adapters.magicc7._run_magicc_parallel - INFO: Running in parallel with up to 4 workers\n"
     ]
    },
    {
     "data": {
      "application/vnd.jupyter.widget-view+json": {
       "model_id": "5c8797391353473780bd36b3a2c0b278",
       "version_major": 2,
       "version_minor": 0
      },
      "text/plain": [
       "Front serial:   0%|          | 0.00/1.00 [00:00<?, ?it/s]"
      ]
     },
     "metadata": {},
     "output_type": "display_data"
    },
    {
     "name": "stderr",
     "output_type": "stream",
     "text": [
      "openscm_runner.adapters.magicc7._magicc_instances - INFO: Creating new magicc instance: (7, 'MainProcess') - /mnt/gaurav/pymagicc-3b5gm6iu\n",
      "openscm_runner.adapters.magicc7._run_magicc_parallel - INFO: Setting up MAGICC worker in /mnt/gaurav/pymagicc-3b5gm6iu\n",
      "openscm_runner.adapters.magicc7._run_magicc_parallel - INFO: Writing Pymagicc compatible MAGCFG_USER.CFG in /mnt/gaurav/pymagicc-3b5gm6iu/run\n",
      "/home/gaurav/.conda/envs/cdr_climate_uncertainty/lib/python3.10/site-packages/pymagicc/core.py:387: UserWarning: Not reading file: DAT_HEATCONT_EBALANCE_SUBANN.BINOUT. Monthly data are not read in automatically by `run`. Use `MAGICCData` instead.\n",
      "  warnings.warn(\n",
      "/home/gaurav/.conda/envs/cdr_climate_uncertainty/lib/python3.10/site-packages/pymagicc/core.py:387: UserWarning: Not reading file: DAT_HEATUPTK_EBALANCE_SUBANN.BINOUT. Monthly data are not read in automatically by `run`. Use `MAGICCData` instead.\n",
      "  warnings.warn(\n"
     ]
    },
    {
     "data": {
      "application/vnd.jupyter.widget-view+json": {
       "model_id": "f6e48314c40647fd98f9ff5bacbec9da",
       "version_major": 2,
       "version_minor": 0
      },
      "text/plain": [
       "Front parallel: 0.00it [00:00, ?it/s]"
      ]
     },
     "metadata": {},
     "output_type": "display_data"
    },
    {
     "data": {
      "application/vnd.jupyter.widget-view+json": {
       "model_id": "f3397812192c4a0e9a308005d9830b59",
       "version_major": 2,
       "version_minor": 0
      },
      "text/plain": [
       "Parallel runs: 0.00it [00:00, ?it/s]"
      ]
     },
     "metadata": {},
     "output_type": "display_data"
    },
    {
     "name": "stderr",
     "output_type": "stream",
     "text": [
      "openscm_runner.adapters.magicc7._run_magicc_parallel - INFO: Appending results into a single ScmRun\n",
      "openscm_runner.adapters.magicc7._magicc_instances - INFO: removing /mnt/gaurav/pymagicc-3b5gm6iu\n",
      "openscm_runner.adapters.magicc7._run_magicc_parallel - INFO: Shutting down parallel pool\n",
      "openscm_runner.run - INFO: Only one model run, returning its results\n",
      "/home/gaurav/.conda/envs/cdr_climate_uncertainty/lib/python3.10/site-packages/climate_assessment/climate/wg3.py:42: FutureWarning: The default value of regex will change from True to False in a future version.\n",
      "  df_clean[\"variable\"] = df_clean[\"variable\"].str.replace(old, new)\n"
     ]
    },
    {
     "data": {
      "application/vnd.jupyter.widget-view+json": {
       "model_id": "c28560b161d041d7b60a9a820405f536",
       "version_major": 2,
       "version_minor": 0
      },
      "text/plain": [
       "Climate models:   0%|          | 0.00/1.00 [00:00<?, ?it/s]"
      ]
     },
     "metadata": {},
     "output_type": "display_data"
    },
    {
     "name": "stderr",
     "output_type": "stream",
     "text": [
      "openscm_runner.adapters.magicc7.magicc7 - WARNING: Historical data has not been checked\n"
     ]
    },
    {
     "data": {
      "application/vnd.jupyter.widget-view+json": {
       "model_id": "98754c5045e645b89b4122f59565d1db",
       "version_major": 2,
       "version_minor": 0
      },
      "text/plain": [
       "Writing SCEN7 files:   0%|          | 0.00/1.00 [00:00<?, ?it/s]"
      ]
     },
     "metadata": {},
     "output_type": "display_data"
    },
    {
     "name": "stderr",
     "output_type": "stream",
     "text": [
      "openscm_runner.adapters.magicc7._run_magicc_parallel - INFO: Entered _parallel_magicc_compact_out\n",
      "openscm_runner.adapters.magicc7._run_magicc_parallel - INFO: Running in parallel with up to 4 workers\n"
     ]
    },
    {
     "data": {
      "application/vnd.jupyter.widget-view+json": {
       "model_id": "8e20da9e8eb842b9bb37046e5ccb0ef3",
       "version_major": 2,
       "version_minor": 0
      },
      "text/plain": [
       "Front serial:   0%|          | 0.00/1.00 [00:00<?, ?it/s]"
      ]
     },
     "metadata": {},
     "output_type": "display_data"
    },
    {
     "name": "stderr",
     "output_type": "stream",
     "text": [
      "openscm_runner.adapters.magicc7._magicc_instances - INFO: Creating new magicc instance: (7, 'MainProcess') - /mnt/gaurav/pymagicc-5fhzd07g\n",
      "openscm_runner.adapters.magicc7._run_magicc_parallel - INFO: Setting up MAGICC worker in /mnt/gaurav/pymagicc-5fhzd07g\n",
      "openscm_runner.adapters.magicc7._run_magicc_parallel - INFO: Writing Pymagicc compatible MAGCFG_USER.CFG in /mnt/gaurav/pymagicc-5fhzd07g/run\n",
      "/home/gaurav/.conda/envs/cdr_climate_uncertainty/lib/python3.10/site-packages/pymagicc/core.py:387: UserWarning: Not reading file: DAT_HEATCONT_EBALANCE_SUBANN.BINOUT. Monthly data are not read in automatically by `run`. Use `MAGICCData` instead.\n",
      "  warnings.warn(\n",
      "/home/gaurav/.conda/envs/cdr_climate_uncertainty/lib/python3.10/site-packages/pymagicc/core.py:387: UserWarning: Not reading file: DAT_HEATUPTK_EBALANCE_SUBANN.BINOUT. Monthly data are not read in automatically by `run`. Use `MAGICCData` instead.\n",
      "  warnings.warn(\n"
     ]
    },
    {
     "data": {
      "application/vnd.jupyter.widget-view+json": {
       "model_id": "29aaabbf883143a69c8d66188a2263ba",
       "version_major": 2,
       "version_minor": 0
      },
      "text/plain": [
       "Front parallel: 0.00it [00:00, ?it/s]"
      ]
     },
     "metadata": {},
     "output_type": "display_data"
    },
    {
     "data": {
      "application/vnd.jupyter.widget-view+json": {
       "model_id": "3034da8cc17c4ad593618f22497cb169",
       "version_major": 2,
       "version_minor": 0
      },
      "text/plain": [
       "Parallel runs: 0.00it [00:00, ?it/s]"
      ]
     },
     "metadata": {},
     "output_type": "display_data"
    },
    {
     "name": "stderr",
     "output_type": "stream",
     "text": [
      "openscm_runner.adapters.magicc7._run_magicc_parallel - INFO: Appending results into a single ScmRun\n",
      "openscm_runner.adapters.magicc7._magicc_instances - INFO: removing /mnt/gaurav/pymagicc-5fhzd07g\n",
      "openscm_runner.adapters.magicc7._run_magicc_parallel - INFO: Shutting down parallel pool\n",
      "openscm_runner.run - INFO: Only one model run, returning its results\n",
      "/home/gaurav/.conda/envs/cdr_climate_uncertainty/lib/python3.10/site-packages/climate_assessment/climate/wg3.py:42: FutureWarning: The default value of regex will change from True to False in a future version.\n",
      "  df_clean[\"variable\"] = df_clean[\"variable\"].str.replace(old, new)\n"
     ]
    },
    {
     "data": {
      "application/vnd.jupyter.widget-view+json": {
       "model_id": "f4b07964116b453ca3394ca982315590",
       "version_major": 2,
       "version_minor": 0
      },
      "text/plain": [
       "Climate models:   0%|          | 0.00/1.00 [00:00<?, ?it/s]"
      ]
     },
     "metadata": {},
     "output_type": "display_data"
    },
    {
     "name": "stderr",
     "output_type": "stream",
     "text": [
      "openscm_runner.adapters.magicc7.magicc7 - WARNING: Historical data has not been checked\n"
     ]
    },
    {
     "data": {
      "application/vnd.jupyter.widget-view+json": {
       "model_id": "843c435897b84c5aa8eaa18dde2df179",
       "version_major": 2,
       "version_minor": 0
      },
      "text/plain": [
       "Writing SCEN7 files:   0%|          | 0.00/1.00 [00:00<?, ?it/s]"
      ]
     },
     "metadata": {},
     "output_type": "display_data"
    },
    {
     "name": "stderr",
     "output_type": "stream",
     "text": [
      "openscm_runner.adapters.magicc7._run_magicc_parallel - INFO: Entered _parallel_magicc_compact_out\n",
      "openscm_runner.adapters.magicc7._run_magicc_parallel - INFO: Running in parallel with up to 4 workers\n"
     ]
    },
    {
     "data": {
      "application/vnd.jupyter.widget-view+json": {
       "model_id": "cfcbe69a18b041d1af6506a8e0e7e0c8",
       "version_major": 2,
       "version_minor": 0
      },
      "text/plain": [
       "Front serial:   0%|          | 0.00/1.00 [00:00<?, ?it/s]"
      ]
     },
     "metadata": {},
     "output_type": "display_data"
    },
    {
     "name": "stderr",
     "output_type": "stream",
     "text": [
      "openscm_runner.adapters.magicc7._magicc_instances - INFO: Creating new magicc instance: (7, 'MainProcess') - /mnt/gaurav/pymagicc-5mkk4bjk\n",
      "openscm_runner.adapters.magicc7._run_magicc_parallel - INFO: Setting up MAGICC worker in /mnt/gaurav/pymagicc-5mkk4bjk\n",
      "openscm_runner.adapters.magicc7._run_magicc_parallel - INFO: Writing Pymagicc compatible MAGCFG_USER.CFG in /mnt/gaurav/pymagicc-5mkk4bjk/run\n",
      "/home/gaurav/.conda/envs/cdr_climate_uncertainty/lib/python3.10/site-packages/pymagicc/core.py:387: UserWarning: Not reading file: DAT_HEATCONT_EBALANCE_SUBANN.BINOUT. Monthly data are not read in automatically by `run`. Use `MAGICCData` instead.\n",
      "  warnings.warn(\n",
      "/home/gaurav/.conda/envs/cdr_climate_uncertainty/lib/python3.10/site-packages/pymagicc/core.py:387: UserWarning: Not reading file: DAT_HEATUPTK_EBALANCE_SUBANN.BINOUT. Monthly data are not read in automatically by `run`. Use `MAGICCData` instead.\n",
      "  warnings.warn(\n"
     ]
    },
    {
     "data": {
      "application/vnd.jupyter.widget-view+json": {
       "model_id": "8d5b1f1888da41d799b285ae9b41bb7e",
       "version_major": 2,
       "version_minor": 0
      },
      "text/plain": [
       "Front parallel: 0.00it [00:00, ?it/s]"
      ]
     },
     "metadata": {},
     "output_type": "display_data"
    },
    {
     "data": {
      "application/vnd.jupyter.widget-view+json": {
       "model_id": "c32749527fc444fca1ff782d97167804",
       "version_major": 2,
       "version_minor": 0
      },
      "text/plain": [
       "Parallel runs: 0.00it [00:00, ?it/s]"
      ]
     },
     "metadata": {},
     "output_type": "display_data"
    },
    {
     "name": "stderr",
     "output_type": "stream",
     "text": [
      "openscm_runner.adapters.magicc7._run_magicc_parallel - INFO: Appending results into a single ScmRun\n",
      "openscm_runner.adapters.magicc7._magicc_instances - INFO: removing /mnt/gaurav/pymagicc-5mkk4bjk\n",
      "openscm_runner.adapters.magicc7._run_magicc_parallel - INFO: Shutting down parallel pool\n",
      "openscm_runner.run - INFO: Only one model run, returning its results\n",
      "/home/gaurav/.conda/envs/cdr_climate_uncertainty/lib/python3.10/site-packages/climate_assessment/climate/wg3.py:42: FutureWarning: The default value of regex will change from True to False in a future version.\n",
      "  df_clean[\"variable\"] = df_clean[\"variable\"].str.replace(old, new)\n"
     ]
    },
    {
     "data": {
      "application/vnd.jupyter.widget-view+json": {
       "model_id": "6d47573c84e5435e94c5eaa25d5e81c1",
       "version_major": 2,
       "version_minor": 0
      },
      "text/plain": [
       "Climate models:   0%|          | 0.00/1.00 [00:00<?, ?it/s]"
      ]
     },
     "metadata": {},
     "output_type": "display_data"
    },
    {
     "name": "stderr",
     "output_type": "stream",
     "text": [
      "openscm_runner.adapters.magicc7.magicc7 - WARNING: Historical data has not been checked\n"
     ]
    },
    {
     "data": {
      "application/vnd.jupyter.widget-view+json": {
       "model_id": "aa56c4349beb4dd1b8c9daab1138bbef",
       "version_major": 2,
       "version_minor": 0
      },
      "text/plain": [
       "Writing SCEN7 files:   0%|          | 0.00/1.00 [00:00<?, ?it/s]"
      ]
     },
     "metadata": {},
     "output_type": "display_data"
    },
    {
     "name": "stderr",
     "output_type": "stream",
     "text": [
      "openscm_runner.adapters.magicc7._run_magicc_parallel - INFO: Entered _parallel_magicc_compact_out\n",
      "openscm_runner.adapters.magicc7._run_magicc_parallel - INFO: Running in parallel with up to 4 workers\n"
     ]
    },
    {
     "data": {
      "application/vnd.jupyter.widget-view+json": {
       "model_id": "31acf1ef6c584a5aa0a02b1a54df6a54",
       "version_major": 2,
       "version_minor": 0
      },
      "text/plain": [
       "Front serial:   0%|          | 0.00/1.00 [00:00<?, ?it/s]"
      ]
     },
     "metadata": {},
     "output_type": "display_data"
    },
    {
     "name": "stderr",
     "output_type": "stream",
     "text": [
      "openscm_runner.adapters.magicc7._magicc_instances - INFO: Creating new magicc instance: (7, 'MainProcess') - /mnt/gaurav/pymagicc-j3ojnpn0\n",
      "openscm_runner.adapters.magicc7._run_magicc_parallel - INFO: Setting up MAGICC worker in /mnt/gaurav/pymagicc-j3ojnpn0\n",
      "openscm_runner.adapters.magicc7._run_magicc_parallel - INFO: Writing Pymagicc compatible MAGCFG_USER.CFG in /mnt/gaurav/pymagicc-j3ojnpn0/run\n",
      "/home/gaurav/.conda/envs/cdr_climate_uncertainty/lib/python3.10/site-packages/pymagicc/core.py:387: UserWarning: Not reading file: DAT_HEATCONT_EBALANCE_SUBANN.BINOUT. Monthly data are not read in automatically by `run`. Use `MAGICCData` instead.\n",
      "  warnings.warn(\n",
      "/home/gaurav/.conda/envs/cdr_climate_uncertainty/lib/python3.10/site-packages/pymagicc/core.py:387: UserWarning: Not reading file: DAT_HEATUPTK_EBALANCE_SUBANN.BINOUT. Monthly data are not read in automatically by `run`. Use `MAGICCData` instead.\n",
      "  warnings.warn(\n"
     ]
    },
    {
     "data": {
      "application/vnd.jupyter.widget-view+json": {
       "model_id": "7382ad7e9f8a4ce7af82f6753e9e6624",
       "version_major": 2,
       "version_minor": 0
      },
      "text/plain": [
       "Front parallel: 0.00it [00:00, ?it/s]"
      ]
     },
     "metadata": {},
     "output_type": "display_data"
    },
    {
     "data": {
      "application/vnd.jupyter.widget-view+json": {
       "model_id": "8b40c592a50a47ebac64ce18dcd304af",
       "version_major": 2,
       "version_minor": 0
      },
      "text/plain": [
       "Parallel runs: 0.00it [00:00, ?it/s]"
      ]
     },
     "metadata": {},
     "output_type": "display_data"
    },
    {
     "name": "stderr",
     "output_type": "stream",
     "text": [
      "openscm_runner.adapters.magicc7._run_magicc_parallel - INFO: Appending results into a single ScmRun\n",
      "openscm_runner.adapters.magicc7._magicc_instances - INFO: removing /mnt/gaurav/pymagicc-j3ojnpn0\n",
      "openscm_runner.adapters.magicc7._run_magicc_parallel - INFO: Shutting down parallel pool\n",
      "openscm_runner.run - INFO: Only one model run, returning its results\n",
      "/home/gaurav/.conda/envs/cdr_climate_uncertainty/lib/python3.10/site-packages/climate_assessment/climate/wg3.py:42: FutureWarning: The default value of regex will change from True to False in a future version.\n",
      "  df_clean[\"variable\"] = df_clean[\"variable\"].str.replace(old, new)\n"
     ]
    },
    {
     "data": {
      "application/vnd.jupyter.widget-view+json": {
       "model_id": "e3bc7ecbfb204f8ea519ae941f77100a",
       "version_major": 2,
       "version_minor": 0
      },
      "text/plain": [
       "Climate models:   0%|          | 0.00/1.00 [00:00<?, ?it/s]"
      ]
     },
     "metadata": {},
     "output_type": "display_data"
    },
    {
     "name": "stderr",
     "output_type": "stream",
     "text": [
      "openscm_runner.adapters.magicc7.magicc7 - WARNING: Historical data has not been checked\n"
     ]
    },
    {
     "data": {
      "application/vnd.jupyter.widget-view+json": {
       "model_id": "51b45f87c30c409995821de602243adc",
       "version_major": 2,
       "version_minor": 0
      },
      "text/plain": [
       "Writing SCEN7 files:   0%|          | 0.00/1.00 [00:00<?, ?it/s]"
      ]
     },
     "metadata": {},
     "output_type": "display_data"
    },
    {
     "name": "stderr",
     "output_type": "stream",
     "text": [
      "openscm_runner.adapters.magicc7._run_magicc_parallel - INFO: Entered _parallel_magicc_compact_out\n",
      "openscm_runner.adapters.magicc7._run_magicc_parallel - INFO: Running in parallel with up to 4 workers\n"
     ]
    },
    {
     "data": {
      "application/vnd.jupyter.widget-view+json": {
       "model_id": "b2a864c451db491dab76bda2097bf5e7",
       "version_major": 2,
       "version_minor": 0
      },
      "text/plain": [
       "Front serial:   0%|          | 0.00/1.00 [00:00<?, ?it/s]"
      ]
     },
     "metadata": {},
     "output_type": "display_data"
    },
    {
     "name": "stderr",
     "output_type": "stream",
     "text": [
      "openscm_runner.adapters.magicc7._magicc_instances - INFO: Creating new magicc instance: (7, 'MainProcess') - /mnt/gaurav/pymagicc-on0g8ajy\n",
      "openscm_runner.adapters.magicc7._run_magicc_parallel - INFO: Setting up MAGICC worker in /mnt/gaurav/pymagicc-on0g8ajy\n",
      "openscm_runner.adapters.magicc7._run_magicc_parallel - INFO: Writing Pymagicc compatible MAGCFG_USER.CFG in /mnt/gaurav/pymagicc-on0g8ajy/run\n",
      "/home/gaurav/.conda/envs/cdr_climate_uncertainty/lib/python3.10/site-packages/pymagicc/core.py:387: UserWarning: Not reading file: DAT_HEATCONT_EBALANCE_SUBANN.BINOUT. Monthly data are not read in automatically by `run`. Use `MAGICCData` instead.\n",
      "  warnings.warn(\n",
      "/home/gaurav/.conda/envs/cdr_climate_uncertainty/lib/python3.10/site-packages/pymagicc/core.py:387: UserWarning: Not reading file: DAT_HEATUPTK_EBALANCE_SUBANN.BINOUT. Monthly data are not read in automatically by `run`. Use `MAGICCData` instead.\n",
      "  warnings.warn(\n"
     ]
    },
    {
     "data": {
      "application/vnd.jupyter.widget-view+json": {
       "model_id": "0ec579f6a16f4cc8a9089dbbe63fbeb7",
       "version_major": 2,
       "version_minor": 0
      },
      "text/plain": [
       "Front parallel: 0.00it [00:00, ?it/s]"
      ]
     },
     "metadata": {},
     "output_type": "display_data"
    },
    {
     "data": {
      "application/vnd.jupyter.widget-view+json": {
       "model_id": "cf2a597588994eeeaeaf6dfec130cbac",
       "version_major": 2,
       "version_minor": 0
      },
      "text/plain": [
       "Parallel runs: 0.00it [00:00, ?it/s]"
      ]
     },
     "metadata": {},
     "output_type": "display_data"
    },
    {
     "name": "stderr",
     "output_type": "stream",
     "text": [
      "openscm_runner.adapters.magicc7._run_magicc_parallel - INFO: Appending results into a single ScmRun\n",
      "openscm_runner.adapters.magicc7._magicc_instances - INFO: removing /mnt/gaurav/pymagicc-on0g8ajy\n",
      "openscm_runner.adapters.magicc7._run_magicc_parallel - INFO: Shutting down parallel pool\n",
      "openscm_runner.run - INFO: Only one model run, returning its results\n",
      "/home/gaurav/.conda/envs/cdr_climate_uncertainty/lib/python3.10/site-packages/climate_assessment/climate/wg3.py:42: FutureWarning: The default value of regex will change from True to False in a future version.\n",
      "  df_clean[\"variable\"] = df_clean[\"variable\"].str.replace(old, new)\n"
     ]
    },
    {
     "data": {
      "application/vnd.jupyter.widget-view+json": {
       "model_id": "dc70a889569a4ac0a74a5186145e19c3",
       "version_major": 2,
       "version_minor": 0
      },
      "text/plain": [
       "Climate models:   0%|          | 0.00/1.00 [00:00<?, ?it/s]"
      ]
     },
     "metadata": {},
     "output_type": "display_data"
    },
    {
     "name": "stderr",
     "output_type": "stream",
     "text": [
      "openscm_runner.adapters.magicc7.magicc7 - WARNING: Historical data has not been checked\n"
     ]
    },
    {
     "data": {
      "application/vnd.jupyter.widget-view+json": {
       "model_id": "6998aa62c0044268afb562e9c31cbb0f",
       "version_major": 2,
       "version_minor": 0
      },
      "text/plain": [
       "Writing SCEN7 files:   0%|          | 0.00/1.00 [00:00<?, ?it/s]"
      ]
     },
     "metadata": {},
     "output_type": "display_data"
    },
    {
     "name": "stderr",
     "output_type": "stream",
     "text": [
      "openscm_runner.adapters.magicc7._run_magicc_parallel - INFO: Entered _parallel_magicc_compact_out\n",
      "openscm_runner.adapters.magicc7._run_magicc_parallel - INFO: Running in parallel with up to 4 workers\n"
     ]
    },
    {
     "data": {
      "application/vnd.jupyter.widget-view+json": {
       "model_id": "2c46407e0ae2422992271119013916c2",
       "version_major": 2,
       "version_minor": 0
      },
      "text/plain": [
       "Front serial:   0%|          | 0.00/1.00 [00:00<?, ?it/s]"
      ]
     },
     "metadata": {},
     "output_type": "display_data"
    },
    {
     "name": "stderr",
     "output_type": "stream",
     "text": [
      "openscm_runner.adapters.magicc7._magicc_instances - INFO: Creating new magicc instance: (7, 'MainProcess') - /mnt/gaurav/pymagicc-_nr_mcp0\n",
      "openscm_runner.adapters.magicc7._run_magicc_parallel - INFO: Setting up MAGICC worker in /mnt/gaurav/pymagicc-_nr_mcp0\n",
      "openscm_runner.adapters.magicc7._run_magicc_parallel - INFO: Writing Pymagicc compatible MAGCFG_USER.CFG in /mnt/gaurav/pymagicc-_nr_mcp0/run\n",
      "/home/gaurav/.conda/envs/cdr_climate_uncertainty/lib/python3.10/site-packages/pymagicc/core.py:387: UserWarning: Not reading file: DAT_HEATCONT_EBALANCE_SUBANN.BINOUT. Monthly data are not read in automatically by `run`. Use `MAGICCData` instead.\n",
      "  warnings.warn(\n",
      "/home/gaurav/.conda/envs/cdr_climate_uncertainty/lib/python3.10/site-packages/pymagicc/core.py:387: UserWarning: Not reading file: DAT_HEATUPTK_EBALANCE_SUBANN.BINOUT. Monthly data are not read in automatically by `run`. Use `MAGICCData` instead.\n",
      "  warnings.warn(\n"
     ]
    },
    {
     "data": {
      "application/vnd.jupyter.widget-view+json": {
       "model_id": "5a29b8fb81f044d78da3485fca8b0934",
       "version_major": 2,
       "version_minor": 0
      },
      "text/plain": [
       "Front parallel: 0.00it [00:00, ?it/s]"
      ]
     },
     "metadata": {},
     "output_type": "display_data"
    },
    {
     "data": {
      "application/vnd.jupyter.widget-view+json": {
       "model_id": "3b43e8ee29774eb698bec22eb49e0838",
       "version_major": 2,
       "version_minor": 0
      },
      "text/plain": [
       "Parallel runs: 0.00it [00:00, ?it/s]"
      ]
     },
     "metadata": {},
     "output_type": "display_data"
    },
    {
     "name": "stderr",
     "output_type": "stream",
     "text": [
      "openscm_runner.adapters.magicc7._run_magicc_parallel - INFO: Appending results into a single ScmRun\n",
      "openscm_runner.adapters.magicc7._magicc_instances - INFO: removing /mnt/gaurav/pymagicc-_nr_mcp0\n",
      "openscm_runner.adapters.magicc7._run_magicc_parallel - INFO: Shutting down parallel pool\n",
      "openscm_runner.run - INFO: Only one model run, returning its results\n",
      "/home/gaurav/.conda/envs/cdr_climate_uncertainty/lib/python3.10/site-packages/climate_assessment/climate/wg3.py:42: FutureWarning: The default value of regex will change from True to False in a future version.\n",
      "  df_clean[\"variable\"] = df_clean[\"variable\"].str.replace(old, new)\n"
     ]
    },
    {
     "data": {
      "application/vnd.jupyter.widget-view+json": {
       "model_id": "4a981ff86186441195a55976b5c1f9c4",
       "version_major": 2,
       "version_minor": 0
      },
      "text/plain": [
       "Climate models:   0%|          | 0.00/1.00 [00:00<?, ?it/s]"
      ]
     },
     "metadata": {},
     "output_type": "display_data"
    },
    {
     "name": "stderr",
     "output_type": "stream",
     "text": [
      "openscm_runner.adapters.magicc7.magicc7 - WARNING: Historical data has not been checked\n"
     ]
    },
    {
     "data": {
      "application/vnd.jupyter.widget-view+json": {
       "model_id": "f0efb225eec54fd5ac0dad5b4399f38e",
       "version_major": 2,
       "version_minor": 0
      },
      "text/plain": [
       "Writing SCEN7 files:   0%|          | 0.00/1.00 [00:00<?, ?it/s]"
      ]
     },
     "metadata": {},
     "output_type": "display_data"
    },
    {
     "name": "stderr",
     "output_type": "stream",
     "text": [
      "openscm_runner.adapters.magicc7._run_magicc_parallel - INFO: Entered _parallel_magicc_compact_out\n",
      "openscm_runner.adapters.magicc7._run_magicc_parallel - INFO: Running in parallel with up to 4 workers\n"
     ]
    },
    {
     "data": {
      "application/vnd.jupyter.widget-view+json": {
       "model_id": "06ee18cdf2b74104a1eb2cb3d9be4582",
       "version_major": 2,
       "version_minor": 0
      },
      "text/plain": [
       "Front serial:   0%|          | 0.00/1.00 [00:00<?, ?it/s]"
      ]
     },
     "metadata": {},
     "output_type": "display_data"
    },
    {
     "name": "stderr",
     "output_type": "stream",
     "text": [
      "openscm_runner.adapters.magicc7._magicc_instances - INFO: Creating new magicc instance: (7, 'MainProcess') - /mnt/gaurav/pymagicc-vi5fg4wp\n",
      "openscm_runner.adapters.magicc7._run_magicc_parallel - INFO: Setting up MAGICC worker in /mnt/gaurav/pymagicc-vi5fg4wp\n",
      "openscm_runner.adapters.magicc7._run_magicc_parallel - INFO: Writing Pymagicc compatible MAGCFG_USER.CFG in /mnt/gaurav/pymagicc-vi5fg4wp/run\n",
      "/home/gaurav/.conda/envs/cdr_climate_uncertainty/lib/python3.10/site-packages/pymagicc/core.py:387: UserWarning: Not reading file: DAT_HEATCONT_EBALANCE_SUBANN.BINOUT. Monthly data are not read in automatically by `run`. Use `MAGICCData` instead.\n",
      "  warnings.warn(\n",
      "/home/gaurav/.conda/envs/cdr_climate_uncertainty/lib/python3.10/site-packages/pymagicc/core.py:387: UserWarning: Not reading file: DAT_HEATUPTK_EBALANCE_SUBANN.BINOUT. Monthly data are not read in automatically by `run`. Use `MAGICCData` instead.\n",
      "  warnings.warn(\n"
     ]
    },
    {
     "data": {
      "application/vnd.jupyter.widget-view+json": {
       "model_id": "e591b3fd3e804961a69b8ae25d4d2c58",
       "version_major": 2,
       "version_minor": 0
      },
      "text/plain": [
       "Front parallel: 0.00it [00:00, ?it/s]"
      ]
     },
     "metadata": {},
     "output_type": "display_data"
    },
    {
     "data": {
      "application/vnd.jupyter.widget-view+json": {
       "model_id": "c71418ad5dad4646a4d641b5272cbbfa",
       "version_major": 2,
       "version_minor": 0
      },
      "text/plain": [
       "Parallel runs: 0.00it [00:00, ?it/s]"
      ]
     },
     "metadata": {},
     "output_type": "display_data"
    },
    {
     "name": "stderr",
     "output_type": "stream",
     "text": [
      "openscm_runner.adapters.magicc7._run_magicc_parallel - INFO: Appending results into a single ScmRun\n",
      "openscm_runner.adapters.magicc7._magicc_instances - INFO: removing /mnt/gaurav/pymagicc-vi5fg4wp\n",
      "openscm_runner.adapters.magicc7._run_magicc_parallel - INFO: Shutting down parallel pool\n",
      "openscm_runner.run - INFO: Only one model run, returning its results\n",
      "/home/gaurav/.conda/envs/cdr_climate_uncertainty/lib/python3.10/site-packages/climate_assessment/climate/wg3.py:42: FutureWarning: The default value of regex will change from True to False in a future version.\n",
      "  df_clean[\"variable\"] = df_clean[\"variable\"].str.replace(old, new)\n"
     ]
    },
    {
     "data": {
      "application/vnd.jupyter.widget-view+json": {
       "model_id": "f3e5276910fe4e43a8bf95bca92c05cf",
       "version_major": 2,
       "version_minor": 0
      },
      "text/plain": [
       "Climate models:   0%|          | 0.00/1.00 [00:00<?, ?it/s]"
      ]
     },
     "metadata": {},
     "output_type": "display_data"
    },
    {
     "name": "stderr",
     "output_type": "stream",
     "text": [
      "openscm_runner.adapters.magicc7.magicc7 - WARNING: Historical data has not been checked\n"
     ]
    },
    {
     "data": {
      "application/vnd.jupyter.widget-view+json": {
       "model_id": "d0e3a9f34aa640b8ac3679c4938c27de",
       "version_major": 2,
       "version_minor": 0
      },
      "text/plain": [
       "Writing SCEN7 files:   0%|          | 0.00/1.00 [00:00<?, ?it/s]"
      ]
     },
     "metadata": {},
     "output_type": "display_data"
    },
    {
     "name": "stderr",
     "output_type": "stream",
     "text": [
      "openscm_runner.adapters.magicc7._run_magicc_parallel - INFO: Entered _parallel_magicc_compact_out\n",
      "openscm_runner.adapters.magicc7._run_magicc_parallel - INFO: Running in parallel with up to 4 workers\n"
     ]
    },
    {
     "data": {
      "application/vnd.jupyter.widget-view+json": {
       "model_id": "49acaeafebca47189612c3fe969c9817",
       "version_major": 2,
       "version_minor": 0
      },
      "text/plain": [
       "Front serial:   0%|          | 0.00/1.00 [00:00<?, ?it/s]"
      ]
     },
     "metadata": {},
     "output_type": "display_data"
    },
    {
     "name": "stderr",
     "output_type": "stream",
     "text": [
      "openscm_runner.adapters.magicc7._magicc_instances - INFO: Creating new magicc instance: (7, 'MainProcess') - /mnt/gaurav/pymagicc-77ju5usj\n",
      "openscm_runner.adapters.magicc7._run_magicc_parallel - INFO: Setting up MAGICC worker in /mnt/gaurav/pymagicc-77ju5usj\n",
      "openscm_runner.adapters.magicc7._run_magicc_parallel - INFO: Writing Pymagicc compatible MAGCFG_USER.CFG in /mnt/gaurav/pymagicc-77ju5usj/run\n",
      "/home/gaurav/.conda/envs/cdr_climate_uncertainty/lib/python3.10/site-packages/pymagicc/core.py:387: UserWarning: Not reading file: DAT_HEATCONT_EBALANCE_SUBANN.BINOUT. Monthly data are not read in automatically by `run`. Use `MAGICCData` instead.\n",
      "  warnings.warn(\n",
      "/home/gaurav/.conda/envs/cdr_climate_uncertainty/lib/python3.10/site-packages/pymagicc/core.py:387: UserWarning: Not reading file: DAT_HEATUPTK_EBALANCE_SUBANN.BINOUT. Monthly data are not read in automatically by `run`. Use `MAGICCData` instead.\n",
      "  warnings.warn(\n"
     ]
    },
    {
     "data": {
      "application/vnd.jupyter.widget-view+json": {
       "model_id": "030b1dbd87964621bcb1bcee1fab15c3",
       "version_major": 2,
       "version_minor": 0
      },
      "text/plain": [
       "Front parallel: 0.00it [00:00, ?it/s]"
      ]
     },
     "metadata": {},
     "output_type": "display_data"
    },
    {
     "data": {
      "application/vnd.jupyter.widget-view+json": {
       "model_id": "3f0b88cc26264651a4593fc3bcfc75fa",
       "version_major": 2,
       "version_minor": 0
      },
      "text/plain": [
       "Parallel runs: 0.00it [00:00, ?it/s]"
      ]
     },
     "metadata": {},
     "output_type": "display_data"
    },
    {
     "name": "stderr",
     "output_type": "stream",
     "text": [
      "openscm_runner.adapters.magicc7._run_magicc_parallel - INFO: Appending results into a single ScmRun\n",
      "openscm_runner.adapters.magicc7._magicc_instances - INFO: removing /mnt/gaurav/pymagicc-77ju5usj\n",
      "openscm_runner.adapters.magicc7._run_magicc_parallel - INFO: Shutting down parallel pool\n",
      "openscm_runner.run - INFO: Only one model run, returning its results\n",
      "/home/gaurav/.conda/envs/cdr_climate_uncertainty/lib/python3.10/site-packages/climate_assessment/climate/wg3.py:42: FutureWarning: The default value of regex will change from True to False in a future version.\n",
      "  df_clean[\"variable\"] = df_clean[\"variable\"].str.replace(old, new)\n"
     ]
    },
    {
     "data": {
      "application/vnd.jupyter.widget-view+json": {
       "model_id": "2126f0630c4e4307a741935db474be5e",
       "version_major": 2,
       "version_minor": 0
      },
      "text/plain": [
       "Climate models:   0%|          | 0.00/1.00 [00:00<?, ?it/s]"
      ]
     },
     "metadata": {},
     "output_type": "display_data"
    },
    {
     "name": "stderr",
     "output_type": "stream",
     "text": [
      "openscm_runner.adapters.magicc7.magicc7 - WARNING: Historical data has not been checked\n"
     ]
    },
    {
     "data": {
      "application/vnd.jupyter.widget-view+json": {
       "model_id": "9836a5b33d7c47ee98478faa982995cb",
       "version_major": 2,
       "version_minor": 0
      },
      "text/plain": [
       "Writing SCEN7 files:   0%|          | 0.00/1.00 [00:00<?, ?it/s]"
      ]
     },
     "metadata": {},
     "output_type": "display_data"
    },
    {
     "name": "stderr",
     "output_type": "stream",
     "text": [
      "openscm_runner.adapters.magicc7._run_magicc_parallel - INFO: Entered _parallel_magicc_compact_out\n",
      "openscm_runner.adapters.magicc7._run_magicc_parallel - INFO: Running in parallel with up to 4 workers\n"
     ]
    },
    {
     "data": {
      "application/vnd.jupyter.widget-view+json": {
       "model_id": "5c5ed9c9d333438f964125ed6d9f10a9",
       "version_major": 2,
       "version_minor": 0
      },
      "text/plain": [
       "Front serial:   0%|          | 0.00/1.00 [00:00<?, ?it/s]"
      ]
     },
     "metadata": {},
     "output_type": "display_data"
    },
    {
     "name": "stderr",
     "output_type": "stream",
     "text": [
      "openscm_runner.adapters.magicc7._magicc_instances - INFO: Creating new magicc instance: (7, 'MainProcess') - /mnt/gaurav/pymagicc-8k79tqk1\n",
      "openscm_runner.adapters.magicc7._run_magicc_parallel - INFO: Setting up MAGICC worker in /mnt/gaurav/pymagicc-8k79tqk1\n",
      "openscm_runner.adapters.magicc7._run_magicc_parallel - INFO: Writing Pymagicc compatible MAGCFG_USER.CFG in /mnt/gaurav/pymagicc-8k79tqk1/run\n",
      "/home/gaurav/.conda/envs/cdr_climate_uncertainty/lib/python3.10/site-packages/pymagicc/core.py:387: UserWarning: Not reading file: DAT_HEATCONT_EBALANCE_SUBANN.BINOUT. Monthly data are not read in automatically by `run`. Use `MAGICCData` instead.\n",
      "  warnings.warn(\n",
      "/home/gaurav/.conda/envs/cdr_climate_uncertainty/lib/python3.10/site-packages/pymagicc/core.py:387: UserWarning: Not reading file: DAT_HEATUPTK_EBALANCE_SUBANN.BINOUT. Monthly data are not read in automatically by `run`. Use `MAGICCData` instead.\n",
      "  warnings.warn(\n"
     ]
    },
    {
     "data": {
      "application/vnd.jupyter.widget-view+json": {
       "model_id": "f9cbfe91eeda4f54a5e395a5ec97280a",
       "version_major": 2,
       "version_minor": 0
      },
      "text/plain": [
       "Front parallel: 0.00it [00:00, ?it/s]"
      ]
     },
     "metadata": {},
     "output_type": "display_data"
    },
    {
     "data": {
      "application/vnd.jupyter.widget-view+json": {
       "model_id": "b55d05220f2d49aeb1bf6947b2806061",
       "version_major": 2,
       "version_minor": 0
      },
      "text/plain": [
       "Parallel runs: 0.00it [00:00, ?it/s]"
      ]
     },
     "metadata": {},
     "output_type": "display_data"
    },
    {
     "name": "stderr",
     "output_type": "stream",
     "text": [
      "openscm_runner.adapters.magicc7._run_magicc_parallel - INFO: Appending results into a single ScmRun\n",
      "openscm_runner.adapters.magicc7._magicc_instances - INFO: removing /mnt/gaurav/pymagicc-8k79tqk1\n",
      "openscm_runner.adapters.magicc7._run_magicc_parallel - INFO: Shutting down parallel pool\n",
      "openscm_runner.run - INFO: Only one model run, returning its results\n",
      "/home/gaurav/.conda/envs/cdr_climate_uncertainty/lib/python3.10/site-packages/climate_assessment/climate/wg3.py:42: FutureWarning: The default value of regex will change from True to False in a future version.\n",
      "  df_clean[\"variable\"] = df_clean[\"variable\"].str.replace(old, new)\n"
     ]
    },
    {
     "data": {
      "application/vnd.jupyter.widget-view+json": {
       "model_id": "50b7234830f64ba6a91e2109fcbab20c",
       "version_major": 2,
       "version_minor": 0
      },
      "text/plain": [
       "Climate models:   0%|          | 0.00/1.00 [00:00<?, ?it/s]"
      ]
     },
     "metadata": {},
     "output_type": "display_data"
    },
    {
     "name": "stderr",
     "output_type": "stream",
     "text": [
      "openscm_runner.adapters.magicc7.magicc7 - WARNING: Historical data has not been checked\n"
     ]
    },
    {
     "data": {
      "application/vnd.jupyter.widget-view+json": {
       "model_id": "fc00b293efdd42cfb0f600566023952d",
       "version_major": 2,
       "version_minor": 0
      },
      "text/plain": [
       "Writing SCEN7 files:   0%|          | 0.00/1.00 [00:00<?, ?it/s]"
      ]
     },
     "metadata": {},
     "output_type": "display_data"
    },
    {
     "name": "stderr",
     "output_type": "stream",
     "text": [
      "openscm_runner.adapters.magicc7._run_magicc_parallel - INFO: Entered _parallel_magicc_compact_out\n",
      "openscm_runner.adapters.magicc7._run_magicc_parallel - INFO: Running in parallel with up to 4 workers\n"
     ]
    },
    {
     "data": {
      "application/vnd.jupyter.widget-view+json": {
       "model_id": "101f96f271a2496c9fe0386cca1a6551",
       "version_major": 2,
       "version_minor": 0
      },
      "text/plain": [
       "Front serial:   0%|          | 0.00/1.00 [00:00<?, ?it/s]"
      ]
     },
     "metadata": {},
     "output_type": "display_data"
    },
    {
     "name": "stderr",
     "output_type": "stream",
     "text": [
      "openscm_runner.adapters.magicc7._magicc_instances - INFO: Creating new magicc instance: (7, 'MainProcess') - /mnt/gaurav/pymagicc-ue41psll\n",
      "openscm_runner.adapters.magicc7._run_magicc_parallel - INFO: Setting up MAGICC worker in /mnt/gaurav/pymagicc-ue41psll\n",
      "openscm_runner.adapters.magicc7._run_magicc_parallel - INFO: Writing Pymagicc compatible MAGCFG_USER.CFG in /mnt/gaurav/pymagicc-ue41psll/run\n",
      "/home/gaurav/.conda/envs/cdr_climate_uncertainty/lib/python3.10/site-packages/pymagicc/core.py:387: UserWarning: Not reading file: DAT_HEATCONT_EBALANCE_SUBANN.BINOUT. Monthly data are not read in automatically by `run`. Use `MAGICCData` instead.\n",
      "  warnings.warn(\n",
      "/home/gaurav/.conda/envs/cdr_climate_uncertainty/lib/python3.10/site-packages/pymagicc/core.py:387: UserWarning: Not reading file: DAT_HEATUPTK_EBALANCE_SUBANN.BINOUT. Monthly data are not read in automatically by `run`. Use `MAGICCData` instead.\n",
      "  warnings.warn(\n"
     ]
    },
    {
     "data": {
      "application/vnd.jupyter.widget-view+json": {
       "model_id": "27992bbc210d42298c1897e88a3be07c",
       "version_major": 2,
       "version_minor": 0
      },
      "text/plain": [
       "Front parallel: 0.00it [00:00, ?it/s]"
      ]
     },
     "metadata": {},
     "output_type": "display_data"
    },
    {
     "data": {
      "application/vnd.jupyter.widget-view+json": {
       "model_id": "32f1963e62824d549cdb79bb444dee37",
       "version_major": 2,
       "version_minor": 0
      },
      "text/plain": [
       "Parallel runs: 0.00it [00:00, ?it/s]"
      ]
     },
     "metadata": {},
     "output_type": "display_data"
    },
    {
     "name": "stderr",
     "output_type": "stream",
     "text": [
      "openscm_runner.adapters.magicc7._run_magicc_parallel - INFO: Appending results into a single ScmRun\n",
      "openscm_runner.adapters.magicc7._magicc_instances - INFO: removing /mnt/gaurav/pymagicc-ue41psll\n",
      "openscm_runner.adapters.magicc7._run_magicc_parallel - INFO: Shutting down parallel pool\n",
      "openscm_runner.run - INFO: Only one model run, returning its results\n",
      "/home/gaurav/.conda/envs/cdr_climate_uncertainty/lib/python3.10/site-packages/climate_assessment/climate/wg3.py:42: FutureWarning: The default value of regex will change from True to False in a future version.\n",
      "  df_clean[\"variable\"] = df_clean[\"variable\"].str.replace(old, new)\n"
     ]
    },
    {
     "data": {
      "application/vnd.jupyter.widget-view+json": {
       "model_id": "95f736fce53943269661f223f48596dc",
       "version_major": 2,
       "version_minor": 0
      },
      "text/plain": [
       "Climate models:   0%|          | 0.00/1.00 [00:00<?, ?it/s]"
      ]
     },
     "metadata": {},
     "output_type": "display_data"
    },
    {
     "name": "stderr",
     "output_type": "stream",
     "text": [
      "openscm_runner.adapters.magicc7.magicc7 - WARNING: Historical data has not been checked\n"
     ]
    },
    {
     "data": {
      "application/vnd.jupyter.widget-view+json": {
       "model_id": "41dfa5a609ca4ef4a1e2be5b432de390",
       "version_major": 2,
       "version_minor": 0
      },
      "text/plain": [
       "Writing SCEN7 files:   0%|          | 0.00/1.00 [00:00<?, ?it/s]"
      ]
     },
     "metadata": {},
     "output_type": "display_data"
    },
    {
     "name": "stderr",
     "output_type": "stream",
     "text": [
      "openscm_runner.adapters.magicc7._run_magicc_parallel - INFO: Entered _parallel_magicc_compact_out\n",
      "openscm_runner.adapters.magicc7._run_magicc_parallel - INFO: Running in parallel with up to 4 workers\n"
     ]
    },
    {
     "data": {
      "application/vnd.jupyter.widget-view+json": {
       "model_id": "1ce8cfc821ee490581e88fe9e7c54fea",
       "version_major": 2,
       "version_minor": 0
      },
      "text/plain": [
       "Front serial:   0%|          | 0.00/1.00 [00:00<?, ?it/s]"
      ]
     },
     "metadata": {},
     "output_type": "display_data"
    },
    {
     "name": "stderr",
     "output_type": "stream",
     "text": [
      "openscm_runner.adapters.magicc7._magicc_instances - INFO: Creating new magicc instance: (7, 'MainProcess') - /mnt/gaurav/pymagicc-_r0l7ob0\n",
      "openscm_runner.adapters.magicc7._run_magicc_parallel - INFO: Setting up MAGICC worker in /mnt/gaurav/pymagicc-_r0l7ob0\n",
      "openscm_runner.adapters.magicc7._run_magicc_parallel - INFO: Writing Pymagicc compatible MAGCFG_USER.CFG in /mnt/gaurav/pymagicc-_r0l7ob0/run\n",
      "/home/gaurav/.conda/envs/cdr_climate_uncertainty/lib/python3.10/site-packages/pymagicc/core.py:387: UserWarning: Not reading file: DAT_HEATCONT_EBALANCE_SUBANN.BINOUT. Monthly data are not read in automatically by `run`. Use `MAGICCData` instead.\n",
      "  warnings.warn(\n",
      "/home/gaurav/.conda/envs/cdr_climate_uncertainty/lib/python3.10/site-packages/pymagicc/core.py:387: UserWarning: Not reading file: DAT_HEATUPTK_EBALANCE_SUBANN.BINOUT. Monthly data are not read in automatically by `run`. Use `MAGICCData` instead.\n",
      "  warnings.warn(\n"
     ]
    },
    {
     "data": {
      "application/vnd.jupyter.widget-view+json": {
       "model_id": "fa13c3011a94488abe575cdd9f6e59dd",
       "version_major": 2,
       "version_minor": 0
      },
      "text/plain": [
       "Front parallel: 0.00it [00:00, ?it/s]"
      ]
     },
     "metadata": {},
     "output_type": "display_data"
    },
    {
     "data": {
      "application/vnd.jupyter.widget-view+json": {
       "model_id": "8ab9e0f2d55c45e9a2c8a2ca13d4606c",
       "version_major": 2,
       "version_minor": 0
      },
      "text/plain": [
       "Parallel runs: 0.00it [00:00, ?it/s]"
      ]
     },
     "metadata": {},
     "output_type": "display_data"
    },
    {
     "name": "stderr",
     "output_type": "stream",
     "text": [
      "openscm_runner.adapters.magicc7._run_magicc_parallel - INFO: Appending results into a single ScmRun\n",
      "openscm_runner.adapters.magicc7._magicc_instances - INFO: removing /mnt/gaurav/pymagicc-_r0l7ob0\n",
      "openscm_runner.adapters.magicc7._run_magicc_parallel - INFO: Shutting down parallel pool\n",
      "openscm_runner.run - INFO: Only one model run, returning its results\n",
      "/home/gaurav/.conda/envs/cdr_climate_uncertainty/lib/python3.10/site-packages/climate_assessment/climate/wg3.py:42: FutureWarning: The default value of regex will change from True to False in a future version.\n",
      "  df_clean[\"variable\"] = df_clean[\"variable\"].str.replace(old, new)\n"
     ]
    },
    {
     "data": {
      "application/vnd.jupyter.widget-view+json": {
       "model_id": "600ad1c62356436b9f59caffc21d7098",
       "version_major": 2,
       "version_minor": 0
      },
      "text/plain": [
       "Climate models:   0%|          | 0.00/1.00 [00:00<?, ?it/s]"
      ]
     },
     "metadata": {},
     "output_type": "display_data"
    },
    {
     "name": "stderr",
     "output_type": "stream",
     "text": [
      "openscm_runner.adapters.magicc7.magicc7 - WARNING: Historical data has not been checked\n"
     ]
    },
    {
     "data": {
      "application/vnd.jupyter.widget-view+json": {
       "model_id": "e8159852d851426892c3bbb02b2a0531",
       "version_major": 2,
       "version_minor": 0
      },
      "text/plain": [
       "Writing SCEN7 files:   0%|          | 0.00/1.00 [00:00<?, ?it/s]"
      ]
     },
     "metadata": {},
     "output_type": "display_data"
    },
    {
     "name": "stderr",
     "output_type": "stream",
     "text": [
      "openscm_runner.adapters.magicc7._run_magicc_parallel - INFO: Entered _parallel_magicc_compact_out\n",
      "openscm_runner.adapters.magicc7._run_magicc_parallel - INFO: Running in parallel with up to 4 workers\n"
     ]
    },
    {
     "data": {
      "application/vnd.jupyter.widget-view+json": {
       "model_id": "a3d65866c4f8409baae830914fe7cb22",
       "version_major": 2,
       "version_minor": 0
      },
      "text/plain": [
       "Front serial:   0%|          | 0.00/1.00 [00:00<?, ?it/s]"
      ]
     },
     "metadata": {},
     "output_type": "display_data"
    },
    {
     "name": "stderr",
     "output_type": "stream",
     "text": [
      "openscm_runner.adapters.magicc7._magicc_instances - INFO: Creating new magicc instance: (7, 'MainProcess') - /mnt/gaurav/pymagicc-kfrx63jr\n",
      "openscm_runner.adapters.magicc7._run_magicc_parallel - INFO: Setting up MAGICC worker in /mnt/gaurav/pymagicc-kfrx63jr\n",
      "openscm_runner.adapters.magicc7._run_magicc_parallel - INFO: Writing Pymagicc compatible MAGCFG_USER.CFG in /mnt/gaurav/pymagicc-kfrx63jr/run\n",
      "/home/gaurav/.conda/envs/cdr_climate_uncertainty/lib/python3.10/site-packages/pymagicc/core.py:387: UserWarning: Not reading file: DAT_HEATCONT_EBALANCE_SUBANN.BINOUT. Monthly data are not read in automatically by `run`. Use `MAGICCData` instead.\n",
      "  warnings.warn(\n",
      "/home/gaurav/.conda/envs/cdr_climate_uncertainty/lib/python3.10/site-packages/pymagicc/core.py:387: UserWarning: Not reading file: DAT_HEATUPTK_EBALANCE_SUBANN.BINOUT. Monthly data are not read in automatically by `run`. Use `MAGICCData` instead.\n",
      "  warnings.warn(\n"
     ]
    },
    {
     "data": {
      "application/vnd.jupyter.widget-view+json": {
       "model_id": "44a987a29de94a01902a3889e5baa089",
       "version_major": 2,
       "version_minor": 0
      },
      "text/plain": [
       "Front parallel: 0.00it [00:00, ?it/s]"
      ]
     },
     "metadata": {},
     "output_type": "display_data"
    },
    {
     "data": {
      "application/vnd.jupyter.widget-view+json": {
       "model_id": "3cd1ea9819014c4c813efdf5d7df08f8",
       "version_major": 2,
       "version_minor": 0
      },
      "text/plain": [
       "Parallel runs: 0.00it [00:00, ?it/s]"
      ]
     },
     "metadata": {},
     "output_type": "display_data"
    },
    {
     "name": "stderr",
     "output_type": "stream",
     "text": [
      "openscm_runner.adapters.magicc7._run_magicc_parallel - INFO: Appending results into a single ScmRun\n",
      "openscm_runner.adapters.magicc7._magicc_instances - INFO: removing /mnt/gaurav/pymagicc-kfrx63jr\n",
      "openscm_runner.adapters.magicc7._run_magicc_parallel - INFO: Shutting down parallel pool\n",
      "openscm_runner.run - INFO: Only one model run, returning its results\n"
     ]
    }
   ],
   "source": [
    "result = minimize_scalar(\n",
    "    objective,\n",
    "    bounds=bounds,\n",
    "    args=(emissions_for_iteration, novel_cdr_original_filtered),\n",
    "    method='bounded'\n",
    ")"
   ]
  },
  {
   "cell_type": "code",
   "execution_count": 41,
   "metadata": {},
   "outputs": [
    {
     "data": {
      "text/plain": [
       " message: Solution found.\n",
       " success: True\n",
       "  status: 0\n",
       "     fun: 1.042702947540164e-06\n",
       "       x: 89.76267740841236\n",
       "     nit: 17\n",
       "    nfev: 17"
      ]
     },
     "execution_count": 41,
     "metadata": {},
     "output_type": "execute_result"
    }
   ],
   "source": [
    "result"
   ]
  },
  {
   "cell_type": "code",
   "execution_count": 42,
   "metadata": {},
   "outputs": [],
   "source": [
    "if result.fun > 0.1:\n",
    "   result = minimize_scalar(\n",
    "        objective,\n",
    "        bounds=(0,90),\n",
    "        args=(emissions_for_iteration, novel_cdr_original_filtered),\n",
    "        method='bounded'\n",
    "    ) "
   ]
  },
  {
   "cell_type": "markdown",
   "metadata": {},
   "source": [
    "Last step: Make a function to construct and return the necessary CDR and temperature pathways."
   ]
  },
  {
   "cell_type": "code",
   "execution_count": 43,
   "metadata": {},
   "outputs": [],
   "source": [
    "def objective(angle, emissions, cdr_first_guess):\n",
    "    # Step 1: Get the new CDR pathway\n",
    "    new_cdr, _ = rotate_and_calc_cumulative(\n",
    "        cdr_first_guess,\n",
    "        angle\n",
    "    )\n",
    "    # Step 2: Get the new emissions pathway\n",
    "    new_emissions = (\n",
    "        scmdata.ScmRun(\n",
    "            clean_wg3_scenarios(\n",
    "                construct_new_emissions_dataframe(\n",
    "                    emissions,\n",
    "                    process_novel_cdr(new_cdr, cdr_first_guess.meta['netzero|CO2'].values[0])\n",
    "                )        \n",
    "            )\n",
    "        )\n",
    "    )\n",
    "    new_deviation = abs(return_temperature_deviation(new_emissions))\n",
    "    return new_deviation"
   ]
  },
  {
   "cell_type": "code",
   "execution_count": 44,
   "metadata": {},
   "outputs": [],
   "source": [
    "def compile_necessary_output_files(result):\n",
    "    # Step 1: Get the new CDR pathway\n",
    "    new_cdr, cumulative_cdr = rotate_and_calc_cumulative(\n",
    "        novel_cdr_original_filtered,\n",
    "        result.x\n",
    "    )\n",
    "    new_cdr.set_meta(\n",
    "        name='cumulative_cdr',\n",
    "        meta=cumulative_cdr\n",
    "    )\n",
    "    # Step 2: Get the new emissions pathway\n",
    "    new_emissions = (\n",
    "        scmdata.ScmRun(\n",
    "            clean_wg3_scenarios(\n",
    "                construct_new_emissions_dataframe(\n",
    "                    emissions_for_iteration,\n",
    "                    process_novel_cdr(new_cdr, novel_cdr_original_filtered.meta['netzero|CO2'].values[0])\n",
    "                )        \n",
    "            )\n",
    "        )\n",
    "    )\n",
    "    # Step 4: Calculate the warming\n",
    "    new_warming = openscm_runner.run(\n",
    "        {'MAGICC7':config_for_run},\n",
    "        new_emissions,\n",
    "        output_variables=[\n",
    "            'Surface Temperature'\n",
    "        ]    \n",
    "    )\n",
    "    # Step 4: Rebase and return\n",
    "    new_warming_rebased = (\n",
    "        new_warming\n",
    "        .filter(region='World')\n",
    "        .relative_to_ref_period_mean(year=[1850, 1900])\n",
    "    )\n",
    "    return new_cdr, new_warming_rebased"
   ]
  },
  {
   "cell_type": "code",
   "execution_count": 45,
   "metadata": {},
   "outputs": [
    {
     "name": "stderr",
     "output_type": "stream",
     "text": [
      "/home/gaurav/.conda/envs/cdr_climate_uncertainty/lib/python3.10/site-packages/climate_assessment/climate/wg3.py:42: FutureWarning: The default value of regex will change from True to False in a future version.\n",
      "  df_clean[\"variable\"] = df_clean[\"variable\"].str.replace(old, new)\n"
     ]
    },
    {
     "data": {
      "application/vnd.jupyter.widget-view+json": {
       "model_id": "ced380c7acf04caeaa9710fb4b9b42bc",
       "version_major": 2,
       "version_minor": 0
      },
      "text/plain": [
       "Climate models:   0%|          | 0.00/1.00 [00:00<?, ?it/s]"
      ]
     },
     "metadata": {},
     "output_type": "display_data"
    },
    {
     "name": "stderr",
     "output_type": "stream",
     "text": [
      "openscm_runner.adapters.magicc7.magicc7 - WARNING: Historical data has not been checked\n"
     ]
    },
    {
     "data": {
      "application/vnd.jupyter.widget-view+json": {
       "model_id": "f581f5ef21be43979ac01633ad6b1722",
       "version_major": 2,
       "version_minor": 0
      },
      "text/plain": [
       "Writing SCEN7 files:   0%|          | 0.00/1.00 [00:00<?, ?it/s]"
      ]
     },
     "metadata": {},
     "output_type": "display_data"
    },
    {
     "name": "stderr",
     "output_type": "stream",
     "text": [
      "openscm_runner.adapters.magicc7._run_magicc_parallel - INFO: Entered _parallel_magicc_compact_out\n",
      "openscm_runner.adapters.magicc7._run_magicc_parallel - INFO: Running in parallel with up to 4 workers\n"
     ]
    },
    {
     "data": {
      "application/vnd.jupyter.widget-view+json": {
       "model_id": "7b31a2729f7744559641601e2eb92f8d",
       "version_major": 2,
       "version_minor": 0
      },
      "text/plain": [
       "Front serial:   0%|          | 0.00/1.00 [00:00<?, ?it/s]"
      ]
     },
     "metadata": {},
     "output_type": "display_data"
    },
    {
     "name": "stderr",
     "output_type": "stream",
     "text": [
      "openscm_runner.adapters.magicc7._magicc_instances - INFO: Creating new magicc instance: (7, 'MainProcess') - /mnt/gaurav/pymagicc-ddrf6qoi\n",
      "openscm_runner.adapters.magicc7._run_magicc_parallel - INFO: Setting up MAGICC worker in /mnt/gaurav/pymagicc-ddrf6qoi\n",
      "openscm_runner.adapters.magicc7._run_magicc_parallel - INFO: Writing Pymagicc compatible MAGCFG_USER.CFG in /mnt/gaurav/pymagicc-ddrf6qoi/run\n",
      "/home/gaurav/.conda/envs/cdr_climate_uncertainty/lib/python3.10/site-packages/pymagicc/core.py:387: UserWarning: Not reading file: DAT_HEATCONT_EBALANCE_SUBANN.BINOUT. Monthly data are not read in automatically by `run`. Use `MAGICCData` instead.\n",
      "  warnings.warn(\n",
      "/home/gaurav/.conda/envs/cdr_climate_uncertainty/lib/python3.10/site-packages/pymagicc/core.py:387: UserWarning: Not reading file: DAT_HEATUPTK_EBALANCE_SUBANN.BINOUT. Monthly data are not read in automatically by `run`. Use `MAGICCData` instead.\n",
      "  warnings.warn(\n"
     ]
    },
    {
     "data": {
      "application/vnd.jupyter.widget-view+json": {
       "model_id": "13b4a7c598f344deb683215c64803fe8",
       "version_major": 2,
       "version_minor": 0
      },
      "text/plain": [
       "Front parallel: 0.00it [00:00, ?it/s]"
      ]
     },
     "metadata": {},
     "output_type": "display_data"
    },
    {
     "data": {
      "application/vnd.jupyter.widget-view+json": {
       "model_id": "4628f834d2ab45399934a4e0fab9793f",
       "version_major": 2,
       "version_minor": 0
      },
      "text/plain": [
       "Parallel runs: 0.00it [00:00, ?it/s]"
      ]
     },
     "metadata": {},
     "output_type": "display_data"
    },
    {
     "name": "stderr",
     "output_type": "stream",
     "text": [
      "openscm_runner.adapters.magicc7._run_magicc_parallel - INFO: Appending results into a single ScmRun\n",
      "openscm_runner.adapters.magicc7._magicc_instances - INFO: removing /mnt/gaurav/pymagicc-ddrf6qoi\n",
      "openscm_runner.adapters.magicc7._run_magicc_parallel - INFO: Shutting down parallel pool\n",
      "openscm_runner.run - INFO: Only one model run, returning its results\n"
     ]
    }
   ],
   "source": [
    "cdr_pathway, temperature_pathway = compile_necessary_output_files(result)"
   ]
  },
  {
   "cell_type": "code",
   "execution_count": 46,
   "metadata": {},
   "outputs": [
    {
     "name": "stderr",
     "output_type": "stream",
     "text": [
      "/home/gaurav/.conda/envs/cdr_climate_uncertainty/lib/python3.10/site-packages/pyam/plotting.py:1073: FutureWarning: iteritems is deprecated and will be removed in a future version. Use .items instead.\n",
      "  for col, data in df.iteritems():\n",
      "/home/gaurav/.conda/envs/cdr_climate_uncertainty/lib/python3.10/site-packages/pyam/plotting.py:1073: FutureWarning: iteritems is deprecated and will be removed in a future version. Use .items instead.\n",
      "  for col, data in df.iteritems():\n",
      "/home/gaurav/.conda/envs/cdr_climate_uncertainty/lib/python3.10/site-packages/scmdata/plotting.py:79: FutureWarning: \n",
      "\n",
      "The `ci` parameter is deprecated. Use `errorbar='sd'` for the same effect.\n",
      "\n",
      "  ax = sns.lineplot(data=plt_df, **kwargs)\n"
     ]
    },
    {
     "data": {
      "text/plain": [
       "<matplotlib.lines.Line2D at 0x7efc7c76cc70>"
      ]
     },
     "execution_count": 46,
     "metadata": {},
     "output_type": "execute_result"
    },
    {
     "data": {
      "image/png": "[encoded data removed]",
      "text/plain": [
       "<Figure size 1000x500 with 2 Axes>"
      ]
     },
     "metadata": {},
     "output_type": "display_data"
    }
   ],
   "source": [
    "fig, ax = plt.subplots(1, 2, figsize=(10, 5))\n",
    "\n",
    "# First, plot the CDR pathway\n",
    "cdr_pathway.plot(ax=ax[0])\n",
    "novel_cdr_original_filtered.plot(ax=ax[0], color='black', linestyle='--')\n",
    "\n",
    "# Plot the temperature\n",
    "temperature_pathway.filter(year=range(1850, 2100)).line_plot(ax=ax[1])\n",
    "ax[1].axhline(1.5, color='black')"
   ]
  },
  {
   "cell_type": "markdown",
   "metadata": {},
   "source": [
    "Save the files out for further assessment."
   ]
  },
  {
   "cell_type": "code",
   "execution_count": 47,
   "metadata": {},
   "outputs": [],
   "source": [
    "output_path=os.environ['OUTPUT_PATH']"
   ]
  },
  {
   "cell_type": "code",
   "execution_count": 48,
   "metadata": {},
   "outputs": [],
   "source": [
    "cdr_pathway.to_csv(\n",
    "    Path(\n",
    "        f\"{output_path}/results/CDR_{MODEL}_{SCENARIO}_{ENSEMBLE_MEMBER}.csv\"\n",
    "    )\n",
    ")"
   ]
  },
  {
   "cell_type": "code",
   "execution_count": 49,
   "metadata": {},
   "outputs": [],
   "source": [
    "temperature_pathway.to_csv(\n",
    "    Path(\n",
    "        f\"{output_path}/results/TEMP_{MODEL}_{SCENARIO}_{ENSEMBLE_MEMBER}.csv\"\n",
    "    )\n",
    ")"
   ]
  }
 ],
 "metadata": {
  "kernelspec": {
   "display_name": "Python 3 (ipykernel)",
   "language": "python",
   "name": "python3"
  },
  "language_info": {
   "codemirror_mode": {
    "name": "ipython",
    "version": 3
   },
   "file_extension": ".py",
   "mimetype": "text/x-python",
   "name": "python",
   "nbconvert_exporter": "python",
   "pygments_lexer": "ipython3",
   "version": "3.10.13"
  }
 },
 "nbformat": 4,
 "nbformat_minor": 4
}
