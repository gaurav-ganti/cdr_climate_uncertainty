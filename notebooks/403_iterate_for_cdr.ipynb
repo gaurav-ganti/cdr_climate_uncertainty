{
 "cells": [
  {
   "cell_type": "markdown",
   "metadata": {},
   "source": [
    "# 403 Iterate for CDR\n",
    "In this notebook we will assess the new CDR needs based on an iterative search."
   ]
  },
  {
   "cell_type": "code",
   "execution_count": 1,
   "metadata": {
    "tags": [
     "parameters"
    ]
   },
   "outputs": [],
   "source": [
    "ENSEMBLE_MEMBER = 4\n",
    "MODEL='REMIND-MAgPIE 2.1-4.3'\n",
    "SCENARIO='DeepElec_SSP2_ HighRE_Budg900'"
   ]
  },
  {
   "cell_type": "code",
   "execution_count": 2,
   "metadata": {},
   "outputs": [
    {
     "data": {
      "application/javascript": "if (typeof IPython !== 'undefined') { IPython.OutputArea.prototype._should_scroll = function(lines){ return false; }}",
      "text/plain": [
       "<IPython.core.display.Javascript object>"
      ]
     },
     "metadata": {},
     "output_type": "display_data"
    },
    {
     "name": "stderr",
     "output_type": "stream",
     "text": [
      "/Users/gauravganti/opt/anaconda3/envs/cdr_climate_uncertainty/lib/python3.10/site-packages/scmdata/database/_database.py:9: TqdmExperimentalWarning: Using `tqdm.autonotebook.tqdm` in notebook mode. Use `tqdm.tqdm` instead to force console mode (e.g. in jupyter console)\n",
      "  import tqdm.autonotebook as tqdman\n"
     ]
    }
   ],
   "source": [
    "import json\n",
    "import os\n",
    "import platform\n",
    "from pathlib import Path\n",
    "\n",
    "import copy\n",
    "import dotenv\n",
    "import matplotlib.pyplot as plt\n",
    "import openscm_runner\n",
    "import scmdata\n",
    "import pyam\n",
    "import pandas as pd\n",
    "import numpy as np\n",
    "from scipy.optimize import minimize_scalar\n",
    "\n",
    "import sys\n",
    "sys.path.append('../scripts/')\n",
    "from cdr import *\n",
    "\n",
    "from climate_assessment.climate.wg3 import clean_wg3_scenarios\n",
    "from climate_assessment.climate.magicc7 import get_magicc7_configurations\n",
    "\n",
    "from utils import rebase_temperatures_wg3\n",
    "\n",
    "%load_ext autoreload\n",
    "%autoreload 2"
   ]
  },
  {
   "cell_type": "code",
   "execution_count": 3,
   "metadata": {},
   "outputs": [
    {
     "data": {
      "text/plain": [
       "True"
      ]
     },
     "execution_count": 3,
     "metadata": {},
     "output_type": "execute_result"
    }
   ],
   "source": [
    "dotenv.load_dotenv()"
   ]
  },
  {
   "cell_type": "code",
   "execution_count": 4,
   "metadata": {},
   "outputs": [
    {
     "name": "stdout",
     "output_type": "stream",
     "text": [
      "Darwin\n"
     ]
    }
   ],
   "source": [
    "os_type = platform.system()\n",
    "print(os_type)\n",
    "\n",
    "match os_type:\n",
    "    case 'Darwin':\n",
    "        os.environ['MAGICC_EXECUTABLE_7']=os.path.join(\n",
    "            os.environ['MAGICC_7_BIN'],\n",
    "            'magicc-darwin-amd64'\n",
    "        )\n",
    "        os.environ['DYLD_LIBRARY_PATH'] = os.environ['DYLD_PATH_GCC']\n",
    "    case 'Linux':\n",
    "        os.environ['MAGICC_EXECUTABLE_7']=os.path.join(\n",
    "            os.environ['MAGICC_7_BIN'],\n",
    "            'magicc'\n",
    "        )"
   ]
  },
  {
   "cell_type": "markdown",
   "metadata": {},
   "source": [
    "Step 1: Load the MAGICC configurations and select the ensemble member (climate realisation) that we want to run through for this study."
   ]
  },
  {
   "cell_type": "code",
   "execution_count": 5,
   "metadata": {},
   "outputs": [],
   "source": [
    "magicc_cfgs, _ = get_magicc7_configurations(\n",
    "    magicc_version=\"v7.5.3\",\n",
    "    magicc_probabilistic_file=os.environ['MAGICC_AR6_PROBABILISTIC_DISTRIBUTION'],\n",
    "    magicc_extra_config=None,\n",
    "    num_cfgs=600,\n",
    "    co2_and_non_co2_warming=False\n",
    ")"
   ]
  },
  {
   "cell_type": "code",
   "execution_count": 6,
   "metadata": {},
   "outputs": [],
   "source": [
    "config_for_run = [magicc_cfgs[ENSEMBLE_MEMBER]]"
   ]
  },
  {
   "cell_type": "markdown",
   "metadata": {},
   "source": [
    "Step 2: Load the necessary emissions-related files for this assessment. We need:\n",
    "* The adapted novel CDR estimates lookup table\n",
    "* The emission dataset to input to the climate model\n",
    "* The original novel CDR estimates that we will use for the calibration iterations and the optimisation"
   ]
  },
  {
   "cell_type": "code",
   "execution_count": 7,
   "metadata": {},
   "outputs": [
    {
     "name": "stderr",
     "output_type": "stream",
     "text": [
      "pyam.core - INFO: Reading file ../data/402_first_guess.csv\n"
     ]
    }
   ],
   "source": [
    "novel_cdr = pyam.IamDataFrame(\n",
    "    Path(\n",
    "        '../data/402_first_guess.csv'\n",
    "    )\n",
    ")"
   ]
  },
  {
   "cell_type": "code",
   "execution_count": 8,
   "metadata": {},
   "outputs": [
    {
     "name": "stderr",
     "output_type": "stream",
     "text": [
      "pyam.core - INFO: Reading file ../data/100_scenarios.csv\n"
     ]
    }
   ],
   "source": [
    "emissions = pyam.IamDataFrame(\n",
    "    Path(\n",
    "        '../data/100_scenarios.csv'\n",
    "    )\n",
    ")"
   ]
  },
  {
   "cell_type": "code",
   "execution_count": 9,
   "metadata": {},
   "outputs": [],
   "source": [
    "metrics = pd.read_csv(\n",
    "    Path(\n",
    "        '../data/401_lookup.csv'\n",
    "    ),\n",
    "    index_col=[0,1, 2]\n",
    ")"
   ]
  },
  {
   "cell_type": "code",
   "execution_count": 10,
   "metadata": {},
   "outputs": [
    {
     "name": "stderr",
     "output_type": "stream",
     "text": [
      "pyam.core - INFO: Reading file ../data/100_novel_cdr.csv\n"
     ]
    }
   ],
   "source": [
    "novel_cdr_original = pyam.IamDataFrame(\n",
    "    Path(\n",
    "        '../data/100_novel_cdr.csv'\n",
    "    )\n",
    ")"
   ]
  },
  {
   "cell_type": "markdown",
   "metadata": {},
   "source": [
    "Step 3: Filter both the datasets for the necessary model and scenario. Additionally, for the novel CDR dataframe, downselect it to get the ensemble member of choice."
   ]
  },
  {
   "cell_type": "code",
   "execution_count": 11,
   "metadata": {},
   "outputs": [],
   "source": [
    "novel_cdr_for_iteration = (\n",
    "    novel_cdr\n",
    "    .filter(\n",
    "        ensemble_member=ENSEMBLE_MEMBER,\n",
    "        model=MODEL,\n",
    "        scenario=SCENARIO\n",
    "    )\n",
    ")"
   ]
  },
  {
   "cell_type": "code",
   "execution_count": 12,
   "metadata": {},
   "outputs": [],
   "source": [
    "novel_cdr_for_iteration.interpolate(\n",
    "    time=range(2015, 2101),\n",
    "    inplace=True\n",
    ")"
   ]
  },
  {
   "cell_type": "code",
   "execution_count": 13,
   "metadata": {},
   "outputs": [],
   "source": [
    "emissions_for_iteration = (\n",
    "    emissions\n",
    "    .filter(\n",
    "        model=MODEL,\n",
    "        scenario=SCENARIO\n",
    "    )\n",
    ")"
   ]
  },
  {
   "cell_type": "code",
   "execution_count": 14,
   "metadata": {},
   "outputs": [],
   "source": [
    "emissions_for_iteration.swap_time_for_year(inplace=True)"
   ]
  },
  {
   "cell_type": "code",
   "execution_count": 15,
   "metadata": {},
   "outputs": [],
   "source": [
    "novel_cdr_original_filtered = (\n",
    "    novel_cdr_original\n",
    "    .filter(\n",
    "        model=MODEL,\n",
    "        scenario=SCENARIO\n",
    "    )\n",
    "    .interpolate(\n",
    "        time=range(2015, 2101)\n",
    "    )\n",
    ")"
   ]
  },
  {
   "cell_type": "markdown",
   "metadata": {},
   "source": [
    "Step 4: We need the year of net zero CO2 and zero out the CDR before (so that we do not have a double counting effect)"
   ]
  },
  {
   "cell_type": "code",
   "execution_count": 16,
   "metadata": {},
   "outputs": [],
   "source": [
    "def process_novel_cdr(data, netzero_timing):\n",
    "    data_to_return = (\n",
    "        data.timeseries()\n",
    "        -\n",
    "        novel_cdr_original_filtered.timeseries()\n",
    "    )\n",
    "    return pyam.IamDataFrame(data_to_return)"
   ]
  },
  {
   "cell_type": "code",
   "execution_count": 17,
   "metadata": {},
   "outputs": [],
   "source": [
    "netzero_timing = metrics.loc[\n",
    "    (MODEL, SCENARIO, ENSEMBLE_MEMBER),\n",
    "    'netzero|CO2'\n",
    "]"
   ]
  },
  {
   "cell_type": "code",
   "execution_count": 18,
   "metadata": {},
   "outputs": [],
   "source": [
    "novel_cdr_to_crunch = process_novel_cdr(\n",
    "    novel_cdr_for_iteration,\n",
    "    netzero_timing\n",
    ")"
   ]
  },
  {
   "cell_type": "code",
   "execution_count": 19,
   "metadata": {},
   "outputs": [],
   "source": [
    "novel_cdr_for_iteration.set_meta(\n",
    "    name='netzero|CO2',\n",
    "    meta=netzero_timing\n",
    ")"
   ]
  },
  {
   "cell_type": "markdown",
   "metadata": {},
   "source": [
    "Step 4: Make a function that constructs a new emission dataframe to run through the simple climate model."
   ]
  },
  {
   "cell_type": "code",
   "execution_count": 20,
   "metadata": {},
   "outputs": [],
   "source": [
    "def construct_new_emissions_dataframe(\n",
    "        emissions, cdr\n",
    "):\n",
    "    emissions_to_return = copy.deepcopy(emissions)\n",
    "    # Step 1: Get the CDR dataframe\n",
    "    cdr_altered = pyam.IamDataFrame(\n",
    "        cdr\n",
    "        .timeseries()\n",
    "        .reset_index()\n",
    "        .drop(columns=cdr.extra_cols)\n",
    "    )\n",
    "    # Step 2: Pull out the emissions\n",
    "    co2_ffi_var = 'AR6 climate diagnostics|Infilled|Emissions|CO2|Energy and Industrial Processes'\n",
    "    co2_ffi = (\n",
    "        emissions_to_return\n",
    "        .filter(variable=co2_ffi_var)\n",
    "    )\n",
    "    # Step 3: Create a non CO2 dataframe\n",
    "    nonco2_ffi = (\n",
    "        emissions_to_return\n",
    "        .filter(\n",
    "            variable=co2_ffi_var,\n",
    "            keep=False\n",
    "        )\n",
    "    )\n",
    "    # Step 4: Aggregate the two variables\n",
    "    concat = pyam.concat([cdr_altered, co2_ffi])\n",
    "    concat_co2_ffi = concat.subtract(\n",
    "        a=co2_ffi_var,\n",
    "        b='Carbon Dioxide Removal|Novel',\n",
    "        name=co2_ffi_var,\n",
    "        ignore_units='Mt CO2/yr'\n",
    "    )\n",
    "    # Step 5: Return this\n",
    "    df_to_return = pyam.concat([concat_co2_ffi, nonco2_ffi])\n",
    "    return df_to_return.filter(year=range(2015, 2101))"
   ]
  },
  {
   "cell_type": "code",
   "execution_count": 21,
   "metadata": {},
   "outputs": [],
   "source": [
    "test = construct_new_emissions_dataframe(emissions_for_iteration, novel_cdr_to_crunch)"
   ]
  },
  {
   "cell_type": "code",
   "execution_count": 22,
   "metadata": {},
   "outputs": [
    {
     "data": {
      "text/html": [
       "<div>\n",
       "<style scoped>\n",
       "    .dataframe tbody tr th:only-of-type {\n",
       "        vertical-align: middle;\n",
       "    }\n",
       "\n",
       "    .dataframe tbody tr th {\n",
       "        vertical-align: top;\n",
       "    }\n",
       "\n",
       "    .dataframe thead th {\n",
       "        text-align: right;\n",
       "    }\n",
       "</style>\n",
       "<table border=\"1\" class=\"dataframe\">\n",
       "  <thead>\n",
       "    <tr style=\"text-align: right;\">\n",
       "      <th></th>\n",
       "      <th></th>\n",
       "      <th></th>\n",
       "      <th></th>\n",
       "      <th></th>\n",
       "      <th></th>\n",
       "      <th></th>\n",
       "      <th>2005</th>\n",
       "      <th>2010</th>\n",
       "      <th>2015</th>\n",
       "      <th>2016</th>\n",
       "      <th>2017</th>\n",
       "      <th>2018</th>\n",
       "      <th>2019</th>\n",
       "      <th>2020</th>\n",
       "      <th>2021</th>\n",
       "      <th>2022</th>\n",
       "      <th>...</th>\n",
       "      <th>2091</th>\n",
       "      <th>2092</th>\n",
       "      <th>2093</th>\n",
       "      <th>2094</th>\n",
       "      <th>2095</th>\n",
       "      <th>2096</th>\n",
       "      <th>2097</th>\n",
       "      <th>2098</th>\n",
       "      <th>2099</th>\n",
       "      <th>2100</th>\n",
       "    </tr>\n",
       "    <tr>\n",
       "      <th>model</th>\n",
       "      <th>scenario</th>\n",
       "      <th>region</th>\n",
       "      <th>variable</th>\n",
       "      <th>unit</th>\n",
       "      <th>angle</th>\n",
       "      <th>ensemble_member</th>\n",
       "      <th></th>\n",
       "      <th></th>\n",
       "      <th></th>\n",
       "      <th></th>\n",
       "      <th></th>\n",
       "      <th></th>\n",
       "      <th></th>\n",
       "      <th></th>\n",
       "      <th></th>\n",
       "      <th></th>\n",
       "      <th></th>\n",
       "      <th></th>\n",
       "      <th></th>\n",
       "      <th></th>\n",
       "      <th></th>\n",
       "      <th></th>\n",
       "      <th></th>\n",
       "      <th></th>\n",
       "      <th></th>\n",
       "      <th></th>\n",
       "      <th></th>\n",
       "    </tr>\n",
       "  </thead>\n",
       "  <tbody>\n",
       "    <tr>\n",
       "      <th>REMIND-MAgPIE 2.1-4.3</th>\n",
       "      <th>DeepElec_SSP2_ HighRE_Budg900</th>\n",
       "      <th>World</th>\n",
       "      <th>Carbon Dioxide Removal|Novel</th>\n",
       "      <th>Mt CO2/yr</th>\n",
       "      <th>89.575479</th>\n",
       "      <th>4</th>\n",
       "      <td>2.6171</td>\n",
       "      <td>2.8996</td>\n",
       "      <td>3.1828</td>\n",
       "      <td>3.24602</td>\n",
       "      <td>3.30924</td>\n",
       "      <td>3.37246</td>\n",
       "      <td>3.43568</td>\n",
       "      <td>3.4989</td>\n",
       "      <td>10.5683</td>\n",
       "      <td>17.6377</td>\n",
       "      <td>...</td>\n",
       "      <td>7222.184897</td>\n",
       "      <td>7344.573012</td>\n",
       "      <td>7466.961126</td>\n",
       "      <td>7589.34924</td>\n",
       "      <td>7711.737355</td>\n",
       "      <td>7834.125469</td>\n",
       "      <td>7956.513583</td>\n",
       "      <td>8078.901698</td>\n",
       "      <td>8201.289812</td>\n",
       "      <td>8323.677926</td>\n",
       "    </tr>\n",
       "  </tbody>\n",
       "</table>\n",
       "<p>1 rows × 88 columns</p>\n",
       "</div>"
      ],
      "text/plain": [
       "                                                                                                                               2005  \\\n",
       "model                 scenario                      region variable                     unit      angle     ensemble_member           \n",
       "REMIND-MAgPIE 2.1-4.3 DeepElec_SSP2_ HighRE_Budg900 World  Carbon Dioxide Removal|Novel Mt CO2/yr 89.575479 4                2.6171   \n",
       "\n",
       "                                                                                                                               2010  \\\n",
       "model                 scenario                      region variable                     unit      angle     ensemble_member           \n",
       "REMIND-MAgPIE 2.1-4.3 DeepElec_SSP2_ HighRE_Budg900 World  Carbon Dioxide Removal|Novel Mt CO2/yr 89.575479 4                2.8996   \n",
       "\n",
       "                                                                                                                               2015  \\\n",
       "model                 scenario                      region variable                     unit      angle     ensemble_member           \n",
       "REMIND-MAgPIE 2.1-4.3 DeepElec_SSP2_ HighRE_Budg900 World  Carbon Dioxide Removal|Novel Mt CO2/yr 89.575479 4                3.1828   \n",
       "\n",
       "                                                                                                                                2016  \\\n",
       "model                 scenario                      region variable                     unit      angle     ensemble_member            \n",
       "REMIND-MAgPIE 2.1-4.3 DeepElec_SSP2_ HighRE_Budg900 World  Carbon Dioxide Removal|Novel Mt CO2/yr 89.575479 4                3.24602   \n",
       "\n",
       "                                                                                                                                2017  \\\n",
       "model                 scenario                      region variable                     unit      angle     ensemble_member            \n",
       "REMIND-MAgPIE 2.1-4.3 DeepElec_SSP2_ HighRE_Budg900 World  Carbon Dioxide Removal|Novel Mt CO2/yr 89.575479 4                3.30924   \n",
       "\n",
       "                                                                                                                                2018  \\\n",
       "model                 scenario                      region variable                     unit      angle     ensemble_member            \n",
       "REMIND-MAgPIE 2.1-4.3 DeepElec_SSP2_ HighRE_Budg900 World  Carbon Dioxide Removal|Novel Mt CO2/yr 89.575479 4                3.37246   \n",
       "\n",
       "                                                                                                                                2019  \\\n",
       "model                 scenario                      region variable                     unit      angle     ensemble_member            \n",
       "REMIND-MAgPIE 2.1-4.3 DeepElec_SSP2_ HighRE_Budg900 World  Carbon Dioxide Removal|Novel Mt CO2/yr 89.575479 4                3.43568   \n",
       "\n",
       "                                                                                                                               2020  \\\n",
       "model                 scenario                      region variable                     unit      angle     ensemble_member           \n",
       "REMIND-MAgPIE 2.1-4.3 DeepElec_SSP2_ HighRE_Budg900 World  Carbon Dioxide Removal|Novel Mt CO2/yr 89.575479 4                3.4989   \n",
       "\n",
       "                                                                                                                                2021  \\\n",
       "model                 scenario                      region variable                     unit      angle     ensemble_member            \n",
       "REMIND-MAgPIE 2.1-4.3 DeepElec_SSP2_ HighRE_Budg900 World  Carbon Dioxide Removal|Novel Mt CO2/yr 89.575479 4                10.5683   \n",
       "\n",
       "                                                                                                                                2022  \\\n",
       "model                 scenario                      region variable                     unit      angle     ensemble_member            \n",
       "REMIND-MAgPIE 2.1-4.3 DeepElec_SSP2_ HighRE_Budg900 World  Carbon Dioxide Removal|Novel Mt CO2/yr 89.575479 4                17.6377   \n",
       "\n",
       "                                                                                                                             ...  \\\n",
       "model                 scenario                      region variable                     unit      angle     ensemble_member  ...   \n",
       "REMIND-MAgPIE 2.1-4.3 DeepElec_SSP2_ HighRE_Budg900 World  Carbon Dioxide Removal|Novel Mt CO2/yr 89.575479 4                ...   \n",
       "\n",
       "                                                                                                                                    2091  \\\n",
       "model                 scenario                      region variable                     unit      angle     ensemble_member                \n",
       "REMIND-MAgPIE 2.1-4.3 DeepElec_SSP2_ HighRE_Budg900 World  Carbon Dioxide Removal|Novel Mt CO2/yr 89.575479 4                7222.184897   \n",
       "\n",
       "                                                                                                                                    2092  \\\n",
       "model                 scenario                      region variable                     unit      angle     ensemble_member                \n",
       "REMIND-MAgPIE 2.1-4.3 DeepElec_SSP2_ HighRE_Budg900 World  Carbon Dioxide Removal|Novel Mt CO2/yr 89.575479 4                7344.573012   \n",
       "\n",
       "                                                                                                                                    2093  \\\n",
       "model                 scenario                      region variable                     unit      angle     ensemble_member                \n",
       "REMIND-MAgPIE 2.1-4.3 DeepElec_SSP2_ HighRE_Budg900 World  Carbon Dioxide Removal|Novel Mt CO2/yr 89.575479 4                7466.961126   \n",
       "\n",
       "                                                                                                                                   2094  \\\n",
       "model                 scenario                      region variable                     unit      angle     ensemble_member               \n",
       "REMIND-MAgPIE 2.1-4.3 DeepElec_SSP2_ HighRE_Budg900 World  Carbon Dioxide Removal|Novel Mt CO2/yr 89.575479 4                7589.34924   \n",
       "\n",
       "                                                                                                                                    2095  \\\n",
       "model                 scenario                      region variable                     unit      angle     ensemble_member                \n",
       "REMIND-MAgPIE 2.1-4.3 DeepElec_SSP2_ HighRE_Budg900 World  Carbon Dioxide Removal|Novel Mt CO2/yr 89.575479 4                7711.737355   \n",
       "\n",
       "                                                                                                                                    2096  \\\n",
       "model                 scenario                      region variable                     unit      angle     ensemble_member                \n",
       "REMIND-MAgPIE 2.1-4.3 DeepElec_SSP2_ HighRE_Budg900 World  Carbon Dioxide Removal|Novel Mt CO2/yr 89.575479 4                7834.125469   \n",
       "\n",
       "                                                                                                                                    2097  \\\n",
       "model                 scenario                      region variable                     unit      angle     ensemble_member                \n",
       "REMIND-MAgPIE 2.1-4.3 DeepElec_SSP2_ HighRE_Budg900 World  Carbon Dioxide Removal|Novel Mt CO2/yr 89.575479 4                7956.513583   \n",
       "\n",
       "                                                                                                                                    2098  \\\n",
       "model                 scenario                      region variable                     unit      angle     ensemble_member                \n",
       "REMIND-MAgPIE 2.1-4.3 DeepElec_SSP2_ HighRE_Budg900 World  Carbon Dioxide Removal|Novel Mt CO2/yr 89.575479 4                8078.901698   \n",
       "\n",
       "                                                                                                                                    2099  \\\n",
       "model                 scenario                      region variable                     unit      angle     ensemble_member                \n",
       "REMIND-MAgPIE 2.1-4.3 DeepElec_SSP2_ HighRE_Budg900 World  Carbon Dioxide Removal|Novel Mt CO2/yr 89.575479 4                8201.289812   \n",
       "\n",
       "                                                                                                                                    2100  \n",
       "model                 scenario                      region variable                     unit      angle     ensemble_member               \n",
       "REMIND-MAgPIE 2.1-4.3 DeepElec_SSP2_ HighRE_Budg900 World  Carbon Dioxide Removal|Novel Mt CO2/yr 89.575479 4                8323.677926  \n",
       "\n",
       "[1 rows x 88 columns]"
      ]
     },
     "execution_count": 22,
     "metadata": {},
     "output_type": "execute_result"
    }
   ],
   "source": [
    "novel_cdr_for_iteration.timeseries()"
   ]
  },
  {
   "cell_type": "code",
   "execution_count": 23,
   "metadata": {},
   "outputs": [
    {
     "data": {
      "text/plain": [
       "Text(0.5, 1.0, '')"
      ]
     },
     "execution_count": 23,
     "metadata": {},
     "output_type": "execute_result"
    },
    {
     "data": {
      "image/png": "[encoded data removed]",
      "text/plain": [
       "<Figure size 640x480 with 1 Axes>"
      ]
     },
     "metadata": {},
     "output_type": "display_data"
    }
   ],
   "source": [
    "fig, ax = plt.subplots()\n",
    "\n",
    "test.filter(\n",
    "    variable='*Emissions|CO2|Energy and Industrial Processes'\n",
    ").plot(ax=ax, color='red')\n",
    "\n",
    "emissions_for_iteration.filter(\n",
    "    variable='*Emissions|CO2|Energy and Industrial Processes'\n",
    ").plot(ax=ax, color='blue')\n",
    "\n",
    "ax.set_title('')"
   ]
  },
  {
   "cell_type": "markdown",
   "metadata": {},
   "source": [
    "Step 6: Create the input for MAGICC and run this through for a first cut."
   ]
  },
  {
   "cell_type": "code",
   "execution_count": 24,
   "metadata": {},
   "outputs": [
    {
     "name": "stderr",
     "output_type": "stream",
     "text": [
      "/Users/gauravganti/opt/anaconda3/envs/cdr_climate_uncertainty/lib/python3.10/site-packages/climate_assessment/climate/wg3.py:42: FutureWarning: The default value of regex will change from True to False in a future version.\n",
      "  df_clean[\"variable\"] = df_clean[\"variable\"].str.replace(old, new)\n"
     ]
    }
   ],
   "source": [
    "input_scm = scmdata.ScmRun(\n",
    "    clean_wg3_scenarios(test)\n",
    ")"
   ]
  },
  {
   "cell_type": "code",
   "execution_count": 25,
   "metadata": {},
   "outputs": [
    {
     "data": {
      "application/vnd.jupyter.widget-view+json": {
       "model_id": "16ce01c201a24d79b896e13509948951",
       "version_major": 2,
       "version_minor": 0
      },
      "text/plain": [
       "Climate models:   0%|          | 0.00/1.00 [00:00<?, ?it/s]"
      ]
     },
     "metadata": {},
     "output_type": "display_data"
    },
    {
     "name": "stderr",
     "output_type": "stream",
     "text": [
      "Historical data has not been checked\n",
      "/Users/gauravganti/opt/anaconda3/envs/cdr_climate_uncertainty/lib/python3.10/site-packages/openscm_units/_unit_registry.py:471: FutureWarning: iteritems is deprecated and will be removed in a future version. Use .items instead.\n",
      "  for label, val in metric_conversion.iteritems():\n"
     ]
    },
    {
     "data": {
      "application/vnd.jupyter.widget-view+json": {
       "model_id": "65357eb8e5a0451d841177f071b88e2e",
       "version_major": 2,
       "version_minor": 0
      },
      "text/plain": [
       "Writing SCEN7 files:   0%|          | 0.00/1.00 [00:00<?, ?it/s]"
      ]
     },
     "metadata": {},
     "output_type": "display_data"
    },
    {
     "data": {
      "application/vnd.jupyter.widget-view+json": {
       "model_id": "5098e0840d884ea9bc1f6f1689a4dadd",
       "version_major": 2,
       "version_minor": 0
      },
      "text/plain": [
       "Front serial:   0%|          | 0.00/1.00 [00:00<?, ?it/s]"
      ]
     },
     "metadata": {},
     "output_type": "display_data"
    },
    {
     "name": "stderr",
     "output_type": "stream",
     "text": [
      "/Users/gauravganti/opt/anaconda3/envs/cdr_climate_uncertainty/lib/python3.10/site-packages/pymagicc/core.py:387: UserWarning: Not reading file: DAT_HEATUPTK_EBALANCE_SUBANN.BINOUT. Monthly data are not read in automatically by `run`. Use `MAGICCData` instead.\n",
      "  warnings.warn(\n",
      "/Users/gauravganti/opt/anaconda3/envs/cdr_climate_uncertainty/lib/python3.10/site-packages/pymagicc/core.py:387: UserWarning: Not reading file: DAT_HEATCONT_EBALANCE_SUBANN.BINOUT. Monthly data are not read in automatically by `run`. Use `MAGICCData` instead.\n",
      "  warnings.warn(\n"
     ]
    },
    {
     "data": {
      "application/vnd.jupyter.widget-view+json": {
       "model_id": "73d227e2b1f142df936481f2bdbc6eb5",
       "version_major": 2,
       "version_minor": 0
      },
      "text/plain": [
       "Front parallel: 0.00it [00:00, ?it/s]"
      ]
     },
     "metadata": {},
     "output_type": "display_data"
    },
    {
     "data": {
      "application/vnd.jupyter.widget-view+json": {
       "model_id": "818e5f24ee124d9e8c6eff7fb8032fab",
       "version_major": 2,
       "version_minor": 0
      },
      "text/plain": [
       "Parallel runs: 0.00it [00:00, ?it/s]"
      ]
     },
     "metadata": {},
     "output_type": "display_data"
    }
   ],
   "source": [
    "try:\n",
    "    temp_confirmation =  openscm_runner.run(\n",
    "        {'MAGICC7':config_for_run},\n",
    "        input_scm,\n",
    "        output_variables=[\n",
    "            'Surface Temperature'\n",
    "        ]\n",
    "    )\n",
    "    temp_proc = (\n",
    "        rebase_temperatures_wg3(\n",
    "            temp_confirmation\n",
    "        )\n",
    "        .timeseries()\n",
    "    )\n",
    "    temp_calibrate_2100 = temp_proc['2100-01-01'].values[0].round(2)\n",
    "except:\n",
    "    temp_calibrate_2100 = 1.5"
   ]
  },
  {
   "cell_type": "code",
   "execution_count": 26,
   "metadata": {},
   "outputs": [
    {
     "data": {
      "text/plain": [
       "<matplotlib.lines.Line2D at 0x16ce96770>"
      ]
     },
     "execution_count": 26,
     "metadata": {},
     "output_type": "execute_result"
    },
    {
     "data": {
      "image/png": "[encoded data removed]",
      "text/plain": [
       "<Figure size 640x480 with 1 Axes>"
      ]
     },
     "metadata": {},
     "output_type": "display_data"
    }
   ],
   "source": [
    "fig, ax = plt.subplots()\n",
    "\n",
    "metrics_small = metrics.loc[\n",
    "    (MODEL, SCENARIO, ENSEMBLE_MEMBER),\n",
    "]\n",
    "\n",
    "ax.bar(x=0, height=metrics_small['peak_warming'], width=0.1)\n",
    "ax.bar(x=0.3, height=metrics_small['2100_warming'], width=0.1)\n",
    "ax.bar(x=0.6, height=temp_calibrate_2100, width=0.1)\n",
    "ax.axhline(1.5, color='black')"
   ]
  },
  {
   "cell_type": "markdown",
   "metadata": {},
   "source": [
    "Step 7: Now that we know the direction (whether above or below), we now need a few calibration runs to get to the correct direction."
   ]
  },
  {
   "cell_type": "code",
   "execution_count": 27,
   "metadata": {},
   "outputs": [
    {
     "name": "stdout",
     "output_type": "stream",
     "text": [
      "-0.050000000000000044\n"
     ]
    }
   ],
   "source": [
    "deviation = temp_calibrate_2100 - 1.5\n",
    "print(deviation)"
   ]
  },
  {
   "cell_type": "code",
   "execution_count": 28,
   "metadata": {},
   "outputs": [],
   "source": [
    "def return_temperature_deviation(input_emissions):\n",
    "    # Step 1: Run this through the simple climate model\n",
    "    temperatures = openscm_runner.run(\n",
    "        {'MAGICC7':config_for_run},\n",
    "        input_emissions,\n",
    "        output_variables=[\n",
    "            'Surface Temperature'\n",
    "        ]    \n",
    "    )\n",
    "    # Step 2: Rebase to 1850-1900 and return the 2100 value deviation\n",
    "    temperatures_rebased = (\n",
    "        rebase_temperatures_wg3(temperatures)\n",
    "    )\n",
    "    temp_2100 = (\n",
    "        temperatures_rebased\n",
    "        .timeseries()['2100-01-01']\n",
    "        .values[0]\n",
    "    )\n",
    "    # Step 3: Return the deviation\n",
    "    return temp_2100 - 1.5"
   ]
  },
  {
   "cell_type": "code",
   "execution_count": 29,
   "metadata": {},
   "outputs": [],
   "source": [
    "novel_cdr_for_iteration.angle[0]\n",
    "if deviation < 0:\n",
    "    calibrate_type = 'reduce'\n",
    "elif deviation > 0:\n",
    "    calibrate_type = 'increase'\n",
    "else:\n",
    "    calibrate_type = 'none'"
   ]
  },
  {
   "cell_type": "code",
   "execution_count": 30,
   "metadata": {},
   "outputs": [
    {
     "data": {
      "text/plain": [
       "<class 'pyam.core.IamDataFrame'>\n",
       "Index:\n",
       " * model           : REMIND-MAgPIE 2.1-4.3 (1)\n",
       " * scenario        : DeepElec_SSP2_ HighRE_Budg900 (1)\n",
       "Timeseries data coordinates:\n",
       "   region          : World (1)\n",
       "   variable        : Carbon Dioxide Removal|Novel (1)\n",
       "   unit            : Mt CO2/yr (1)\n",
       "   angle           : 89.57547881428569 (1)\n",
       "   ensemble_member : 4 (1)\n",
       "   year            : 2005, 2010, 2015, 2016, 2017, 2018, 2019, ... 2100 (88)\n",
       "Meta indicators:\n",
       "   netzero|CO2 (int64) 2057 (1)"
      ]
     },
     "execution_count": 30,
     "metadata": {},
     "output_type": "execute_result"
    }
   ],
   "source": [
    "novel_cdr_for_iteration"
   ]
  },
  {
   "cell_type": "code",
   "execution_count": 31,
   "metadata": {},
   "outputs": [],
   "source": [
    "novel_cdr_original_filtered.meta = novel_cdr_for_iteration.meta"
   ]
  },
  {
   "cell_type": "code",
   "execution_count": 32,
   "metadata": {},
   "outputs": [],
   "source": [
    "def initial_calibration(\n",
    "        emissions,\n",
    "        cdr_first_guess,\n",
    "        angle_first_guess,\n",
    "        current_deviation\n",
    "):\n",
    "    # Step 1: Create a dictionary to store the calibrations\n",
    "    calibration = {}\n",
    "    emissions_copy = copy.deepcopy(emissions)\n",
    "    cdr = copy.deepcopy(cdr_first_guess)\n",
    "    # Step 2: Determine walk direction\n",
    "    if current_deviation > 0:\n",
    "        new_deviation = current_deviation\n",
    "        step_size=0.5\n",
    "        while new_deviation > 0:\n",
    "            new_angle = angle_first_guess + step_size\n",
    "            print(new_deviation, new_angle)\n",
    "            if new_angle > 91:\n",
    "                break\n",
    "            new_cdr, _ = rotate_and_calc_cumulative(\n",
    "                cdr,\n",
    "                new_angle\n",
    "            )\n",
    "            new_emissions = (\n",
    "                scmdata.ScmRun(\n",
    "                    clean_wg3_scenarios(\n",
    "                        construct_new_emissions_dataframe(\n",
    "                            emissions_copy,\n",
    "                            process_novel_cdr(new_cdr, cdr.meta['netzero|CO2'].values[0])\n",
    "                        )\n",
    "                    \n",
    "                    )\n",
    "                )\n",
    "            )\n",
    "            new_deviation = return_temperature_deviation(new_emissions)\n",
    "            calibration[new_angle] = new_deviation\n",
    "            step_size += step_size\n",
    "    elif current_deviation < 0:\n",
    "        step_size=5\n",
    "        new_deviation = current_deviation\n",
    "        while new_deviation < 0:\n",
    "            new_angle = angle_first_guess - step_size\n",
    "            if new_angle < 0:\n",
    "                break\n",
    "            print(new_deviation, new_angle)\n",
    "            new_cdr, _ = rotate_and_calc_cumulative(\n",
    "                cdr,\n",
    "                new_angle\n",
    "            )\n",
    "            new_emissions = (\n",
    "                scmdata.ScmRun(\n",
    "                    clean_wg3_scenarios(\n",
    "                        construct_new_emissions_dataframe(\n",
    "                            emissions_copy,\n",
    "                            process_novel_cdr(new_cdr, cdr.meta['netzero|CO2'].values[0])\n",
    "                        )\n",
    "                    \n",
    "                    )\n",
    "                )\n",
    "            )\n",
    "            new_deviation = return_temperature_deviation(new_emissions)\n",
    "            calibration[new_angle] = new_deviation\n",
    "            step_size += step_size\n",
    "    return pd.DataFrame(\n",
    "        calibration.items(),\n",
    "        columns=['angle', 'deviation']\n",
    "    )"
   ]
  },
  {
   "cell_type": "code",
   "execution_count": 33,
   "metadata": {},
   "outputs": [
    {
     "name": "stdout",
     "output_type": "stream",
     "text": [
      "-0.050000000000000044 84.57547881428569\n"
     ]
    },
    {
     "name": "stderr",
     "output_type": "stream",
     "text": [
      "/Users/gauravganti/opt/anaconda3/envs/cdr_climate_uncertainty/lib/python3.10/site-packages/climate_assessment/climate/wg3.py:42: FutureWarning: The default value of regex will change from True to False in a future version.\n",
      "  df_clean[\"variable\"] = df_clean[\"variable\"].str.replace(old, new)\n"
     ]
    },
    {
     "data": {
      "application/vnd.jupyter.widget-view+json": {
       "model_id": "139ac1d479724da982360b325e6f1c76",
       "version_major": 2,
       "version_minor": 0
      },
      "text/plain": [
       "Climate models:   0%|          | 0.00/1.00 [00:00<?, ?it/s]"
      ]
     },
     "metadata": {},
     "output_type": "display_data"
    },
    {
     "name": "stderr",
     "output_type": "stream",
     "text": [
      "Historical data has not been checked\n"
     ]
    },
    {
     "data": {
      "application/vnd.jupyter.widget-view+json": {
       "model_id": "367af810c9504aa58e93c27ab1841433",
       "version_major": 2,
       "version_minor": 0
      },
      "text/plain": [
       "Writing SCEN7 files:   0%|          | 0.00/1.00 [00:00<?, ?it/s]"
      ]
     },
     "metadata": {},
     "output_type": "display_data"
    },
    {
     "data": {
      "application/vnd.jupyter.widget-view+json": {
       "model_id": "4c1ce6fb3eef4dc581ca676907182d8d",
       "version_major": 2,
       "version_minor": 0
      },
      "text/plain": [
       "Front serial:   0%|          | 0.00/1.00 [00:00<?, ?it/s]"
      ]
     },
     "metadata": {},
     "output_type": "display_data"
    },
    {
     "name": "stderr",
     "output_type": "stream",
     "text": [
      "/Users/gauravganti/opt/anaconda3/envs/cdr_climate_uncertainty/lib/python3.10/site-packages/pymagicc/core.py:387: UserWarning: Not reading file: DAT_HEATUPTK_EBALANCE_SUBANN.BINOUT. Monthly data are not read in automatically by `run`. Use `MAGICCData` instead.\n",
      "  warnings.warn(\n",
      "/Users/gauravganti/opt/anaconda3/envs/cdr_climate_uncertainty/lib/python3.10/site-packages/pymagicc/core.py:387: UserWarning: Not reading file: DAT_HEATCONT_EBALANCE_SUBANN.BINOUT. Monthly data are not read in automatically by `run`. Use `MAGICCData` instead.\n",
      "  warnings.warn(\n"
     ]
    },
    {
     "data": {
      "application/vnd.jupyter.widget-view+json": {
       "model_id": "1066661545c74cea8b32878f6b740c97",
       "version_major": 2,
       "version_minor": 0
      },
      "text/plain": [
       "Front parallel: 0.00it [00:00, ?it/s]"
      ]
     },
     "metadata": {},
     "output_type": "display_data"
    },
    {
     "data": {
      "application/vnd.jupyter.widget-view+json": {
       "model_id": "2eb085c36c9841a1aa87c4f3ef83e4e2",
       "version_major": 2,
       "version_minor": 0
      },
      "text/plain": [
       "Parallel runs: 0.00it [00:00, ?it/s]"
      ]
     },
     "metadata": {},
     "output_type": "display_data"
    }
   ],
   "source": [
    "initial_calibration_set = initial_calibration(\n",
    "    emissions_for_iteration,\n",
    "    novel_cdr_original_filtered,\n",
    "    novel_cdr_for_iteration.angle[0],\n",
    "    current_deviation=deviation,\n",
    ")"
   ]
  },
  {
   "cell_type": "code",
   "execution_count": 34,
   "metadata": {},
   "outputs": [
    {
     "data": {
      "text/html": [
       "<div>\n",
       "<style scoped>\n",
       "    .dataframe tbody tr th:only-of-type {\n",
       "        vertical-align: middle;\n",
       "    }\n",
       "\n",
       "    .dataframe tbody tr th {\n",
       "        vertical-align: top;\n",
       "    }\n",
       "\n",
       "    .dataframe thead th {\n",
       "        text-align: right;\n",
       "    }\n",
       "</style>\n",
       "<table border=\"1\" class=\"dataframe\">\n",
       "  <thead>\n",
       "    <tr style=\"text-align: right;\">\n",
       "      <th></th>\n",
       "      <th>angle</th>\n",
       "      <th>deviation</th>\n",
       "    </tr>\n",
       "  </thead>\n",
       "  <tbody>\n",
       "    <tr>\n",
       "      <th>0</th>\n",
       "      <td>84.575479</td>\n",
       "      <td>0.007178</td>\n",
       "    </tr>\n",
       "  </tbody>\n",
       "</table>\n",
       "</div>"
      ],
      "text/plain": [
       "       angle  deviation\n",
       "0  84.575479   0.007178"
      ]
     },
     "execution_count": 34,
     "metadata": {},
     "output_type": "execute_result"
    }
   ],
   "source": [
    "initial_calibration_set"
   ]
  },
  {
   "cell_type": "code",
   "execution_count": 35,
   "metadata": {},
   "outputs": [],
   "source": [
    "def objective(angle, emissions, cdr_first_guess):\n",
    "    # Step 1: Get the new CDR pathway\n",
    "    new_cdr, _ = rotate_and_calc_cumulative(\n",
    "        cdr_first_guess,\n",
    "        angle\n",
    "    )\n",
    "    # Step 2: Get the new emissions pathway\n",
    "    new_emissions = (\n",
    "        scmdata.ScmRun(\n",
    "            clean_wg3_scenarios(\n",
    "                construct_new_emissions_dataframe(\n",
    "                    emissions,\n",
    "                    process_novel_cdr(new_cdr, cdr_first_guess.meta['netzero|CO2'].values[0])\n",
    "                )        \n",
    "            )\n",
    "        )\n",
    "    )\n",
    "    new_deviation = abs(return_temperature_deviation(new_emissions))\n",
    "    return new_deviation"
   ]
  },
  {
   "cell_type": "code",
   "execution_count": 36,
   "metadata": {},
   "outputs": [
    {
     "data": {
      "text/plain": [
       "89.57547881428569"
      ]
     },
     "execution_count": 36,
     "metadata": {},
     "output_type": "execute_result"
    }
   ],
   "source": [
    "novel_cdr_for_iteration.angle[0]"
   ]
  },
  {
   "cell_type": "code",
   "execution_count": 37,
   "metadata": {},
   "outputs": [],
   "source": [
    "if calibrate_type == 'increase':\n",
    "    try: max_angle = min(90, initial_calibration_set.iloc[-1]['angle'])\n",
    "    except: max_angle=90\n",
    "    bounds = (novel_cdr_for_iteration.angle[0], max_angle)\n",
    "elif calibrate_type == 'reduce':\n",
    "    try: min_angle = max(0, initial_calibration_set.iloc[-1]['angle'])\n",
    "    except: min_angle=0\n",
    "    bounds = (min_angle, novel_cdr_for_iteration.angle[0])\n",
    "elif calibrate_type == 'none':\n",
    "    bounds = (novel_cdr_for_iteration.angle[0], novel_cdr_for_iteration.angle[0]) # Catch the issue where deviation is 0"
   ]
  },
  {
   "cell_type": "code",
   "execution_count": 38,
   "metadata": {},
   "outputs": [
    {
     "data": {
      "text/plain": [
       "(84.57547881428569, 89.57547881428569)"
      ]
     },
     "execution_count": 38,
     "metadata": {},
     "output_type": "execute_result"
    }
   ],
   "source": [
    "bounds"
   ]
  },
  {
   "cell_type": "markdown",
   "metadata": {},
   "source": [
    "try:\n",
    "    max_angle = min(90, initial_calibration_set.iloc[-1]['angle'])\n",
    "except: max_angle=90"
   ]
  },
  {
   "cell_type": "code",
   "execution_count": 39,
   "metadata": {},
   "outputs": [
    {
     "name": "stderr",
     "output_type": "stream",
     "text": [
      "/Users/gauravganti/opt/anaconda3/envs/cdr_climate_uncertainty/lib/python3.10/site-packages/climate_assessment/climate/wg3.py:42: FutureWarning: The default value of regex will change from True to False in a future version.\n",
      "  df_clean[\"variable\"] = df_clean[\"variable\"].str.replace(old, new)\n"
     ]
    },
    {
     "data": {
      "application/vnd.jupyter.widget-view+json": {
       "model_id": "c43ae7ab04df44adb018d1b1433ae308",
       "version_major": 2,
       "version_minor": 0
      },
      "text/plain": [
       "Climate models:   0%|          | 0.00/1.00 [00:00<?, ?it/s]"
      ]
     },
     "metadata": {},
     "output_type": "display_data"
    },
    {
     "name": "stderr",
     "output_type": "stream",
     "text": [
      "Historical data has not been checked\n"
     ]
    },
    {
     "data": {
      "application/vnd.jupyter.widget-view+json": {
       "model_id": "4adb64adf46b488e9af75c0f7e12d516",
       "version_major": 2,
       "version_minor": 0
      },
      "text/plain": [
       "Writing SCEN7 files:   0%|          | 0.00/1.00 [00:00<?, ?it/s]"
      ]
     },
     "metadata": {},
     "output_type": "display_data"
    },
    {
     "data": {
      "application/vnd.jupyter.widget-view+json": {
       "model_id": "23fb583f6e854b4e8f87d7c39911ee4a",
       "version_major": 2,
       "version_minor": 0
      },
      "text/plain": [
       "Front serial:   0%|          | 0.00/1.00 [00:00<?, ?it/s]"
      ]
     },
     "metadata": {},
     "output_type": "display_data"
    },
    {
     "name": "stderr",
     "output_type": "stream",
     "text": [
      "/Users/gauravganti/opt/anaconda3/envs/cdr_climate_uncertainty/lib/python3.10/site-packages/pymagicc/core.py:387: UserWarning: Not reading file: DAT_HEATUPTK_EBALANCE_SUBANN.BINOUT. Monthly data are not read in automatically by `run`. Use `MAGICCData` instead.\n",
      "  warnings.warn(\n",
      "/Users/gauravganti/opt/anaconda3/envs/cdr_climate_uncertainty/lib/python3.10/site-packages/pymagicc/core.py:387: UserWarning: Not reading file: DAT_HEATCONT_EBALANCE_SUBANN.BINOUT. Monthly data are not read in automatically by `run`. Use `MAGICCData` instead.\n",
      "  warnings.warn(\n"
     ]
    },
    {
     "data": {
      "application/vnd.jupyter.widget-view+json": {
       "model_id": "a38b463ad42942e9b2920c9db92d6128",
       "version_major": 2,
       "version_minor": 0
      },
      "text/plain": [
       "Front parallel: 0.00it [00:00, ?it/s]"
      ]
     },
     "metadata": {},
     "output_type": "display_data"
    },
    {
     "data": {
      "application/vnd.jupyter.widget-view+json": {
       "model_id": "984934cdf5c04b5db21d1edac4aed6cd",
       "version_major": 2,
       "version_minor": 0
      },
      "text/plain": [
       "Parallel runs: 0.00it [00:00, ?it/s]"
      ]
     },
     "metadata": {},
     "output_type": "display_data"
    },
    {
     "name": "stderr",
     "output_type": "stream",
     "text": [
      "/Users/gauravganti/opt/anaconda3/envs/cdr_climate_uncertainty/lib/python3.10/site-packages/climate_assessment/climate/wg3.py:42: FutureWarning: The default value of regex will change from True to False in a future version.\n",
      "  df_clean[\"variable\"] = df_clean[\"variable\"].str.replace(old, new)\n"
     ]
    },
    {
     "data": {
      "application/vnd.jupyter.widget-view+json": {
       "model_id": "0fb6cf5dd8e54fa3bab028816913b198",
       "version_major": 2,
       "version_minor": 0
      },
      "text/plain": [
       "Climate models:   0%|          | 0.00/1.00 [00:00<?, ?it/s]"
      ]
     },
     "metadata": {},
     "output_type": "display_data"
    },
    {
     "name": "stderr",
     "output_type": "stream",
     "text": [
      "Historical data has not been checked\n"
     ]
    },
    {
     "data": {
      "application/vnd.jupyter.widget-view+json": {
       "model_id": "884167a1adf540158c787b7a80145c64",
       "version_major": 2,
       "version_minor": 0
      },
      "text/plain": [
       "Writing SCEN7 files:   0%|          | 0.00/1.00 [00:00<?, ?it/s]"
      ]
     },
     "metadata": {},
     "output_type": "display_data"
    },
    {
     "data": {
      "application/vnd.jupyter.widget-view+json": {
       "model_id": "a972c1c6d6f54cd2a3620b03ca0ee3ad",
       "version_major": 2,
       "version_minor": 0
      },
      "text/plain": [
       "Front serial:   0%|          | 0.00/1.00 [00:00<?, ?it/s]"
      ]
     },
     "metadata": {},
     "output_type": "display_data"
    },
    {
     "name": "stderr",
     "output_type": "stream",
     "text": [
      "/Users/gauravganti/opt/anaconda3/envs/cdr_climate_uncertainty/lib/python3.10/site-packages/pymagicc/core.py:387: UserWarning: Not reading file: DAT_HEATUPTK_EBALANCE_SUBANN.BINOUT. Monthly data are not read in automatically by `run`. Use `MAGICCData` instead.\n",
      "  warnings.warn(\n",
      "/Users/gauravganti/opt/anaconda3/envs/cdr_climate_uncertainty/lib/python3.10/site-packages/pymagicc/core.py:387: UserWarning: Not reading file: DAT_HEATCONT_EBALANCE_SUBANN.BINOUT. Monthly data are not read in automatically by `run`. Use `MAGICCData` instead.\n",
      "  warnings.warn(\n"
     ]
    },
    {
     "data": {
      "application/vnd.jupyter.widget-view+json": {
       "model_id": "4c5f600918ab48d7b67496934a409298",
       "version_major": 2,
       "version_minor": 0
      },
      "text/plain": [
       "Front parallel: 0.00it [00:00, ?it/s]"
      ]
     },
     "metadata": {},
     "output_type": "display_data"
    },
    {
     "data": {
      "application/vnd.jupyter.widget-view+json": {
       "model_id": "2c8f6a205781431bb38d899bf9c3179b",
       "version_major": 2,
       "version_minor": 0
      },
      "text/plain": [
       "Parallel runs: 0.00it [00:00, ?it/s]"
      ]
     },
     "metadata": {},
     "output_type": "display_data"
    },
    {
     "name": "stderr",
     "output_type": "stream",
     "text": [
      "/Users/gauravganti/opt/anaconda3/envs/cdr_climate_uncertainty/lib/python3.10/site-packages/climate_assessment/climate/wg3.py:42: FutureWarning: The default value of regex will change from True to False in a future version.\n",
      "  df_clean[\"variable\"] = df_clean[\"variable\"].str.replace(old, new)\n"
     ]
    },
    {
     "data": {
      "application/vnd.jupyter.widget-view+json": {
       "model_id": "ef70d7f8712848968f6d147f0f7db7ed",
       "version_major": 2,
       "version_minor": 0
      },
      "text/plain": [
       "Climate models:   0%|          | 0.00/1.00 [00:00<?, ?it/s]"
      ]
     },
     "metadata": {},
     "output_type": "display_data"
    },
    {
     "name": "stderr",
     "output_type": "stream",
     "text": [
      "Historical data has not been checked\n"
     ]
    },
    {
     "data": {
      "application/vnd.jupyter.widget-view+json": {
       "model_id": "5ef4ff060ac24e30889457ab122ed4a1",
       "version_major": 2,
       "version_minor": 0
      },
      "text/plain": [
       "Writing SCEN7 files:   0%|          | 0.00/1.00 [00:00<?, ?it/s]"
      ]
     },
     "metadata": {},
     "output_type": "display_data"
    },
    {
     "data": {
      "application/vnd.jupyter.widget-view+json": {
       "model_id": "db19843f4f5c41ca9b5b5f2baef04117",
       "version_major": 2,
       "version_minor": 0
      },
      "text/plain": [
       "Front serial:   0%|          | 0.00/1.00 [00:00<?, ?it/s]"
      ]
     },
     "metadata": {},
     "output_type": "display_data"
    },
    {
     "name": "stderr",
     "output_type": "stream",
     "text": [
      "/Users/gauravganti/opt/anaconda3/envs/cdr_climate_uncertainty/lib/python3.10/site-packages/pymagicc/core.py:387: UserWarning: Not reading file: DAT_HEATUPTK_EBALANCE_SUBANN.BINOUT. Monthly data are not read in automatically by `run`. Use `MAGICCData` instead.\n",
      "  warnings.warn(\n",
      "/Users/gauravganti/opt/anaconda3/envs/cdr_climate_uncertainty/lib/python3.10/site-packages/pymagicc/core.py:387: UserWarning: Not reading file: DAT_HEATCONT_EBALANCE_SUBANN.BINOUT. Monthly data are not read in automatically by `run`. Use `MAGICCData` instead.\n",
      "  warnings.warn(\n"
     ]
    },
    {
     "data": {
      "application/vnd.jupyter.widget-view+json": {
       "model_id": "8b4b94399243464f8b28fa30206322a9",
       "version_major": 2,
       "version_minor": 0
      },
      "text/plain": [
       "Front parallel: 0.00it [00:00, ?it/s]"
      ]
     },
     "metadata": {},
     "output_type": "display_data"
    },
    {
     "data": {
      "application/vnd.jupyter.widget-view+json": {
       "model_id": "4bcc562a1679406e939d2dcfbbc36253",
       "version_major": 2,
       "version_minor": 0
      },
      "text/plain": [
       "Parallel runs: 0.00it [00:00, ?it/s]"
      ]
     },
     "metadata": {},
     "output_type": "display_data"
    },
    {
     "name": "stderr",
     "output_type": "stream",
     "text": [
      "/Users/gauravganti/opt/anaconda3/envs/cdr_climate_uncertainty/lib/python3.10/site-packages/climate_assessment/climate/wg3.py:42: FutureWarning: The default value of regex will change from True to False in a future version.\n",
      "  df_clean[\"variable\"] = df_clean[\"variable\"].str.replace(old, new)\n"
     ]
    },
    {
     "data": {
      "application/vnd.jupyter.widget-view+json": {
       "model_id": "a2b3354b199b4bd0ac755798ffe65a3d",
       "version_major": 2,
       "version_minor": 0
      },
      "text/plain": [
       "Climate models:   0%|          | 0.00/1.00 [00:00<?, ?it/s]"
      ]
     },
     "metadata": {},
     "output_type": "display_data"
    },
    {
     "name": "stderr",
     "output_type": "stream",
     "text": [
      "Historical data has not been checked\n"
     ]
    },
    {
     "data": {
      "application/vnd.jupyter.widget-view+json": {
       "model_id": "0b024768b93945d3a3fc9a76a9549a8e",
       "version_major": 2,
       "version_minor": 0
      },
      "text/plain": [
       "Writing SCEN7 files:   0%|          | 0.00/1.00 [00:00<?, ?it/s]"
      ]
     },
     "metadata": {},
     "output_type": "display_data"
    },
    {
     "data": {
      "application/vnd.jupyter.widget-view+json": {
       "model_id": "97bb384f975e4281b17ff8544d6adc63",
       "version_major": 2,
       "version_minor": 0
      },
      "text/plain": [
       "Front serial:   0%|          | 0.00/1.00 [00:00<?, ?it/s]"
      ]
     },
     "metadata": {},
     "output_type": "display_data"
    },
    {
     "name": "stderr",
     "output_type": "stream",
     "text": [
      "/Users/gauravganti/opt/anaconda3/envs/cdr_climate_uncertainty/lib/python3.10/site-packages/pymagicc/core.py:387: UserWarning: Not reading file: DAT_HEATUPTK_EBALANCE_SUBANN.BINOUT. Monthly data are not read in automatically by `run`. Use `MAGICCData` instead.\n",
      "  warnings.warn(\n",
      "/Users/gauravganti/opt/anaconda3/envs/cdr_climate_uncertainty/lib/python3.10/site-packages/pymagicc/core.py:387: UserWarning: Not reading file: DAT_HEATCONT_EBALANCE_SUBANN.BINOUT. Monthly data are not read in automatically by `run`. Use `MAGICCData` instead.\n",
      "  warnings.warn(\n"
     ]
    },
    {
     "data": {
      "application/vnd.jupyter.widget-view+json": {
       "model_id": "c46fbbb935a04e69b7fdcefb60a8789f",
       "version_major": 2,
       "version_minor": 0
      },
      "text/plain": [
       "Front parallel: 0.00it [00:00, ?it/s]"
      ]
     },
     "metadata": {},
     "output_type": "display_data"
    },
    {
     "data": {
      "application/vnd.jupyter.widget-view+json": {
       "model_id": "1e1eda31d2df4766b678c3562b228497",
       "version_major": 2,
       "version_minor": 0
      },
      "text/plain": [
       "Parallel runs: 0.00it [00:00, ?it/s]"
      ]
     },
     "metadata": {},
     "output_type": "display_data"
    },
    {
     "name": "stderr",
     "output_type": "stream",
     "text": [
      "/Users/gauravganti/opt/anaconda3/envs/cdr_climate_uncertainty/lib/python3.10/site-packages/climate_assessment/climate/wg3.py:42: FutureWarning: The default value of regex will change from True to False in a future version.\n",
      "  df_clean[\"variable\"] = df_clean[\"variable\"].str.replace(old, new)\n"
     ]
    },
    {
     "data": {
      "application/vnd.jupyter.widget-view+json": {
       "model_id": "15d6a217b2254462ae8596ae3d431121",
       "version_major": 2,
       "version_minor": 0
      },
      "text/plain": [
       "Climate models:   0%|          | 0.00/1.00 [00:00<?, ?it/s]"
      ]
     },
     "metadata": {},
     "output_type": "display_data"
    },
    {
     "name": "stderr",
     "output_type": "stream",
     "text": [
      "Historical data has not been checked\n"
     ]
    },
    {
     "data": {
      "application/vnd.jupyter.widget-view+json": {
       "model_id": "11bcc8cb6b804d00a67f5da011f3ffac",
       "version_major": 2,
       "version_minor": 0
      },
      "text/plain": [
       "Writing SCEN7 files:   0%|          | 0.00/1.00 [00:00<?, ?it/s]"
      ]
     },
     "metadata": {},
     "output_type": "display_data"
    },
    {
     "data": {
      "application/vnd.jupyter.widget-view+json": {
       "model_id": "e1643def823f4245a35d4bfc29c4dbf6",
       "version_major": 2,
       "version_minor": 0
      },
      "text/plain": [
       "Front serial:   0%|          | 0.00/1.00 [00:00<?, ?it/s]"
      ]
     },
     "metadata": {},
     "output_type": "display_data"
    },
    {
     "name": "stderr",
     "output_type": "stream",
     "text": [
      "/Users/gauravganti/opt/anaconda3/envs/cdr_climate_uncertainty/lib/python3.10/site-packages/pymagicc/core.py:387: UserWarning: Not reading file: DAT_HEATUPTK_EBALANCE_SUBANN.BINOUT. Monthly data are not read in automatically by `run`. Use `MAGICCData` instead.\n",
      "  warnings.warn(\n",
      "/Users/gauravganti/opt/anaconda3/envs/cdr_climate_uncertainty/lib/python3.10/site-packages/pymagicc/core.py:387: UserWarning: Not reading file: DAT_HEATCONT_EBALANCE_SUBANN.BINOUT. Monthly data are not read in automatically by `run`. Use `MAGICCData` instead.\n",
      "  warnings.warn(\n"
     ]
    },
    {
     "data": {
      "application/vnd.jupyter.widget-view+json": {
       "model_id": "c83fd1d337a2403a8c0de728dffbcd7a",
       "version_major": 2,
       "version_minor": 0
      },
      "text/plain": [
       "Front parallel: 0.00it [00:00, ?it/s]"
      ]
     },
     "metadata": {},
     "output_type": "display_data"
    },
    {
     "data": {
      "application/vnd.jupyter.widget-view+json": {
       "model_id": "35ab9f4e387c475ba47e733454b18533",
       "version_major": 2,
       "version_minor": 0
      },
      "text/plain": [
       "Parallel runs: 0.00it [00:00, ?it/s]"
      ]
     },
     "metadata": {},
     "output_type": "display_data"
    },
    {
     "name": "stderr",
     "output_type": "stream",
     "text": [
      "/Users/gauravganti/opt/anaconda3/envs/cdr_climate_uncertainty/lib/python3.10/site-packages/climate_assessment/climate/wg3.py:42: FutureWarning: The default value of regex will change from True to False in a future version.\n",
      "  df_clean[\"variable\"] = df_clean[\"variable\"].str.replace(old, new)\n"
     ]
    },
    {
     "data": {
      "application/vnd.jupyter.widget-view+json": {
       "model_id": "54207a9da2444ef694ace545c03ff726",
       "version_major": 2,
       "version_minor": 0
      },
      "text/plain": [
       "Climate models:   0%|          | 0.00/1.00 [00:00<?, ?it/s]"
      ]
     },
     "metadata": {},
     "output_type": "display_data"
    },
    {
     "name": "stderr",
     "output_type": "stream",
     "text": [
      "Historical data has not been checked\n"
     ]
    },
    {
     "data": {
      "application/vnd.jupyter.widget-view+json": {
       "model_id": "82a2e2c3971d4ad7afbd97ca3ca34082",
       "version_major": 2,
       "version_minor": 0
      },
      "text/plain": [
       "Writing SCEN7 files:   0%|          | 0.00/1.00 [00:00<?, ?it/s]"
      ]
     },
     "metadata": {},
     "output_type": "display_data"
    },
    {
     "data": {
      "application/vnd.jupyter.widget-view+json": {
       "model_id": "392cf1c96d524071aeb1759cbd1be29e",
       "version_major": 2,
       "version_minor": 0
      },
      "text/plain": [
       "Front serial:   0%|          | 0.00/1.00 [00:00<?, ?it/s]"
      ]
     },
     "metadata": {},
     "output_type": "display_data"
    },
    {
     "name": "stderr",
     "output_type": "stream",
     "text": [
      "/Users/gauravganti/opt/anaconda3/envs/cdr_climate_uncertainty/lib/python3.10/site-packages/pymagicc/core.py:387: UserWarning: Not reading file: DAT_HEATUPTK_EBALANCE_SUBANN.BINOUT. Monthly data are not read in automatically by `run`. Use `MAGICCData` instead.\n",
      "  warnings.warn(\n",
      "/Users/gauravganti/opt/anaconda3/envs/cdr_climate_uncertainty/lib/python3.10/site-packages/pymagicc/core.py:387: UserWarning: Not reading file: DAT_HEATCONT_EBALANCE_SUBANN.BINOUT. Monthly data are not read in automatically by `run`. Use `MAGICCData` instead.\n",
      "  warnings.warn(\n"
     ]
    },
    {
     "data": {
      "application/vnd.jupyter.widget-view+json": {
       "model_id": "341b133ac1d94744896704d46fe92fc0",
       "version_major": 2,
       "version_minor": 0
      },
      "text/plain": [
       "Front parallel: 0.00it [00:00, ?it/s]"
      ]
     },
     "metadata": {},
     "output_type": "display_data"
    },
    {
     "data": {
      "application/vnd.jupyter.widget-view+json": {
       "model_id": "3f35f13517d840f7bd23b54bd446a1f0",
       "version_major": 2,
       "version_minor": 0
      },
      "text/plain": [
       "Parallel runs: 0.00it [00:00, ?it/s]"
      ]
     },
     "metadata": {},
     "output_type": "display_data"
    },
    {
     "name": "stderr",
     "output_type": "stream",
     "text": [
      "/Users/gauravganti/opt/anaconda3/envs/cdr_climate_uncertainty/lib/python3.10/site-packages/climate_assessment/climate/wg3.py:42: FutureWarning: The default value of regex will change from True to False in a future version.\n",
      "  df_clean[\"variable\"] = df_clean[\"variable\"].str.replace(old, new)\n"
     ]
    },
    {
     "data": {
      "application/vnd.jupyter.widget-view+json": {
       "model_id": "0c8786f521344511b2a4e2be56c8ceb9",
       "version_major": 2,
       "version_minor": 0
      },
      "text/plain": [
       "Climate models:   0%|          | 0.00/1.00 [00:00<?, ?it/s]"
      ]
     },
     "metadata": {},
     "output_type": "display_data"
    },
    {
     "name": "stderr",
     "output_type": "stream",
     "text": [
      "Historical data has not been checked\n"
     ]
    },
    {
     "data": {
      "application/vnd.jupyter.widget-view+json": {
       "model_id": "30208755fe484735b2a0984b394fb940",
       "version_major": 2,
       "version_minor": 0
      },
      "text/plain": [
       "Writing SCEN7 files:   0%|          | 0.00/1.00 [00:00<?, ?it/s]"
      ]
     },
     "metadata": {},
     "output_type": "display_data"
    },
    {
     "data": {
      "application/vnd.jupyter.widget-view+json": {
       "model_id": "a31c8cfc284347e988289c65d36a6221",
       "version_major": 2,
       "version_minor": 0
      },
      "text/plain": [
       "Front serial:   0%|          | 0.00/1.00 [00:00<?, ?it/s]"
      ]
     },
     "metadata": {},
     "output_type": "display_data"
    },
    {
     "name": "stderr",
     "output_type": "stream",
     "text": [
      "/Users/gauravganti/opt/anaconda3/envs/cdr_climate_uncertainty/lib/python3.10/site-packages/pymagicc/core.py:387: UserWarning: Not reading file: DAT_HEATUPTK_EBALANCE_SUBANN.BINOUT. Monthly data are not read in automatically by `run`. Use `MAGICCData` instead.\n",
      "  warnings.warn(\n",
      "/Users/gauravganti/opt/anaconda3/envs/cdr_climate_uncertainty/lib/python3.10/site-packages/pymagicc/core.py:387: UserWarning: Not reading file: DAT_HEATCONT_EBALANCE_SUBANN.BINOUT. Monthly data are not read in automatically by `run`. Use `MAGICCData` instead.\n",
      "  warnings.warn(\n"
     ]
    },
    {
     "data": {
      "application/vnd.jupyter.widget-view+json": {
       "model_id": "5bfaac4fda5c4090a9c86ceb56ac9000",
       "version_major": 2,
       "version_minor": 0
      },
      "text/plain": [
       "Front parallel: 0.00it [00:00, ?it/s]"
      ]
     },
     "metadata": {},
     "output_type": "display_data"
    },
    {
     "data": {
      "application/vnd.jupyter.widget-view+json": {
       "model_id": "905c83c82c1c4392add8e524392bc585",
       "version_major": 2,
       "version_minor": 0
      },
      "text/plain": [
       "Parallel runs: 0.00it [00:00, ?it/s]"
      ]
     },
     "metadata": {},
     "output_type": "display_data"
    },
    {
     "name": "stderr",
     "output_type": "stream",
     "text": [
      "/Users/gauravganti/opt/anaconda3/envs/cdr_climate_uncertainty/lib/python3.10/site-packages/climate_assessment/climate/wg3.py:42: FutureWarning: The default value of regex will change from True to False in a future version.\n",
      "  df_clean[\"variable\"] = df_clean[\"variable\"].str.replace(old, new)\n"
     ]
    },
    {
     "data": {
      "application/vnd.jupyter.widget-view+json": {
       "model_id": "ea894366d43246509fe09e3b460c601b",
       "version_major": 2,
       "version_minor": 0
      },
      "text/plain": [
       "Climate models:   0%|          | 0.00/1.00 [00:00<?, ?it/s]"
      ]
     },
     "metadata": {},
     "output_type": "display_data"
    },
    {
     "name": "stderr",
     "output_type": "stream",
     "text": [
      "Historical data has not been checked\n"
     ]
    },
    {
     "data": {
      "application/vnd.jupyter.widget-view+json": {
       "model_id": "fa789a8b3f95429ca6cd0c6fcf9587e1",
       "version_major": 2,
       "version_minor": 0
      },
      "text/plain": [
       "Writing SCEN7 files:   0%|          | 0.00/1.00 [00:00<?, ?it/s]"
      ]
     },
     "metadata": {},
     "output_type": "display_data"
    },
    {
     "data": {
      "application/vnd.jupyter.widget-view+json": {
       "model_id": "a6ab4e1d4261488fa4e75cd8731f1e31",
       "version_major": 2,
       "version_minor": 0
      },
      "text/plain": [
       "Front serial:   0%|          | 0.00/1.00 [00:00<?, ?it/s]"
      ]
     },
     "metadata": {},
     "output_type": "display_data"
    },
    {
     "name": "stderr",
     "output_type": "stream",
     "text": [
      "/Users/gauravganti/opt/anaconda3/envs/cdr_climate_uncertainty/lib/python3.10/site-packages/pymagicc/core.py:387: UserWarning: Not reading file: DAT_HEATUPTK_EBALANCE_SUBANN.BINOUT. Monthly data are not read in automatically by `run`. Use `MAGICCData` instead.\n",
      "  warnings.warn(\n",
      "/Users/gauravganti/opt/anaconda3/envs/cdr_climate_uncertainty/lib/python3.10/site-packages/pymagicc/core.py:387: UserWarning: Not reading file: DAT_HEATCONT_EBALANCE_SUBANN.BINOUT. Monthly data are not read in automatically by `run`. Use `MAGICCData` instead.\n",
      "  warnings.warn(\n"
     ]
    },
    {
     "data": {
      "application/vnd.jupyter.widget-view+json": {
       "model_id": "1c0bee14c6004f25bb1850dffc1a159a",
       "version_major": 2,
       "version_minor": 0
      },
      "text/plain": [
       "Front parallel: 0.00it [00:00, ?it/s]"
      ]
     },
     "metadata": {},
     "output_type": "display_data"
    },
    {
     "data": {
      "application/vnd.jupyter.widget-view+json": {
       "model_id": "4af9e20fa95c43ec8fbfba28c907921f",
       "version_major": 2,
       "version_minor": 0
      },
      "text/plain": [
       "Parallel runs: 0.00it [00:00, ?it/s]"
      ]
     },
     "metadata": {},
     "output_type": "display_data"
    },
    {
     "name": "stderr",
     "output_type": "stream",
     "text": [
      "/Users/gauravganti/opt/anaconda3/envs/cdr_climate_uncertainty/lib/python3.10/site-packages/climate_assessment/climate/wg3.py:42: FutureWarning: The default value of regex will change from True to False in a future version.\n",
      "  df_clean[\"variable\"] = df_clean[\"variable\"].str.replace(old, new)\n"
     ]
    },
    {
     "data": {
      "application/vnd.jupyter.widget-view+json": {
       "model_id": "33b3526b655a4f16a8bb6901ad2bb4d3",
       "version_major": 2,
       "version_minor": 0
      },
      "text/plain": [
       "Climate models:   0%|          | 0.00/1.00 [00:00<?, ?it/s]"
      ]
     },
     "metadata": {},
     "output_type": "display_data"
    },
    {
     "name": "stderr",
     "output_type": "stream",
     "text": [
      "Historical data has not been checked\n"
     ]
    },
    {
     "data": {
      "application/vnd.jupyter.widget-view+json": {
       "model_id": "84d764a1695246628c76b32c41127c59",
       "version_major": 2,
       "version_minor": 0
      },
      "text/plain": [
       "Writing SCEN7 files:   0%|          | 0.00/1.00 [00:00<?, ?it/s]"
      ]
     },
     "metadata": {},
     "output_type": "display_data"
    },
    {
     "data": {
      "application/vnd.jupyter.widget-view+json": {
       "model_id": "9a779df17be94167a8976729890edd81",
       "version_major": 2,
       "version_minor": 0
      },
      "text/plain": [
       "Front serial:   0%|          | 0.00/1.00 [00:00<?, ?it/s]"
      ]
     },
     "metadata": {},
     "output_type": "display_data"
    },
    {
     "name": "stderr",
     "output_type": "stream",
     "text": [
      "/Users/gauravganti/opt/anaconda3/envs/cdr_climate_uncertainty/lib/python3.10/site-packages/pymagicc/core.py:387: UserWarning: Not reading file: DAT_HEATUPTK_EBALANCE_SUBANN.BINOUT. Monthly data are not read in automatically by `run`. Use `MAGICCData` instead.\n",
      "  warnings.warn(\n",
      "/Users/gauravganti/opt/anaconda3/envs/cdr_climate_uncertainty/lib/python3.10/site-packages/pymagicc/core.py:387: UserWarning: Not reading file: DAT_HEATCONT_EBALANCE_SUBANN.BINOUT. Monthly data are not read in automatically by `run`. Use `MAGICCData` instead.\n",
      "  warnings.warn(\n"
     ]
    },
    {
     "data": {
      "application/vnd.jupyter.widget-view+json": {
       "model_id": "2151e89ccb5d456c83189485ccb7135b",
       "version_major": 2,
       "version_minor": 0
      },
      "text/plain": [
       "Front parallel: 0.00it [00:00, ?it/s]"
      ]
     },
     "metadata": {},
     "output_type": "display_data"
    },
    {
     "data": {
      "application/vnd.jupyter.widget-view+json": {
       "model_id": "d44ec450b654456e974c67a8569008fa",
       "version_major": 2,
       "version_minor": 0
      },
      "text/plain": [
       "Parallel runs: 0.00it [00:00, ?it/s]"
      ]
     },
     "metadata": {},
     "output_type": "display_data"
    },
    {
     "name": "stderr",
     "output_type": "stream",
     "text": [
      "/Users/gauravganti/opt/anaconda3/envs/cdr_climate_uncertainty/lib/python3.10/site-packages/climate_assessment/climate/wg3.py:42: FutureWarning: The default value of regex will change from True to False in a future version.\n",
      "  df_clean[\"variable\"] = df_clean[\"variable\"].str.replace(old, new)\n"
     ]
    },
    {
     "data": {
      "application/vnd.jupyter.widget-view+json": {
       "model_id": "f8ec2ad0c4624d1e920fe5b3904ee60f",
       "version_major": 2,
       "version_minor": 0
      },
      "text/plain": [
       "Climate models:   0%|          | 0.00/1.00 [00:00<?, ?it/s]"
      ]
     },
     "metadata": {},
     "output_type": "display_data"
    },
    {
     "name": "stderr",
     "output_type": "stream",
     "text": [
      "Historical data has not been checked\n"
     ]
    },
    {
     "data": {
      "application/vnd.jupyter.widget-view+json": {
       "model_id": "c9521d855b134a0f9d01e8f00da9efec",
       "version_major": 2,
       "version_minor": 0
      },
      "text/plain": [
       "Writing SCEN7 files:   0%|          | 0.00/1.00 [00:00<?, ?it/s]"
      ]
     },
     "metadata": {},
     "output_type": "display_data"
    },
    {
     "data": {
      "application/vnd.jupyter.widget-view+json": {
       "model_id": "8336027ecafb40a2ad84d4dc5b81cc62",
       "version_major": 2,
       "version_minor": 0
      },
      "text/plain": [
       "Front serial:   0%|          | 0.00/1.00 [00:00<?, ?it/s]"
      ]
     },
     "metadata": {},
     "output_type": "display_data"
    },
    {
     "name": "stderr",
     "output_type": "stream",
     "text": [
      "/Users/gauravganti/opt/anaconda3/envs/cdr_climate_uncertainty/lib/python3.10/site-packages/pymagicc/core.py:387: UserWarning: Not reading file: DAT_HEATUPTK_EBALANCE_SUBANN.BINOUT. Monthly data are not read in automatically by `run`. Use `MAGICCData` instead.\n",
      "  warnings.warn(\n",
      "/Users/gauravganti/opt/anaconda3/envs/cdr_climate_uncertainty/lib/python3.10/site-packages/pymagicc/core.py:387: UserWarning: Not reading file: DAT_HEATCONT_EBALANCE_SUBANN.BINOUT. Monthly data are not read in automatically by `run`. Use `MAGICCData` instead.\n",
      "  warnings.warn(\n"
     ]
    },
    {
     "data": {
      "application/vnd.jupyter.widget-view+json": {
       "model_id": "4ebf5308285543e99e3abf5688bc47a5",
       "version_major": 2,
       "version_minor": 0
      },
      "text/plain": [
       "Front parallel: 0.00it [00:00, ?it/s]"
      ]
     },
     "metadata": {},
     "output_type": "display_data"
    },
    {
     "data": {
      "application/vnd.jupyter.widget-view+json": {
       "model_id": "c6a128fce47a4bedb7468a3656e48cae",
       "version_major": 2,
       "version_minor": 0
      },
      "text/plain": [
       "Parallel runs: 0.00it [00:00, ?it/s]"
      ]
     },
     "metadata": {},
     "output_type": "display_data"
    },
    {
     "name": "stderr",
     "output_type": "stream",
     "text": [
      "/Users/gauravganti/opt/anaconda3/envs/cdr_climate_uncertainty/lib/python3.10/site-packages/climate_assessment/climate/wg3.py:42: FutureWarning: The default value of regex will change from True to False in a future version.\n",
      "  df_clean[\"variable\"] = df_clean[\"variable\"].str.replace(old, new)\n"
     ]
    },
    {
     "data": {
      "application/vnd.jupyter.widget-view+json": {
       "model_id": "827481d6df6d4ca7a11562ec91153fda",
       "version_major": 2,
       "version_minor": 0
      },
      "text/plain": [
       "Climate models:   0%|          | 0.00/1.00 [00:00<?, ?it/s]"
      ]
     },
     "metadata": {},
     "output_type": "display_data"
    },
    {
     "name": "stderr",
     "output_type": "stream",
     "text": [
      "Historical data has not been checked\n"
     ]
    },
    {
     "data": {
      "application/vnd.jupyter.widget-view+json": {
       "model_id": "7ea790d180134198b6fdba489123a32d",
       "version_major": 2,
       "version_minor": 0
      },
      "text/plain": [
       "Writing SCEN7 files:   0%|          | 0.00/1.00 [00:00<?, ?it/s]"
      ]
     },
     "metadata": {},
     "output_type": "display_data"
    },
    {
     "data": {
      "application/vnd.jupyter.widget-view+json": {
       "model_id": "edb595045d474cdeae2530c1df072f62",
       "version_major": 2,
       "version_minor": 0
      },
      "text/plain": [
       "Front serial:   0%|          | 0.00/1.00 [00:00<?, ?it/s]"
      ]
     },
     "metadata": {},
     "output_type": "display_data"
    },
    {
     "name": "stderr",
     "output_type": "stream",
     "text": [
      "/Users/gauravganti/opt/anaconda3/envs/cdr_climate_uncertainty/lib/python3.10/site-packages/pymagicc/core.py:387: UserWarning: Not reading file: DAT_HEATUPTK_EBALANCE_SUBANN.BINOUT. Monthly data are not read in automatically by `run`. Use `MAGICCData` instead.\n",
      "  warnings.warn(\n",
      "/Users/gauravganti/opt/anaconda3/envs/cdr_climate_uncertainty/lib/python3.10/site-packages/pymagicc/core.py:387: UserWarning: Not reading file: DAT_HEATCONT_EBALANCE_SUBANN.BINOUT. Monthly data are not read in automatically by `run`. Use `MAGICCData` instead.\n",
      "  warnings.warn(\n"
     ]
    },
    {
     "data": {
      "application/vnd.jupyter.widget-view+json": {
       "model_id": "dc8a977f7ea84f0d8c6ec32858aaba4e",
       "version_major": 2,
       "version_minor": 0
      },
      "text/plain": [
       "Front parallel: 0.00it [00:00, ?it/s]"
      ]
     },
     "metadata": {},
     "output_type": "display_data"
    },
    {
     "data": {
      "application/vnd.jupyter.widget-view+json": {
       "model_id": "2ee57344ccfe469a80f8b0edaa35008b",
       "version_major": 2,
       "version_minor": 0
      },
      "text/plain": [
       "Parallel runs: 0.00it [00:00, ?it/s]"
      ]
     },
     "metadata": {},
     "output_type": "display_data"
    },
    {
     "name": "stderr",
     "output_type": "stream",
     "text": [
      "/Users/gauravganti/opt/anaconda3/envs/cdr_climate_uncertainty/lib/python3.10/site-packages/climate_assessment/climate/wg3.py:42: FutureWarning: The default value of regex will change from True to False in a future version.\n",
      "  df_clean[\"variable\"] = df_clean[\"variable\"].str.replace(old, new)\n"
     ]
    },
    {
     "data": {
      "application/vnd.jupyter.widget-view+json": {
       "model_id": "debb88cf1d174a68b319bf08793468f6",
       "version_major": 2,
       "version_minor": 0
      },
      "text/plain": [
       "Climate models:   0%|          | 0.00/1.00 [00:00<?, ?it/s]"
      ]
     },
     "metadata": {},
     "output_type": "display_data"
    },
    {
     "name": "stderr",
     "output_type": "stream",
     "text": [
      "Historical data has not been checked\n"
     ]
    },
    {
     "data": {
      "application/vnd.jupyter.widget-view+json": {
       "model_id": "227e16aca5b34c3e99ebaee6cec91180",
       "version_major": 2,
       "version_minor": 0
      },
      "text/plain": [
       "Writing SCEN7 files:   0%|          | 0.00/1.00 [00:00<?, ?it/s]"
      ]
     },
     "metadata": {},
     "output_type": "display_data"
    },
    {
     "data": {
      "application/vnd.jupyter.widget-view+json": {
       "model_id": "bcda676807554a05a823b44cd3e6af29",
       "version_major": 2,
       "version_minor": 0
      },
      "text/plain": [
       "Front serial:   0%|          | 0.00/1.00 [00:00<?, ?it/s]"
      ]
     },
     "metadata": {},
     "output_type": "display_data"
    },
    {
     "name": "stderr",
     "output_type": "stream",
     "text": [
      "/Users/gauravganti/opt/anaconda3/envs/cdr_climate_uncertainty/lib/python3.10/site-packages/pymagicc/core.py:387: UserWarning: Not reading file: DAT_HEATUPTK_EBALANCE_SUBANN.BINOUT. Monthly data are not read in automatically by `run`. Use `MAGICCData` instead.\n",
      "  warnings.warn(\n",
      "/Users/gauravganti/opt/anaconda3/envs/cdr_climate_uncertainty/lib/python3.10/site-packages/pymagicc/core.py:387: UserWarning: Not reading file: DAT_HEATCONT_EBALANCE_SUBANN.BINOUT. Monthly data are not read in automatically by `run`. Use `MAGICCData` instead.\n",
      "  warnings.warn(\n"
     ]
    },
    {
     "data": {
      "application/vnd.jupyter.widget-view+json": {
       "model_id": "9c7adca2737f45a19eb3aad0af696269",
       "version_major": 2,
       "version_minor": 0
      },
      "text/plain": [
       "Front parallel: 0.00it [00:00, ?it/s]"
      ]
     },
     "metadata": {},
     "output_type": "display_data"
    },
    {
     "data": {
      "application/vnd.jupyter.widget-view+json": {
       "model_id": "cf9fc7831036447194db9a3253b5b8f3",
       "version_major": 2,
       "version_minor": 0
      },
      "text/plain": [
       "Parallel runs: 0.00it [00:00, ?it/s]"
      ]
     },
     "metadata": {},
     "output_type": "display_data"
    },
    {
     "name": "stderr",
     "output_type": "stream",
     "text": [
      "/Users/gauravganti/opt/anaconda3/envs/cdr_climate_uncertainty/lib/python3.10/site-packages/climate_assessment/climate/wg3.py:42: FutureWarning: The default value of regex will change from True to False in a future version.\n",
      "  df_clean[\"variable\"] = df_clean[\"variable\"].str.replace(old, new)\n"
     ]
    },
    {
     "data": {
      "application/vnd.jupyter.widget-view+json": {
       "model_id": "5b120932cde2421cbddcd331f81633a9",
       "version_major": 2,
       "version_minor": 0
      },
      "text/plain": [
       "Climate models:   0%|          | 0.00/1.00 [00:00<?, ?it/s]"
      ]
     },
     "metadata": {},
     "output_type": "display_data"
    },
    {
     "name": "stderr",
     "output_type": "stream",
     "text": [
      "Historical data has not been checked\n"
     ]
    },
    {
     "data": {
      "application/vnd.jupyter.widget-view+json": {
       "model_id": "b9fad031e68549a0aa70419d9610b3a9",
       "version_major": 2,
       "version_minor": 0
      },
      "text/plain": [
       "Writing SCEN7 files:   0%|          | 0.00/1.00 [00:00<?, ?it/s]"
      ]
     },
     "metadata": {},
     "output_type": "display_data"
    },
    {
     "data": {
      "application/vnd.jupyter.widget-view+json": {
       "model_id": "6665b17415864c48a7c9bb48cd9092f7",
       "version_major": 2,
       "version_minor": 0
      },
      "text/plain": [
       "Front serial:   0%|          | 0.00/1.00 [00:00<?, ?it/s]"
      ]
     },
     "metadata": {},
     "output_type": "display_data"
    },
    {
     "name": "stderr",
     "output_type": "stream",
     "text": [
      "/Users/gauravganti/opt/anaconda3/envs/cdr_climate_uncertainty/lib/python3.10/site-packages/pymagicc/core.py:387: UserWarning: Not reading file: DAT_HEATUPTK_EBALANCE_SUBANN.BINOUT. Monthly data are not read in automatically by `run`. Use `MAGICCData` instead.\n",
      "  warnings.warn(\n",
      "/Users/gauravganti/opt/anaconda3/envs/cdr_climate_uncertainty/lib/python3.10/site-packages/pymagicc/core.py:387: UserWarning: Not reading file: DAT_HEATCONT_EBALANCE_SUBANN.BINOUT. Monthly data are not read in automatically by `run`. Use `MAGICCData` instead.\n",
      "  warnings.warn(\n"
     ]
    },
    {
     "data": {
      "application/vnd.jupyter.widget-view+json": {
       "model_id": "8b6d9afdc00048e49f83f6078f9fcf6c",
       "version_major": 2,
       "version_minor": 0
      },
      "text/plain": [
       "Front parallel: 0.00it [00:00, ?it/s]"
      ]
     },
     "metadata": {},
     "output_type": "display_data"
    },
    {
     "data": {
      "application/vnd.jupyter.widget-view+json": {
       "model_id": "2d2afae4129f44e7b6282fcc6b3e8f64",
       "version_major": 2,
       "version_minor": 0
      },
      "text/plain": [
       "Parallel runs: 0.00it [00:00, ?it/s]"
      ]
     },
     "metadata": {},
     "output_type": "display_data"
    },
    {
     "name": "stderr",
     "output_type": "stream",
     "text": [
      "/Users/gauravganti/opt/anaconda3/envs/cdr_climate_uncertainty/lib/python3.10/site-packages/climate_assessment/climate/wg3.py:42: FutureWarning: The default value of regex will change from True to False in a future version.\n",
      "  df_clean[\"variable\"] = df_clean[\"variable\"].str.replace(old, new)\n"
     ]
    },
    {
     "data": {
      "application/vnd.jupyter.widget-view+json": {
       "model_id": "37e953c7639e45c386d78204599e723b",
       "version_major": 2,
       "version_minor": 0
      },
      "text/plain": [
       "Climate models:   0%|          | 0.00/1.00 [00:00<?, ?it/s]"
      ]
     },
     "metadata": {},
     "output_type": "display_data"
    },
    {
     "name": "stderr",
     "output_type": "stream",
     "text": [
      "Historical data has not been checked\n"
     ]
    },
    {
     "data": {
      "application/vnd.jupyter.widget-view+json": {
       "model_id": "e4b2e58b3a89462b8c593bccbb72692b",
       "version_major": 2,
       "version_minor": 0
      },
      "text/plain": [
       "Writing SCEN7 files:   0%|          | 0.00/1.00 [00:00<?, ?it/s]"
      ]
     },
     "metadata": {},
     "output_type": "display_data"
    },
    {
     "data": {
      "application/vnd.jupyter.widget-view+json": {
       "model_id": "962d67bad50d450b9f932db17f07fccd",
       "version_major": 2,
       "version_minor": 0
      },
      "text/plain": [
       "Front serial:   0%|          | 0.00/1.00 [00:00<?, ?it/s]"
      ]
     },
     "metadata": {},
     "output_type": "display_data"
    },
    {
     "name": "stderr",
     "output_type": "stream",
     "text": [
      "/Users/gauravganti/opt/anaconda3/envs/cdr_climate_uncertainty/lib/python3.10/site-packages/pymagicc/core.py:387: UserWarning: Not reading file: DAT_HEATUPTK_EBALANCE_SUBANN.BINOUT. Monthly data are not read in automatically by `run`. Use `MAGICCData` instead.\n",
      "  warnings.warn(\n",
      "/Users/gauravganti/opt/anaconda3/envs/cdr_climate_uncertainty/lib/python3.10/site-packages/pymagicc/core.py:387: UserWarning: Not reading file: DAT_HEATCONT_EBALANCE_SUBANN.BINOUT. Monthly data are not read in automatically by `run`. Use `MAGICCData` instead.\n",
      "  warnings.warn(\n"
     ]
    },
    {
     "data": {
      "application/vnd.jupyter.widget-view+json": {
       "model_id": "5e705cc35d1a407291ad7f9f617bac02",
       "version_major": 2,
       "version_minor": 0
      },
      "text/plain": [
       "Front parallel: 0.00it [00:00, ?it/s]"
      ]
     },
     "metadata": {},
     "output_type": "display_data"
    },
    {
     "data": {
      "application/vnd.jupyter.widget-view+json": {
       "model_id": "91fdd2a4505f4793bef01b5d237f3903",
       "version_major": 2,
       "version_minor": 0
      },
      "text/plain": [
       "Parallel runs: 0.00it [00:00, ?it/s]"
      ]
     },
     "metadata": {},
     "output_type": "display_data"
    },
    {
     "name": "stderr",
     "output_type": "stream",
     "text": [
      "/Users/gauravganti/opt/anaconda3/envs/cdr_climate_uncertainty/lib/python3.10/site-packages/climate_assessment/climate/wg3.py:42: FutureWarning: The default value of regex will change from True to False in a future version.\n",
      "  df_clean[\"variable\"] = df_clean[\"variable\"].str.replace(old, new)\n"
     ]
    },
    {
     "data": {
      "application/vnd.jupyter.widget-view+json": {
       "model_id": "f398e1172474453c9ea2d90312e04834",
       "version_major": 2,
       "version_minor": 0
      },
      "text/plain": [
       "Climate models:   0%|          | 0.00/1.00 [00:00<?, ?it/s]"
      ]
     },
     "metadata": {},
     "output_type": "display_data"
    },
    {
     "name": "stderr",
     "output_type": "stream",
     "text": [
      "Historical data has not been checked\n"
     ]
    },
    {
     "data": {
      "application/vnd.jupyter.widget-view+json": {
       "model_id": "23f06d9b8cb24a4e8cf173b9ee250785",
       "version_major": 2,
       "version_minor": 0
      },
      "text/plain": [
       "Writing SCEN7 files:   0%|          | 0.00/1.00 [00:00<?, ?it/s]"
      ]
     },
     "metadata": {},
     "output_type": "display_data"
    },
    {
     "data": {
      "application/vnd.jupyter.widget-view+json": {
       "model_id": "e81790b00db64a31bb4900cbd04ef40a",
       "version_major": 2,
       "version_minor": 0
      },
      "text/plain": [
       "Front serial:   0%|          | 0.00/1.00 [00:00<?, ?it/s]"
      ]
     },
     "metadata": {},
     "output_type": "display_data"
    },
    {
     "name": "stderr",
     "output_type": "stream",
     "text": [
      "/Users/gauravganti/opt/anaconda3/envs/cdr_climate_uncertainty/lib/python3.10/site-packages/pymagicc/core.py:387: UserWarning: Not reading file: DAT_HEATUPTK_EBALANCE_SUBANN.BINOUT. Monthly data are not read in automatically by `run`. Use `MAGICCData` instead.\n",
      "  warnings.warn(\n",
      "/Users/gauravganti/opt/anaconda3/envs/cdr_climate_uncertainty/lib/python3.10/site-packages/pymagicc/core.py:387: UserWarning: Not reading file: DAT_HEATCONT_EBALANCE_SUBANN.BINOUT. Monthly data are not read in automatically by `run`. Use `MAGICCData` instead.\n",
      "  warnings.warn(\n"
     ]
    },
    {
     "data": {
      "application/vnd.jupyter.widget-view+json": {
       "model_id": "640fdf4cc3ba4fe092a1b2906d3bcc02",
       "version_major": 2,
       "version_minor": 0
      },
      "text/plain": [
       "Front parallel: 0.00it [00:00, ?it/s]"
      ]
     },
     "metadata": {},
     "output_type": "display_data"
    },
    {
     "data": {
      "application/vnd.jupyter.widget-view+json": {
       "model_id": "accd524f088843158553d200c49c4eed",
       "version_major": 2,
       "version_minor": 0
      },
      "text/plain": [
       "Parallel runs: 0.00it [00:00, ?it/s]"
      ]
     },
     "metadata": {},
     "output_type": "display_data"
    },
    {
     "name": "stderr",
     "output_type": "stream",
     "text": [
      "/Users/gauravganti/opt/anaconda3/envs/cdr_climate_uncertainty/lib/python3.10/site-packages/climate_assessment/climate/wg3.py:42: FutureWarning: The default value of regex will change from True to False in a future version.\n",
      "  df_clean[\"variable\"] = df_clean[\"variable\"].str.replace(old, new)\n"
     ]
    },
    {
     "data": {
      "application/vnd.jupyter.widget-view+json": {
       "model_id": "3ab88e889984488aaebac86fb987c925",
       "version_major": 2,
       "version_minor": 0
      },
      "text/plain": [
       "Climate models:   0%|          | 0.00/1.00 [00:00<?, ?it/s]"
      ]
     },
     "metadata": {},
     "output_type": "display_data"
    },
    {
     "name": "stderr",
     "output_type": "stream",
     "text": [
      "Historical data has not been checked\n"
     ]
    },
    {
     "data": {
      "application/vnd.jupyter.widget-view+json": {
       "model_id": "ff345edaa9b845fe8ef2e1e50cd62ecc",
       "version_major": 2,
       "version_minor": 0
      },
      "text/plain": [
       "Writing SCEN7 files:   0%|          | 0.00/1.00 [00:00<?, ?it/s]"
      ]
     },
     "metadata": {},
     "output_type": "display_data"
    },
    {
     "data": {
      "application/vnd.jupyter.widget-view+json": {
       "model_id": "8ae9f3c7c5b445b98201c1518cd75dfe",
       "version_major": 2,
       "version_minor": 0
      },
      "text/plain": [
       "Front serial:   0%|          | 0.00/1.00 [00:00<?, ?it/s]"
      ]
     },
     "metadata": {},
     "output_type": "display_data"
    },
    {
     "name": "stderr",
     "output_type": "stream",
     "text": [
      "/Users/gauravganti/opt/anaconda3/envs/cdr_climate_uncertainty/lib/python3.10/site-packages/pymagicc/core.py:387: UserWarning: Not reading file: DAT_HEATUPTK_EBALANCE_SUBANN.BINOUT. Monthly data are not read in automatically by `run`. Use `MAGICCData` instead.\n",
      "  warnings.warn(\n",
      "/Users/gauravganti/opt/anaconda3/envs/cdr_climate_uncertainty/lib/python3.10/site-packages/pymagicc/core.py:387: UserWarning: Not reading file: DAT_HEATCONT_EBALANCE_SUBANN.BINOUT. Monthly data are not read in automatically by `run`. Use `MAGICCData` instead.\n",
      "  warnings.warn(\n"
     ]
    },
    {
     "data": {
      "application/vnd.jupyter.widget-view+json": {
       "model_id": "a437a8d1b25347ec900d363791e209af",
       "version_major": 2,
       "version_minor": 0
      },
      "text/plain": [
       "Front parallel: 0.00it [00:00, ?it/s]"
      ]
     },
     "metadata": {},
     "output_type": "display_data"
    },
    {
     "data": {
      "application/vnd.jupyter.widget-view+json": {
       "model_id": "26fbfb3c9e27470cb3e02617b94b0320",
       "version_major": 2,
       "version_minor": 0
      },
      "text/plain": [
       "Parallel runs: 0.00it [00:00, ?it/s]"
      ]
     },
     "metadata": {},
     "output_type": "display_data"
    },
    {
     "name": "stderr",
     "output_type": "stream",
     "text": [
      "/Users/gauravganti/opt/anaconda3/envs/cdr_climate_uncertainty/lib/python3.10/site-packages/climate_assessment/climate/wg3.py:42: FutureWarning: The default value of regex will change from True to False in a future version.\n",
      "  df_clean[\"variable\"] = df_clean[\"variable\"].str.replace(old, new)\n"
     ]
    },
    {
     "data": {
      "application/vnd.jupyter.widget-view+json": {
       "model_id": "fb33602f19554fdab2ef22b3154dba76",
       "version_major": 2,
       "version_minor": 0
      },
      "text/plain": [
       "Climate models:   0%|          | 0.00/1.00 [00:00<?, ?it/s]"
      ]
     },
     "metadata": {},
     "output_type": "display_data"
    },
    {
     "name": "stderr",
     "output_type": "stream",
     "text": [
      "Historical data has not been checked\n"
     ]
    },
    {
     "data": {
      "application/vnd.jupyter.widget-view+json": {
       "model_id": "b13a375d65974aa187dd57030a86bd5c",
       "version_major": 2,
       "version_minor": 0
      },
      "text/plain": [
       "Writing SCEN7 files:   0%|          | 0.00/1.00 [00:00<?, ?it/s]"
      ]
     },
     "metadata": {},
     "output_type": "display_data"
    },
    {
     "data": {
      "application/vnd.jupyter.widget-view+json": {
       "model_id": "80c01bd688ab4bfabb5c48d6997bf26b",
       "version_major": 2,
       "version_minor": 0
      },
      "text/plain": [
       "Front serial:   0%|          | 0.00/1.00 [00:00<?, ?it/s]"
      ]
     },
     "metadata": {},
     "output_type": "display_data"
    },
    {
     "name": "stderr",
     "output_type": "stream",
     "text": [
      "/Users/gauravganti/opt/anaconda3/envs/cdr_climate_uncertainty/lib/python3.10/site-packages/pymagicc/core.py:387: UserWarning: Not reading file: DAT_HEATUPTK_EBALANCE_SUBANN.BINOUT. Monthly data are not read in automatically by `run`. Use `MAGICCData` instead.\n",
      "  warnings.warn(\n",
      "/Users/gauravganti/opt/anaconda3/envs/cdr_climate_uncertainty/lib/python3.10/site-packages/pymagicc/core.py:387: UserWarning: Not reading file: DAT_HEATCONT_EBALANCE_SUBANN.BINOUT. Monthly data are not read in automatically by `run`. Use `MAGICCData` instead.\n",
      "  warnings.warn(\n"
     ]
    },
    {
     "data": {
      "application/vnd.jupyter.widget-view+json": {
       "model_id": "e3c29b2a7af044228e0a4c9ce337b04d",
       "version_major": 2,
       "version_minor": 0
      },
      "text/plain": [
       "Front parallel: 0.00it [00:00, ?it/s]"
      ]
     },
     "metadata": {},
     "output_type": "display_data"
    },
    {
     "data": {
      "application/vnd.jupyter.widget-view+json": {
       "model_id": "4337c4e0d5af47e8bcc5ece821206933",
       "version_major": 2,
       "version_minor": 0
      },
      "text/plain": [
       "Parallel runs: 0.00it [00:00, ?it/s]"
      ]
     },
     "metadata": {},
     "output_type": "display_data"
    },
    {
     "name": "stderr",
     "output_type": "stream",
     "text": [
      "/Users/gauravganti/opt/anaconda3/envs/cdr_climate_uncertainty/lib/python3.10/site-packages/climate_assessment/climate/wg3.py:42: FutureWarning: The default value of regex will change from True to False in a future version.\n",
      "  df_clean[\"variable\"] = df_clean[\"variable\"].str.replace(old, new)\n"
     ]
    },
    {
     "data": {
      "application/vnd.jupyter.widget-view+json": {
       "model_id": "22f34405222b49be8d22d635c81d432b",
       "version_major": 2,
       "version_minor": 0
      },
      "text/plain": [
       "Climate models:   0%|          | 0.00/1.00 [00:00<?, ?it/s]"
      ]
     },
     "metadata": {},
     "output_type": "display_data"
    },
    {
     "name": "stderr",
     "output_type": "stream",
     "text": [
      "Historical data has not been checked\n"
     ]
    },
    {
     "data": {
      "application/vnd.jupyter.widget-view+json": {
       "model_id": "51b5a2117a7f446f8c33fbc677be0bc6",
       "version_major": 2,
       "version_minor": 0
      },
      "text/plain": [
       "Writing SCEN7 files:   0%|          | 0.00/1.00 [00:00<?, ?it/s]"
      ]
     },
     "metadata": {},
     "output_type": "display_data"
    },
    {
     "data": {
      "application/vnd.jupyter.widget-view+json": {
       "model_id": "8c8a80cd7cc243048f038bf41d9aabf8",
       "version_major": 2,
       "version_minor": 0
      },
      "text/plain": [
       "Front serial:   0%|          | 0.00/1.00 [00:00<?, ?it/s]"
      ]
     },
     "metadata": {},
     "output_type": "display_data"
    },
    {
     "name": "stderr",
     "output_type": "stream",
     "text": [
      "/Users/gauravganti/opt/anaconda3/envs/cdr_climate_uncertainty/lib/python3.10/site-packages/pymagicc/core.py:387: UserWarning: Not reading file: DAT_HEATUPTK_EBALANCE_SUBANN.BINOUT. Monthly data are not read in automatically by `run`. Use `MAGICCData` instead.\n",
      "  warnings.warn(\n",
      "/Users/gauravganti/opt/anaconda3/envs/cdr_climate_uncertainty/lib/python3.10/site-packages/pymagicc/core.py:387: UserWarning: Not reading file: DAT_HEATCONT_EBALANCE_SUBANN.BINOUT. Monthly data are not read in automatically by `run`. Use `MAGICCData` instead.\n",
      "  warnings.warn(\n"
     ]
    },
    {
     "data": {
      "application/vnd.jupyter.widget-view+json": {
       "model_id": "15d67279ee794e5c8a326e837f05c541",
       "version_major": 2,
       "version_minor": 0
      },
      "text/plain": [
       "Front parallel: 0.00it [00:00, ?it/s]"
      ]
     },
     "metadata": {},
     "output_type": "display_data"
    },
    {
     "data": {
      "application/vnd.jupyter.widget-view+json": {
       "model_id": "ce30cf510ad342ef88468cc829a7464a",
       "version_major": 2,
       "version_minor": 0
      },
      "text/plain": [
       "Parallel runs: 0.00it [00:00, ?it/s]"
      ]
     },
     "metadata": {},
     "output_type": "display_data"
    },
    {
     "name": "stderr",
     "output_type": "stream",
     "text": [
      "/Users/gauravganti/opt/anaconda3/envs/cdr_climate_uncertainty/lib/python3.10/site-packages/climate_assessment/climate/wg3.py:42: FutureWarning: The default value of regex will change from True to False in a future version.\n",
      "  df_clean[\"variable\"] = df_clean[\"variable\"].str.replace(old, new)\n"
     ]
    },
    {
     "data": {
      "application/vnd.jupyter.widget-view+json": {
       "model_id": "b0ba3f1d64d3424bb3dac55cbc4df661",
       "version_major": 2,
       "version_minor": 0
      },
      "text/plain": [
       "Climate models:   0%|          | 0.00/1.00 [00:00<?, ?it/s]"
      ]
     },
     "metadata": {},
     "output_type": "display_data"
    },
    {
     "name": "stderr",
     "output_type": "stream",
     "text": [
      "Historical data has not been checked\n"
     ]
    },
    {
     "data": {
      "application/vnd.jupyter.widget-view+json": {
       "model_id": "497d3b077baa474391637570e875b841",
       "version_major": 2,
       "version_minor": 0
      },
      "text/plain": [
       "Writing SCEN7 files:   0%|          | 0.00/1.00 [00:00<?, ?it/s]"
      ]
     },
     "metadata": {},
     "output_type": "display_data"
    },
    {
     "data": {
      "application/vnd.jupyter.widget-view+json": {
       "model_id": "49ac8e3aa4544a4b97e6a4ccd5212899",
       "version_major": 2,
       "version_minor": 0
      },
      "text/plain": [
       "Front serial:   0%|          | 0.00/1.00 [00:00<?, ?it/s]"
      ]
     },
     "metadata": {},
     "output_type": "display_data"
    },
    {
     "name": "stderr",
     "output_type": "stream",
     "text": [
      "/Users/gauravganti/opt/anaconda3/envs/cdr_climate_uncertainty/lib/python3.10/site-packages/pymagicc/core.py:387: UserWarning: Not reading file: DAT_HEATUPTK_EBALANCE_SUBANN.BINOUT. Monthly data are not read in automatically by `run`. Use `MAGICCData` instead.\n",
      "  warnings.warn(\n",
      "/Users/gauravganti/opt/anaconda3/envs/cdr_climate_uncertainty/lib/python3.10/site-packages/pymagicc/core.py:387: UserWarning: Not reading file: DAT_HEATCONT_EBALANCE_SUBANN.BINOUT. Monthly data are not read in automatically by `run`. Use `MAGICCData` instead.\n",
      "  warnings.warn(\n"
     ]
    },
    {
     "data": {
      "application/vnd.jupyter.widget-view+json": {
       "model_id": "cff91d47b7014e079f0968c6f403526e",
       "version_major": 2,
       "version_minor": 0
      },
      "text/plain": [
       "Front parallel: 0.00it [00:00, ?it/s]"
      ]
     },
     "metadata": {},
     "output_type": "display_data"
    },
    {
     "data": {
      "application/vnd.jupyter.widget-view+json": {
       "model_id": "280c086e744d4b7e93bef78ce02832a1",
       "version_major": 2,
       "version_minor": 0
      },
      "text/plain": [
       "Parallel runs: 0.00it [00:00, ?it/s]"
      ]
     },
     "metadata": {},
     "output_type": "display_data"
    },
    {
     "name": "stderr",
     "output_type": "stream",
     "text": [
      "/Users/gauravganti/opt/anaconda3/envs/cdr_climate_uncertainty/lib/python3.10/site-packages/climate_assessment/climate/wg3.py:42: FutureWarning: The default value of regex will change from True to False in a future version.\n",
      "  df_clean[\"variable\"] = df_clean[\"variable\"].str.replace(old, new)\n"
     ]
    },
    {
     "data": {
      "application/vnd.jupyter.widget-view+json": {
       "model_id": "992237cbcd714b299b3afce70b3aa861",
       "version_major": 2,
       "version_minor": 0
      },
      "text/plain": [
       "Climate models:   0%|          | 0.00/1.00 [00:00<?, ?it/s]"
      ]
     },
     "metadata": {},
     "output_type": "display_data"
    },
    {
     "name": "stderr",
     "output_type": "stream",
     "text": [
      "Historical data has not been checked\n"
     ]
    },
    {
     "data": {
      "application/vnd.jupyter.widget-view+json": {
       "model_id": "64833a58906c425a97a72742c05cdcb2",
       "version_major": 2,
       "version_minor": 0
      },
      "text/plain": [
       "Writing SCEN7 files:   0%|          | 0.00/1.00 [00:00<?, ?it/s]"
      ]
     },
     "metadata": {},
     "output_type": "display_data"
    },
    {
     "data": {
      "application/vnd.jupyter.widget-view+json": {
       "model_id": "3827979600a54d1eac4e2b166050d8f5",
       "version_major": 2,
       "version_minor": 0
      },
      "text/plain": [
       "Front serial:   0%|          | 0.00/1.00 [00:00<?, ?it/s]"
      ]
     },
     "metadata": {},
     "output_type": "display_data"
    },
    {
     "name": "stderr",
     "output_type": "stream",
     "text": [
      "/Users/gauravganti/opt/anaconda3/envs/cdr_climate_uncertainty/lib/python3.10/site-packages/pymagicc/core.py:387: UserWarning: Not reading file: DAT_HEATUPTK_EBALANCE_SUBANN.BINOUT. Monthly data are not read in automatically by `run`. Use `MAGICCData` instead.\n",
      "  warnings.warn(\n",
      "/Users/gauravganti/opt/anaconda3/envs/cdr_climate_uncertainty/lib/python3.10/site-packages/pymagicc/core.py:387: UserWarning: Not reading file: DAT_HEATCONT_EBALANCE_SUBANN.BINOUT. Monthly data are not read in automatically by `run`. Use `MAGICCData` instead.\n",
      "  warnings.warn(\n"
     ]
    },
    {
     "data": {
      "application/vnd.jupyter.widget-view+json": {
       "model_id": "33da0cb5f9cf464f9c2b8ee66c9ecd2f",
       "version_major": 2,
       "version_minor": 0
      },
      "text/plain": [
       "Front parallel: 0.00it [00:00, ?it/s]"
      ]
     },
     "metadata": {},
     "output_type": "display_data"
    },
    {
     "data": {
      "application/vnd.jupyter.widget-view+json": {
       "model_id": "91e4ff0c02b049acb72f6d2a134ccdb3",
       "version_major": 2,
       "version_minor": 0
      },
      "text/plain": [
       "Parallel runs: 0.00it [00:00, ?it/s]"
      ]
     },
     "metadata": {},
     "output_type": "display_data"
    },
    {
     "name": "stderr",
     "output_type": "stream",
     "text": [
      "/Users/gauravganti/opt/anaconda3/envs/cdr_climate_uncertainty/lib/python3.10/site-packages/climate_assessment/climate/wg3.py:42: FutureWarning: The default value of regex will change from True to False in a future version.\n",
      "  df_clean[\"variable\"] = df_clean[\"variable\"].str.replace(old, new)\n"
     ]
    },
    {
     "data": {
      "application/vnd.jupyter.widget-view+json": {
       "model_id": "5cc4e84b24a346109e4925c42c1855c6",
       "version_major": 2,
       "version_minor": 0
      },
      "text/plain": [
       "Climate models:   0%|          | 0.00/1.00 [00:00<?, ?it/s]"
      ]
     },
     "metadata": {},
     "output_type": "display_data"
    },
    {
     "name": "stderr",
     "output_type": "stream",
     "text": [
      "Historical data has not been checked\n"
     ]
    },
    {
     "data": {
      "application/vnd.jupyter.widget-view+json": {
       "model_id": "397b152d692e429da31a01bf3a017052",
       "version_major": 2,
       "version_minor": 0
      },
      "text/plain": [
       "Writing SCEN7 files:   0%|          | 0.00/1.00 [00:00<?, ?it/s]"
      ]
     },
     "metadata": {},
     "output_type": "display_data"
    },
    {
     "data": {
      "application/vnd.jupyter.widget-view+json": {
       "model_id": "9db37872073940d5b07e9ae9900e1ef1",
       "version_major": 2,
       "version_minor": 0
      },
      "text/plain": [
       "Front serial:   0%|          | 0.00/1.00 [00:00<?, ?it/s]"
      ]
     },
     "metadata": {},
     "output_type": "display_data"
    },
    {
     "name": "stderr",
     "output_type": "stream",
     "text": [
      "/Users/gauravganti/opt/anaconda3/envs/cdr_climate_uncertainty/lib/python3.10/site-packages/pymagicc/core.py:387: UserWarning: Not reading file: DAT_HEATUPTK_EBALANCE_SUBANN.BINOUT. Monthly data are not read in automatically by `run`. Use `MAGICCData` instead.\n",
      "  warnings.warn(\n",
      "/Users/gauravganti/opt/anaconda3/envs/cdr_climate_uncertainty/lib/python3.10/site-packages/pymagicc/core.py:387: UserWarning: Not reading file: DAT_HEATCONT_EBALANCE_SUBANN.BINOUT. Monthly data are not read in automatically by `run`. Use `MAGICCData` instead.\n",
      "  warnings.warn(\n"
     ]
    },
    {
     "data": {
      "application/vnd.jupyter.widget-view+json": {
       "model_id": "3ca01eb92f904443a9e651a50352b15f",
       "version_major": 2,
       "version_minor": 0
      },
      "text/plain": [
       "Front parallel: 0.00it [00:00, ?it/s]"
      ]
     },
     "metadata": {},
     "output_type": "display_data"
    },
    {
     "data": {
      "application/vnd.jupyter.widget-view+json": {
       "model_id": "75f3a0f741db4f4ab467f66802a29654",
       "version_major": 2,
       "version_minor": 0
      },
      "text/plain": [
       "Parallel runs: 0.00it [00:00, ?it/s]"
      ]
     },
     "metadata": {},
     "output_type": "display_data"
    }
   ],
   "source": [
    "try:\n",
    "    result = minimize_scalar(\n",
    "        objective,\n",
    "        bounds=bounds,\n",
    "        args=(emissions_for_iteration, novel_cdr_original_filtered),\n",
    "        method='bounded'\n",
    "    )\n",
    "except:\n",
    "    result = minimize_scalar(\n",
    "        objective,\n",
    "        bounds=(0,90),\n",
    "        args=(emissions_for_iteration, novel_cdr_original_filtered),\n",
    "        method='bounded'\n",
    "    )"
   ]
  },
  {
   "cell_type": "code",
   "execution_count": 40,
   "metadata": {},
   "outputs": [],
   "source": [
    "if result.fun > 0.1 and calibrate_type == \"increase\":\n",
    "   result = minimize_scalar(\n",
    "        objective,\n",
    "        bounds=(0,90),\n",
    "        args=(emissions_for_iteration, novel_cdr_original_filtered),\n",
    "        method='bounded'\n",
    "    ) "
   ]
  },
  {
   "cell_type": "markdown",
   "metadata": {},
   "source": [
    "Last step: Make a function to construct and return the necessary CDR and temperature pathways."
   ]
  },
  {
   "cell_type": "code",
   "execution_count": 41,
   "metadata": {},
   "outputs": [],
   "source": [
    "def objective(angle, emissions, cdr_first_guess):\n",
    "    # Step 1: Get the new CDR pathway\n",
    "    new_cdr, _ = rotate_and_calc_cumulative(\n",
    "        cdr_first_guess,\n",
    "        angle\n",
    "    )\n",
    "    # Step 2: Get the new emissions pathway\n",
    "    new_emissions = (\n",
    "        scmdata.ScmRun(\n",
    "            clean_wg3_scenarios(\n",
    "                construct_new_emissions_dataframe(\n",
    "                    emissions,\n",
    "                    process_novel_cdr(new_cdr, cdr_first_guess.meta['netzero|CO2'].values[0])\n",
    "                )        \n",
    "            )\n",
    "        )\n",
    "    )\n",
    "    new_deviation = abs(return_temperature_deviation(new_emissions))\n",
    "    return new_deviation"
   ]
  },
  {
   "cell_type": "code",
   "execution_count": 42,
   "metadata": {},
   "outputs": [],
   "source": [
    "def compile_necessary_output_files(result):\n",
    "    # Step 1: Get the new CDR pathway\n",
    "    new_cdr, cumulative_cdr = rotate_and_calc_cumulative(\n",
    "        novel_cdr_original_filtered,\n",
    "        result.x\n",
    "    )\n",
    "    new_cdr.set_meta(\n",
    "        name='cumulative_cdr',\n",
    "        meta=cumulative_cdr\n",
    "    )\n",
    "    # Step 2: Get the new emissions pathway\n",
    "    new_emissions = (\n",
    "        scmdata.ScmRun(\n",
    "            clean_wg3_scenarios(\n",
    "                construct_new_emissions_dataframe(\n",
    "                    emissions_for_iteration,\n",
    "                    process_novel_cdr(new_cdr, novel_cdr_original_filtered.meta['netzero|CO2'].values[0])\n",
    "                )        \n",
    "            )\n",
    "        )\n",
    "    )\n",
    "    # Step 4: Calculate the warming\n",
    "    new_warming = openscm_runner.run(\n",
    "        {'MAGICC7':config_for_run},\n",
    "        new_emissions,\n",
    "        output_variables=[\n",
    "            'Surface Temperature'\n",
    "        ]    \n",
    "    )\n",
    "    # Step 4: Rebase and return\n",
    "    new_warming_rebased = (\n",
    "        rebase_temperatures_wg3(new_warming)\n",
    "    )\n",
    "    return new_cdr, new_warming_rebased"
   ]
  },
  {
   "cell_type": "code",
   "execution_count": 43,
   "metadata": {},
   "outputs": [
    {
     "name": "stderr",
     "output_type": "stream",
     "text": [
      "/Users/gauravganti/opt/anaconda3/envs/cdr_climate_uncertainty/lib/python3.10/site-packages/climate_assessment/climate/wg3.py:42: FutureWarning: The default value of regex will change from True to False in a future version.\n",
      "  df_clean[\"variable\"] = df_clean[\"variable\"].str.replace(old, new)\n"
     ]
    },
    {
     "data": {
      "application/vnd.jupyter.widget-view+json": {
       "model_id": "5692771e67a84ce0b1104245c692e716",
       "version_major": 2,
       "version_minor": 0
      },
      "text/plain": [
       "Climate models:   0%|          | 0.00/1.00 [00:00<?, ?it/s]"
      ]
     },
     "metadata": {},
     "output_type": "display_data"
    },
    {
     "name": "stderr",
     "output_type": "stream",
     "text": [
      "Historical data has not been checked\n"
     ]
    },
    {
     "data": {
      "application/vnd.jupyter.widget-view+json": {
       "model_id": "21df505fa95f4c0b969be3a0864432e1",
       "version_major": 2,
       "version_minor": 0
      },
      "text/plain": [
       "Writing SCEN7 files:   0%|          | 0.00/1.00 [00:00<?, ?it/s]"
      ]
     },
     "metadata": {},
     "output_type": "display_data"
    },
    {
     "data": {
      "application/vnd.jupyter.widget-view+json": {
       "model_id": "b63db4e33184495ba6adc4ddabf374ba",
       "version_major": 2,
       "version_minor": 0
      },
      "text/plain": [
       "Front serial:   0%|          | 0.00/1.00 [00:00<?, ?it/s]"
      ]
     },
     "metadata": {},
     "output_type": "display_data"
    },
    {
     "name": "stderr",
     "output_type": "stream",
     "text": [
      "/Users/gauravganti/opt/anaconda3/envs/cdr_climate_uncertainty/lib/python3.10/site-packages/pymagicc/core.py:387: UserWarning: Not reading file: DAT_HEATUPTK_EBALANCE_SUBANN.BINOUT. Monthly data are not read in automatically by `run`. Use `MAGICCData` instead.\n",
      "  warnings.warn(\n",
      "/Users/gauravganti/opt/anaconda3/envs/cdr_climate_uncertainty/lib/python3.10/site-packages/pymagicc/core.py:387: UserWarning: Not reading file: DAT_HEATCONT_EBALANCE_SUBANN.BINOUT. Monthly data are not read in automatically by `run`. Use `MAGICCData` instead.\n",
      "  warnings.warn(\n"
     ]
    },
    {
     "data": {
      "application/vnd.jupyter.widget-view+json": {
       "model_id": "c9807fb7d8c6427a966d0a808c18e0dd",
       "version_major": 2,
       "version_minor": 0
      },
      "text/plain": [
       "Front parallel: 0.00it [00:00, ?it/s]"
      ]
     },
     "metadata": {},
     "output_type": "display_data"
    },
    {
     "data": {
      "application/vnd.jupyter.widget-view+json": {
       "model_id": "230b1c144dfa419bbc16f3c440ceca98",
       "version_major": 2,
       "version_minor": 0
      },
      "text/plain": [
       "Parallel runs: 0.00it [00:00, ?it/s]"
      ]
     },
     "metadata": {},
     "output_type": "display_data"
    }
   ],
   "source": [
    "cdr_pathway, temperature_pathway = compile_necessary_output_files(result)"
   ]
  },
  {
   "cell_type": "code",
   "execution_count": 44,
   "metadata": {},
   "outputs": [
    {
     "data": {
      "text/plain": [
       " message: Solution found.\n",
       " success: True\n",
       "  status: 0\n",
       "     fun: 4.993519597817908e-09\n",
       "       x: 87.87058350544923\n",
       "     nit: 21\n",
       "    nfev: 21"
      ]
     },
     "execution_count": 44,
     "metadata": {},
     "output_type": "execute_result"
    }
   ],
   "source": [
    "result"
   ]
  },
  {
   "cell_type": "code",
   "execution_count": 45,
   "metadata": {},
   "outputs": [
    {
     "name": "stderr",
     "output_type": "stream",
     "text": [
      "/Users/gauravganti/opt/anaconda3/envs/cdr_climate_uncertainty/lib/python3.10/site-packages/scmdata/plotting.py:79: FutureWarning: \n",
      "\n",
      "The `ci` parameter is deprecated. Use `errorbar='sd'` for the same effect.\n",
      "\n",
      "  ax = sns.lineplot(data=plt_df, **kwargs)\n"
     ]
    },
    {
     "data": {
      "text/plain": [
       "<matplotlib.lines.Line2D at 0x16e984b50>"
      ]
     },
     "execution_count": 45,
     "metadata": {},
     "output_type": "execute_result"
    },
    {
     "data": {
      "image/png": "[encoded data removed]",
      "text/plain": [
       "<Figure size 1000x500 with 2 Axes>"
      ]
     },
     "metadata": {},
     "output_type": "display_data"
    }
   ],
   "source": [
    "fig, ax = plt.subplots(1, 2, figsize=(10, 5))\n",
    "\n",
    "# First, plot the CDR pathway\n",
    "cdr_pathway.plot(ax=ax[0])\n",
    "novel_cdr_original_filtered.plot(ax=ax[0], color='black', linestyle='--')\n",
    "\n",
    "# Plot the temperature\n",
    "temperature_pathway.filter(year=range(1850, 2100)).line_plot(ax=ax[1])\n",
    "ax[1].axhline(1.5, color='black')"
   ]
  },
  {
   "cell_type": "markdown",
   "metadata": {},
   "source": [
    "Save the files out for further assessment."
   ]
  },
  {
   "cell_type": "code",
   "execution_count": 46,
   "metadata": {},
   "outputs": [],
   "source": [
    "output_path=os.environ['OUTPUT_PATH']"
   ]
  },
  {
   "cell_type": "code",
   "execution_count": 47,
   "metadata": {},
   "outputs": [],
   "source": [
    "if '/' in MODEL:\n",
    "    MODEL=MODEL.replace('/', '-')"
   ]
  },
  {
   "cell_type": "code",
   "execution_count": 48,
   "metadata": {},
   "outputs": [],
   "source": [
    "cdr_output = Path(\n",
    "    f\"{output_path}/results/CDR_{MODEL}_{SCENARIO}_{ENSEMBLE_MEMBER}.csv\"\n",
    ")\n",
    "temp_output = Path(\n",
    "    f\"{output_path}/results/TEMP_{MODEL}_{SCENARIO}_{ENSEMBLE_MEMBER}.csv\"\n",
    ")"
   ]
  },
  {
   "cell_type": "code",
   "execution_count": 49,
   "metadata": {},
   "outputs": [],
   "source": [
    "cdr_pathway.to_csv(\n",
    "    cdr_output\n",
    ")"
   ]
  },
  {
   "cell_type": "code",
   "execution_count": 50,
   "metadata": {},
   "outputs": [],
   "source": [
    "temperature_pathway.to_csv(\n",
    "    temp_output\n",
    ")"
   ]
  },
  {
   "cell_type": "code",
   "execution_count": 51,
   "metadata": {},
   "outputs": [
    {
     "data": {
      "text/plain": [
       "PosixPath('results/CDR_REMIND-MAgPIE 2.1-4.3_DeepElec_SSP2_ HighRE_Budg900_4.csv')"
      ]
     },
     "execution_count": 51,
     "metadata": {},
     "output_type": "execute_result"
    }
   ],
   "source": [
    "cdr_output"
   ]
  },
  {
   "cell_type": "code",
   "execution_count": 52,
   "metadata": {},
   "outputs": [
    {
     "data": {
      "text/plain": [
       "PosixPath('results/TEMP_REMIND-MAgPIE 2.1-4.3_DeepElec_SSP2_ HighRE_Budg900_4.csv')"
      ]
     },
     "execution_count": 52,
     "metadata": {},
     "output_type": "execute_result"
    }
   ],
   "source": [
    "temp_output"
   ]
  }
 ],
 "metadata": {
  "kernelspec": {
   "display_name": "Python 3 (ipykernel)",
   "language": "python",
   "name": "python3"
  },
  "language_info": {
   "codemirror_mode": {
    "name": "ipython",
    "version": 3
   },
   "file_extension": ".py",
   "mimetype": "text/x-python",
   "name": "python",
   "nbconvert_exporter": "python",
   "pygments_lexer": "ipython3",
   "version": "3.10.12"
  }
 },
 "nbformat": 4,
 "nbformat_minor": 4
}
