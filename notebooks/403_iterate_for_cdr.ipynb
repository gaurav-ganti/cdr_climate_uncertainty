{
 "cells": [
  {
   "cell_type": "markdown",
   "metadata": {},
   "source": [
    "# 403 Iterate for CDR\n",
    "In this notebook we will assess the new CDR needs based on an iterative search."
   ]
  },
  {
   "cell_type": "code",
   "execution_count": 1,
   "metadata": {
    "tags": [
     "parameters"
    ]
   },
   "outputs": [],
   "source": [
    "ENSEMBLE_MEMBER = 4\n",
    "AR6_FILTERS = {\n",
    "    'model':'REMIND-MAgPIE 2.1-4.3',\n",
    "    'scenario':'DeepElec_SSP2_ HighRE_Budg900'\n",
    "}"
   ]
  },
  {
   "cell_type": "code",
   "execution_count": 2,
   "metadata": {},
   "outputs": [
    {
     "data": {
      "application/javascript": "if (typeof IPython !== 'undefined') { IPython.OutputArea.prototype._should_scroll = function(lines){ return false; }}",
      "text/plain": [
       "<IPython.core.display.Javascript object>"
      ]
     },
     "metadata": {},
     "output_type": "display_data"
    },
    {
     "name": "stderr",
     "output_type": "stream",
     "text": [
      "/Users/gauravganti/anaconda3/envs/cdr_climate_uncertainty/lib/python3.10/site-packages/scmdata/database/_database.py:9: TqdmExperimentalWarning: Using `tqdm.autonotebook.tqdm` in notebook mode. Use `tqdm.tqdm` instead to force console mode (e.g. in jupyter console)\n",
      "  import tqdm.autonotebook as tqdman\n"
     ]
    }
   ],
   "source": [
    "import json\n",
    "import os\n",
    "from pathlib import Path\n",
    "\n",
    "import copy\n",
    "import dotenv\n",
    "import matplotlib.pyplot as plt\n",
    "import openscm_runner\n",
    "import scmdata\n",
    "import pyam\n",
    "import pandas as pd\n",
    "import numpy as np\n",
    "from scipy.optimize import minimize_scalar\n",
    "\n",
    "import sys\n",
    "sys.path.append('../scripts/')\n",
    "from cdr import *\n",
    "\n",
    "from climate_assessment.climate.wg3 import clean_wg3_scenarios\n",
    "from climate_assessment.climate.magicc7 import get_magicc7_configurations\n",
    "%load_ext autoreload\n",
    "%autoreload 2"
   ]
  },
  {
   "cell_type": "code",
   "execution_count": 3,
   "metadata": {},
   "outputs": [
    {
     "data": {
      "text/plain": [
       "True"
      ]
     },
     "execution_count": 3,
     "metadata": {},
     "output_type": "execute_result"
    }
   ],
   "source": [
    "dotenv.load_dotenv()"
   ]
  },
  {
   "cell_type": "markdown",
   "metadata": {},
   "source": [
    "Step 1: Load the MAGICC configurations and select the ensemble member (climate realisation) that we want to run through for this study."
   ]
  },
  {
   "cell_type": "code",
   "execution_count": 4,
   "metadata": {},
   "outputs": [],
   "source": [
    "os.environ['DYLD_LIBRARY_PATH'] = '/opt/homebrew/Cellar/gcc/13.2.0/lib/gcc/current/'\n",
    "magicc_cfgs, _ = get_magicc7_configurations(\n",
    "    magicc_version=\"v7.5.3\",\n",
    "    magicc_probabilistic_file=os.environ['MAGICC_AR6_PROBABILISTIC_DISTRIBUTION'],\n",
    "    magicc_extra_config=None,\n",
    "    num_cfgs=600,\n",
    "    co2_and_non_co2_warming=False\n",
    ")"
   ]
  },
  {
   "cell_type": "code",
   "execution_count": 5,
   "metadata": {},
   "outputs": [],
   "source": [
    "config_for_run = [magicc_cfgs[ENSEMBLE_MEMBER]]"
   ]
  },
  {
   "cell_type": "markdown",
   "metadata": {},
   "source": [
    "Step 2: Load the necessary emissions-related files for this assessment. We need:\n",
    "* The adapted novel CDR estimates lookup table\n",
    "* The emission dataset to input to the climate model\n",
    "* The original novel CDR estimates that we will use for the calibration iterations and the optimisation"
   ]
  },
  {
   "cell_type": "code",
   "execution_count": 6,
   "metadata": {},
   "outputs": [
    {
     "name": "stderr",
     "output_type": "stream",
     "text": [
      "pyam - INFO: Running in a notebook, setting up a basic logging at level INFO\n",
      "pyam.core - INFO: Reading file ../data/402_first_guess.csv\n"
     ]
    }
   ],
   "source": [
    "novel_cdr = pyam.IamDataFrame(\n",
    "    Path(\n",
    "        '../data/402_first_guess.csv'\n",
    "    )\n",
    ")"
   ]
  },
  {
   "cell_type": "code",
   "execution_count": 7,
   "metadata": {},
   "outputs": [
    {
     "name": "stderr",
     "output_type": "stream",
     "text": [
      "pyam.core - INFO: Reading file ../data/100_scenarios.csv\n"
     ]
    }
   ],
   "source": [
    "emissions = pyam.IamDataFrame(\n",
    "    Path(\n",
    "        '../data/100_scenarios.csv'\n",
    "    )\n",
    ")"
   ]
  },
  {
   "cell_type": "code",
   "execution_count": 8,
   "metadata": {},
   "outputs": [],
   "source": [
    "metrics = pd.read_csv(\n",
    "    Path(\n",
    "        '../data/401_lookup.csv'\n",
    "    ),\n",
    "    index_col=[0,1, 2]\n",
    ")"
   ]
  },
  {
   "cell_type": "code",
   "execution_count": 9,
   "metadata": {},
   "outputs": [
    {
     "name": "stderr",
     "output_type": "stream",
     "text": [
      "pyam.core - INFO: Reading file ../data/100_novel_cdr.csv\n"
     ]
    }
   ],
   "source": [
    "novel_cdr_original = pyam.IamDataFrame(\n",
    "    Path(\n",
    "        '../data/100_novel_cdr.csv'\n",
    "    )\n",
    ")"
   ]
  },
  {
   "cell_type": "markdown",
   "metadata": {},
   "source": [
    "Step 3: Filter both the datasets for the necessary model and scenario. Additionally, for the novel CDR dataframe, downselect it to get the ensemble member of choice."
   ]
  },
  {
   "cell_type": "code",
   "execution_count": 10,
   "metadata": {},
   "outputs": [],
   "source": [
    "novel_cdr_for_iteration = (\n",
    "    novel_cdr\n",
    "    .filter(\n",
    "        ensemble_member=ENSEMBLE_MEMBER,\n",
    "        **AR6_FILTERS\n",
    "    )\n",
    ")"
   ]
  },
  {
   "cell_type": "code",
   "execution_count": 11,
   "metadata": {},
   "outputs": [],
   "source": [
    "novel_cdr_for_iteration.interpolate(\n",
    "    time=range(2015, 2101),\n",
    "    inplace=True\n",
    ")"
   ]
  },
  {
   "cell_type": "code",
   "execution_count": 12,
   "metadata": {},
   "outputs": [],
   "source": [
    "emissions_for_iteration = (\n",
    "    emissions\n",
    "    .filter(\n",
    "        **AR6_FILTERS\n",
    "    )\n",
    ")"
   ]
  },
  {
   "cell_type": "code",
   "execution_count": 13,
   "metadata": {},
   "outputs": [],
   "source": [
    "emissions_for_iteration.swap_time_for_year(inplace=True)"
   ]
  },
  {
   "cell_type": "code",
   "execution_count": 14,
   "metadata": {},
   "outputs": [],
   "source": [
    "novel_cdr_original_filtered = (\n",
    "    novel_cdr_original\n",
    "    .filter(\n",
    "        **AR6_FILTERS\n",
    "    )\n",
    "    .interpolate(\n",
    "        time=range(2015, 2101)\n",
    "    )\n",
    ")"
   ]
  },
  {
   "cell_type": "markdown",
   "metadata": {},
   "source": [
    "Step 4: We need the year of net zero CO2 and zero out the CDR before (so that we do not have a double counting effect)"
   ]
  },
  {
   "cell_type": "code",
   "execution_count": 15,
   "metadata": {},
   "outputs": [],
   "source": [
    "def process_novel_cdr(data, netzero_timing):\n",
    "    data_to_return = (\n",
    "        data.timeseries()\n",
    "        -\n",
    "        novel_cdr_original_filtered.timeseries()\n",
    "    )\n",
    "    return pyam.IamDataFrame(data_to_return)"
   ]
  },
  {
   "cell_type": "code",
   "execution_count": 16,
   "metadata": {},
   "outputs": [],
   "source": [
    "netzero_timing = metrics.loc[\n",
    "    (AR6_FILTERS['model'], AR6_FILTERS['scenario'], ENSEMBLE_MEMBER),\n",
    "    'netzero|CO2'\n",
    "]"
   ]
  },
  {
   "cell_type": "code",
   "execution_count": 17,
   "metadata": {},
   "outputs": [],
   "source": [
    "novel_cdr_to_crunch = process_novel_cdr(\n",
    "    novel_cdr_for_iteration,\n",
    "    netzero_timing\n",
    ")"
   ]
  },
  {
   "cell_type": "code",
   "execution_count": 18,
   "metadata": {},
   "outputs": [],
   "source": [
    "novel_cdr_for_iteration.set_meta(\n",
    "    name='netzero|CO2',\n",
    "    meta=netzero_timing\n",
    ")"
   ]
  },
  {
   "cell_type": "markdown",
   "metadata": {},
   "source": [
    "Step 4: Make a function that constructs a new emission dataframe to run through the simple climate model."
   ]
  },
  {
   "cell_type": "code",
   "execution_count": 19,
   "metadata": {},
   "outputs": [],
   "source": [
    "def construct_new_emissions_dataframe(\n",
    "        emissions, cdr\n",
    "):\n",
    "    emissions_to_return = copy.deepcopy(emissions)\n",
    "    # Step 1: Get the CDR dataframe\n",
    "    cdr_altered = pyam.IamDataFrame(\n",
    "        cdr\n",
    "        .timeseries()\n",
    "        .reset_index()\n",
    "        .drop(columns=cdr.extra_cols)\n",
    "    )\n",
    "    # Step 2: Pull out the emissions\n",
    "    co2_ffi_var = 'AR6 climate diagnostics|Infilled|Emissions|CO2|Energy and Industrial Processes'\n",
    "    co2_ffi = (\n",
    "        emissions_to_return\n",
    "        .filter(variable=co2_ffi_var)\n",
    "    )\n",
    "    # Step 3: Create a non CO2 dataframe\n",
    "    nonco2_ffi = (\n",
    "        emissions_to_return\n",
    "        .filter(\n",
    "            variable=co2_ffi_var,\n",
    "            keep=False\n",
    "        )\n",
    "    )\n",
    "    # Step 4: Aggregate the two variables\n",
    "    concat = pyam.concat([cdr_altered, co2_ffi])\n",
    "    concat_co2_ffi = concat.subtract(\n",
    "        a=co2_ffi_var,\n",
    "        b='Carbon Dioxide Removal|Novel',\n",
    "        name=co2_ffi_var,\n",
    "        ignore_units='Mt CO2/yr'\n",
    "    )\n",
    "    # Step 5: Return this\n",
    "    df_to_return = pyam.concat([concat_co2_ffi, nonco2_ffi])\n",
    "    return df_to_return.filter(year=range(2015, 2101))"
   ]
  },
  {
   "cell_type": "code",
   "execution_count": 20,
   "metadata": {},
   "outputs": [],
   "source": [
    "test = construct_new_emissions_dataframe(emissions_for_iteration, novel_cdr_to_crunch)"
   ]
  },
  {
   "cell_type": "code",
   "execution_count": 21,
   "metadata": {},
   "outputs": [
    {
     "name": "stderr",
     "output_type": "stream",
     "text": [
      "/Users/gauravganti/anaconda3/envs/cdr_climate_uncertainty/lib/python3.10/site-packages/pyam/plotting.py:1073: FutureWarning: iteritems is deprecated and will be removed in a future version. Use .items instead.\n",
      "  for col, data in df.iteritems():\n",
      "/Users/gauravganti/anaconda3/envs/cdr_climate_uncertainty/lib/python3.10/site-packages/pyam/plotting.py:1073: FutureWarning: iteritems is deprecated and will be removed in a future version. Use .items instead.\n",
      "  for col, data in df.iteritems():\n"
     ]
    },
    {
     "data": {
      "text/plain": [
       "Text(0.5, 1.0, '')"
      ]
     },
     "execution_count": 21,
     "metadata": {},
     "output_type": "execute_result"
    },
    {
     "data": {
      "image/png": "[encoded data removed]",
      "text/plain": [
       "<Figure size 640x480 with 1 Axes>"
      ]
     },
     "metadata": {},
     "output_type": "display_data"
    }
   ],
   "source": [
    "fig, ax = plt.subplots()\n",
    "\n",
    "test.filter(\n",
    "    variable='*Emissions|CO2|Energy and Industrial Processes'\n",
    ").plot(ax=ax, color='red')\n",
    "\n",
    "emissions_for_iteration.filter(\n",
    "    variable='*Emissions|CO2|Energy and Industrial Processes'\n",
    ").plot(ax=ax, color='blue')\n",
    "\n",
    "ax.set_title('')"
   ]
  },
  {
   "cell_type": "markdown",
   "metadata": {},
   "source": [
    "Step 6: Create the input for MAGICC and run this through for a first cut."
   ]
  },
  {
   "cell_type": "code",
   "execution_count": 22,
   "metadata": {},
   "outputs": [
    {
     "name": "stderr",
     "output_type": "stream",
     "text": [
      "/Users/gauravganti/anaconda3/envs/cdr_climate_uncertainty/lib/python3.10/site-packages/climate_assessment/climate/wg3.py:42: FutureWarning: The default value of regex will change from True to False in a future version.\n",
      "  df_clean[\"variable\"] = df_clean[\"variable\"].str.replace(old, new)\n"
     ]
    }
   ],
   "source": [
    "input_scm = scmdata.ScmRun(\n",
    "    clean_wg3_scenarios(test)\n",
    ")"
   ]
  },
  {
   "cell_type": "code",
   "execution_count": 23,
   "metadata": {},
   "outputs": [
    {
     "data": {
      "application/vnd.jupyter.widget-view+json": {
       "model_id": "b7cc4d17835f4273820c4f3c589632b6",
       "version_major": 2,
       "version_minor": 0
      },
      "text/plain": [
       "Climate models:   0%|          | 0.00/1.00 [00:00<?, ?it/s]"
      ]
     },
     "metadata": {},
     "output_type": "display_data"
    },
    {
     "name": "stderr",
     "output_type": "stream",
     "text": [
      "openscm_runner.adapters.magicc7.magicc7 - WARNING: Historical data has not been checked\n",
      "/Users/gauravganti/anaconda3/envs/cdr_climate_uncertainty/lib/python3.10/site-packages/openscm_units/_unit_registry.py:471: FutureWarning: iteritems is deprecated and will be removed in a future version. Use .items instead.\n",
      "  for label, val in metric_conversion.iteritems():\n"
     ]
    },
    {
     "data": {
      "application/vnd.jupyter.widget-view+json": {
       "model_id": "ce235893458443429ab967813f6e0adb",
       "version_major": 2,
       "version_minor": 0
      },
      "text/plain": [
       "Writing SCEN7 files:   0%|          | 0.00/1.00 [00:00<?, ?it/s]"
      ]
     },
     "metadata": {},
     "output_type": "display_data"
    },
    {
     "name": "stderr",
     "output_type": "stream",
     "text": [
      "openscm_runner.adapters.magicc7._run_magicc_parallel - INFO: Entered _parallel_magicc_compact_out\n",
      "openscm_runner.adapters.magicc7._run_magicc_parallel - INFO: Running in parallel with up to 4 workers\n"
     ]
    },
    {
     "data": {
      "application/vnd.jupyter.widget-view+json": {
       "model_id": "afc9b13f9b6849f9bf59f2bdc3d55a83",
       "version_major": 2,
       "version_minor": 0
      },
      "text/plain": [
       "Front serial:   0%|          | 0.00/1.00 [00:00<?, ?it/s]"
      ]
     },
     "metadata": {},
     "output_type": "display_data"
    },
    {
     "name": "stderr",
     "output_type": "stream",
     "text": [
      "openscm_runner.adapters.magicc7._magicc_instances - INFO: Creating new magicc instance: (7, 'MainProcess') - /Users/gauravganti/Documents/github_projects/cdr_climate_uncertainty/pymagicc-uw9dn_55\n",
      "openscm_runner.adapters.magicc7._run_magicc_parallel - INFO: Setting up MAGICC worker in /Users/gauravganti/Documents/github_projects/cdr_climate_uncertainty/pymagicc-uw9dn_55\n",
      "openscm_runner.adapters.magicc7._run_magicc_parallel - INFO: Writing Pymagicc compatible MAGCFG_USER.CFG in /Users/gauravganti/Documents/github_projects/cdr_climate_uncertainty/pymagicc-uw9dn_55/run\n",
      "/Users/gauravganti/anaconda3/envs/cdr_climate_uncertainty/lib/python3.10/site-packages/pymagicc/core.py:387: UserWarning: Not reading file: DAT_HEATUPTK_EBALANCE_SUBANN.BINOUT. Monthly data are not read in automatically by `run`. Use `MAGICCData` instead.\n",
      "  warnings.warn(\n",
      "/Users/gauravganti/anaconda3/envs/cdr_climate_uncertainty/lib/python3.10/site-packages/pymagicc/core.py:387: UserWarning: Not reading file: DAT_HEATCONT_EBALANCE_SUBANN.BINOUT. Monthly data are not read in automatically by `run`. Use `MAGICCData` instead.\n",
      "  warnings.warn(\n"
     ]
    },
    {
     "data": {
      "application/vnd.jupyter.widget-view+json": {
       "model_id": "43af2dc4798d4ae2b167ddc871b31859",
       "version_major": 2,
       "version_minor": 0
      },
      "text/plain": [
       "Front parallel: 0.00it [00:00, ?it/s]"
      ]
     },
     "metadata": {},
     "output_type": "display_data"
    },
    {
     "data": {
      "application/vnd.jupyter.widget-view+json": {
       "model_id": "93efa726a13c493fbb564554bc4a25fe",
       "version_major": 2,
       "version_minor": 0
      },
      "text/plain": [
       "Parallel runs: 0.00it [00:00, ?it/s]"
      ]
     },
     "metadata": {},
     "output_type": "display_data"
    },
    {
     "name": "stderr",
     "output_type": "stream",
     "text": [
      "openscm_runner.adapters.magicc7._run_magicc_parallel - INFO: Appending results into a single ScmRun\n",
      "openscm_runner.adapters.magicc7._magicc_instances - INFO: removing /Users/gauravganti/Documents/github_projects/cdr_climate_uncertainty/pymagicc-uw9dn_55\n",
      "openscm_runner.adapters.magicc7._run_magicc_parallel - INFO: Shutting down parallel pool\n",
      "openscm_runner.run - INFO: Only one model run, returning its results\n"
     ]
    }
   ],
   "source": [
    "temp_confirmation =  openscm_runner.run(\n",
    "    {'MAGICC7':config_for_run},\n",
    "    input_scm,\n",
    "    output_variables=[\n",
    "        'Surface Temperature'\n",
    "    ]\n",
    ")"
   ]
  },
  {
   "cell_type": "code",
   "execution_count": 24,
   "metadata": {},
   "outputs": [],
   "source": [
    "temp_proc = (\n",
    "    temp_confirmation\n",
    "    .filter(region='World')\n",
    "    .relative_to_ref_period_mean(\n",
    "        year=[1850, 1900]\n",
    "    )\n",
    "    .timeseries()\n",
    ")"
   ]
  },
  {
   "cell_type": "code",
   "execution_count": 25,
   "metadata": {},
   "outputs": [],
   "source": [
    "temp_calibrate_2100 = temp_proc['2100-01-01'].values[0].round(2)"
   ]
  },
  {
   "cell_type": "code",
   "execution_count": 26,
   "metadata": {},
   "outputs": [
    {
     "data": {
      "text/plain": [
       "<matplotlib.lines.Line2D at 0x288176140>"
      ]
     },
     "execution_count": 26,
     "metadata": {},
     "output_type": "execute_result"
    },
    {
     "data": {
      "image/png": "[encoded data removed]",
      "text/plain": [
       "<Figure size 640x480 with 1 Axes>"
      ]
     },
     "metadata": {},
     "output_type": "display_data"
    }
   ],
   "source": [
    "fig, ax = plt.subplots()\n",
    "\n",
    "metrics_small = metrics.loc[\n",
    "    (AR6_FILTERS['model'], AR6_FILTERS['scenario'], ENSEMBLE_MEMBER),\n",
    "]\n",
    "\n",
    "ax.bar(x=0, height=metrics_small['peak_warming'], width=0.1)\n",
    "ax.bar(x=0.3, height=metrics_small['2100_warming'], width=0.1)\n",
    "ax.bar(x=0.6, height=temp_calibrate_2100, width=0.1)\n",
    "ax.axhline(1.5, color='black')"
   ]
  },
  {
   "cell_type": "markdown",
   "metadata": {},
   "source": [
    "Step 7: Now that we know the direction (whether above or below), we now need a few calibration runs to get to the correct direction."
   ]
  },
  {
   "cell_type": "code",
   "execution_count": 27,
   "metadata": {},
   "outputs": [
    {
     "name": "stdout",
     "output_type": "stream",
     "text": [
      "0.08000000000000007\n"
     ]
    }
   ],
   "source": [
    "deviation = temp_calibrate_2100 - 1.5\n",
    "print(deviation)"
   ]
  },
  {
   "cell_type": "code",
   "execution_count": 28,
   "metadata": {},
   "outputs": [],
   "source": [
    "def return_temperature_deviation(input_emissions):\n",
    "    # Step 1: Run this through the simple climate model\n",
    "    temperatures = openscm_runner.run(\n",
    "        {'MAGICC7':config_for_run},\n",
    "        input_emissions,\n",
    "        output_variables=[\n",
    "            'Surface Temperature'\n",
    "        ]    \n",
    "    )\n",
    "    # Step 2: Rebase to 1850-1900 and return the 2100 value deviation\n",
    "    temperatures_rebased = (\n",
    "        temperatures\n",
    "        .filter(region='World')\n",
    "        .relative_to_ref_period_mean(year=[1850, 1900])\n",
    "    )\n",
    "    temp_2100 = (\n",
    "        temperatures_rebased\n",
    "        .timeseries()['2100-01-01']\n",
    "        .values[0]\n",
    "    )\n",
    "    # Step 3: Return the deviation\n",
    "    return temp_2100 - 1.5"
   ]
  },
  {
   "cell_type": "code",
   "execution_count": 29,
   "metadata": {},
   "outputs": [],
   "source": [
    "novel_cdr_for_iteration.angle[0]\n",
    "if deviation < 0:\n",
    "    calibrate_type = 'reduce'\n",
    "if deviation > 0:\n",
    "    calibrate_type = 'increase'"
   ]
  },
  {
   "cell_type": "code",
   "execution_count": 30,
   "metadata": {},
   "outputs": [
    {
     "data": {
      "text/plain": [
       "<class 'pyam.core.IamDataFrame'>\n",
       "Index:\n",
       " * model           : REMIND-MAgPIE 2.1-4.3 (1)\n",
       " * scenario        : DeepElec_SSP2_ HighRE_Budg900 (1)\n",
       "Timeseries data coordinates:\n",
       "   region          : World (1)\n",
       "   variable        : Carbon Dioxide Removal|Novel (1)\n",
       "   unit            : Mt CO2/yr (1)\n",
       "   angle           : 88.9133432826426 (1)\n",
       "   ensemble_member : 4 (1)\n",
       "   year            : 2005, 2010, 2015, 2016, 2017, 2018, 2019, ... 2100 (88)\n",
       "Meta indicators:\n",
       "   exclude (bool) False (1)\n",
       "   netzero|CO2 (int64) 2057 (1)"
      ]
     },
     "execution_count": 30,
     "metadata": {},
     "output_type": "execute_result"
    }
   ],
   "source": [
    "novel_cdr_for_iteration"
   ]
  },
  {
   "cell_type": "code",
   "execution_count": 31,
   "metadata": {},
   "outputs": [],
   "source": [
    "novel_cdr_original_filtered.meta = novel_cdr_for_iteration.meta"
   ]
  },
  {
   "cell_type": "code",
   "execution_count": 32,
   "metadata": {},
   "outputs": [],
   "source": [
    "def initial_calibration(\n",
    "        emissions,\n",
    "        cdr_first_guess,\n",
    "        angle_first_guess,\n",
    "        current_deviation\n",
    "):\n",
    "    # Step 1: Create a dictionary to store the calibrations\n",
    "    calibration = {}\n",
    "    emissions_copy = copy.deepcopy(emissions)\n",
    "    cdr = copy.deepcopy(cdr_first_guess)\n",
    "    # Step 2: Determine walk direction\n",
    "    if current_deviation > 0:\n",
    "        new_deviation = current_deviation\n",
    "        step_size=0.5\n",
    "        while new_deviation > 0:\n",
    "            new_angle = angle_first_guess + step_size\n",
    "            print(new_deviation, new_angle)\n",
    "            if new_angle > 91:\n",
    "                break\n",
    "            new_cdr, _ = rotate_and_calc_cumulative(\n",
    "                cdr,\n",
    "                new_angle\n",
    "            )\n",
    "            new_emissions = (\n",
    "                scmdata.ScmRun(\n",
    "                    clean_wg3_scenarios(\n",
    "                        construct_new_emissions_dataframe(\n",
    "                            emissions_copy,\n",
    "                            process_novel_cdr(new_cdr, cdr.meta['netzero|CO2'].values[0])\n",
    "                        )\n",
    "                    \n",
    "                    )\n",
    "                )\n",
    "            )\n",
    "            new_deviation = return_temperature_deviation(new_emissions)\n",
    "            calibration[new_angle] = new_deviation\n",
    "            step_size += step_size\n",
    "    elif current_deviation < 0:\n",
    "        step_size=5\n",
    "        new_deviation = current_deviation\n",
    "        while new_deviation < 0:\n",
    "            new_angle = angle_first_guess - step_size\n",
    "            if new_angle < 0:\n",
    "                break\n",
    "            print(new_deviation, new_angle)\n",
    "            new_cdr, _ = rotate_and_calc_cumulative(\n",
    "                cdr,\n",
    "                new_angle\n",
    "            )\n",
    "            new_emissions = (\n",
    "                scmdata.ScmRun(\n",
    "                    clean_wg3_scenarios(\n",
    "                        construct_new_emissions_dataframe(\n",
    "                            emissions_copy,\n",
    "                            process_novel_cdr(new_cdr, cdr.meta['netzero|CO2'].values[0])\n",
    "                        )\n",
    "                    \n",
    "                    )\n",
    "                )\n",
    "            )\n",
    "            new_deviation = return_temperature_deviation(new_emissions)\n",
    "            calibration[new_angle] = new_deviation\n",
    "            step_size += step_size\n",
    "    return pd.DataFrame(\n",
    "        calibration.items(),\n",
    "        columns=['angle', 'deviation']\n",
    "    )"
   ]
  },
  {
   "cell_type": "code",
   "execution_count": 33,
   "metadata": {},
   "outputs": [
    {
     "name": "stdout",
     "output_type": "stream",
     "text": [
      "0.08000000000000007 89.4133432826426\n"
     ]
    },
    {
     "name": "stderr",
     "output_type": "stream",
     "text": [
      "/Users/gauravganti/anaconda3/envs/cdr_climate_uncertainty/lib/python3.10/site-packages/climate_assessment/climate/wg3.py:42: FutureWarning: The default value of regex will change from True to False in a future version.\n",
      "  df_clean[\"variable\"] = df_clean[\"variable\"].str.replace(old, new)\n"
     ]
    },
    {
     "data": {
      "application/vnd.jupyter.widget-view+json": {
       "model_id": "95ec7cf34e99465381eabc43ed34c4dd",
       "version_major": 2,
       "version_minor": 0
      },
      "text/plain": [
       "Climate models:   0%|          | 0.00/1.00 [00:00<?, ?it/s]"
      ]
     },
     "metadata": {},
     "output_type": "display_data"
    },
    {
     "name": "stderr",
     "output_type": "stream",
     "text": [
      "openscm_runner.adapters.magicc7.magicc7 - WARNING: Historical data has not been checked\n"
     ]
    },
    {
     "data": {
      "application/vnd.jupyter.widget-view+json": {
       "model_id": "d212a178fd50400a861987a1cb422598",
       "version_major": 2,
       "version_minor": 0
      },
      "text/plain": [
       "Writing SCEN7 files:   0%|          | 0.00/1.00 [00:00<?, ?it/s]"
      ]
     },
     "metadata": {},
     "output_type": "display_data"
    },
    {
     "name": "stderr",
     "output_type": "stream",
     "text": [
      "openscm_runner.adapters.magicc7._run_magicc_parallel - INFO: Entered _parallel_magicc_compact_out\n",
      "openscm_runner.adapters.magicc7._run_magicc_parallel - INFO: Running in parallel with up to 4 workers\n"
     ]
    },
    {
     "data": {
      "application/vnd.jupyter.widget-view+json": {
       "model_id": "043a9b5e95b445d686d4b9da40805810",
       "version_major": 2,
       "version_minor": 0
      },
      "text/plain": [
       "Front serial:   0%|          | 0.00/1.00 [00:00<?, ?it/s]"
      ]
     },
     "metadata": {},
     "output_type": "display_data"
    },
    {
     "name": "stderr",
     "output_type": "stream",
     "text": [
      "openscm_runner.adapters.magicc7._magicc_instances - INFO: Creating new magicc instance: (7, 'MainProcess') - /Users/gauravganti/Documents/github_projects/cdr_climate_uncertainty/pymagicc-8sjnfpo9\n",
      "openscm_runner.adapters.magicc7._run_magicc_parallel - INFO: Setting up MAGICC worker in /Users/gauravganti/Documents/github_projects/cdr_climate_uncertainty/pymagicc-8sjnfpo9\n",
      "openscm_runner.adapters.magicc7._run_magicc_parallel - INFO: Writing Pymagicc compatible MAGCFG_USER.CFG in /Users/gauravganti/Documents/github_projects/cdr_climate_uncertainty/pymagicc-8sjnfpo9/run\n",
      "/Users/gauravganti/anaconda3/envs/cdr_climate_uncertainty/lib/python3.10/site-packages/pymagicc/core.py:387: UserWarning: Not reading file: DAT_HEATUPTK_EBALANCE_SUBANN.BINOUT. Monthly data are not read in automatically by `run`. Use `MAGICCData` instead.\n",
      "  warnings.warn(\n",
      "/Users/gauravganti/anaconda3/envs/cdr_climate_uncertainty/lib/python3.10/site-packages/pymagicc/core.py:387: UserWarning: Not reading file: DAT_HEATCONT_EBALANCE_SUBANN.BINOUT. Monthly data are not read in automatically by `run`. Use `MAGICCData` instead.\n",
      "  warnings.warn(\n"
     ]
    },
    {
     "data": {
      "application/vnd.jupyter.widget-view+json": {
       "model_id": "1dca6ac92ad449e3a22be5837571d65e",
       "version_major": 2,
       "version_minor": 0
      },
      "text/plain": [
       "Front parallel: 0.00it [00:00, ?it/s]"
      ]
     },
     "metadata": {},
     "output_type": "display_data"
    },
    {
     "data": {
      "application/vnd.jupyter.widget-view+json": {
       "model_id": "09727c83a6b748528c0be131cbc316b2",
       "version_major": 2,
       "version_minor": 0
      },
      "text/plain": [
       "Parallel runs: 0.00it [00:00, ?it/s]"
      ]
     },
     "metadata": {},
     "output_type": "display_data"
    },
    {
     "name": "stderr",
     "output_type": "stream",
     "text": [
      "openscm_runner.adapters.magicc7._run_magicc_parallel - INFO: Appending results into a single ScmRun\n",
      "openscm_runner.adapters.magicc7._magicc_instances - INFO: removing /Users/gauravganti/Documents/github_projects/cdr_climate_uncertainty/pymagicc-8sjnfpo9\n",
      "openscm_runner.adapters.magicc7._run_magicc_parallel - INFO: Shutting down parallel pool\n",
      "openscm_runner.run - INFO: Only one model run, returning its results\n"
     ]
    },
    {
     "name": "stdout",
     "output_type": "stream",
     "text": [
      "0.06367429764389776 89.9133432826426\n"
     ]
    },
    {
     "name": "stderr",
     "output_type": "stream",
     "text": [
      "/Users/gauravganti/anaconda3/envs/cdr_climate_uncertainty/lib/python3.10/site-packages/climate_assessment/climate/wg3.py:42: FutureWarning: The default value of regex will change from True to False in a future version.\n",
      "  df_clean[\"variable\"] = df_clean[\"variable\"].str.replace(old, new)\n"
     ]
    },
    {
     "data": {
      "application/vnd.jupyter.widget-view+json": {
       "model_id": "1f3f8148bcf645a7963bf516d3636c44",
       "version_major": 2,
       "version_minor": 0
      },
      "text/plain": [
       "Climate models:   0%|          | 0.00/1.00 [00:00<?, ?it/s]"
      ]
     },
     "metadata": {},
     "output_type": "display_data"
    },
    {
     "name": "stderr",
     "output_type": "stream",
     "text": [
      "openscm_runner.adapters.magicc7.magicc7 - WARNING: Historical data has not been checked\n"
     ]
    },
    {
     "data": {
      "application/vnd.jupyter.widget-view+json": {
       "model_id": "58dd756c1579451392c4cdfcc7ebe734",
       "version_major": 2,
       "version_minor": 0
      },
      "text/plain": [
       "Writing SCEN7 files:   0%|          | 0.00/1.00 [00:00<?, ?it/s]"
      ]
     },
     "metadata": {},
     "output_type": "display_data"
    },
    {
     "name": "stderr",
     "output_type": "stream",
     "text": [
      "openscm_runner.adapters.magicc7._run_magicc_parallel - INFO: Entered _parallel_magicc_compact_out\n",
      "openscm_runner.adapters.magicc7._run_magicc_parallel - INFO: Running in parallel with up to 4 workers\n"
     ]
    },
    {
     "data": {
      "application/vnd.jupyter.widget-view+json": {
       "model_id": "a3389719e8b84deaaf5739872a1fc5eb",
       "version_major": 2,
       "version_minor": 0
      },
      "text/plain": [
       "Front serial:   0%|          | 0.00/1.00 [00:00<?, ?it/s]"
      ]
     },
     "metadata": {},
     "output_type": "display_data"
    },
    {
     "name": "stderr",
     "output_type": "stream",
     "text": [
      "openscm_runner.adapters.magicc7._magicc_instances - INFO: Creating new magicc instance: (7, 'MainProcess') - /Users/gauravganti/Documents/github_projects/cdr_climate_uncertainty/pymagicc-1piu_m54\n",
      "openscm_runner.adapters.magicc7._run_magicc_parallel - INFO: Setting up MAGICC worker in /Users/gauravganti/Documents/github_projects/cdr_climate_uncertainty/pymagicc-1piu_m54\n",
      "openscm_runner.adapters.magicc7._run_magicc_parallel - INFO: Writing Pymagicc compatible MAGCFG_USER.CFG in /Users/gauravganti/Documents/github_projects/cdr_climate_uncertainty/pymagicc-1piu_m54/run\n",
      "/Users/gauravganti/anaconda3/envs/cdr_climate_uncertainty/lib/python3.10/site-packages/pymagicc/core.py:387: UserWarning: Not reading file: DAT_HEATUPTK_EBALANCE_SUBANN.BINOUT. Monthly data are not read in automatically by `run`. Use `MAGICCData` instead.\n",
      "  warnings.warn(\n",
      "/Users/gauravganti/anaconda3/envs/cdr_climate_uncertainty/lib/python3.10/site-packages/pymagicc/core.py:387: UserWarning: Not reading file: DAT_HEATCONT_EBALANCE_SUBANN.BINOUT. Monthly data are not read in automatically by `run`. Use `MAGICCData` instead.\n",
      "  warnings.warn(\n"
     ]
    },
    {
     "data": {
      "application/vnd.jupyter.widget-view+json": {
       "model_id": "3791f8ea065344f6a629aecc21f86580",
       "version_major": 2,
       "version_minor": 0
      },
      "text/plain": [
       "Front parallel: 0.00it [00:00, ?it/s]"
      ]
     },
     "metadata": {},
     "output_type": "display_data"
    },
    {
     "data": {
      "application/vnd.jupyter.widget-view+json": {
       "model_id": "d6757907d07a4637b6bb29e7d14ac560",
       "version_major": 2,
       "version_minor": 0
      },
      "text/plain": [
       "Parallel runs: 0.00it [00:00, ?it/s]"
      ]
     },
     "metadata": {},
     "output_type": "display_data"
    },
    {
     "name": "stderr",
     "output_type": "stream",
     "text": [
      "openscm_runner.adapters.magicc7._run_magicc_parallel - INFO: Appending results into a single ScmRun\n",
      "openscm_runner.adapters.magicc7._magicc_instances - INFO: removing /Users/gauravganti/Documents/github_projects/cdr_climate_uncertainty/pymagicc-1piu_m54\n",
      "openscm_runner.adapters.magicc7._run_magicc_parallel - INFO: Shutting down parallel pool\n",
      "openscm_runner.run - INFO: Only one model run, returning its results\n"
     ]
    }
   ],
   "source": [
    "initial_calibration_set = initial_calibration(\n",
    "    emissions_for_iteration,\n",
    "    novel_cdr_original_filtered,\n",
    "    novel_cdr_for_iteration.angle[0],\n",
    "    current_deviation=deviation,\n",
    ")"
   ]
  },
  {
   "cell_type": "code",
   "execution_count": 34,
   "metadata": {},
   "outputs": [
    {
     "data": {
      "text/html": [
       "<div>\n",
       "<style scoped>\n",
       "    .dataframe tbody tr th:only-of-type {\n",
       "        vertical-align: middle;\n",
       "    }\n",
       "\n",
       "    .dataframe tbody tr th {\n",
       "        vertical-align: top;\n",
       "    }\n",
       "\n",
       "    .dataframe thead th {\n",
       "        text-align: right;\n",
       "    }\n",
       "</style>\n",
       "<table border=\"1\" class=\"dataframe\">\n",
       "  <thead>\n",
       "    <tr style=\"text-align: right;\">\n",
       "      <th></th>\n",
       "      <th>angle</th>\n",
       "      <th>deviation</th>\n",
       "    </tr>\n",
       "  </thead>\n",
       "  <tbody>\n",
       "    <tr>\n",
       "      <th>0</th>\n",
       "      <td>89.413343</td>\n",
       "      <td>0.063674</td>\n",
       "    </tr>\n",
       "    <tr>\n",
       "      <th>1</th>\n",
       "      <td>89.913343</td>\n",
       "      <td>-0.190688</td>\n",
       "    </tr>\n",
       "  </tbody>\n",
       "</table>\n",
       "</div>"
      ],
      "text/plain": [
       "       angle  deviation\n",
       "0  89.413343   0.063674\n",
       "1  89.913343  -0.190688"
      ]
     },
     "execution_count": 34,
     "metadata": {},
     "output_type": "execute_result"
    }
   ],
   "source": [
    "initial_calibration_set"
   ]
  },
  {
   "cell_type": "code",
   "execution_count": 35,
   "metadata": {},
   "outputs": [],
   "source": [
    "def objective(angle, emissions, cdr_first_guess):\n",
    "    # Step 1: Get the new CDR pathway\n",
    "    new_cdr, _ = rotate_and_calc_cumulative(\n",
    "        cdr_first_guess,\n",
    "        angle\n",
    "    )\n",
    "    # Step 2: Get the new emissions pathway\n",
    "    new_emissions = (\n",
    "        scmdata.ScmRun(\n",
    "            clean_wg3_scenarios(\n",
    "                construct_new_emissions_dataframe(\n",
    "                    emissions,\n",
    "                    process_novel_cdr(new_cdr, cdr_first_guess.meta['netzero|CO2'].values[0])\n",
    "                )        \n",
    "            )\n",
    "        )\n",
    "    )\n",
    "    new_deviation = abs(return_temperature_deviation(new_emissions))\n",
    "    return new_deviation"
   ]
  },
  {
   "cell_type": "code",
   "execution_count": 36,
   "metadata": {},
   "outputs": [
    {
     "data": {
      "text/plain": [
       "88.9133432826426"
      ]
     },
     "execution_count": 36,
     "metadata": {},
     "output_type": "execute_result"
    }
   ],
   "source": [
    "novel_cdr_for_iteration.angle[0]"
   ]
  },
  {
   "cell_type": "code",
   "execution_count": 37,
   "metadata": {},
   "outputs": [],
   "source": [
    "try:\n",
    "    max_angle = min(90, initial_calibration_set.iloc[-1]['angle'])\n",
    "except: max_angle=90"
   ]
  },
  {
   "cell_type": "code",
   "execution_count": 38,
   "metadata": {},
   "outputs": [
    {
     "name": "stderr",
     "output_type": "stream",
     "text": [
      "/Users/gauravganti/anaconda3/envs/cdr_climate_uncertainty/lib/python3.10/site-packages/climate_assessment/climate/wg3.py:42: FutureWarning: The default value of regex will change from True to False in a future version.\n",
      "  df_clean[\"variable\"] = df_clean[\"variable\"].str.replace(old, new)\n"
     ]
    },
    {
     "data": {
      "application/vnd.jupyter.widget-view+json": {
       "model_id": "f6983508b65c4191b614f12af19a6657",
       "version_major": 2,
       "version_minor": 0
      },
      "text/plain": [
       "Climate models:   0%|          | 0.00/1.00 [00:00<?, ?it/s]"
      ]
     },
     "metadata": {},
     "output_type": "display_data"
    },
    {
     "name": "stderr",
     "output_type": "stream",
     "text": [
      "openscm_runner.adapters.magicc7.magicc7 - WARNING: Historical data has not been checked\n"
     ]
    },
    {
     "data": {
      "application/vnd.jupyter.widget-view+json": {
       "model_id": "1513394e65984488b4af0d8c541d2aec",
       "version_major": 2,
       "version_minor": 0
      },
      "text/plain": [
       "Writing SCEN7 files:   0%|          | 0.00/1.00 [00:00<?, ?it/s]"
      ]
     },
     "metadata": {},
     "output_type": "display_data"
    },
    {
     "name": "stderr",
     "output_type": "stream",
     "text": [
      "openscm_runner.adapters.magicc7._run_magicc_parallel - INFO: Entered _parallel_magicc_compact_out\n",
      "openscm_runner.adapters.magicc7._run_magicc_parallel - INFO: Running in parallel with up to 4 workers\n"
     ]
    },
    {
     "data": {
      "application/vnd.jupyter.widget-view+json": {
       "model_id": "5d203b4a4f364f8b990de3730e307d80",
       "version_major": 2,
       "version_minor": 0
      },
      "text/plain": [
       "Front serial:   0%|          | 0.00/1.00 [00:00<?, ?it/s]"
      ]
     },
     "metadata": {},
     "output_type": "display_data"
    },
    {
     "name": "stderr",
     "output_type": "stream",
     "text": [
      "openscm_runner.adapters.magicc7._magicc_instances - INFO: Creating new magicc instance: (7, 'MainProcess') - /Users/gauravganti/Documents/github_projects/cdr_climate_uncertainty/pymagicc-823lz8wk\n",
      "openscm_runner.adapters.magicc7._run_magicc_parallel - INFO: Setting up MAGICC worker in /Users/gauravganti/Documents/github_projects/cdr_climate_uncertainty/pymagicc-823lz8wk\n",
      "openscm_runner.adapters.magicc7._run_magicc_parallel - INFO: Writing Pymagicc compatible MAGCFG_USER.CFG in /Users/gauravganti/Documents/github_projects/cdr_climate_uncertainty/pymagicc-823lz8wk/run\n",
      "/Users/gauravganti/anaconda3/envs/cdr_climate_uncertainty/lib/python3.10/site-packages/pymagicc/core.py:387: UserWarning: Not reading file: DAT_HEATUPTK_EBALANCE_SUBANN.BINOUT. Monthly data are not read in automatically by `run`. Use `MAGICCData` instead.\n",
      "  warnings.warn(\n",
      "/Users/gauravganti/anaconda3/envs/cdr_climate_uncertainty/lib/python3.10/site-packages/pymagicc/core.py:387: UserWarning: Not reading file: DAT_HEATCONT_EBALANCE_SUBANN.BINOUT. Monthly data are not read in automatically by `run`. Use `MAGICCData` instead.\n",
      "  warnings.warn(\n"
     ]
    },
    {
     "data": {
      "application/vnd.jupyter.widget-view+json": {
       "model_id": "1fa5c3c941914a7ea9e6c22c5167929a",
       "version_major": 2,
       "version_minor": 0
      },
      "text/plain": [
       "Front parallel: 0.00it [00:00, ?it/s]"
      ]
     },
     "metadata": {},
     "output_type": "display_data"
    },
    {
     "data": {
      "application/vnd.jupyter.widget-view+json": {
       "model_id": "2871c5cd64c946d5b5f3679f967568bf",
       "version_major": 2,
       "version_minor": 0
      },
      "text/plain": [
       "Parallel runs: 0.00it [00:00, ?it/s]"
      ]
     },
     "metadata": {},
     "output_type": "display_data"
    },
    {
     "name": "stderr",
     "output_type": "stream",
     "text": [
      "openscm_runner.adapters.magicc7._run_magicc_parallel - INFO: Appending results into a single ScmRun\n",
      "openscm_runner.adapters.magicc7._magicc_instances - INFO: removing /Users/gauravganti/Documents/github_projects/cdr_climate_uncertainty/pymagicc-823lz8wk\n",
      "openscm_runner.adapters.magicc7._run_magicc_parallel - INFO: Shutting down parallel pool\n",
      "openscm_runner.run - INFO: Only one model run, returning its results\n",
      "/Users/gauravganti/anaconda3/envs/cdr_climate_uncertainty/lib/python3.10/site-packages/climate_assessment/climate/wg3.py:42: FutureWarning: The default value of regex will change from True to False in a future version.\n",
      "  df_clean[\"variable\"] = df_clean[\"variable\"].str.replace(old, new)\n"
     ]
    },
    {
     "data": {
      "application/vnd.jupyter.widget-view+json": {
       "model_id": "081a63655a744972a02117cf7ce23117",
       "version_major": 2,
       "version_minor": 0
      },
      "text/plain": [
       "Climate models:   0%|          | 0.00/1.00 [00:00<?, ?it/s]"
      ]
     },
     "metadata": {},
     "output_type": "display_data"
    },
    {
     "name": "stderr",
     "output_type": "stream",
     "text": [
      "openscm_runner.adapters.magicc7.magicc7 - WARNING: Historical data has not been checked\n"
     ]
    },
    {
     "data": {
      "application/vnd.jupyter.widget-view+json": {
       "model_id": "33e36b208e14478993e41f4de9108acf",
       "version_major": 2,
       "version_minor": 0
      },
      "text/plain": [
       "Writing SCEN7 files:   0%|          | 0.00/1.00 [00:00<?, ?it/s]"
      ]
     },
     "metadata": {},
     "output_type": "display_data"
    },
    {
     "name": "stderr",
     "output_type": "stream",
     "text": [
      "openscm_runner.adapters.magicc7._run_magicc_parallel - INFO: Entered _parallel_magicc_compact_out\n",
      "openscm_runner.adapters.magicc7._run_magicc_parallel - INFO: Running in parallel with up to 4 workers\n"
     ]
    },
    {
     "data": {
      "application/vnd.jupyter.widget-view+json": {
       "model_id": "e22e5f8aba2546bab178279bd053d49d",
       "version_major": 2,
       "version_minor": 0
      },
      "text/plain": [
       "Front serial:   0%|          | 0.00/1.00 [00:00<?, ?it/s]"
      ]
     },
     "metadata": {},
     "output_type": "display_data"
    },
    {
     "name": "stderr",
     "output_type": "stream",
     "text": [
      "openscm_runner.adapters.magicc7._magicc_instances - INFO: Creating new magicc instance: (7, 'MainProcess') - /Users/gauravganti/Documents/github_projects/cdr_climate_uncertainty/pymagicc-we7894lk\n",
      "openscm_runner.adapters.magicc7._run_magicc_parallel - INFO: Setting up MAGICC worker in /Users/gauravganti/Documents/github_projects/cdr_climate_uncertainty/pymagicc-we7894lk\n",
      "openscm_runner.adapters.magicc7._run_magicc_parallel - INFO: Writing Pymagicc compatible MAGCFG_USER.CFG in /Users/gauravganti/Documents/github_projects/cdr_climate_uncertainty/pymagicc-we7894lk/run\n",
      "/Users/gauravganti/anaconda3/envs/cdr_climate_uncertainty/lib/python3.10/site-packages/pymagicc/core.py:387: UserWarning: Not reading file: DAT_HEATUPTK_EBALANCE_SUBANN.BINOUT. Monthly data are not read in automatically by `run`. Use `MAGICCData` instead.\n",
      "  warnings.warn(\n",
      "/Users/gauravganti/anaconda3/envs/cdr_climate_uncertainty/lib/python3.10/site-packages/pymagicc/core.py:387: UserWarning: Not reading file: DAT_HEATCONT_EBALANCE_SUBANN.BINOUT. Monthly data are not read in automatically by `run`. Use `MAGICCData` instead.\n",
      "  warnings.warn(\n"
     ]
    },
    {
     "data": {
      "application/vnd.jupyter.widget-view+json": {
       "model_id": "1ba18effcdfe4e599ad1c28493e8995d",
       "version_major": 2,
       "version_minor": 0
      },
      "text/plain": [
       "Front parallel: 0.00it [00:00, ?it/s]"
      ]
     },
     "metadata": {},
     "output_type": "display_data"
    },
    {
     "data": {
      "application/vnd.jupyter.widget-view+json": {
       "model_id": "ba2eb0d0e2d5444a9c4a198ea32b1d59",
       "version_major": 2,
       "version_minor": 0
      },
      "text/plain": [
       "Parallel runs: 0.00it [00:00, ?it/s]"
      ]
     },
     "metadata": {},
     "output_type": "display_data"
    },
    {
     "name": "stderr",
     "output_type": "stream",
     "text": [
      "openscm_runner.adapters.magicc7._run_magicc_parallel - INFO: Appending results into a single ScmRun\n",
      "openscm_runner.adapters.magicc7._magicc_instances - INFO: removing /Users/gauravganti/Documents/github_projects/cdr_climate_uncertainty/pymagicc-we7894lk\n",
      "openscm_runner.adapters.magicc7._run_magicc_parallel - INFO: Shutting down parallel pool\n",
      "openscm_runner.run - INFO: Only one model run, returning its results\n",
      "/Users/gauravganti/anaconda3/envs/cdr_climate_uncertainty/lib/python3.10/site-packages/climate_assessment/climate/wg3.py:42: FutureWarning: The default value of regex will change from True to False in a future version.\n",
      "  df_clean[\"variable\"] = df_clean[\"variable\"].str.replace(old, new)\n"
     ]
    },
    {
     "data": {
      "application/vnd.jupyter.widget-view+json": {
       "model_id": "e01f0a14a4da49e4920a36e20b19efe8",
       "version_major": 2,
       "version_minor": 0
      },
      "text/plain": [
       "Climate models:   0%|          | 0.00/1.00 [00:00<?, ?it/s]"
      ]
     },
     "metadata": {},
     "output_type": "display_data"
    },
    {
     "name": "stderr",
     "output_type": "stream",
     "text": [
      "openscm_runner.adapters.magicc7.magicc7 - WARNING: Historical data has not been checked\n"
     ]
    },
    {
     "data": {
      "application/vnd.jupyter.widget-view+json": {
       "model_id": "58223d52ad1043b2a1b10be9a4f28fe4",
       "version_major": 2,
       "version_minor": 0
      },
      "text/plain": [
       "Writing SCEN7 files:   0%|          | 0.00/1.00 [00:00<?, ?it/s]"
      ]
     },
     "metadata": {},
     "output_type": "display_data"
    },
    {
     "name": "stderr",
     "output_type": "stream",
     "text": [
      "openscm_runner.adapters.magicc7._run_magicc_parallel - INFO: Entered _parallel_magicc_compact_out\n",
      "openscm_runner.adapters.magicc7._run_magicc_parallel - INFO: Running in parallel with up to 4 workers\n"
     ]
    },
    {
     "data": {
      "application/vnd.jupyter.widget-view+json": {
       "model_id": "a16b67d267dd45868c057e8a4edba888",
       "version_major": 2,
       "version_minor": 0
      },
      "text/plain": [
       "Front serial:   0%|          | 0.00/1.00 [00:00<?, ?it/s]"
      ]
     },
     "metadata": {},
     "output_type": "display_data"
    },
    {
     "name": "stderr",
     "output_type": "stream",
     "text": [
      "openscm_runner.adapters.magicc7._magicc_instances - INFO: Creating new magicc instance: (7, 'MainProcess') - /Users/gauravganti/Documents/github_projects/cdr_climate_uncertainty/pymagicc-usr3e483\n",
      "openscm_runner.adapters.magicc7._run_magicc_parallel - INFO: Setting up MAGICC worker in /Users/gauravganti/Documents/github_projects/cdr_climate_uncertainty/pymagicc-usr3e483\n",
      "openscm_runner.adapters.magicc7._run_magicc_parallel - INFO: Writing Pymagicc compatible MAGCFG_USER.CFG in /Users/gauravganti/Documents/github_projects/cdr_climate_uncertainty/pymagicc-usr3e483/run\n",
      "/Users/gauravganti/anaconda3/envs/cdr_climate_uncertainty/lib/python3.10/site-packages/pymagicc/core.py:387: UserWarning: Not reading file: DAT_HEATUPTK_EBALANCE_SUBANN.BINOUT. Monthly data are not read in automatically by `run`. Use `MAGICCData` instead.\n",
      "  warnings.warn(\n",
      "/Users/gauravganti/anaconda3/envs/cdr_climate_uncertainty/lib/python3.10/site-packages/pymagicc/core.py:387: UserWarning: Not reading file: DAT_HEATCONT_EBALANCE_SUBANN.BINOUT. Monthly data are not read in automatically by `run`. Use `MAGICCData` instead.\n",
      "  warnings.warn(\n"
     ]
    },
    {
     "data": {
      "application/vnd.jupyter.widget-view+json": {
       "model_id": "ed45c38a967448f2844273e1583e3da2",
       "version_major": 2,
       "version_minor": 0
      },
      "text/plain": [
       "Front parallel: 0.00it [00:00, ?it/s]"
      ]
     },
     "metadata": {},
     "output_type": "display_data"
    },
    {
     "data": {
      "application/vnd.jupyter.widget-view+json": {
       "model_id": "67fb509f3ae1472c8c6c768504d5e5c4",
       "version_major": 2,
       "version_minor": 0
      },
      "text/plain": [
       "Parallel runs: 0.00it [00:00, ?it/s]"
      ]
     },
     "metadata": {},
     "output_type": "display_data"
    },
    {
     "name": "stderr",
     "output_type": "stream",
     "text": [
      "openscm_runner.adapters.magicc7._run_magicc_parallel - INFO: Appending results into a single ScmRun\n",
      "openscm_runner.adapters.magicc7._magicc_instances - INFO: removing /Users/gauravganti/Documents/github_projects/cdr_climate_uncertainty/pymagicc-usr3e483\n",
      "openscm_runner.adapters.magicc7._run_magicc_parallel - INFO: Shutting down parallel pool\n",
      "openscm_runner.run - INFO: Only one model run, returning its results\n",
      "/Users/gauravganti/anaconda3/envs/cdr_climate_uncertainty/lib/python3.10/site-packages/climate_assessment/climate/wg3.py:42: FutureWarning: The default value of regex will change from True to False in a future version.\n",
      "  df_clean[\"variable\"] = df_clean[\"variable\"].str.replace(old, new)\n"
     ]
    },
    {
     "data": {
      "application/vnd.jupyter.widget-view+json": {
       "model_id": "aaa9a9a7dc59493c87408cfba83c92e4",
       "version_major": 2,
       "version_minor": 0
      },
      "text/plain": [
       "Climate models:   0%|          | 0.00/1.00 [00:00<?, ?it/s]"
      ]
     },
     "metadata": {},
     "output_type": "display_data"
    },
    {
     "name": "stderr",
     "output_type": "stream",
     "text": [
      "openscm_runner.adapters.magicc7.magicc7 - WARNING: Historical data has not been checked\n"
     ]
    },
    {
     "data": {
      "application/vnd.jupyter.widget-view+json": {
       "model_id": "22237a0645564b188c6ec4065fc4a2dc",
       "version_major": 2,
       "version_minor": 0
      },
      "text/plain": [
       "Writing SCEN7 files:   0%|          | 0.00/1.00 [00:00<?, ?it/s]"
      ]
     },
     "metadata": {},
     "output_type": "display_data"
    },
    {
     "name": "stderr",
     "output_type": "stream",
     "text": [
      "openscm_runner.adapters.magicc7._run_magicc_parallel - INFO: Entered _parallel_magicc_compact_out\n",
      "openscm_runner.adapters.magicc7._run_magicc_parallel - INFO: Running in parallel with up to 4 workers\n"
     ]
    },
    {
     "data": {
      "application/vnd.jupyter.widget-view+json": {
       "model_id": "59b510bc2d144e338450205c5712dd73",
       "version_major": 2,
       "version_minor": 0
      },
      "text/plain": [
       "Front serial:   0%|          | 0.00/1.00 [00:00<?, ?it/s]"
      ]
     },
     "metadata": {},
     "output_type": "display_data"
    },
    {
     "name": "stderr",
     "output_type": "stream",
     "text": [
      "openscm_runner.adapters.magicc7._magicc_instances - INFO: Creating new magicc instance: (7, 'MainProcess') - /Users/gauravganti/Documents/github_projects/cdr_climate_uncertainty/pymagicc-3qk5qqex\n",
      "openscm_runner.adapters.magicc7._run_magicc_parallel - INFO: Setting up MAGICC worker in /Users/gauravganti/Documents/github_projects/cdr_climate_uncertainty/pymagicc-3qk5qqex\n",
      "openscm_runner.adapters.magicc7._run_magicc_parallel - INFO: Writing Pymagicc compatible MAGCFG_USER.CFG in /Users/gauravganti/Documents/github_projects/cdr_climate_uncertainty/pymagicc-3qk5qqex/run\n",
      "/Users/gauravganti/anaconda3/envs/cdr_climate_uncertainty/lib/python3.10/site-packages/pymagicc/core.py:387: UserWarning: Not reading file: DAT_HEATUPTK_EBALANCE_SUBANN.BINOUT. Monthly data are not read in automatically by `run`. Use `MAGICCData` instead.\n",
      "  warnings.warn(\n",
      "/Users/gauravganti/anaconda3/envs/cdr_climate_uncertainty/lib/python3.10/site-packages/pymagicc/core.py:387: UserWarning: Not reading file: DAT_HEATCONT_EBALANCE_SUBANN.BINOUT. Monthly data are not read in automatically by `run`. Use `MAGICCData` instead.\n",
      "  warnings.warn(\n"
     ]
    },
    {
     "data": {
      "application/vnd.jupyter.widget-view+json": {
       "model_id": "b667c8d445e545c08e161f0b58bc60bd",
       "version_major": 2,
       "version_minor": 0
      },
      "text/plain": [
       "Front parallel: 0.00it [00:00, ?it/s]"
      ]
     },
     "metadata": {},
     "output_type": "display_data"
    },
    {
     "data": {
      "application/vnd.jupyter.widget-view+json": {
       "model_id": "b7518c0bd7d94e2e984ed1d20a9ddd39",
       "version_major": 2,
       "version_minor": 0
      },
      "text/plain": [
       "Parallel runs: 0.00it [00:00, ?it/s]"
      ]
     },
     "metadata": {},
     "output_type": "display_data"
    },
    {
     "name": "stderr",
     "output_type": "stream",
     "text": [
      "openscm_runner.adapters.magicc7._run_magicc_parallel - INFO: Appending results into a single ScmRun\n",
      "openscm_runner.adapters.magicc7._magicc_instances - INFO: removing /Users/gauravganti/Documents/github_projects/cdr_climate_uncertainty/pymagicc-3qk5qqex\n",
      "openscm_runner.adapters.magicc7._run_magicc_parallel - INFO: Shutting down parallel pool\n",
      "openscm_runner.run - INFO: Only one model run, returning its results\n",
      "/Users/gauravganti/anaconda3/envs/cdr_climate_uncertainty/lib/python3.10/site-packages/climate_assessment/climate/wg3.py:42: FutureWarning: The default value of regex will change from True to False in a future version.\n",
      "  df_clean[\"variable\"] = df_clean[\"variable\"].str.replace(old, new)\n"
     ]
    },
    {
     "data": {
      "application/vnd.jupyter.widget-view+json": {
       "model_id": "1a6beb45c28c47038f851ccf0bd6a6e3",
       "version_major": 2,
       "version_minor": 0
      },
      "text/plain": [
       "Climate models:   0%|          | 0.00/1.00 [00:00<?, ?it/s]"
      ]
     },
     "metadata": {},
     "output_type": "display_data"
    },
    {
     "name": "stderr",
     "output_type": "stream",
     "text": [
      "openscm_runner.adapters.magicc7.magicc7 - WARNING: Historical data has not been checked\n"
     ]
    },
    {
     "data": {
      "application/vnd.jupyter.widget-view+json": {
       "model_id": "ee5e08c125d2477cbf830368902160d2",
       "version_major": 2,
       "version_minor": 0
      },
      "text/plain": [
       "Writing SCEN7 files:   0%|          | 0.00/1.00 [00:00<?, ?it/s]"
      ]
     },
     "metadata": {},
     "output_type": "display_data"
    },
    {
     "name": "stderr",
     "output_type": "stream",
     "text": [
      "openscm_runner.adapters.magicc7._run_magicc_parallel - INFO: Entered _parallel_magicc_compact_out\n",
      "openscm_runner.adapters.magicc7._run_magicc_parallel - INFO: Running in parallel with up to 4 workers\n"
     ]
    },
    {
     "data": {
      "application/vnd.jupyter.widget-view+json": {
       "model_id": "7b7417e5039e470dad161d1dbf0af605",
       "version_major": 2,
       "version_minor": 0
      },
      "text/plain": [
       "Front serial:   0%|          | 0.00/1.00 [00:00<?, ?it/s]"
      ]
     },
     "metadata": {},
     "output_type": "display_data"
    },
    {
     "name": "stderr",
     "output_type": "stream",
     "text": [
      "openscm_runner.adapters.magicc7._magicc_instances - INFO: Creating new magicc instance: (7, 'MainProcess') - /Users/gauravganti/Documents/github_projects/cdr_climate_uncertainty/pymagicc-70meg_43\n",
      "openscm_runner.adapters.magicc7._run_magicc_parallel - INFO: Setting up MAGICC worker in /Users/gauravganti/Documents/github_projects/cdr_climate_uncertainty/pymagicc-70meg_43\n",
      "openscm_runner.adapters.magicc7._run_magicc_parallel - INFO: Writing Pymagicc compatible MAGCFG_USER.CFG in /Users/gauravganti/Documents/github_projects/cdr_climate_uncertainty/pymagicc-70meg_43/run\n",
      "/Users/gauravganti/anaconda3/envs/cdr_climate_uncertainty/lib/python3.10/site-packages/pymagicc/core.py:387: UserWarning: Not reading file: DAT_HEATUPTK_EBALANCE_SUBANN.BINOUT. Monthly data are not read in automatically by `run`. Use `MAGICCData` instead.\n",
      "  warnings.warn(\n",
      "/Users/gauravganti/anaconda3/envs/cdr_climate_uncertainty/lib/python3.10/site-packages/pymagicc/core.py:387: UserWarning: Not reading file: DAT_HEATCONT_EBALANCE_SUBANN.BINOUT. Monthly data are not read in automatically by `run`. Use `MAGICCData` instead.\n",
      "  warnings.warn(\n"
     ]
    },
    {
     "data": {
      "application/vnd.jupyter.widget-view+json": {
       "model_id": "50064dc31f894830bf9d208531e6c8f0",
       "version_major": 2,
       "version_minor": 0
      },
      "text/plain": [
       "Front parallel: 0.00it [00:00, ?it/s]"
      ]
     },
     "metadata": {},
     "output_type": "display_data"
    },
    {
     "data": {
      "application/vnd.jupyter.widget-view+json": {
       "model_id": "3195fd193c5c4d33a33deeb2d57ed1b9",
       "version_major": 2,
       "version_minor": 0
      },
      "text/plain": [
       "Parallel runs: 0.00it [00:00, ?it/s]"
      ]
     },
     "metadata": {},
     "output_type": "display_data"
    },
    {
     "name": "stderr",
     "output_type": "stream",
     "text": [
      "openscm_runner.adapters.magicc7._run_magicc_parallel - INFO: Appending results into a single ScmRun\n",
      "openscm_runner.adapters.magicc7._magicc_instances - INFO: removing /Users/gauravganti/Documents/github_projects/cdr_climate_uncertainty/pymagicc-70meg_43\n",
      "openscm_runner.adapters.magicc7._run_magicc_parallel - INFO: Shutting down parallel pool\n",
      "openscm_runner.run - INFO: Only one model run, returning its results\n",
      "/Users/gauravganti/anaconda3/envs/cdr_climate_uncertainty/lib/python3.10/site-packages/climate_assessment/climate/wg3.py:42: FutureWarning: The default value of regex will change from True to False in a future version.\n",
      "  df_clean[\"variable\"] = df_clean[\"variable\"].str.replace(old, new)\n"
     ]
    },
    {
     "data": {
      "application/vnd.jupyter.widget-view+json": {
       "model_id": "1ec56587735246508f2ae8662bb23192",
       "version_major": 2,
       "version_minor": 0
      },
      "text/plain": [
       "Climate models:   0%|          | 0.00/1.00 [00:00<?, ?it/s]"
      ]
     },
     "metadata": {},
     "output_type": "display_data"
    },
    {
     "name": "stderr",
     "output_type": "stream",
     "text": [
      "openscm_runner.adapters.magicc7.magicc7 - WARNING: Historical data has not been checked\n"
     ]
    },
    {
     "data": {
      "application/vnd.jupyter.widget-view+json": {
       "model_id": "925596e72bf647f88b0091d70f264f21",
       "version_major": 2,
       "version_minor": 0
      },
      "text/plain": [
       "Writing SCEN7 files:   0%|          | 0.00/1.00 [00:00<?, ?it/s]"
      ]
     },
     "metadata": {},
     "output_type": "display_data"
    },
    {
     "name": "stderr",
     "output_type": "stream",
     "text": [
      "openscm_runner.adapters.magicc7._run_magicc_parallel - INFO: Entered _parallel_magicc_compact_out\n",
      "openscm_runner.adapters.magicc7._run_magicc_parallel - INFO: Running in parallel with up to 4 workers\n"
     ]
    },
    {
     "data": {
      "application/vnd.jupyter.widget-view+json": {
       "model_id": "2b2c51e790b949248aa637f685783e55",
       "version_major": 2,
       "version_minor": 0
      },
      "text/plain": [
       "Front serial:   0%|          | 0.00/1.00 [00:00<?, ?it/s]"
      ]
     },
     "metadata": {},
     "output_type": "display_data"
    },
    {
     "name": "stderr",
     "output_type": "stream",
     "text": [
      "openscm_runner.adapters.magicc7._magicc_instances - INFO: Creating new magicc instance: (7, 'MainProcess') - /Users/gauravganti/Documents/github_projects/cdr_climate_uncertainty/pymagicc-rglwj1b8\n",
      "openscm_runner.adapters.magicc7._run_magicc_parallel - INFO: Setting up MAGICC worker in /Users/gauravganti/Documents/github_projects/cdr_climate_uncertainty/pymagicc-rglwj1b8\n",
      "openscm_runner.adapters.magicc7._run_magicc_parallel - INFO: Writing Pymagicc compatible MAGCFG_USER.CFG in /Users/gauravganti/Documents/github_projects/cdr_climate_uncertainty/pymagicc-rglwj1b8/run\n",
      "/Users/gauravganti/anaconda3/envs/cdr_climate_uncertainty/lib/python3.10/site-packages/pymagicc/core.py:387: UserWarning: Not reading file: DAT_HEATUPTK_EBALANCE_SUBANN.BINOUT. Monthly data are not read in automatically by `run`. Use `MAGICCData` instead.\n",
      "  warnings.warn(\n",
      "/Users/gauravganti/anaconda3/envs/cdr_climate_uncertainty/lib/python3.10/site-packages/pymagicc/core.py:387: UserWarning: Not reading file: DAT_HEATCONT_EBALANCE_SUBANN.BINOUT. Monthly data are not read in automatically by `run`. Use `MAGICCData` instead.\n",
      "  warnings.warn(\n"
     ]
    },
    {
     "data": {
      "application/vnd.jupyter.widget-view+json": {
       "model_id": "83213b00565e458d9019e0027699de5e",
       "version_major": 2,
       "version_minor": 0
      },
      "text/plain": [
       "Front parallel: 0.00it [00:00, ?it/s]"
      ]
     },
     "metadata": {},
     "output_type": "display_data"
    },
    {
     "data": {
      "application/vnd.jupyter.widget-view+json": {
       "model_id": "bb6486d3258d405e8ee0b993aacf5adc",
       "version_major": 2,
       "version_minor": 0
      },
      "text/plain": [
       "Parallel runs: 0.00it [00:00, ?it/s]"
      ]
     },
     "metadata": {},
     "output_type": "display_data"
    },
    {
     "name": "stderr",
     "output_type": "stream",
     "text": [
      "openscm_runner.adapters.magicc7._run_magicc_parallel - INFO: Appending results into a single ScmRun\n",
      "openscm_runner.adapters.magicc7._magicc_instances - INFO: removing /Users/gauravganti/Documents/github_projects/cdr_climate_uncertainty/pymagicc-rglwj1b8\n",
      "openscm_runner.adapters.magicc7._run_magicc_parallel - INFO: Shutting down parallel pool\n",
      "openscm_runner.run - INFO: Only one model run, returning its results\n",
      "/Users/gauravganti/anaconda3/envs/cdr_climate_uncertainty/lib/python3.10/site-packages/climate_assessment/climate/wg3.py:42: FutureWarning: The default value of regex will change from True to False in a future version.\n",
      "  df_clean[\"variable\"] = df_clean[\"variable\"].str.replace(old, new)\n"
     ]
    },
    {
     "data": {
      "application/vnd.jupyter.widget-view+json": {
       "model_id": "61456e11142d4447899cb1c4f5aa07d2",
       "version_major": 2,
       "version_minor": 0
      },
      "text/plain": [
       "Climate models:   0%|          | 0.00/1.00 [00:00<?, ?it/s]"
      ]
     },
     "metadata": {},
     "output_type": "display_data"
    },
    {
     "name": "stderr",
     "output_type": "stream",
     "text": [
      "openscm_runner.adapters.magicc7.magicc7 - WARNING: Historical data has not been checked\n"
     ]
    },
    {
     "data": {
      "application/vnd.jupyter.widget-view+json": {
       "model_id": "4679202026c14263ab536048396702ef",
       "version_major": 2,
       "version_minor": 0
      },
      "text/plain": [
       "Writing SCEN7 files:   0%|          | 0.00/1.00 [00:00<?, ?it/s]"
      ]
     },
     "metadata": {},
     "output_type": "display_data"
    },
    {
     "name": "stderr",
     "output_type": "stream",
     "text": [
      "openscm_runner.adapters.magicc7._run_magicc_parallel - INFO: Entered _parallel_magicc_compact_out\n",
      "openscm_runner.adapters.magicc7._run_magicc_parallel - INFO: Running in parallel with up to 4 workers\n"
     ]
    },
    {
     "data": {
      "application/vnd.jupyter.widget-view+json": {
       "model_id": "6995af072cd8490e8038299bb0afb512",
       "version_major": 2,
       "version_minor": 0
      },
      "text/plain": [
       "Front serial:   0%|          | 0.00/1.00 [00:00<?, ?it/s]"
      ]
     },
     "metadata": {},
     "output_type": "display_data"
    },
    {
     "name": "stderr",
     "output_type": "stream",
     "text": [
      "openscm_runner.adapters.magicc7._magicc_instances - INFO: Creating new magicc instance: (7, 'MainProcess') - /Users/gauravganti/Documents/github_projects/cdr_climate_uncertainty/pymagicc-j11s5cv3\n",
      "openscm_runner.adapters.magicc7._run_magicc_parallel - INFO: Setting up MAGICC worker in /Users/gauravganti/Documents/github_projects/cdr_climate_uncertainty/pymagicc-j11s5cv3\n",
      "openscm_runner.adapters.magicc7._run_magicc_parallel - INFO: Writing Pymagicc compatible MAGCFG_USER.CFG in /Users/gauravganti/Documents/github_projects/cdr_climate_uncertainty/pymagicc-j11s5cv3/run\n",
      "/Users/gauravganti/anaconda3/envs/cdr_climate_uncertainty/lib/python3.10/site-packages/pymagicc/core.py:387: UserWarning: Not reading file: DAT_HEATUPTK_EBALANCE_SUBANN.BINOUT. Monthly data are not read in automatically by `run`. Use `MAGICCData` instead.\n",
      "  warnings.warn(\n",
      "/Users/gauravganti/anaconda3/envs/cdr_climate_uncertainty/lib/python3.10/site-packages/pymagicc/core.py:387: UserWarning: Not reading file: DAT_HEATCONT_EBALANCE_SUBANN.BINOUT. Monthly data are not read in automatically by `run`. Use `MAGICCData` instead.\n",
      "  warnings.warn(\n"
     ]
    },
    {
     "data": {
      "application/vnd.jupyter.widget-view+json": {
       "model_id": "2c7a91ad405d4c6fa7f8d0130d950f79",
       "version_major": 2,
       "version_minor": 0
      },
      "text/plain": [
       "Front parallel: 0.00it [00:00, ?it/s]"
      ]
     },
     "metadata": {},
     "output_type": "display_data"
    },
    {
     "data": {
      "application/vnd.jupyter.widget-view+json": {
       "model_id": "d7def12930e04306a78e9f9e8ece9cdd",
       "version_major": 2,
       "version_minor": 0
      },
      "text/plain": [
       "Parallel runs: 0.00it [00:00, ?it/s]"
      ]
     },
     "metadata": {},
     "output_type": "display_data"
    },
    {
     "name": "stderr",
     "output_type": "stream",
     "text": [
      "openscm_runner.adapters.magicc7._run_magicc_parallel - INFO: Appending results into a single ScmRun\n",
      "openscm_runner.adapters.magicc7._magicc_instances - INFO: removing /Users/gauravganti/Documents/github_projects/cdr_climate_uncertainty/pymagicc-j11s5cv3\n",
      "openscm_runner.adapters.magicc7._run_magicc_parallel - INFO: Shutting down parallel pool\n",
      "openscm_runner.run - INFO: Only one model run, returning its results\n",
      "/Users/gauravganti/anaconda3/envs/cdr_climate_uncertainty/lib/python3.10/site-packages/climate_assessment/climate/wg3.py:42: FutureWarning: The default value of regex will change from True to False in a future version.\n",
      "  df_clean[\"variable\"] = df_clean[\"variable\"].str.replace(old, new)\n"
     ]
    },
    {
     "data": {
      "application/vnd.jupyter.widget-view+json": {
       "model_id": "fe668327b8dc4f12b0a6dda8abaf1f79",
       "version_major": 2,
       "version_minor": 0
      },
      "text/plain": [
       "Climate models:   0%|          | 0.00/1.00 [00:00<?, ?it/s]"
      ]
     },
     "metadata": {},
     "output_type": "display_data"
    },
    {
     "name": "stderr",
     "output_type": "stream",
     "text": [
      "openscm_runner.adapters.magicc7.magicc7 - WARNING: Historical data has not been checked\n"
     ]
    },
    {
     "data": {
      "application/vnd.jupyter.widget-view+json": {
       "model_id": "71ef92d722a746a69de5ced0c1cab1d1",
       "version_major": 2,
       "version_minor": 0
      },
      "text/plain": [
       "Writing SCEN7 files:   0%|          | 0.00/1.00 [00:00<?, ?it/s]"
      ]
     },
     "metadata": {},
     "output_type": "display_data"
    },
    {
     "name": "stderr",
     "output_type": "stream",
     "text": [
      "openscm_runner.adapters.magicc7._run_magicc_parallel - INFO: Entered _parallel_magicc_compact_out\n",
      "openscm_runner.adapters.magicc7._run_magicc_parallel - INFO: Running in parallel with up to 4 workers\n"
     ]
    },
    {
     "data": {
      "application/vnd.jupyter.widget-view+json": {
       "model_id": "72c26e708db44653913b7dd56c395f03",
       "version_major": 2,
       "version_minor": 0
      },
      "text/plain": [
       "Front serial:   0%|          | 0.00/1.00 [00:00<?, ?it/s]"
      ]
     },
     "metadata": {},
     "output_type": "display_data"
    },
    {
     "name": "stderr",
     "output_type": "stream",
     "text": [
      "openscm_runner.adapters.magicc7._magicc_instances - INFO: Creating new magicc instance: (7, 'MainProcess') - /Users/gauravganti/Documents/github_projects/cdr_climate_uncertainty/pymagicc-79tzupxx\n",
      "openscm_runner.adapters.magicc7._run_magicc_parallel - INFO: Setting up MAGICC worker in /Users/gauravganti/Documents/github_projects/cdr_climate_uncertainty/pymagicc-79tzupxx\n",
      "openscm_runner.adapters.magicc7._run_magicc_parallel - INFO: Writing Pymagicc compatible MAGCFG_USER.CFG in /Users/gauravganti/Documents/github_projects/cdr_climate_uncertainty/pymagicc-79tzupxx/run\n",
      "/Users/gauravganti/anaconda3/envs/cdr_climate_uncertainty/lib/python3.10/site-packages/pymagicc/core.py:387: UserWarning: Not reading file: DAT_HEATUPTK_EBALANCE_SUBANN.BINOUT. Monthly data are not read in automatically by `run`. Use `MAGICCData` instead.\n",
      "  warnings.warn(\n",
      "/Users/gauravganti/anaconda3/envs/cdr_climate_uncertainty/lib/python3.10/site-packages/pymagicc/core.py:387: UserWarning: Not reading file: DAT_HEATCONT_EBALANCE_SUBANN.BINOUT. Monthly data are not read in automatically by `run`. Use `MAGICCData` instead.\n",
      "  warnings.warn(\n"
     ]
    },
    {
     "data": {
      "application/vnd.jupyter.widget-view+json": {
       "model_id": "4abf7d0d282043bd9c7a7987223d00c9",
       "version_major": 2,
       "version_minor": 0
      },
      "text/plain": [
       "Front parallel: 0.00it [00:00, ?it/s]"
      ]
     },
     "metadata": {},
     "output_type": "display_data"
    },
    {
     "data": {
      "application/vnd.jupyter.widget-view+json": {
       "model_id": "c1e49d4b531f41edb9c6ccb7973f6ac1",
       "version_major": 2,
       "version_minor": 0
      },
      "text/plain": [
       "Parallel runs: 0.00it [00:00, ?it/s]"
      ]
     },
     "metadata": {},
     "output_type": "display_data"
    },
    {
     "name": "stderr",
     "output_type": "stream",
     "text": [
      "openscm_runner.adapters.magicc7._run_magicc_parallel - INFO: Appending results into a single ScmRun\n",
      "openscm_runner.adapters.magicc7._magicc_instances - INFO: removing /Users/gauravganti/Documents/github_projects/cdr_climate_uncertainty/pymagicc-79tzupxx\n",
      "openscm_runner.adapters.magicc7._run_magicc_parallel - INFO: Shutting down parallel pool\n",
      "openscm_runner.run - INFO: Only one model run, returning its results\n",
      "/Users/gauravganti/anaconda3/envs/cdr_climate_uncertainty/lib/python3.10/site-packages/climate_assessment/climate/wg3.py:42: FutureWarning: The default value of regex will change from True to False in a future version.\n",
      "  df_clean[\"variable\"] = df_clean[\"variable\"].str.replace(old, new)\n"
     ]
    },
    {
     "data": {
      "application/vnd.jupyter.widget-view+json": {
       "model_id": "cbdba43c2a3e4c2ba4e7f811ba5aa63e",
       "version_major": 2,
       "version_minor": 0
      },
      "text/plain": [
       "Climate models:   0%|          | 0.00/1.00 [00:00<?, ?it/s]"
      ]
     },
     "metadata": {},
     "output_type": "display_data"
    },
    {
     "name": "stderr",
     "output_type": "stream",
     "text": [
      "openscm_runner.adapters.magicc7.magicc7 - WARNING: Historical data has not been checked\n"
     ]
    },
    {
     "data": {
      "application/vnd.jupyter.widget-view+json": {
       "model_id": "333b46df0cec426f9c27dbc6b2549e9e",
       "version_major": 2,
       "version_minor": 0
      },
      "text/plain": [
       "Writing SCEN7 files:   0%|          | 0.00/1.00 [00:00<?, ?it/s]"
      ]
     },
     "metadata": {},
     "output_type": "display_data"
    },
    {
     "name": "stderr",
     "output_type": "stream",
     "text": [
      "openscm_runner.adapters.magicc7._run_magicc_parallel - INFO: Entered _parallel_magicc_compact_out\n",
      "openscm_runner.adapters.magicc7._run_magicc_parallel - INFO: Running in parallel with up to 4 workers\n"
     ]
    },
    {
     "data": {
      "application/vnd.jupyter.widget-view+json": {
       "model_id": "2eb005a3c7f94df38338a3b09ab4e0e8",
       "version_major": 2,
       "version_minor": 0
      },
      "text/plain": [
       "Front serial:   0%|          | 0.00/1.00 [00:00<?, ?it/s]"
      ]
     },
     "metadata": {},
     "output_type": "display_data"
    },
    {
     "name": "stderr",
     "output_type": "stream",
     "text": [
      "openscm_runner.adapters.magicc7._magicc_instances - INFO: Creating new magicc instance: (7, 'MainProcess') - /Users/gauravganti/Documents/github_projects/cdr_climate_uncertainty/pymagicc-649y14sc\n",
      "openscm_runner.adapters.magicc7._run_magicc_parallel - INFO: Setting up MAGICC worker in /Users/gauravganti/Documents/github_projects/cdr_climate_uncertainty/pymagicc-649y14sc\n",
      "openscm_runner.adapters.magicc7._run_magicc_parallel - INFO: Writing Pymagicc compatible MAGCFG_USER.CFG in /Users/gauravganti/Documents/github_projects/cdr_climate_uncertainty/pymagicc-649y14sc/run\n",
      "/Users/gauravganti/anaconda3/envs/cdr_climate_uncertainty/lib/python3.10/site-packages/pymagicc/core.py:387: UserWarning: Not reading file: DAT_HEATUPTK_EBALANCE_SUBANN.BINOUT. Monthly data are not read in automatically by `run`. Use `MAGICCData` instead.\n",
      "  warnings.warn(\n",
      "/Users/gauravganti/anaconda3/envs/cdr_climate_uncertainty/lib/python3.10/site-packages/pymagicc/core.py:387: UserWarning: Not reading file: DAT_HEATCONT_EBALANCE_SUBANN.BINOUT. Monthly data are not read in automatically by `run`. Use `MAGICCData` instead.\n",
      "  warnings.warn(\n"
     ]
    },
    {
     "data": {
      "application/vnd.jupyter.widget-view+json": {
       "model_id": "c90974521f6b4edcbaf70160b90dc95e",
       "version_major": 2,
       "version_minor": 0
      },
      "text/plain": [
       "Front parallel: 0.00it [00:00, ?it/s]"
      ]
     },
     "metadata": {},
     "output_type": "display_data"
    },
    {
     "data": {
      "application/vnd.jupyter.widget-view+json": {
       "model_id": "c0f5c288581b4d34a0b688b380bc06d8",
       "version_major": 2,
       "version_minor": 0
      },
      "text/plain": [
       "Parallel runs: 0.00it [00:00, ?it/s]"
      ]
     },
     "metadata": {},
     "output_type": "display_data"
    },
    {
     "name": "stderr",
     "output_type": "stream",
     "text": [
      "openscm_runner.adapters.magicc7._run_magicc_parallel - INFO: Appending results into a single ScmRun\n",
      "openscm_runner.adapters.magicc7._magicc_instances - INFO: removing /Users/gauravganti/Documents/github_projects/cdr_climate_uncertainty/pymagicc-649y14sc\n",
      "openscm_runner.adapters.magicc7._run_magicc_parallel - INFO: Shutting down parallel pool\n",
      "openscm_runner.run - INFO: Only one model run, returning its results\n",
      "/Users/gauravganti/anaconda3/envs/cdr_climate_uncertainty/lib/python3.10/site-packages/climate_assessment/climate/wg3.py:42: FutureWarning: The default value of regex will change from True to False in a future version.\n",
      "  df_clean[\"variable\"] = df_clean[\"variable\"].str.replace(old, new)\n"
     ]
    },
    {
     "data": {
      "application/vnd.jupyter.widget-view+json": {
       "model_id": "e5294b3404f94a2f83945b13d8056fb2",
       "version_major": 2,
       "version_minor": 0
      },
      "text/plain": [
       "Climate models:   0%|          | 0.00/1.00 [00:00<?, ?it/s]"
      ]
     },
     "metadata": {},
     "output_type": "display_data"
    },
    {
     "name": "stderr",
     "output_type": "stream",
     "text": [
      "openscm_runner.adapters.magicc7.magicc7 - WARNING: Historical data has not been checked\n"
     ]
    },
    {
     "data": {
      "application/vnd.jupyter.widget-view+json": {
       "model_id": "a93ad4c81bde49419a2e61654b1dce39",
       "version_major": 2,
       "version_minor": 0
      },
      "text/plain": [
       "Writing SCEN7 files:   0%|          | 0.00/1.00 [00:00<?, ?it/s]"
      ]
     },
     "metadata": {},
     "output_type": "display_data"
    },
    {
     "name": "stderr",
     "output_type": "stream",
     "text": [
      "openscm_runner.adapters.magicc7._run_magicc_parallel - INFO: Entered _parallel_magicc_compact_out\n",
      "openscm_runner.adapters.magicc7._run_magicc_parallel - INFO: Running in parallel with up to 4 workers\n"
     ]
    },
    {
     "data": {
      "application/vnd.jupyter.widget-view+json": {
       "model_id": "a35ee3aadaad48188cb5bf11ed2660dd",
       "version_major": 2,
       "version_minor": 0
      },
      "text/plain": [
       "Front serial:   0%|          | 0.00/1.00 [00:00<?, ?it/s]"
      ]
     },
     "metadata": {},
     "output_type": "display_data"
    },
    {
     "name": "stderr",
     "output_type": "stream",
     "text": [
      "openscm_runner.adapters.magicc7._magicc_instances - INFO: Creating new magicc instance: (7, 'MainProcess') - /Users/gauravganti/Documents/github_projects/cdr_climate_uncertainty/pymagicc-yadqo90d\n",
      "openscm_runner.adapters.magicc7._run_magicc_parallel - INFO: Setting up MAGICC worker in /Users/gauravganti/Documents/github_projects/cdr_climate_uncertainty/pymagicc-yadqo90d\n",
      "openscm_runner.adapters.magicc7._run_magicc_parallel - INFO: Writing Pymagicc compatible MAGCFG_USER.CFG in /Users/gauravganti/Documents/github_projects/cdr_climate_uncertainty/pymagicc-yadqo90d/run\n",
      "/Users/gauravganti/anaconda3/envs/cdr_climate_uncertainty/lib/python3.10/site-packages/pymagicc/core.py:387: UserWarning: Not reading file: DAT_HEATUPTK_EBALANCE_SUBANN.BINOUT. Monthly data are not read in automatically by `run`. Use `MAGICCData` instead.\n",
      "  warnings.warn(\n",
      "/Users/gauravganti/anaconda3/envs/cdr_climate_uncertainty/lib/python3.10/site-packages/pymagicc/core.py:387: UserWarning: Not reading file: DAT_HEATCONT_EBALANCE_SUBANN.BINOUT. Monthly data are not read in automatically by `run`. Use `MAGICCData` instead.\n",
      "  warnings.warn(\n"
     ]
    },
    {
     "data": {
      "application/vnd.jupyter.widget-view+json": {
       "model_id": "5b360842b1094ea59c32c702a83850b0",
       "version_major": 2,
       "version_minor": 0
      },
      "text/plain": [
       "Front parallel: 0.00it [00:00, ?it/s]"
      ]
     },
     "metadata": {},
     "output_type": "display_data"
    },
    {
     "data": {
      "application/vnd.jupyter.widget-view+json": {
       "model_id": "dfcbded25a6c4c1bbb5b53a72f7bf60d",
       "version_major": 2,
       "version_minor": 0
      },
      "text/plain": [
       "Parallel runs: 0.00it [00:00, ?it/s]"
      ]
     },
     "metadata": {},
     "output_type": "display_data"
    },
    {
     "name": "stderr",
     "output_type": "stream",
     "text": [
      "openscm_runner.adapters.magicc7._run_magicc_parallel - INFO: Appending results into a single ScmRun\n",
      "openscm_runner.adapters.magicc7._magicc_instances - INFO: removing /Users/gauravganti/Documents/github_projects/cdr_climate_uncertainty/pymagicc-yadqo90d\n",
      "openscm_runner.adapters.magicc7._run_magicc_parallel - INFO: Shutting down parallel pool\n",
      "openscm_runner.run - INFO: Only one model run, returning its results\n",
      "/Users/gauravganti/anaconda3/envs/cdr_climate_uncertainty/lib/python3.10/site-packages/climate_assessment/climate/wg3.py:42: FutureWarning: The default value of regex will change from True to False in a future version.\n",
      "  df_clean[\"variable\"] = df_clean[\"variable\"].str.replace(old, new)\n"
     ]
    },
    {
     "data": {
      "application/vnd.jupyter.widget-view+json": {
       "model_id": "49a2eafd4ac84fcebcffd81f70b857f6",
       "version_major": 2,
       "version_minor": 0
      },
      "text/plain": [
       "Climate models:   0%|          | 0.00/1.00 [00:00<?, ?it/s]"
      ]
     },
     "metadata": {},
     "output_type": "display_data"
    },
    {
     "name": "stderr",
     "output_type": "stream",
     "text": [
      "openscm_runner.adapters.magicc7.magicc7 - WARNING: Historical data has not been checked\n"
     ]
    },
    {
     "data": {
      "application/vnd.jupyter.widget-view+json": {
       "model_id": "6f4fd2f961c04524bba55f80a0d2238e",
       "version_major": 2,
       "version_minor": 0
      },
      "text/plain": [
       "Writing SCEN7 files:   0%|          | 0.00/1.00 [00:00<?, ?it/s]"
      ]
     },
     "metadata": {},
     "output_type": "display_data"
    },
    {
     "name": "stderr",
     "output_type": "stream",
     "text": [
      "openscm_runner.adapters.magicc7._run_magicc_parallel - INFO: Entered _parallel_magicc_compact_out\n",
      "openscm_runner.adapters.magicc7._run_magicc_parallel - INFO: Running in parallel with up to 4 workers\n"
     ]
    },
    {
     "data": {
      "application/vnd.jupyter.widget-view+json": {
       "model_id": "3d0b4956f4e44e9aa802166b5113315f",
       "version_major": 2,
       "version_minor": 0
      },
      "text/plain": [
       "Front serial:   0%|          | 0.00/1.00 [00:00<?, ?it/s]"
      ]
     },
     "metadata": {},
     "output_type": "display_data"
    },
    {
     "name": "stderr",
     "output_type": "stream",
     "text": [
      "openscm_runner.adapters.magicc7._magicc_instances - INFO: Creating new magicc instance: (7, 'MainProcess') - /Users/gauravganti/Documents/github_projects/cdr_climate_uncertainty/pymagicc-xvkzyu0f\n",
      "openscm_runner.adapters.magicc7._run_magicc_parallel - INFO: Setting up MAGICC worker in /Users/gauravganti/Documents/github_projects/cdr_climate_uncertainty/pymagicc-xvkzyu0f\n",
      "openscm_runner.adapters.magicc7._run_magicc_parallel - INFO: Writing Pymagicc compatible MAGCFG_USER.CFG in /Users/gauravganti/Documents/github_projects/cdr_climate_uncertainty/pymagicc-xvkzyu0f/run\n",
      "/Users/gauravganti/anaconda3/envs/cdr_climate_uncertainty/lib/python3.10/site-packages/pymagicc/core.py:387: UserWarning: Not reading file: DAT_HEATUPTK_EBALANCE_SUBANN.BINOUT. Monthly data are not read in automatically by `run`. Use `MAGICCData` instead.\n",
      "  warnings.warn(\n",
      "/Users/gauravganti/anaconda3/envs/cdr_climate_uncertainty/lib/python3.10/site-packages/pymagicc/core.py:387: UserWarning: Not reading file: DAT_HEATCONT_EBALANCE_SUBANN.BINOUT. Monthly data are not read in automatically by `run`. Use `MAGICCData` instead.\n",
      "  warnings.warn(\n"
     ]
    },
    {
     "data": {
      "application/vnd.jupyter.widget-view+json": {
       "model_id": "2ce6a7969c644d9eb29585a00bd29d8f",
       "version_major": 2,
       "version_minor": 0
      },
      "text/plain": [
       "Front parallel: 0.00it [00:00, ?it/s]"
      ]
     },
     "metadata": {},
     "output_type": "display_data"
    },
    {
     "data": {
      "application/vnd.jupyter.widget-view+json": {
       "model_id": "16fd05c8eea04297afc72d3fbce47889",
       "version_major": 2,
       "version_minor": 0
      },
      "text/plain": [
       "Parallel runs: 0.00it [00:00, ?it/s]"
      ]
     },
     "metadata": {},
     "output_type": "display_data"
    },
    {
     "name": "stderr",
     "output_type": "stream",
     "text": [
      "openscm_runner.adapters.magicc7._run_magicc_parallel - INFO: Appending results into a single ScmRun\n",
      "openscm_runner.adapters.magicc7._magicc_instances - INFO: removing /Users/gauravganti/Documents/github_projects/cdr_climate_uncertainty/pymagicc-xvkzyu0f\n",
      "openscm_runner.adapters.magicc7._run_magicc_parallel - INFO: Shutting down parallel pool\n",
      "openscm_runner.run - INFO: Only one model run, returning its results\n",
      "/Users/gauravganti/anaconda3/envs/cdr_climate_uncertainty/lib/python3.10/site-packages/climate_assessment/climate/wg3.py:42: FutureWarning: The default value of regex will change from True to False in a future version.\n",
      "  df_clean[\"variable\"] = df_clean[\"variable\"].str.replace(old, new)\n"
     ]
    },
    {
     "data": {
      "application/vnd.jupyter.widget-view+json": {
       "model_id": "af5f9e258c7a45a1bec05ac5792704e8",
       "version_major": 2,
       "version_minor": 0
      },
      "text/plain": [
       "Climate models:   0%|          | 0.00/1.00 [00:00<?, ?it/s]"
      ]
     },
     "metadata": {},
     "output_type": "display_data"
    },
    {
     "name": "stderr",
     "output_type": "stream",
     "text": [
      "openscm_runner.adapters.magicc7.magicc7 - WARNING: Historical data has not been checked\n"
     ]
    },
    {
     "data": {
      "application/vnd.jupyter.widget-view+json": {
       "model_id": "5afd188bec404263bb0a52d53bd34850",
       "version_major": 2,
       "version_minor": 0
      },
      "text/plain": [
       "Writing SCEN7 files:   0%|          | 0.00/1.00 [00:00<?, ?it/s]"
      ]
     },
     "metadata": {},
     "output_type": "display_data"
    },
    {
     "name": "stderr",
     "output_type": "stream",
     "text": [
      "openscm_runner.adapters.magicc7._run_magicc_parallel - INFO: Entered _parallel_magicc_compact_out\n",
      "openscm_runner.adapters.magicc7._run_magicc_parallel - INFO: Running in parallel with up to 4 workers\n"
     ]
    },
    {
     "data": {
      "application/vnd.jupyter.widget-view+json": {
       "model_id": "87259d21937e4a838ec644a604ea4a78",
       "version_major": 2,
       "version_minor": 0
      },
      "text/plain": [
       "Front serial:   0%|          | 0.00/1.00 [00:00<?, ?it/s]"
      ]
     },
     "metadata": {},
     "output_type": "display_data"
    },
    {
     "name": "stderr",
     "output_type": "stream",
     "text": [
      "openscm_runner.adapters.magicc7._magicc_instances - INFO: Creating new magicc instance: (7, 'MainProcess') - /Users/gauravganti/Documents/github_projects/cdr_climate_uncertainty/pymagicc-48mdek2e\n",
      "openscm_runner.adapters.magicc7._run_magicc_parallel - INFO: Setting up MAGICC worker in /Users/gauravganti/Documents/github_projects/cdr_climate_uncertainty/pymagicc-48mdek2e\n",
      "openscm_runner.adapters.magicc7._run_magicc_parallel - INFO: Writing Pymagicc compatible MAGCFG_USER.CFG in /Users/gauravganti/Documents/github_projects/cdr_climate_uncertainty/pymagicc-48mdek2e/run\n",
      "/Users/gauravganti/anaconda3/envs/cdr_climate_uncertainty/lib/python3.10/site-packages/pymagicc/core.py:387: UserWarning: Not reading file: DAT_HEATUPTK_EBALANCE_SUBANN.BINOUT. Monthly data are not read in automatically by `run`. Use `MAGICCData` instead.\n",
      "  warnings.warn(\n",
      "/Users/gauravganti/anaconda3/envs/cdr_climate_uncertainty/lib/python3.10/site-packages/pymagicc/core.py:387: UserWarning: Not reading file: DAT_HEATCONT_EBALANCE_SUBANN.BINOUT. Monthly data are not read in automatically by `run`. Use `MAGICCData` instead.\n",
      "  warnings.warn(\n"
     ]
    },
    {
     "data": {
      "application/vnd.jupyter.widget-view+json": {
       "model_id": "8a0b8c624ba346e1af1bea470b9c3383",
       "version_major": 2,
       "version_minor": 0
      },
      "text/plain": [
       "Front parallel: 0.00it [00:00, ?it/s]"
      ]
     },
     "metadata": {},
     "output_type": "display_data"
    },
    {
     "data": {
      "application/vnd.jupyter.widget-view+json": {
       "model_id": "3ef22a2f154249e3b3930a95186807ee",
       "version_major": 2,
       "version_minor": 0
      },
      "text/plain": [
       "Parallel runs: 0.00it [00:00, ?it/s]"
      ]
     },
     "metadata": {},
     "output_type": "display_data"
    },
    {
     "name": "stderr",
     "output_type": "stream",
     "text": [
      "openscm_runner.adapters.magicc7._run_magicc_parallel - INFO: Appending results into a single ScmRun\n",
      "openscm_runner.adapters.magicc7._magicc_instances - INFO: removing /Users/gauravganti/Documents/github_projects/cdr_climate_uncertainty/pymagicc-48mdek2e\n",
      "openscm_runner.adapters.magicc7._run_magicc_parallel - INFO: Shutting down parallel pool\n",
      "openscm_runner.run - INFO: Only one model run, returning its results\n",
      "/Users/gauravganti/anaconda3/envs/cdr_climate_uncertainty/lib/python3.10/site-packages/climate_assessment/climate/wg3.py:42: FutureWarning: The default value of regex will change from True to False in a future version.\n",
      "  df_clean[\"variable\"] = df_clean[\"variable\"].str.replace(old, new)\n"
     ]
    },
    {
     "data": {
      "application/vnd.jupyter.widget-view+json": {
       "model_id": "8a0be08b18b24dbab3b3b4efbd47a98d",
       "version_major": 2,
       "version_minor": 0
      },
      "text/plain": [
       "Climate models:   0%|          | 0.00/1.00 [00:00<?, ?it/s]"
      ]
     },
     "metadata": {},
     "output_type": "display_data"
    },
    {
     "name": "stderr",
     "output_type": "stream",
     "text": [
      "openscm_runner.adapters.magicc7.magicc7 - WARNING: Historical data has not been checked\n"
     ]
    },
    {
     "data": {
      "application/vnd.jupyter.widget-view+json": {
       "model_id": "bf4c584f290348639c43302b1c62de46",
       "version_major": 2,
       "version_minor": 0
      },
      "text/plain": [
       "Writing SCEN7 files:   0%|          | 0.00/1.00 [00:00<?, ?it/s]"
      ]
     },
     "metadata": {},
     "output_type": "display_data"
    },
    {
     "name": "stderr",
     "output_type": "stream",
     "text": [
      "openscm_runner.adapters.magicc7._run_magicc_parallel - INFO: Entered _parallel_magicc_compact_out\n",
      "openscm_runner.adapters.magicc7._run_magicc_parallel - INFO: Running in parallel with up to 4 workers\n"
     ]
    },
    {
     "data": {
      "application/vnd.jupyter.widget-view+json": {
       "model_id": "906fb02f72344142817f6c76b7a4f78a",
       "version_major": 2,
       "version_minor": 0
      },
      "text/plain": [
       "Front serial:   0%|          | 0.00/1.00 [00:00<?, ?it/s]"
      ]
     },
     "metadata": {},
     "output_type": "display_data"
    },
    {
     "name": "stderr",
     "output_type": "stream",
     "text": [
      "openscm_runner.adapters.magicc7._magicc_instances - INFO: Creating new magicc instance: (7, 'MainProcess') - /Users/gauravganti/Documents/github_projects/cdr_climate_uncertainty/pymagicc-ska55h38\n",
      "openscm_runner.adapters.magicc7._run_magicc_parallel - INFO: Setting up MAGICC worker in /Users/gauravganti/Documents/github_projects/cdr_climate_uncertainty/pymagicc-ska55h38\n",
      "openscm_runner.adapters.magicc7._run_magicc_parallel - INFO: Writing Pymagicc compatible MAGCFG_USER.CFG in /Users/gauravganti/Documents/github_projects/cdr_climate_uncertainty/pymagicc-ska55h38/run\n",
      "/Users/gauravganti/anaconda3/envs/cdr_climate_uncertainty/lib/python3.10/site-packages/pymagicc/core.py:387: UserWarning: Not reading file: DAT_HEATUPTK_EBALANCE_SUBANN.BINOUT. Monthly data are not read in automatically by `run`. Use `MAGICCData` instead.\n",
      "  warnings.warn(\n",
      "/Users/gauravganti/anaconda3/envs/cdr_climate_uncertainty/lib/python3.10/site-packages/pymagicc/core.py:387: UserWarning: Not reading file: DAT_HEATCONT_EBALANCE_SUBANN.BINOUT. Monthly data are not read in automatically by `run`. Use `MAGICCData` instead.\n",
      "  warnings.warn(\n"
     ]
    },
    {
     "data": {
      "application/vnd.jupyter.widget-view+json": {
       "model_id": "907e8af501cc4abb8ef16bda26889d9f",
       "version_major": 2,
       "version_minor": 0
      },
      "text/plain": [
       "Front parallel: 0.00it [00:00, ?it/s]"
      ]
     },
     "metadata": {},
     "output_type": "display_data"
    },
    {
     "data": {
      "application/vnd.jupyter.widget-view+json": {
       "model_id": "1378dc6e00ea43fca320548988674010",
       "version_major": 2,
       "version_minor": 0
      },
      "text/plain": [
       "Parallel runs: 0.00it [00:00, ?it/s]"
      ]
     },
     "metadata": {},
     "output_type": "display_data"
    },
    {
     "name": "stderr",
     "output_type": "stream",
     "text": [
      "openscm_runner.adapters.magicc7._run_magicc_parallel - INFO: Appending results into a single ScmRun\n",
      "openscm_runner.adapters.magicc7._magicc_instances - INFO: removing /Users/gauravganti/Documents/github_projects/cdr_climate_uncertainty/pymagicc-ska55h38\n",
      "openscm_runner.adapters.magicc7._run_magicc_parallel - INFO: Shutting down parallel pool\n",
      "openscm_runner.run - INFO: Only one model run, returning its results\n",
      "/Users/gauravganti/anaconda3/envs/cdr_climate_uncertainty/lib/python3.10/site-packages/climate_assessment/climate/wg3.py:42: FutureWarning: The default value of regex will change from True to False in a future version.\n",
      "  df_clean[\"variable\"] = df_clean[\"variable\"].str.replace(old, new)\n"
     ]
    },
    {
     "data": {
      "application/vnd.jupyter.widget-view+json": {
       "model_id": "c3d8d161e698425b88e12fa11f6df4cc",
       "version_major": 2,
       "version_minor": 0
      },
      "text/plain": [
       "Climate models:   0%|          | 0.00/1.00 [00:00<?, ?it/s]"
      ]
     },
     "metadata": {},
     "output_type": "display_data"
    },
    {
     "name": "stderr",
     "output_type": "stream",
     "text": [
      "openscm_runner.adapters.magicc7.magicc7 - WARNING: Historical data has not been checked\n"
     ]
    },
    {
     "data": {
      "application/vnd.jupyter.widget-view+json": {
       "model_id": "d617b5b5bd574c6ea7ce2ffeaa7d23e7",
       "version_major": 2,
       "version_minor": 0
      },
      "text/plain": [
       "Writing SCEN7 files:   0%|          | 0.00/1.00 [00:00<?, ?it/s]"
      ]
     },
     "metadata": {},
     "output_type": "display_data"
    },
    {
     "name": "stderr",
     "output_type": "stream",
     "text": [
      "openscm_runner.adapters.magicc7._run_magicc_parallel - INFO: Entered _parallel_magicc_compact_out\n",
      "openscm_runner.adapters.magicc7._run_magicc_parallel - INFO: Running in parallel with up to 4 workers\n"
     ]
    },
    {
     "data": {
      "application/vnd.jupyter.widget-view+json": {
       "model_id": "4522ac8092d84de4a1b64cb17b10df77",
       "version_major": 2,
       "version_minor": 0
      },
      "text/plain": [
       "Front serial:   0%|          | 0.00/1.00 [00:00<?, ?it/s]"
      ]
     },
     "metadata": {},
     "output_type": "display_data"
    },
    {
     "name": "stderr",
     "output_type": "stream",
     "text": [
      "openscm_runner.adapters.magicc7._magicc_instances - INFO: Creating new magicc instance: (7, 'MainProcess') - /Users/gauravganti/Documents/github_projects/cdr_climate_uncertainty/pymagicc-zv7m8ikl\n",
      "openscm_runner.adapters.magicc7._run_magicc_parallel - INFO: Setting up MAGICC worker in /Users/gauravganti/Documents/github_projects/cdr_climate_uncertainty/pymagicc-zv7m8ikl\n",
      "openscm_runner.adapters.magicc7._run_magicc_parallel - INFO: Writing Pymagicc compatible MAGCFG_USER.CFG in /Users/gauravganti/Documents/github_projects/cdr_climate_uncertainty/pymagicc-zv7m8ikl/run\n",
      "/Users/gauravganti/anaconda3/envs/cdr_climate_uncertainty/lib/python3.10/site-packages/pymagicc/core.py:387: UserWarning: Not reading file: DAT_HEATUPTK_EBALANCE_SUBANN.BINOUT. Monthly data are not read in automatically by `run`. Use `MAGICCData` instead.\n",
      "  warnings.warn(\n",
      "/Users/gauravganti/anaconda3/envs/cdr_climate_uncertainty/lib/python3.10/site-packages/pymagicc/core.py:387: UserWarning: Not reading file: DAT_HEATCONT_EBALANCE_SUBANN.BINOUT. Monthly data are not read in automatically by `run`. Use `MAGICCData` instead.\n",
      "  warnings.warn(\n"
     ]
    },
    {
     "data": {
      "application/vnd.jupyter.widget-view+json": {
       "model_id": "d8c112a413f44137a5a36c45cf8ee6be",
       "version_major": 2,
       "version_minor": 0
      },
      "text/plain": [
       "Front parallel: 0.00it [00:00, ?it/s]"
      ]
     },
     "metadata": {},
     "output_type": "display_data"
    },
    {
     "data": {
      "application/vnd.jupyter.widget-view+json": {
       "model_id": "bf4af53bd09240f693fe943cd77c744a",
       "version_major": 2,
       "version_minor": 0
      },
      "text/plain": [
       "Parallel runs: 0.00it [00:00, ?it/s]"
      ]
     },
     "metadata": {},
     "output_type": "display_data"
    },
    {
     "name": "stderr",
     "output_type": "stream",
     "text": [
      "openscm_runner.adapters.magicc7._run_magicc_parallel - INFO: Appending results into a single ScmRun\n",
      "openscm_runner.adapters.magicc7._magicc_instances - INFO: removing /Users/gauravganti/Documents/github_projects/cdr_climate_uncertainty/pymagicc-zv7m8ikl\n",
      "openscm_runner.adapters.magicc7._run_magicc_parallel - INFO: Shutting down parallel pool\n",
      "openscm_runner.run - INFO: Only one model run, returning its results\n",
      "/Users/gauravganti/anaconda3/envs/cdr_climate_uncertainty/lib/python3.10/site-packages/climate_assessment/climate/wg3.py:42: FutureWarning: The default value of regex will change from True to False in a future version.\n",
      "  df_clean[\"variable\"] = df_clean[\"variable\"].str.replace(old, new)\n"
     ]
    },
    {
     "data": {
      "application/vnd.jupyter.widget-view+json": {
       "model_id": "47fb0aa745ac4c19aa001f3dce949249",
       "version_major": 2,
       "version_minor": 0
      },
      "text/plain": [
       "Climate models:   0%|          | 0.00/1.00 [00:00<?, ?it/s]"
      ]
     },
     "metadata": {},
     "output_type": "display_data"
    },
    {
     "name": "stderr",
     "output_type": "stream",
     "text": [
      "openscm_runner.adapters.magicc7.magicc7 - WARNING: Historical data has not been checked\n"
     ]
    },
    {
     "data": {
      "application/vnd.jupyter.widget-view+json": {
       "model_id": "4e4775d20ae4488d802e9cdbfd287242",
       "version_major": 2,
       "version_minor": 0
      },
      "text/plain": [
       "Writing SCEN7 files:   0%|          | 0.00/1.00 [00:00<?, ?it/s]"
      ]
     },
     "metadata": {},
     "output_type": "display_data"
    },
    {
     "name": "stderr",
     "output_type": "stream",
     "text": [
      "openscm_runner.adapters.magicc7._run_magicc_parallel - INFO: Entered _parallel_magicc_compact_out\n",
      "openscm_runner.adapters.magicc7._run_magicc_parallel - INFO: Running in parallel with up to 4 workers\n"
     ]
    },
    {
     "data": {
      "application/vnd.jupyter.widget-view+json": {
       "model_id": "68ed02491d2a426a8b9016ddb026d533",
       "version_major": 2,
       "version_minor": 0
      },
      "text/plain": [
       "Front serial:   0%|          | 0.00/1.00 [00:00<?, ?it/s]"
      ]
     },
     "metadata": {},
     "output_type": "display_data"
    },
    {
     "name": "stderr",
     "output_type": "stream",
     "text": [
      "openscm_runner.adapters.magicc7._magicc_instances - INFO: Creating new magicc instance: (7, 'MainProcess') - /Users/gauravganti/Documents/github_projects/cdr_climate_uncertainty/pymagicc-k3lfnwk0\n",
      "openscm_runner.adapters.magicc7._run_magicc_parallel - INFO: Setting up MAGICC worker in /Users/gauravganti/Documents/github_projects/cdr_climate_uncertainty/pymagicc-k3lfnwk0\n",
      "openscm_runner.adapters.magicc7._run_magicc_parallel - INFO: Writing Pymagicc compatible MAGCFG_USER.CFG in /Users/gauravganti/Documents/github_projects/cdr_climate_uncertainty/pymagicc-k3lfnwk0/run\n",
      "/Users/gauravganti/anaconda3/envs/cdr_climate_uncertainty/lib/python3.10/site-packages/pymagicc/core.py:387: UserWarning: Not reading file: DAT_HEATUPTK_EBALANCE_SUBANN.BINOUT. Monthly data are not read in automatically by `run`. Use `MAGICCData` instead.\n",
      "  warnings.warn(\n",
      "/Users/gauravganti/anaconda3/envs/cdr_climate_uncertainty/lib/python3.10/site-packages/pymagicc/core.py:387: UserWarning: Not reading file: DAT_HEATCONT_EBALANCE_SUBANN.BINOUT. Monthly data are not read in automatically by `run`. Use `MAGICCData` instead.\n",
      "  warnings.warn(\n"
     ]
    },
    {
     "data": {
      "application/vnd.jupyter.widget-view+json": {
       "model_id": "d231e423198e46e380564ceed27d7f2a",
       "version_major": 2,
       "version_minor": 0
      },
      "text/plain": [
       "Front parallel: 0.00it [00:00, ?it/s]"
      ]
     },
     "metadata": {},
     "output_type": "display_data"
    },
    {
     "data": {
      "application/vnd.jupyter.widget-view+json": {
       "model_id": "3db5ecb235f84f95b18fc10f73dc5531",
       "version_major": 2,
       "version_minor": 0
      },
      "text/plain": [
       "Parallel runs: 0.00it [00:00, ?it/s]"
      ]
     },
     "metadata": {},
     "output_type": "display_data"
    },
    {
     "name": "stderr",
     "output_type": "stream",
     "text": [
      "openscm_runner.adapters.magicc7._run_magicc_parallel - INFO: Appending results into a single ScmRun\n",
      "openscm_runner.adapters.magicc7._magicc_instances - INFO: removing /Users/gauravganti/Documents/github_projects/cdr_climate_uncertainty/pymagicc-k3lfnwk0\n",
      "openscm_runner.adapters.magicc7._run_magicc_parallel - INFO: Shutting down parallel pool\n",
      "openscm_runner.run - INFO: Only one model run, returning its results\n",
      "/Users/gauravganti/anaconda3/envs/cdr_climate_uncertainty/lib/python3.10/site-packages/climate_assessment/climate/wg3.py:42: FutureWarning: The default value of regex will change from True to False in a future version.\n",
      "  df_clean[\"variable\"] = df_clean[\"variable\"].str.replace(old, new)\n"
     ]
    },
    {
     "data": {
      "application/vnd.jupyter.widget-view+json": {
       "model_id": "6355123b48db44f0ad24a64842e50ada",
       "version_major": 2,
       "version_minor": 0
      },
      "text/plain": [
       "Climate models:   0%|          | 0.00/1.00 [00:00<?, ?it/s]"
      ]
     },
     "metadata": {},
     "output_type": "display_data"
    },
    {
     "name": "stderr",
     "output_type": "stream",
     "text": [
      "openscm_runner.adapters.magicc7.magicc7 - WARNING: Historical data has not been checked\n"
     ]
    },
    {
     "data": {
      "application/vnd.jupyter.widget-view+json": {
       "model_id": "8780c329a4c64db68eb6e49dd4b45f60",
       "version_major": 2,
       "version_minor": 0
      },
      "text/plain": [
       "Writing SCEN7 files:   0%|          | 0.00/1.00 [00:00<?, ?it/s]"
      ]
     },
     "metadata": {},
     "output_type": "display_data"
    },
    {
     "name": "stderr",
     "output_type": "stream",
     "text": [
      "openscm_runner.adapters.magicc7._run_magicc_parallel - INFO: Entered _parallel_magicc_compact_out\n",
      "openscm_runner.adapters.magicc7._run_magicc_parallel - INFO: Running in parallel with up to 4 workers\n"
     ]
    },
    {
     "data": {
      "application/vnd.jupyter.widget-view+json": {
       "model_id": "15c7aaf56a0d46e58e70b4a70f4aeb7b",
       "version_major": 2,
       "version_minor": 0
      },
      "text/plain": [
       "Front serial:   0%|          | 0.00/1.00 [00:00<?, ?it/s]"
      ]
     },
     "metadata": {},
     "output_type": "display_data"
    },
    {
     "name": "stderr",
     "output_type": "stream",
     "text": [
      "openscm_runner.adapters.magicc7._magicc_instances - INFO: Creating new magicc instance: (7, 'MainProcess') - /Users/gauravganti/Documents/github_projects/cdr_climate_uncertainty/pymagicc-6nh9oxxk\n",
      "openscm_runner.adapters.magicc7._run_magicc_parallel - INFO: Setting up MAGICC worker in /Users/gauravganti/Documents/github_projects/cdr_climate_uncertainty/pymagicc-6nh9oxxk\n",
      "openscm_runner.adapters.magicc7._run_magicc_parallel - INFO: Writing Pymagicc compatible MAGCFG_USER.CFG in /Users/gauravganti/Documents/github_projects/cdr_climate_uncertainty/pymagicc-6nh9oxxk/run\n",
      "/Users/gauravganti/anaconda3/envs/cdr_climate_uncertainty/lib/python3.10/site-packages/pymagicc/core.py:387: UserWarning: Not reading file: DAT_HEATUPTK_EBALANCE_SUBANN.BINOUT. Monthly data are not read in automatically by `run`. Use `MAGICCData` instead.\n",
      "  warnings.warn(\n",
      "/Users/gauravganti/anaconda3/envs/cdr_climate_uncertainty/lib/python3.10/site-packages/pymagicc/core.py:387: UserWarning: Not reading file: DAT_HEATCONT_EBALANCE_SUBANN.BINOUT. Monthly data are not read in automatically by `run`. Use `MAGICCData` instead.\n",
      "  warnings.warn(\n"
     ]
    },
    {
     "data": {
      "application/vnd.jupyter.widget-view+json": {
       "model_id": "0dc49d5eda6b4af9a509b88a65fe45df",
       "version_major": 2,
       "version_minor": 0
      },
      "text/plain": [
       "Front parallel: 0.00it [00:00, ?it/s]"
      ]
     },
     "metadata": {},
     "output_type": "display_data"
    },
    {
     "data": {
      "application/vnd.jupyter.widget-view+json": {
       "model_id": "f6358a791c64454582c4d4bbe631c263",
       "version_major": 2,
       "version_minor": 0
      },
      "text/plain": [
       "Parallel runs: 0.00it [00:00, ?it/s]"
      ]
     },
     "metadata": {},
     "output_type": "display_data"
    },
    {
     "name": "stderr",
     "output_type": "stream",
     "text": [
      "openscm_runner.adapters.magicc7._run_magicc_parallel - INFO: Appending results into a single ScmRun\n",
      "openscm_runner.adapters.magicc7._magicc_instances - INFO: removing /Users/gauravganti/Documents/github_projects/cdr_climate_uncertainty/pymagicc-6nh9oxxk\n",
      "openscm_runner.adapters.magicc7._run_magicc_parallel - INFO: Shutting down parallel pool\n",
      "openscm_runner.run - INFO: Only one model run, returning its results\n",
      "/Users/gauravganti/anaconda3/envs/cdr_climate_uncertainty/lib/python3.10/site-packages/climate_assessment/climate/wg3.py:42: FutureWarning: The default value of regex will change from True to False in a future version.\n",
      "  df_clean[\"variable\"] = df_clean[\"variable\"].str.replace(old, new)\n"
     ]
    },
    {
     "data": {
      "application/vnd.jupyter.widget-view+json": {
       "model_id": "db442f4493be4542bc90413f1d763f78",
       "version_major": 2,
       "version_minor": 0
      },
      "text/plain": [
       "Climate models:   0%|          | 0.00/1.00 [00:00<?, ?it/s]"
      ]
     },
     "metadata": {},
     "output_type": "display_data"
    },
    {
     "name": "stderr",
     "output_type": "stream",
     "text": [
      "openscm_runner.adapters.magicc7.magicc7 - WARNING: Historical data has not been checked\n"
     ]
    },
    {
     "data": {
      "application/vnd.jupyter.widget-view+json": {
       "model_id": "284307eb2a1942c7aedc1fd55c209114",
       "version_major": 2,
       "version_minor": 0
      },
      "text/plain": [
       "Writing SCEN7 files:   0%|          | 0.00/1.00 [00:00<?, ?it/s]"
      ]
     },
     "metadata": {},
     "output_type": "display_data"
    },
    {
     "name": "stderr",
     "output_type": "stream",
     "text": [
      "openscm_runner.adapters.magicc7._run_magicc_parallel - INFO: Entered _parallel_magicc_compact_out\n",
      "openscm_runner.adapters.magicc7._run_magicc_parallel - INFO: Running in parallel with up to 4 workers\n"
     ]
    },
    {
     "data": {
      "application/vnd.jupyter.widget-view+json": {
       "model_id": "30f3400d9aac4b2d96d2aea95ac497a2",
       "version_major": 2,
       "version_minor": 0
      },
      "text/plain": [
       "Front serial:   0%|          | 0.00/1.00 [00:00<?, ?it/s]"
      ]
     },
     "metadata": {},
     "output_type": "display_data"
    },
    {
     "name": "stderr",
     "output_type": "stream",
     "text": [
      "openscm_runner.adapters.magicc7._magicc_instances - INFO: Creating new magicc instance: (7, 'MainProcess') - /Users/gauravganti/Documents/github_projects/cdr_climate_uncertainty/pymagicc-muvm72ry\n",
      "openscm_runner.adapters.magicc7._run_magicc_parallel - INFO: Setting up MAGICC worker in /Users/gauravganti/Documents/github_projects/cdr_climate_uncertainty/pymagicc-muvm72ry\n",
      "openscm_runner.adapters.magicc7._run_magicc_parallel - INFO: Writing Pymagicc compatible MAGCFG_USER.CFG in /Users/gauravganti/Documents/github_projects/cdr_climate_uncertainty/pymagicc-muvm72ry/run\n",
      "/Users/gauravganti/anaconda3/envs/cdr_climate_uncertainty/lib/python3.10/site-packages/pymagicc/core.py:387: UserWarning: Not reading file: DAT_HEATUPTK_EBALANCE_SUBANN.BINOUT. Monthly data are not read in automatically by `run`. Use `MAGICCData` instead.\n",
      "  warnings.warn(\n",
      "/Users/gauravganti/anaconda3/envs/cdr_climate_uncertainty/lib/python3.10/site-packages/pymagicc/core.py:387: UserWarning: Not reading file: DAT_HEATCONT_EBALANCE_SUBANN.BINOUT. Monthly data are not read in automatically by `run`. Use `MAGICCData` instead.\n",
      "  warnings.warn(\n"
     ]
    },
    {
     "data": {
      "application/vnd.jupyter.widget-view+json": {
       "model_id": "3a226940ba484e1180a3f93f0c9a21ed",
       "version_major": 2,
       "version_minor": 0
      },
      "text/plain": [
       "Front parallel: 0.00it [00:00, ?it/s]"
      ]
     },
     "metadata": {},
     "output_type": "display_data"
    },
    {
     "data": {
      "application/vnd.jupyter.widget-view+json": {
       "model_id": "99dc57e1f9a840d6bececfb4dde475a7",
       "version_major": 2,
       "version_minor": 0
      },
      "text/plain": [
       "Parallel runs: 0.00it [00:00, ?it/s]"
      ]
     },
     "metadata": {},
     "output_type": "display_data"
    },
    {
     "name": "stderr",
     "output_type": "stream",
     "text": [
      "openscm_runner.adapters.magicc7._run_magicc_parallel - INFO: Appending results into a single ScmRun\n",
      "openscm_runner.adapters.magicc7._magicc_instances - INFO: removing /Users/gauravganti/Documents/github_projects/cdr_climate_uncertainty/pymagicc-muvm72ry\n",
      "openscm_runner.adapters.magicc7._run_magicc_parallel - INFO: Shutting down parallel pool\n",
      "openscm_runner.run - INFO: Only one model run, returning its results\n",
      "/Users/gauravganti/anaconda3/envs/cdr_climate_uncertainty/lib/python3.10/site-packages/climate_assessment/climate/wg3.py:42: FutureWarning: The default value of regex will change from True to False in a future version.\n",
      "  df_clean[\"variable\"] = df_clean[\"variable\"].str.replace(old, new)\n"
     ]
    },
    {
     "data": {
      "application/vnd.jupyter.widget-view+json": {
       "model_id": "5343a31065ad476db691d586173d920e",
       "version_major": 2,
       "version_minor": 0
      },
      "text/plain": [
       "Climate models:   0%|          | 0.00/1.00 [00:00<?, ?it/s]"
      ]
     },
     "metadata": {},
     "output_type": "display_data"
    },
    {
     "name": "stderr",
     "output_type": "stream",
     "text": [
      "openscm_runner.adapters.magicc7.magicc7 - WARNING: Historical data has not been checked\n"
     ]
    },
    {
     "data": {
      "application/vnd.jupyter.widget-view+json": {
       "model_id": "55c89437993c40b0874ceb728f3cb0e7",
       "version_major": 2,
       "version_minor": 0
      },
      "text/plain": [
       "Writing SCEN7 files:   0%|          | 0.00/1.00 [00:00<?, ?it/s]"
      ]
     },
     "metadata": {},
     "output_type": "display_data"
    },
    {
     "name": "stderr",
     "output_type": "stream",
     "text": [
      "openscm_runner.adapters.magicc7._run_magicc_parallel - INFO: Entered _parallel_magicc_compact_out\n",
      "openscm_runner.adapters.magicc7._run_magicc_parallel - INFO: Running in parallel with up to 4 workers\n"
     ]
    },
    {
     "data": {
      "application/vnd.jupyter.widget-view+json": {
       "model_id": "88978fb4287f48709a645b97e5e64799",
       "version_major": 2,
       "version_minor": 0
      },
      "text/plain": [
       "Front serial:   0%|          | 0.00/1.00 [00:00<?, ?it/s]"
      ]
     },
     "metadata": {},
     "output_type": "display_data"
    },
    {
     "name": "stderr",
     "output_type": "stream",
     "text": [
      "openscm_runner.adapters.magicc7._magicc_instances - INFO: Creating new magicc instance: (7, 'MainProcess') - /Users/gauravganti/Documents/github_projects/cdr_climate_uncertainty/pymagicc-thsxhiml\n",
      "openscm_runner.adapters.magicc7._run_magicc_parallel - INFO: Setting up MAGICC worker in /Users/gauravganti/Documents/github_projects/cdr_climate_uncertainty/pymagicc-thsxhiml\n",
      "openscm_runner.adapters.magicc7._run_magicc_parallel - INFO: Writing Pymagicc compatible MAGCFG_USER.CFG in /Users/gauravganti/Documents/github_projects/cdr_climate_uncertainty/pymagicc-thsxhiml/run\n",
      "/Users/gauravganti/anaconda3/envs/cdr_climate_uncertainty/lib/python3.10/site-packages/pymagicc/core.py:387: UserWarning: Not reading file: DAT_HEATUPTK_EBALANCE_SUBANN.BINOUT. Monthly data are not read in automatically by `run`. Use `MAGICCData` instead.\n",
      "  warnings.warn(\n",
      "/Users/gauravganti/anaconda3/envs/cdr_climate_uncertainty/lib/python3.10/site-packages/pymagicc/core.py:387: UserWarning: Not reading file: DAT_HEATCONT_EBALANCE_SUBANN.BINOUT. Monthly data are not read in automatically by `run`. Use `MAGICCData` instead.\n",
      "  warnings.warn(\n"
     ]
    },
    {
     "data": {
      "application/vnd.jupyter.widget-view+json": {
       "model_id": "18e42b0409e2485f932f6f2df698a243",
       "version_major": 2,
       "version_minor": 0
      },
      "text/plain": [
       "Front parallel: 0.00it [00:00, ?it/s]"
      ]
     },
     "metadata": {},
     "output_type": "display_data"
    },
    {
     "data": {
      "application/vnd.jupyter.widget-view+json": {
       "model_id": "a4056f0d69a84c118e68526ee169f498",
       "version_major": 2,
       "version_minor": 0
      },
      "text/plain": [
       "Parallel runs: 0.00it [00:00, ?it/s]"
      ]
     },
     "metadata": {},
     "output_type": "display_data"
    },
    {
     "name": "stderr",
     "output_type": "stream",
     "text": [
      "openscm_runner.adapters.magicc7._run_magicc_parallel - INFO: Appending results into a single ScmRun\n",
      "openscm_runner.adapters.magicc7._magicc_instances - INFO: removing /Users/gauravganti/Documents/github_projects/cdr_climate_uncertainty/pymagicc-thsxhiml\n",
      "openscm_runner.adapters.magicc7._run_magicc_parallel - INFO: Shutting down parallel pool\n",
      "openscm_runner.run - INFO: Only one model run, returning its results\n"
     ]
    }
   ],
   "source": [
    "result = minimize_scalar(\n",
    "    objective,\n",
    "    bounds=(novel_cdr_for_iteration.angle[0], max_angle),\n",
    "    args=(emissions_for_iteration, novel_cdr_original_filtered),\n",
    "    method='bounded'\n",
    ")"
   ]
  },
  {
   "cell_type": "code",
   "execution_count": 39,
   "metadata": {},
   "outputs": [
    {
     "data": {
      "text/plain": [
       " message: Solution found.\n",
       " success: True\n",
       "  status: 0\n",
       "     fun: 1.5133668591627014e-06\n",
       "       x: 89.76268309477138\n",
       "     nit: 18\n",
       "    nfev: 18"
      ]
     },
     "execution_count": 39,
     "metadata": {},
     "output_type": "execute_result"
    }
   ],
   "source": [
    "result"
   ]
  },
  {
   "cell_type": "markdown",
   "metadata": {},
   "source": [
    "Last step: Make a function to construct and return the necessary CDR and temperature pathways."
   ]
  },
  {
   "cell_type": "code",
   "execution_count": 40,
   "metadata": {},
   "outputs": [],
   "source": [
    "def objective(angle, emissions, cdr_first_guess):\n",
    "    # Step 1: Get the new CDR pathway\n",
    "    new_cdr, _ = rotate_and_calc_cumulative(\n",
    "        cdr_first_guess,\n",
    "        angle\n",
    "    )\n",
    "    # Step 2: Get the new emissions pathway\n",
    "    new_emissions = (\n",
    "        scmdata.ScmRun(\n",
    "            clean_wg3_scenarios(\n",
    "                construct_new_emissions_dataframe(\n",
    "                    emissions,\n",
    "                    process_novel_cdr(new_cdr, cdr_first_guess.meta['netzero|CO2'].values[0])\n",
    "                )        \n",
    "            )\n",
    "        )\n",
    "    )\n",
    "    new_deviation = abs(return_temperature_deviation(new_emissions))\n",
    "    return new_deviation"
   ]
  },
  {
   "cell_type": "code",
   "execution_count": 41,
   "metadata": {},
   "outputs": [],
   "source": [
    "def compile_necessary_output_files(result):\n",
    "    # Step 1: Get the new CDR pathway\n",
    "    new_cdr, cumulative_cdr = rotate_and_calc_cumulative(\n",
    "        novel_cdr_original_filtered,\n",
    "        result.x\n",
    "    )\n",
    "    new_cdr.set_meta(\n",
    "        name='cumulative_cdr',\n",
    "        meta=cumulative_cdr\n",
    "    )\n",
    "    # Step 2: Get the new emissions pathway\n",
    "    new_emissions = (\n",
    "        scmdata.ScmRun(\n",
    "            clean_wg3_scenarios(\n",
    "                construct_new_emissions_dataframe(\n",
    "                    emissions_for_iteration,\n",
    "                    process_novel_cdr(new_cdr, novel_cdr_original_filtered.meta['netzero|CO2'].values[0])\n",
    "                )        \n",
    "            )\n",
    "        )\n",
    "    )\n",
    "    # Step 4: Calculate the warming\n",
    "    new_warming = openscm_runner.run(\n",
    "        {'MAGICC7':config_for_run},\n",
    "        new_emissions,\n",
    "        output_variables=[\n",
    "            'Surface Temperature'\n",
    "        ]    \n",
    "    )\n",
    "    # Step 4: Rebase and return\n",
    "    new_warming_rebased = (\n",
    "        new_warming\n",
    "        .filter(region='World')\n",
    "        .relative_to_ref_period_mean(year=[1850, 1900])\n",
    "    )\n",
    "    return new_cdr, new_warming_rebased"
   ]
  },
  {
   "cell_type": "code",
   "execution_count": 42,
   "metadata": {},
   "outputs": [
    {
     "name": "stderr",
     "output_type": "stream",
     "text": [
      "/Users/gauravganti/anaconda3/envs/cdr_climate_uncertainty/lib/python3.10/site-packages/climate_assessment/climate/wg3.py:42: FutureWarning: The default value of regex will change from True to False in a future version.\n",
      "  df_clean[\"variable\"] = df_clean[\"variable\"].str.replace(old, new)\n"
     ]
    },
    {
     "data": {
      "application/vnd.jupyter.widget-view+json": {
       "model_id": "be269c29021d4587bac0e44c9ae90962",
       "version_major": 2,
       "version_minor": 0
      },
      "text/plain": [
       "Climate models:   0%|          | 0.00/1.00 [00:00<?, ?it/s]"
      ]
     },
     "metadata": {},
     "output_type": "display_data"
    },
    {
     "name": "stderr",
     "output_type": "stream",
     "text": [
      "openscm_runner.adapters.magicc7.magicc7 - WARNING: Historical data has not been checked\n"
     ]
    },
    {
     "data": {
      "application/vnd.jupyter.widget-view+json": {
       "model_id": "38141af5625041f499b6d068568d3b38",
       "version_major": 2,
       "version_minor": 0
      },
      "text/plain": [
       "Writing SCEN7 files:   0%|          | 0.00/1.00 [00:00<?, ?it/s]"
      ]
     },
     "metadata": {},
     "output_type": "display_data"
    },
    {
     "name": "stderr",
     "output_type": "stream",
     "text": [
      "openscm_runner.adapters.magicc7._run_magicc_parallel - INFO: Entered _parallel_magicc_compact_out\n",
      "openscm_runner.adapters.magicc7._run_magicc_parallel - INFO: Running in parallel with up to 4 workers\n"
     ]
    },
    {
     "data": {
      "application/vnd.jupyter.widget-view+json": {
       "model_id": "ef9cc42e8bb441a195c9ee3a90571f95",
       "version_major": 2,
       "version_minor": 0
      },
      "text/plain": [
       "Front serial:   0%|          | 0.00/1.00 [00:00<?, ?it/s]"
      ]
     },
     "metadata": {},
     "output_type": "display_data"
    },
    {
     "name": "stderr",
     "output_type": "stream",
     "text": [
      "openscm_runner.adapters.magicc7._magicc_instances - INFO: Creating new magicc instance: (7, 'MainProcess') - /Users/gauravganti/Documents/github_projects/cdr_climate_uncertainty/pymagicc-lzy5jf0g\n",
      "openscm_runner.adapters.magicc7._run_magicc_parallel - INFO: Setting up MAGICC worker in /Users/gauravganti/Documents/github_projects/cdr_climate_uncertainty/pymagicc-lzy5jf0g\n",
      "openscm_runner.adapters.magicc7._run_magicc_parallel - INFO: Writing Pymagicc compatible MAGCFG_USER.CFG in /Users/gauravganti/Documents/github_projects/cdr_climate_uncertainty/pymagicc-lzy5jf0g/run\n",
      "/Users/gauravganti/anaconda3/envs/cdr_climate_uncertainty/lib/python3.10/site-packages/pymagicc/core.py:387: UserWarning: Not reading file: DAT_HEATUPTK_EBALANCE_SUBANN.BINOUT. Monthly data are not read in automatically by `run`. Use `MAGICCData` instead.\n",
      "  warnings.warn(\n",
      "/Users/gauravganti/anaconda3/envs/cdr_climate_uncertainty/lib/python3.10/site-packages/pymagicc/core.py:387: UserWarning: Not reading file: DAT_HEATCONT_EBALANCE_SUBANN.BINOUT. Monthly data are not read in automatically by `run`. Use `MAGICCData` instead.\n",
      "  warnings.warn(\n"
     ]
    },
    {
     "data": {
      "application/vnd.jupyter.widget-view+json": {
       "model_id": "ead01dc19066469a832ddc803e65ad11",
       "version_major": 2,
       "version_minor": 0
      },
      "text/plain": [
       "Front parallel: 0.00it [00:00, ?it/s]"
      ]
     },
     "metadata": {},
     "output_type": "display_data"
    },
    {
     "data": {
      "application/vnd.jupyter.widget-view+json": {
       "model_id": "55c9d081d6a042ee9c83902a76e76de6",
       "version_major": 2,
       "version_minor": 0
      },
      "text/plain": [
       "Parallel runs: 0.00it [00:00, ?it/s]"
      ]
     },
     "metadata": {},
     "output_type": "display_data"
    },
    {
     "name": "stderr",
     "output_type": "stream",
     "text": [
      "openscm_runner.adapters.magicc7._run_magicc_parallel - INFO: Appending results into a single ScmRun\n",
      "openscm_runner.adapters.magicc7._magicc_instances - INFO: removing /Users/gauravganti/Documents/github_projects/cdr_climate_uncertainty/pymagicc-lzy5jf0g\n",
      "openscm_runner.adapters.magicc7._run_magicc_parallel - INFO: Shutting down parallel pool\n",
      "openscm_runner.run - INFO: Only one model run, returning its results\n"
     ]
    }
   ],
   "source": [
    "cdr_pathway, temperature_pathway = compile_necessary_output_files(result)"
   ]
  },
  {
   "cell_type": "code",
   "execution_count": 43,
   "metadata": {},
   "outputs": [
    {
     "name": "stderr",
     "output_type": "stream",
     "text": [
      "/Users/gauravganti/anaconda3/envs/cdr_climate_uncertainty/lib/python3.10/site-packages/pyam/plotting.py:1073: FutureWarning: iteritems is deprecated and will be removed in a future version. Use .items instead.\n",
      "  for col, data in df.iteritems():\n",
      "/Users/gauravganti/anaconda3/envs/cdr_climate_uncertainty/lib/python3.10/site-packages/pyam/plotting.py:1073: FutureWarning: iteritems is deprecated and will be removed in a future version. Use .items instead.\n",
      "  for col, data in df.iteritems():\n",
      "/Users/gauravganti/anaconda3/envs/cdr_climate_uncertainty/lib/python3.10/site-packages/scmdata/plotting.py:79: FutureWarning: \n",
      "\n",
      "The `ci` parameter is deprecated. Use `errorbar='sd'` for the same effect.\n",
      "\n",
      "  ax = sns.lineplot(data=plt_df, **kwargs)\n"
     ]
    },
    {
     "data": {
      "text/plain": [
       "<matplotlib.lines.Line2D at 0x17fd34a60>"
      ]
     },
     "execution_count": 43,
     "metadata": {},
     "output_type": "execute_result"
    },
    {
     "data": {
      "image/png": "[encoded data removed]",
      "text/plain": [
       "<Figure size 1000x500 with 2 Axes>"
      ]
     },
     "metadata": {},
     "output_type": "display_data"
    }
   ],
   "source": [
    "fig, ax = plt.subplots(1, 2, figsize=(10, 5))\n",
    "\n",
    "# First, plot the CDR pathway\n",
    "cdr_pathway.plot(ax=ax[0])\n",
    "novel_cdr_original_filtered.plot(ax=ax[0], color='black', linestyle='--')\n",
    "\n",
    "# Plot the temperature\n",
    "temperature_pathway.filter(year=range(1850, 2100)).line_plot(ax=ax[1])\n",
    "ax[1].axhline(1.5, color='black')"
   ]
  },
  {
   "cell_type": "markdown",
   "metadata": {},
   "source": [
    "Save the files out for further assessment."
   ]
  },
  {
   "cell_type": "code",
   "execution_count": 44,
   "metadata": {},
   "outputs": [],
   "source": [
    "cdr_pathway.to_csv(\n",
    "    Path(\n",
    "        f\"results/CDR_{AR6_FILTERS['model']}_{AR6_FILTERS['scenario']}_{ENSEMBLE_MEMBER}.csv\"\n",
    "    )\n",
    ")"
   ]
  },
  {
   "cell_type": "code",
   "execution_count": 45,
   "metadata": {},
   "outputs": [],
   "source": [
    "temperature_pathway.to_csv(\n",
    "    Path(\n",
    "        f\"results/TEMP_{AR6_FILTERS['model']}_{AR6_FILTERS['scenario']}_{ENSEMBLE_MEMBER}.csv\"\n",
    "    )\n",
    ")"
   ]
  }
 ],
 "metadata": {
  "kernelspec": {
   "display_name": "cdr_climate_uncertainty",
   "language": "python",
   "name": "python3"
  },
  "language_info": {
   "codemirror_mode": {
    "name": "ipython",
    "version": 3
   },
   "file_extension": ".py",
   "mimetype": "text/x-python",
   "name": "python",
   "nbconvert_exporter": "python",
   "pygments_lexer": "ipython3",
   "version": "3.10.13"
  }
 },
 "nbformat": 4,
 "nbformat_minor": 2
}
