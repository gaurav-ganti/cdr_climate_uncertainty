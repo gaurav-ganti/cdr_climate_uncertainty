{
 "cells": [
  {
   "cell_type": "markdown",
   "metadata": {},
   "source": [
    "# 403 Iterate for CDR\n",
    "In this notebook we will assess the new CDR needs based on an iterative search."
   ]
  },
  {
   "cell_type": "code",
   "execution_count": null,
   "metadata": {
    "tags": [
     "parameters"
    ]
   },
   "outputs": [],
   "source": [
    "ENSEMBLE_MEMBER = 4\n",
    "MODEL='REMIND-MAgPIE 2.1-4.3'\n",
    "SCENARIO='DeepElec_SSP2_ HighRE_Budg900'"
   ]
  },
  {
   "cell_type": "code",
   "execution_count": null,
   "metadata": {},
   "outputs": [],
   "source": [
    "import json\n",
    "import os\n",
    "from pathlib import Path\n",
    "\n",
    "import copy\n",
    "import dotenv\n",
    "import matplotlib.pyplot as plt\n",
    "import openscm_runner\n",
    "import scmdata\n",
    "import pyam\n",
    "import pandas as pd\n",
    "import numpy as np\n",
    "from scipy.optimize import minimize_scalar\n",
    "\n",
    "import sys\n",
    "sys.path.append('../scripts/')\n",
    "from cdr import *\n",
    "\n",
    "from climate_assessment.climate.wg3 import clean_wg3_scenarios\n",
    "from climate_assessment.climate.magicc7 import get_magicc7_configurations\n",
    "%load_ext autoreload\n",
    "%autoreload 2"
   ]
  },
  {
   "cell_type": "code",
   "execution_count": null,
   "metadata": {},
   "outputs": [],
   "source": [
    "dotenv.load_dotenv()"
   ]
  },
  {
   "cell_type": "markdown",
   "metadata": {},
   "source": [
    "Step 1: Load the MAGICC configurations and select the ensemble member (climate realisation) that we want to run through for this study."
   ]
  },
  {
   "cell_type": "code",
   "execution_count": null,
   "metadata": {},
   "outputs": [],
   "source": [
    "os.environ['DYLD_LIBRARY_PATH'] = '/opt/homebrew/Cellar/gcc/13.2.0/lib/gcc/current/'\n",
    "magicc_cfgs, _ = get_magicc7_configurations(\n",
    "    magicc_version=\"v7.5.3\",\n",
    "    magicc_probabilistic_file=os.environ['MAGICC_AR6_PROBABILISTIC_DISTRIBUTION'],\n",
    "    magicc_extra_config=None,\n",
    "    num_cfgs=600,\n",
    "    co2_and_non_co2_warming=False\n",
    ")"
   ]
  },
  {
   "cell_type": "code",
   "execution_count": null,
   "metadata": {},
   "outputs": [],
   "source": [
    "config_for_run = [magicc_cfgs[ENSEMBLE_MEMBER]]"
   ]
  },
  {
   "cell_type": "markdown",
   "metadata": {},
   "source": [
    "Step 2: Load the necessary emissions-related files for this assessment. We need:\n",
    "* The adapted novel CDR estimates lookup table\n",
    "* The emission dataset to input to the climate model\n",
    "* The original novel CDR estimates that we will use for the calibration iterations and the optimisation"
   ]
  },
  {
   "cell_type": "code",
   "execution_count": null,
   "metadata": {},
   "outputs": [],
   "source": [
    "novel_cdr = pyam.IamDataFrame(\n",
    "    Path(\n",
    "        '../data/402_first_guess.csv'\n",
    "    )\n",
    ")"
   ]
  },
  {
   "cell_type": "code",
   "execution_count": null,
   "metadata": {},
   "outputs": [],
   "source": [
    "emissions = pyam.IamDataFrame(\n",
    "    Path(\n",
    "        '../data/100_scenarios.csv'\n",
    "    )\n",
    ")"
   ]
  },
  {
   "cell_type": "code",
   "execution_count": null,
   "metadata": {},
   "outputs": [],
   "source": [
    "metrics = pd.read_csv(\n",
    "    Path(\n",
    "        '../data/401_lookup.csv'\n",
    "    ),\n",
    "    index_col=[0,1, 2]\n",
    ")"
   ]
  },
  {
   "cell_type": "code",
   "execution_count": null,
   "metadata": {},
   "outputs": [],
   "source": [
    "novel_cdr_original = pyam.IamDataFrame(\n",
    "    Path(\n",
    "        '../data/100_novel_cdr.csv'\n",
    "    )\n",
    ")"
   ]
  },
  {
   "cell_type": "markdown",
   "metadata": {},
   "source": [
    "Step 3: Filter both the datasets for the necessary model and scenario. Additionally, for the novel CDR dataframe, downselect it to get the ensemble member of choice."
   ]
  },
  {
   "cell_type": "code",
   "execution_count": null,
   "metadata": {},
   "outputs": [],
   "source": [
    "novel_cdr_for_iteration = (\n",
    "    novel_cdr\n",
    "    .filter(\n",
    "        ensemble_member=ENSEMBLE_MEMBER,\n",
    "        model=MODEL,\n",
    "        scenario=SCENARIO\n",
    "    )\n",
    ")"
   ]
  },
  {
   "cell_type": "code",
   "execution_count": null,
   "metadata": {},
   "outputs": [],
   "source": [
    "novel_cdr_for_iteration.interpolate(\n",
    "    time=range(2015, 2101),\n",
    "    inplace=True\n",
    ")"
   ]
  },
  {
   "cell_type": "code",
   "execution_count": null,
   "metadata": {},
   "outputs": [],
   "source": [
    "emissions_for_iteration = (\n",
    "    emissions\n",
    "    .filter(\n",
    "        model=MODEL,\n",
    "        scenario=SCENARIO\n",
    "    )\n",
    ")"
   ]
  },
  {
   "cell_type": "code",
   "execution_count": null,
   "metadata": {},
   "outputs": [],
   "source": [
    "emissions_for_iteration.swap_time_for_year(inplace=True)"
   ]
  },
  {
   "cell_type": "code",
   "execution_count": null,
   "metadata": {},
   "outputs": [],
   "source": [
    "novel_cdr_original_filtered = (\n",
    "    novel_cdr_original\n",
    "    .filter(\n",
    "        model=MODEL,\n",
    "        scenario=SCENARIO\n",
    "    )\n",
    "    .interpolate(\n",
    "        time=range(2015, 2101)\n",
    "    )\n",
    ")"
   ]
  },
  {
   "cell_type": "markdown",
   "metadata": {},
   "source": [
    "Step 4: We need the year of net zero CO2 and zero out the CDR before (so that we do not have a double counting effect)"
   ]
  },
  {
   "cell_type": "code",
   "execution_count": null,
   "metadata": {},
   "outputs": [],
   "source": [
    "def process_novel_cdr(data, netzero_timing):\n",
    "    data_to_return = (\n",
    "        data.timeseries()\n",
    "        -\n",
    "        novel_cdr_original_filtered.timeseries()\n",
    "    )\n",
    "    return pyam.IamDataFrame(data_to_return)"
   ]
  },
  {
   "cell_type": "code",
   "execution_count": null,
   "metadata": {},
   "outputs": [],
   "source": [
    "netzero_timing = metrics.loc[\n",
    "    (MODEL, SCENARIO, ENSEMBLE_MEMBER),\n",
    "    'netzero|CO2'\n",
    "]"
   ]
  },
  {
   "cell_type": "code",
   "execution_count": null,
   "metadata": {},
   "outputs": [],
   "source": [
    "novel_cdr_to_crunch = process_novel_cdr(\n",
    "    novel_cdr_for_iteration,\n",
    "    netzero_timing\n",
    ")"
   ]
  },
  {
   "cell_type": "code",
   "execution_count": null,
   "metadata": {},
   "outputs": [],
   "source": [
    "novel_cdr_for_iteration.set_meta(\n",
    "    name='netzero|CO2',\n",
    "    meta=netzero_timing\n",
    ")"
   ]
  },
  {
   "cell_type": "markdown",
   "metadata": {},
   "source": [
    "Step 4: Make a function that constructs a new emission dataframe to run through the simple climate model."
   ]
  },
  {
   "cell_type": "code",
   "execution_count": null,
   "metadata": {},
   "outputs": [],
   "source": [
    "def construct_new_emissions_dataframe(\n",
    "        emissions, cdr\n",
    "):\n",
    "    emissions_to_return = copy.deepcopy(emissions)\n",
    "    # Step 1: Get the CDR dataframe\n",
    "    cdr_altered = pyam.IamDataFrame(\n",
    "        cdr\n",
    "        .timeseries()\n",
    "        .reset_index()\n",
    "        .drop(columns=cdr.extra_cols)\n",
    "    )\n",
    "    # Step 2: Pull out the emissions\n",
    "    co2_ffi_var = 'AR6 climate diagnostics|Infilled|Emissions|CO2|Energy and Industrial Processes'\n",
    "    co2_ffi = (\n",
    "        emissions_to_return\n",
    "        .filter(variable=co2_ffi_var)\n",
    "    )\n",
    "    # Step 3: Create a non CO2 dataframe\n",
    "    nonco2_ffi = (\n",
    "        emissions_to_return\n",
    "        .filter(\n",
    "            variable=co2_ffi_var,\n",
    "            keep=False\n",
    "        )\n",
    "    )\n",
    "    # Step 4: Aggregate the two variables\n",
    "    concat = pyam.concat([cdr_altered, co2_ffi])\n",
    "    concat_co2_ffi = concat.subtract(\n",
    "        a=co2_ffi_var,\n",
    "        b='Carbon Dioxide Removal|Novel',\n",
    "        name=co2_ffi_var,\n",
    "        ignore_units='Mt CO2/yr'\n",
    "    )\n",
    "    # Step 5: Return this\n",
    "    df_to_return = pyam.concat([concat_co2_ffi, nonco2_ffi])\n",
    "    return df_to_return.filter(year=range(2015, 2101))"
   ]
  },
  {
   "cell_type": "code",
   "execution_count": null,
   "metadata": {},
   "outputs": [],
   "source": [
    "test = construct_new_emissions_dataframe(emissions_for_iteration, novel_cdr_to_crunch)"
   ]
  },
  {
   "cell_type": "code",
   "execution_count": null,
   "metadata": {},
   "outputs": [],
   "source": [
    "fig, ax = plt.subplots()\n",
    "\n",
    "test.filter(\n",
    "    variable='*Emissions|CO2|Energy and Industrial Processes'\n",
    ").plot(ax=ax, color='red')\n",
    "\n",
    "emissions_for_iteration.filter(\n",
    "    variable='*Emissions|CO2|Energy and Industrial Processes'\n",
    ").plot(ax=ax, color='blue')\n",
    "\n",
    "ax.set_title('')"
   ]
  },
  {
   "cell_type": "markdown",
   "metadata": {},
   "source": [
    "Step 6: Create the input for MAGICC and run this through for a first cut."
   ]
  },
  {
   "cell_type": "code",
   "execution_count": null,
   "metadata": {},
   "outputs": [],
   "source": [
    "input_scm = scmdata.ScmRun(\n",
    "    clean_wg3_scenarios(test)\n",
    ")"
   ]
  },
  {
   "cell_type": "code",
   "execution_count": null,
   "metadata": {},
   "outputs": [],
   "source": [
    "temp_confirmation =  openscm_runner.run(\n",
    "    {'MAGICC7':config_for_run},\n",
    "    input_scm,\n",
    "    output_variables=[\n",
    "        'Surface Temperature'\n",
    "    ]\n",
    ")"
   ]
  },
  {
   "cell_type": "code",
   "execution_count": null,
   "metadata": {},
   "outputs": [],
   "source": [
    "temp_proc = (\n",
    "    temp_confirmation\n",
    "    .filter(region='World')\n",
    "    .relative_to_ref_period_mean(\n",
    "        year=[1850, 1900]\n",
    "    )\n",
    "    .timeseries()\n",
    ")"
   ]
  },
  {
   "cell_type": "code",
   "execution_count": null,
   "metadata": {},
   "outputs": [],
   "source": [
    "temp_calibrate_2100 = temp_proc['2100-01-01'].values[0].round(2)"
   ]
  },
  {
   "cell_type": "code",
   "execution_count": null,
   "metadata": {},
   "outputs": [],
   "source": [
    "fig, ax = plt.subplots()\n",
    "\n",
    "metrics_small = metrics.loc[\n",
    "    (MODEL, SCENARIO, ENSEMBLE_MEMBER),\n",
    "]\n",
    "\n",
    "ax.bar(x=0, height=metrics_small['peak_warming'], width=0.1)\n",
    "ax.bar(x=0.3, height=metrics_small['2100_warming'], width=0.1)\n",
    "ax.bar(x=0.6, height=temp_calibrate_2100, width=0.1)\n",
    "ax.axhline(1.5, color='black')"
   ]
  },
  {
   "cell_type": "markdown",
   "metadata": {},
   "source": [
    "Step 7: Now that we know the direction (whether above or below), we now need a few calibration runs to get to the correct direction."
   ]
  },
  {
   "cell_type": "code",
   "execution_count": null,
   "metadata": {},
   "outputs": [],
   "source": [
    "deviation = temp_calibrate_2100 - 1.5\n",
    "print(deviation)"
   ]
  },
  {
   "cell_type": "code",
   "execution_count": null,
   "metadata": {},
   "outputs": [],
   "source": [
    "def return_temperature_deviation(input_emissions):\n",
    "    # Step 1: Run this through the simple climate model\n",
    "    temperatures = openscm_runner.run(\n",
    "        {'MAGICC7':config_for_run},\n",
    "        input_emissions,\n",
    "        output_variables=[\n",
    "            'Surface Temperature'\n",
    "        ]    \n",
    "    )\n",
    "    # Step 2: Rebase to 1850-1900 and return the 2100 value deviation\n",
    "    temperatures_rebased = (\n",
    "        temperatures\n",
    "        .filter(region='World')\n",
    "        .relative_to_ref_period_mean(year=[1850, 1900])\n",
    "    )\n",
    "    temp_2100 = (\n",
    "        temperatures_rebased\n",
    "        .timeseries()['2100-01-01']\n",
    "        .values[0]\n",
    "    )\n",
    "    # Step 3: Return the deviation\n",
    "    return temp_2100 - 1.5"
   ]
  },
  {
   "cell_type": "code",
   "execution_count": null,
   "metadata": {},
   "outputs": [],
   "source": [
    "novel_cdr_for_iteration.angle[0]\n",
    "if deviation < 0:\n",
    "    calibrate_type = 'reduce'\n",
    "if deviation > 0:\n",
    "    calibrate_type = 'increase'"
   ]
  },
  {
   "cell_type": "code",
   "execution_count": null,
   "metadata": {},
   "outputs": [],
   "source": [
    "novel_cdr_for_iteration"
   ]
  },
  {
   "cell_type": "code",
   "execution_count": null,
   "metadata": {},
   "outputs": [],
   "source": [
    "novel_cdr_original_filtered.meta = novel_cdr_for_iteration.meta"
   ]
  },
  {
   "cell_type": "code",
   "execution_count": null,
   "metadata": {},
   "outputs": [],
   "source": [
    "def initial_calibration(\n",
    "        emissions,\n",
    "        cdr_first_guess,\n",
    "        angle_first_guess,\n",
    "        current_deviation\n",
    "):\n",
    "    # Step 1: Create a dictionary to store the calibrations\n",
    "    calibration = {}\n",
    "    emissions_copy = copy.deepcopy(emissions)\n",
    "    cdr = copy.deepcopy(cdr_first_guess)\n",
    "    # Step 2: Determine walk direction\n",
    "    if current_deviation > 0:\n",
    "        new_deviation = current_deviation\n",
    "        step_size=0.5\n",
    "        while new_deviation > 0:\n",
    "            new_angle = angle_first_guess + step_size\n",
    "            print(new_deviation, new_angle)\n",
    "            if new_angle > 91:\n",
    "                break\n",
    "            new_cdr, _ = rotate_and_calc_cumulative(\n",
    "                cdr,\n",
    "                new_angle\n",
    "            )\n",
    "            new_emissions = (\n",
    "                scmdata.ScmRun(\n",
    "                    clean_wg3_scenarios(\n",
    "                        construct_new_emissions_dataframe(\n",
    "                            emissions_copy,\n",
    "                            process_novel_cdr(new_cdr, cdr.meta['netzero|CO2'].values[0])\n",
    "                        )\n",
    "                    \n",
    "                    )\n",
    "                )\n",
    "            )\n",
    "            new_deviation = return_temperature_deviation(new_emissions)\n",
    "            calibration[new_angle] = new_deviation\n",
    "            step_size += step_size\n",
    "    elif current_deviation < 0:\n",
    "        step_size=5\n",
    "        new_deviation = current_deviation\n",
    "        while new_deviation < 0:\n",
    "            new_angle = angle_first_guess - step_size\n",
    "            if new_angle < 0:\n",
    "                break\n",
    "            print(new_deviation, new_angle)\n",
    "            new_cdr, _ = rotate_and_calc_cumulative(\n",
    "                cdr,\n",
    "                new_angle\n",
    "            )\n",
    "            new_emissions = (\n",
    "                scmdata.ScmRun(\n",
    "                    clean_wg3_scenarios(\n",
    "                        construct_new_emissions_dataframe(\n",
    "                            emissions_copy,\n",
    "                            process_novel_cdr(new_cdr, cdr.meta['netzero|CO2'].values[0])\n",
    "                        )\n",
    "                    \n",
    "                    )\n",
    "                )\n",
    "            )\n",
    "            new_deviation = return_temperature_deviation(new_emissions)\n",
    "            calibration[new_angle] = new_deviation\n",
    "            step_size += step_size\n",
    "    return pd.DataFrame(\n",
    "        calibration.items(),\n",
    "        columns=['angle', 'deviation']\n",
    "    )"
   ]
  },
  {
   "cell_type": "code",
   "execution_count": null,
   "metadata": {},
   "outputs": [],
   "source": [
    "initial_calibration_set = initial_calibration(\n",
    "    emissions_for_iteration,\n",
    "    novel_cdr_original_filtered,\n",
    "    novel_cdr_for_iteration.angle[0],\n",
    "    current_deviation=deviation,\n",
    ")"
   ]
  },
  {
   "cell_type": "code",
   "execution_count": null,
   "metadata": {},
   "outputs": [],
   "source": [
    "initial_calibration_set"
   ]
  },
  {
   "cell_type": "code",
   "execution_count": null,
   "metadata": {},
   "outputs": [],
   "source": [
    "def objective(angle, emissions, cdr_first_guess):\n",
    "    # Step 1: Get the new CDR pathway\n",
    "    new_cdr, _ = rotate_and_calc_cumulative(\n",
    "        cdr_first_guess,\n",
    "        angle\n",
    "    )\n",
    "    # Step 2: Get the new emissions pathway\n",
    "    new_emissions = (\n",
    "        scmdata.ScmRun(\n",
    "            clean_wg3_scenarios(\n",
    "                construct_new_emissions_dataframe(\n",
    "                    emissions,\n",
    "                    process_novel_cdr(new_cdr, cdr_first_guess.meta['netzero|CO2'].values[0])\n",
    "                )        \n",
    "            )\n",
    "        )\n",
    "    )\n",
    "    new_deviation = abs(return_temperature_deviation(new_emissions))\n",
    "    return new_deviation"
   ]
  },
  {
   "cell_type": "code",
   "execution_count": null,
   "metadata": {},
   "outputs": [],
   "source": [
    "novel_cdr_for_iteration.angle[0]"
   ]
  },
  {
   "cell_type": "code",
   "execution_count": null,
   "metadata": {},
   "outputs": [],
   "source": [
    "if calibrate_type == 'increase':\n",
    "    try: max_angle = min(90, initial_calibration_set.iloc[-1]['angle'])\n",
    "    except: max_angle=90\n",
    "    bounds = (novel_cdr_for_iteration.angle[0], max_angle)\n",
    "if calibrate_type == 'reduce':\n",
    "    try: min_angle = max(0, initial_calibration_set.iloc[-1]['angle'])\n",
    "    except: min_angle=0\n",
    "    bounds = (min_angle, novel_cdr_for_iteration.angle[0])"
   ]
  },
  {
   "cell_type": "code",
   "execution_count": null,
   "metadata": {},
   "outputs": [],
   "source": [
    "bounds"
   ]
  },
  {
   "cell_type": "markdown",
   "metadata": {},
   "source": [
    "try:\n",
    "    max_angle = min(90, initial_calibration_set.iloc[-1]['angle'])\n",
    "except: max_angle=90"
   ]
  },
  {
   "cell_type": "code",
   "execution_count": null,
   "metadata": {},
   "outputs": [],
   "source": [
    "result = minimize_scalar(\n",
    "    objective,\n",
    "    bounds=bounds,\n",
    "    args=(emissions_for_iteration, novel_cdr_original_filtered),\n",
    "    method='bounded'\n",
    ")"
   ]
  },
  {
   "cell_type": "code",
   "execution_count": null,
   "metadata": {},
   "outputs": [],
   "source": [
    "result"
   ]
  },
  {
   "cell_type": "markdown",
   "metadata": {},
   "source": [
    "Last step: Make a function to construct and return the necessary CDR and temperature pathways."
   ]
  },
  {
   "cell_type": "code",
   "execution_count": null,
   "metadata": {},
   "outputs": [],
   "source": [
    "def objective(angle, emissions, cdr_first_guess):\n",
    "    # Step 1: Get the new CDR pathway\n",
    "    new_cdr, _ = rotate_and_calc_cumulative(\n",
    "        cdr_first_guess,\n",
    "        angle\n",
    "    )\n",
    "    # Step 2: Get the new emissions pathway\n",
    "    new_emissions = (\n",
    "        scmdata.ScmRun(\n",
    "            clean_wg3_scenarios(\n",
    "                construct_new_emissions_dataframe(\n",
    "                    emissions,\n",
    "                    process_novel_cdr(new_cdr, cdr_first_guess.meta['netzero|CO2'].values[0])\n",
    "                )        \n",
    "            )\n",
    "        )\n",
    "    )\n",
    "    new_deviation = abs(return_temperature_deviation(new_emissions))\n",
    "    return new_deviation"
   ]
  },
  {
   "cell_type": "code",
   "execution_count": null,
   "metadata": {},
   "outputs": [],
   "source": [
    "def compile_necessary_output_files(result):\n",
    "    # Step 1: Get the new CDR pathway\n",
    "    new_cdr, cumulative_cdr = rotate_and_calc_cumulative(\n",
    "        novel_cdr_original_filtered,\n",
    "        result.x\n",
    "    )\n",
    "    new_cdr.set_meta(\n",
    "        name='cumulative_cdr',\n",
    "        meta=cumulative_cdr\n",
    "    )\n",
    "    # Step 2: Get the new emissions pathway\n",
    "    new_emissions = (\n",
    "        scmdata.ScmRun(\n",
    "            clean_wg3_scenarios(\n",
    "                construct_new_emissions_dataframe(\n",
    "                    emissions_for_iteration,\n",
    "                    process_novel_cdr(new_cdr, novel_cdr_original_filtered.meta['netzero|CO2'].values[0])\n",
    "                )        \n",
    "            )\n",
    "        )\n",
    "    )\n",
    "    # Step 4: Calculate the warming\n",
    "    new_warming = openscm_runner.run(\n",
    "        {'MAGICC7':config_for_run},\n",
    "        new_emissions,\n",
    "        output_variables=[\n",
    "            'Surface Temperature'\n",
    "        ]    \n",
    "    )\n",
    "    # Step 4: Rebase and return\n",
    "    new_warming_rebased = (\n",
    "        new_warming\n",
    "        .filter(region='World')\n",
    "        .relative_to_ref_period_mean(year=[1850, 1900])\n",
    "    )\n",
    "    return new_cdr, new_warming_rebased"
   ]
  },
  {
   "cell_type": "code",
   "execution_count": null,
   "metadata": {},
   "outputs": [],
   "source": [
    "cdr_pathway, temperature_pathway = compile_necessary_output_files(result)"
   ]
  },
  {
   "cell_type": "code",
   "execution_count": null,
   "metadata": {},
   "outputs": [],
   "source": [
    "fig, ax = plt.subplots(1, 2, figsize=(10, 5))\n",
    "\n",
    "# First, plot the CDR pathway\n",
    "cdr_pathway.plot(ax=ax[0])\n",
    "novel_cdr_original_filtered.plot(ax=ax[0], color='black', linestyle='--')\n",
    "\n",
    "# Plot the temperature\n",
    "temperature_pathway.filter(year=range(1850, 2100)).line_plot(ax=ax[1])\n",
    "ax[1].axhline(1.5, color='black')"
   ]
  },
  {
   "cell_type": "markdown",
   "metadata": {},
   "source": [
    "Save the files out for further assessment."
   ]
  },
  {
   "cell_type": "code",
   "execution_count": null,
   "metadata": {},
   "outputs": [],
   "source": [
    "cdr_pathway.to_csv(\n",
    "    Path(\n",
    "        f\"results/CDR_{MODEL}_{SCENARIO}_{ENSEMBLE_MEMBER}.csv\"\n",
    "    )\n",
    ")"
   ]
  },
  {
   "cell_type": "code",
   "execution_count": null,
   "metadata": {},
   "outputs": [],
   "source": [
    "temperature_pathway.to_csv(\n",
    "    Path(\n",
    "        f\"results/TEMP_{MODEL}_{SCENARIO}_{ENSEMBLE_MEMBER}.csv\"\n",
    "    )\n",
    ")"
   ]
  }
 ],
 "metadata": {
  "kernelspec": {
   "display_name": "cdr_climate_uncertainty",
   "language": "python",
   "name": "python3"
  },
  "language_info": {
   "codemirror_mode": {
    "name": "ipython",
    "version": 3
   },
   "file_extension": ".py",
   "mimetype": "text/x-python",
   "name": "python",
   "nbconvert_exporter": "python",
   "pygments_lexer": "ipython3",
   "version": "3.10.13"
  }
 },
 "nbformat": 4,
 "nbformat_minor": 2
}
