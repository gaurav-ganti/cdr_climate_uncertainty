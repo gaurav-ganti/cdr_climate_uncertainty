{
 "cells": [
  {
   "cell_type": "markdown",
   "metadata": {},
   "source": [
    "# 403 Iterate for CDR\n",
    "In this notebook we will assess the new CDR needs based on an iterative search."
   ]
  },
  {
   "cell_type": "code",
   "execution_count": 1,
   "metadata": {
    "tags": [
     "parameters"
    ]
   },
   "outputs": [],
   "source": [
    "ENSEMBLE_MEMBER = 4\n",
    "MODEL='REMIND-MAgPIE 2.1-4.3'\n",
    "SCENARIO='DeepElec_SSP2_ HighRE_Budg900'"
   ]
  },
  {
   "cell_type": "code",
   "execution_count": 2,
   "metadata": {},
   "outputs": [
    {
     "data": {
      "application/javascript": [
       "if (typeof IPython !== 'undefined') { IPython.OutputArea.prototype._should_scroll = function(lines){ return false; }}"
      ],
      "text/plain": [
       "<IPython.core.display.Javascript object>"
      ]
     },
     "metadata": {},
     "output_type": "display_data"
    },
    {
     "name": "stderr",
     "output_type": "stream",
     "text": [
      "/home/gaurav/.conda/envs/cdr_climate_uncertainty/lib/python3.10/site-packages/scmdata/database/_database.py:9: TqdmExperimentalWarning: Using `tqdm.autonotebook.tqdm` in notebook mode. Use `tqdm.tqdm` instead to force console mode (e.g. in jupyter console)\n",
      "  import tqdm.autonotebook as tqdman\n"
     ]
    }
   ],
   "source": [
    "import json\n",
    "import os\n",
    "import platform\n",
    "from pathlib import Path\n",
    "\n",
    "import time\n",
    "\n",
    "import copy\n",
    "import dotenv\n",
    "import matplotlib.pyplot as plt\n",
    "import openscm_runner\n",
    "import scmdata\n",
    "import pyam\n",
    "import pandas as pd\n",
    "import numpy as np\n",
    "from scipy.optimize import minimize_scalar\n",
    "\n",
    "import sys\n",
    "sys.path.append('../scripts/')\n",
    "from cdr import *\n",
    "\n",
    "from climate_assessment.climate.wg3 import clean_wg3_scenarios\n",
    "from climate_assessment.climate.magicc7 import get_magicc7_configurations\n",
    "\n",
    "from utils import rebase_temperatures_wg3\n",
    "\n",
    "%load_ext autoreload\n",
    "%autoreload 2"
   ]
  },
  {
   "cell_type": "code",
   "execution_count": 3,
   "metadata": {},
   "outputs": [
    {
     "data": {
      "text/plain": [
       "True"
      ]
     },
     "execution_count": 3,
     "metadata": {},
     "output_type": "execute_result"
    }
   ],
   "source": [
    "dotenv.load_dotenv()"
   ]
  },
  {
   "cell_type": "code",
   "execution_count": 4,
   "metadata": {},
   "outputs": [
    {
     "name": "stdout",
     "output_type": "stream",
     "text": [
      "Linux\n"
     ]
    }
   ],
   "source": [
    "os_type = platform.system()\n",
    "print(os_type)\n",
    "\n",
    "match os_type:\n",
    "    case 'Darwin':\n",
    "        os.environ['MAGICC_EXECUTABLE_7']=os.path.join(\n",
    "            os.environ['MAGICC_7_BIN'],\n",
    "            'magicc-darwin-amd64'\n",
    "        )\n",
    "        os.environ['DYLD_LIBRARY_PATH'] = os.environ['DYLD_PATH_GCC']\n",
    "    case 'Linux':\n",
    "        os.environ['MAGICC_EXECUTABLE_7']=os.path.join(\n",
    "            os.environ['MAGICC_7_BIN'],\n",
    "            'magicc'\n",
    "        )"
   ]
  },
  {
   "cell_type": "markdown",
   "metadata": {},
   "source": [
    "Step 1: Load the MAGICC configurations and select the ensemble member (climate realisation) that we want to run through for this study."
   ]
  },
  {
   "cell_type": "code",
   "execution_count": 5,
   "metadata": {},
   "outputs": [],
   "source": [
    "magicc_cfgs, _ = get_magicc7_configurations(\n",
    "    magicc_version=\"v7.5.3\",\n",
    "    magicc_probabilistic_file=os.environ['MAGICC_AR6_PROBABILISTIC_DISTRIBUTION'],\n",
    "    magicc_extra_config=None,\n",
    "    num_cfgs=600,\n",
    "    co2_and_non_co2_warming=False\n",
    ")"
   ]
  },
  {
   "cell_type": "code",
   "execution_count": 6,
   "metadata": {},
   "outputs": [],
   "source": [
    "config_for_run = [magicc_cfgs[ENSEMBLE_MEMBER]]"
   ]
  },
  {
   "cell_type": "markdown",
   "metadata": {},
   "source": [
    "Step 2: Load the necessary emissions-related files for this assessment. We need:\n",
    "* The adapted novel CDR estimates lookup table\n",
    "* The emission dataset to input to the climate model\n",
    "* The original novel CDR estimates that we will use for the calibration iterations and the optimisation"
   ]
  },
  {
   "cell_type": "code",
   "execution_count": 7,
   "metadata": {},
   "outputs": [
    {
     "name": "stderr",
     "output_type": "stream",
     "text": [
      "pyam - INFO: Running in a notebook, setting up a basic logging at level INFO\n",
      "pyam.core - INFO: Reading file ../data/402_first_guess.csv\n"
     ]
    }
   ],
   "source": [
    "novel_cdr = pyam.IamDataFrame(\n",
    "    Path(\n",
    "        '../data/402_first_guess.csv'\n",
    "    )\n",
    ")"
   ]
  },
  {
   "cell_type": "code",
   "execution_count": 8,
   "metadata": {},
   "outputs": [
    {
     "name": "stderr",
     "output_type": "stream",
     "text": [
      "pyam.core - INFO: Reading file ../data/100_scenarios.csv\n"
     ]
    }
   ],
   "source": [
    "emissions = pyam.IamDataFrame(\n",
    "    Path(\n",
    "        '../data/100_scenarios.csv'\n",
    "    )\n",
    ")"
   ]
  },
  {
   "cell_type": "code",
   "execution_count": 9,
   "metadata": {},
   "outputs": [],
   "source": [
    "metrics = pd.read_csv(\n",
    "    Path(\n",
    "        '../data/401_lookup.csv'\n",
    "    ),\n",
    "    index_col=[0,1, 2]\n",
    ")"
   ]
  },
  {
   "cell_type": "code",
   "execution_count": 10,
   "metadata": {},
   "outputs": [
    {
     "name": "stderr",
     "output_type": "stream",
     "text": [
      "pyam.core - INFO: Reading file ../data/100_novel_cdr.csv\n"
     ]
    }
   ],
   "source": [
    "novel_cdr_original = pyam.IamDataFrame(\n",
    "    Path(\n",
    "        '../data/100_novel_cdr.csv'\n",
    "    )\n",
    ")"
   ]
  },
  {
   "cell_type": "markdown",
   "metadata": {},
   "source": [
    "Step 3: Filter both the datasets for the necessary model and scenario. Additionally, for the novel CDR dataframe, downselect it to get the ensemble member of choice."
   ]
  },
  {
   "cell_type": "code",
   "execution_count": 11,
   "metadata": {},
   "outputs": [],
   "source": [
    "novel_cdr_for_iteration = (\n",
    "    novel_cdr\n",
    "    .filter(\n",
    "        ensemble_member=ENSEMBLE_MEMBER,\n",
    "        model=MODEL,\n",
    "        scenario=SCENARIO\n",
    "    )\n",
    ")"
   ]
  },
  {
   "cell_type": "code",
   "execution_count": 12,
   "metadata": {},
   "outputs": [],
   "source": [
    "novel_cdr_for_iteration.interpolate(\n",
    "    time=range(2015, 2101),\n",
    "    inplace=True\n",
    ")"
   ]
  },
  {
   "cell_type": "code",
   "execution_count": 13,
   "metadata": {},
   "outputs": [],
   "source": [
    "emissions_for_iteration = (\n",
    "    emissions\n",
    "    .filter(\n",
    "        model=MODEL,\n",
    "        scenario=SCENARIO\n",
    "    )\n",
    ")"
   ]
  },
  {
   "cell_type": "code",
   "execution_count": 14,
   "metadata": {},
   "outputs": [],
   "source": [
    "emissions_for_iteration.swap_time_for_year(inplace=True)"
   ]
  },
  {
   "cell_type": "code",
   "execution_count": 15,
   "metadata": {},
   "outputs": [],
   "source": [
    "novel_cdr_original_filtered = (\n",
    "    novel_cdr_original\n",
    "    .filter(\n",
    "        model=MODEL,\n",
    "        scenario=SCENARIO\n",
    "    )\n",
    "    .interpolate(\n",
    "        time=range(2015, 2101)\n",
    "    )\n",
    ")"
   ]
  },
  {
   "cell_type": "markdown",
   "metadata": {},
   "source": [
    "Step 4: We need the year of net zero CO2 and zero out the CDR before (so that we do not have a double counting effect)"
   ]
  },
  {
   "cell_type": "code",
   "execution_count": 16,
   "metadata": {},
   "outputs": [],
   "source": [
    "def process_novel_cdr(data, netzero_timing):\n",
    "    data_to_return = (\n",
    "        data.timeseries()\n",
    "        -\n",
    "        novel_cdr_original_filtered.timeseries()\n",
    "    )\n",
    "    return pyam.IamDataFrame(data_to_return)"
   ]
  },
  {
   "cell_type": "code",
   "execution_count": 17,
   "metadata": {},
   "outputs": [],
   "source": [
    "netzero_timing = metrics.loc[\n",
    "    (MODEL, SCENARIO, ENSEMBLE_MEMBER),\n",
    "    'netzero|CO2'\n",
    "]"
   ]
  },
  {
   "cell_type": "code",
   "execution_count": 18,
   "metadata": {},
   "outputs": [],
   "source": [
    "novel_cdr_to_crunch = process_novel_cdr(\n",
    "    novel_cdr_for_iteration,\n",
    "    netzero_timing\n",
    ")"
   ]
  },
  {
   "cell_type": "code",
   "execution_count": 19,
   "metadata": {},
   "outputs": [],
   "source": [
    "novel_cdr_for_iteration.set_meta(\n",
    "    name='netzero|CO2',\n",
    "    meta=netzero_timing\n",
    ")"
   ]
  },
  {
   "cell_type": "markdown",
   "metadata": {},
   "source": [
    "Step 4: Make a function that constructs a new emission dataframe to run through the simple climate model."
   ]
  },
  {
   "cell_type": "code",
   "execution_count": 20,
   "metadata": {},
   "outputs": [],
   "source": [
    "def construct_new_emissions_dataframe(\n",
    "        emissions, cdr\n",
    "):\n",
    "    emissions_to_return = copy.deepcopy(emissions)\n",
    "    # Step 1: Get the CDR dataframe\n",
    "    cdr_altered = pyam.IamDataFrame(\n",
    "        cdr\n",
    "        .timeseries()\n",
    "        .reset_index()\n",
    "        .drop(columns=cdr.extra_cols)\n",
    "    )\n",
    "    # Step 2: Pull out the emissions\n",
    "    co2_ffi_var = 'AR6 climate diagnostics|Infilled|Emissions|CO2|Energy and Industrial Processes'\n",
    "    co2_ffi = (\n",
    "        emissions_to_return\n",
    "        .filter(variable=co2_ffi_var)\n",
    "    )\n",
    "    # Step 3: Create a non CO2 dataframe\n",
    "    nonco2_ffi = (\n",
    "        emissions_to_return\n",
    "        .filter(\n",
    "            variable=co2_ffi_var,\n",
    "            keep=False\n",
    "        )\n",
    "    )\n",
    "    # Step 4: Aggregate the two variables\n",
    "    concat = pyam.concat([cdr_altered, co2_ffi])\n",
    "    concat_co2_ffi = concat.subtract(\n",
    "        a=co2_ffi_var,\n",
    "        b='Carbon Dioxide Removal|Novel',\n",
    "        name=co2_ffi_var,\n",
    "        ignore_units='Mt CO2/yr'\n",
    "    )\n",
    "    # Step 5: Return this\n",
    "    df_to_return = pyam.concat([concat_co2_ffi, nonco2_ffi])\n",
    "    return df_to_return.filter(year=range(2015, 2101))"
   ]
  },
  {
   "cell_type": "code",
   "execution_count": 21,
   "metadata": {},
   "outputs": [],
   "source": [
    "test = construct_new_emissions_dataframe(emissions_for_iteration, novel_cdr_to_crunch)"
   ]
  },
  {
   "cell_type": "code",
   "execution_count": 22,
   "metadata": {},
   "outputs": [
    {
     "data": {
      "text/html": [
       "<div>\n",
       "<style scoped>\n",
       "    .dataframe tbody tr th:only-of-type {\n",
       "        vertical-align: middle;\n",
       "    }\n",
       "\n",
       "    .dataframe tbody tr th {\n",
       "        vertical-align: top;\n",
       "    }\n",
       "\n",
       "    .dataframe thead th {\n",
       "        text-align: right;\n",
       "    }\n",
       "</style>\n",
       "<table border=\"1\" class=\"dataframe\">\n",
       "  <thead>\n",
       "    <tr style=\"text-align: right;\">\n",
       "      <th></th>\n",
       "      <th></th>\n",
       "      <th></th>\n",
       "      <th></th>\n",
       "      <th></th>\n",
       "      <th></th>\n",
       "      <th></th>\n",
       "      <th>2005</th>\n",
       "      <th>2010</th>\n",
       "      <th>2015</th>\n",
       "      <th>2016</th>\n",
       "      <th>2017</th>\n",
       "      <th>2018</th>\n",
       "      <th>2019</th>\n",
       "      <th>2020</th>\n",
       "      <th>2021</th>\n",
       "      <th>2022</th>\n",
       "      <th>...</th>\n",
       "      <th>2091</th>\n",
       "      <th>2092</th>\n",
       "      <th>2093</th>\n",
       "      <th>2094</th>\n",
       "      <th>2095</th>\n",
       "      <th>2096</th>\n",
       "      <th>2097</th>\n",
       "      <th>2098</th>\n",
       "      <th>2099</th>\n",
       "      <th>2100</th>\n",
       "    </tr>\n",
       "    <tr>\n",
       "      <th>model</th>\n",
       "      <th>scenario</th>\n",
       "      <th>region</th>\n",
       "      <th>variable</th>\n",
       "      <th>unit</th>\n",
       "      <th>angle</th>\n",
       "      <th>ensemble_member</th>\n",
       "      <th></th>\n",
       "      <th></th>\n",
       "      <th></th>\n",
       "      <th></th>\n",
       "      <th></th>\n",
       "      <th></th>\n",
       "      <th></th>\n",
       "      <th></th>\n",
       "      <th></th>\n",
       "      <th></th>\n",
       "      <th></th>\n",
       "      <th></th>\n",
       "      <th></th>\n",
       "      <th></th>\n",
       "      <th></th>\n",
       "      <th></th>\n",
       "      <th></th>\n",
       "      <th></th>\n",
       "      <th></th>\n",
       "      <th></th>\n",
       "      <th></th>\n",
       "    </tr>\n",
       "  </thead>\n",
       "  <tbody>\n",
       "    <tr>\n",
       "      <th>REMIND-MAgPIE 2.1-4.3</th>\n",
       "      <th>DeepElec_SSP2_ HighRE_Budg900</th>\n",
       "      <th>World</th>\n",
       "      <th>Carbon Dioxide Removal|Novel</th>\n",
       "      <th>Mt CO2/yr</th>\n",
       "      <th>89.477519</th>\n",
       "      <th>4</th>\n",
       "      <td>2.6171</td>\n",
       "      <td>2.8996</td>\n",
       "      <td>3.1828</td>\n",
       "      <td>3.24602</td>\n",
       "      <td>3.30924</td>\n",
       "      <td>3.37246</td>\n",
       "      <td>3.43568</td>\n",
       "      <td>3.4989</td>\n",
       "      <td>10.5683</td>\n",
       "      <td>17.6377</td>\n",
       "      <td>...</td>\n",
       "      <td>6361.805624</td>\n",
       "      <td>6458.888465</td>\n",
       "      <td>6555.971307</td>\n",
       "      <td>6653.054149</td>\n",
       "      <td>6750.13699</td>\n",
       "      <td>6847.219832</td>\n",
       "      <td>6944.302673</td>\n",
       "      <td>7041.385515</td>\n",
       "      <td>7138.468356</td>\n",
       "      <td>7235.551198</td>\n",
       "    </tr>\n",
       "  </tbody>\n",
       "</table>\n",
       "<p>1 rows × 88 columns</p>\n",
       "</div>"
      ],
      "text/plain": [
       "                                                                                                                               2005  \\\n",
       "model                 scenario                      region variable                     unit      angle     ensemble_member           \n",
       "REMIND-MAgPIE 2.1-4.3 DeepElec_SSP2_ HighRE_Budg900 World  Carbon Dioxide Removal|Novel Mt CO2/yr 89.477519 4                2.6171   \n",
       "\n",
       "                                                                                                                               2010  \\\n",
       "model                 scenario                      region variable                     unit      angle     ensemble_member           \n",
       "REMIND-MAgPIE 2.1-4.3 DeepElec_SSP2_ HighRE_Budg900 World  Carbon Dioxide Removal|Novel Mt CO2/yr 89.477519 4                2.8996   \n",
       "\n",
       "                                                                                                                               2015  \\\n",
       "model                 scenario                      region variable                     unit      angle     ensemble_member           \n",
       "REMIND-MAgPIE 2.1-4.3 DeepElec_SSP2_ HighRE_Budg900 World  Carbon Dioxide Removal|Novel Mt CO2/yr 89.477519 4                3.1828   \n",
       "\n",
       "                                                                                                                                2016  \\\n",
       "model                 scenario                      region variable                     unit      angle     ensemble_member            \n",
       "REMIND-MAgPIE 2.1-4.3 DeepElec_SSP2_ HighRE_Budg900 World  Carbon Dioxide Removal|Novel Mt CO2/yr 89.477519 4                3.24602   \n",
       "\n",
       "                                                                                                                                2017  \\\n",
       "model                 scenario                      region variable                     unit      angle     ensemble_member            \n",
       "REMIND-MAgPIE 2.1-4.3 DeepElec_SSP2_ HighRE_Budg900 World  Carbon Dioxide Removal|Novel Mt CO2/yr 89.477519 4                3.30924   \n",
       "\n",
       "                                                                                                                                2018  \\\n",
       "model                 scenario                      region variable                     unit      angle     ensemble_member            \n",
       "REMIND-MAgPIE 2.1-4.3 DeepElec_SSP2_ HighRE_Budg900 World  Carbon Dioxide Removal|Novel Mt CO2/yr 89.477519 4                3.37246   \n",
       "\n",
       "                                                                                                                                2019  \\\n",
       "model                 scenario                      region variable                     unit      angle     ensemble_member            \n",
       "REMIND-MAgPIE 2.1-4.3 DeepElec_SSP2_ HighRE_Budg900 World  Carbon Dioxide Removal|Novel Mt CO2/yr 89.477519 4                3.43568   \n",
       "\n",
       "                                                                                                                               2020  \\\n",
       "model                 scenario                      region variable                     unit      angle     ensemble_member           \n",
       "REMIND-MAgPIE 2.1-4.3 DeepElec_SSP2_ HighRE_Budg900 World  Carbon Dioxide Removal|Novel Mt CO2/yr 89.477519 4                3.4989   \n",
       "\n",
       "                                                                                                                                2021  \\\n",
       "model                 scenario                      region variable                     unit      angle     ensemble_member            \n",
       "REMIND-MAgPIE 2.1-4.3 DeepElec_SSP2_ HighRE_Budg900 World  Carbon Dioxide Removal|Novel Mt CO2/yr 89.477519 4                10.5683   \n",
       "\n",
       "                                                                                                                                2022  \\\n",
       "model                 scenario                      region variable                     unit      angle     ensemble_member            \n",
       "REMIND-MAgPIE 2.1-4.3 DeepElec_SSP2_ HighRE_Budg900 World  Carbon Dioxide Removal|Novel Mt CO2/yr 89.477519 4                17.6377   \n",
       "\n",
       "                                                                                                                             ...  \\\n",
       "model                 scenario                      region variable                     unit      angle     ensemble_member  ...   \n",
       "REMIND-MAgPIE 2.1-4.3 DeepElec_SSP2_ HighRE_Budg900 World  Carbon Dioxide Removal|Novel Mt CO2/yr 89.477519 4                ...   \n",
       "\n",
       "                                                                                                                                    2091  \\\n",
       "model                 scenario                      region variable                     unit      angle     ensemble_member                \n",
       "REMIND-MAgPIE 2.1-4.3 DeepElec_SSP2_ HighRE_Budg900 World  Carbon Dioxide Removal|Novel Mt CO2/yr 89.477519 4                6361.805624   \n",
       "\n",
       "                                                                                                                                    2092  \\\n",
       "model                 scenario                      region variable                     unit      angle     ensemble_member                \n",
       "REMIND-MAgPIE 2.1-4.3 DeepElec_SSP2_ HighRE_Budg900 World  Carbon Dioxide Removal|Novel Mt CO2/yr 89.477519 4                6458.888465   \n",
       "\n",
       "                                                                                                                                    2093  \\\n",
       "model                 scenario                      region variable                     unit      angle     ensemble_member                \n",
       "REMIND-MAgPIE 2.1-4.3 DeepElec_SSP2_ HighRE_Budg900 World  Carbon Dioxide Removal|Novel Mt CO2/yr 89.477519 4                6555.971307   \n",
       "\n",
       "                                                                                                                                    2094  \\\n",
       "model                 scenario                      region variable                     unit      angle     ensemble_member                \n",
       "REMIND-MAgPIE 2.1-4.3 DeepElec_SSP2_ HighRE_Budg900 World  Carbon Dioxide Removal|Novel Mt CO2/yr 89.477519 4                6653.054149   \n",
       "\n",
       "                                                                                                                                   2095  \\\n",
       "model                 scenario                      region variable                     unit      angle     ensemble_member               \n",
       "REMIND-MAgPIE 2.1-4.3 DeepElec_SSP2_ HighRE_Budg900 World  Carbon Dioxide Removal|Novel Mt CO2/yr 89.477519 4                6750.13699   \n",
       "\n",
       "                                                                                                                                    2096  \\\n",
       "model                 scenario                      region variable                     unit      angle     ensemble_member                \n",
       "REMIND-MAgPIE 2.1-4.3 DeepElec_SSP2_ HighRE_Budg900 World  Carbon Dioxide Removal|Novel Mt CO2/yr 89.477519 4                6847.219832   \n",
       "\n",
       "                                                                                                                                    2097  \\\n",
       "model                 scenario                      region variable                     unit      angle     ensemble_member                \n",
       "REMIND-MAgPIE 2.1-4.3 DeepElec_SSP2_ HighRE_Budg900 World  Carbon Dioxide Removal|Novel Mt CO2/yr 89.477519 4                6944.302673   \n",
       "\n",
       "                                                                                                                                    2098  \\\n",
       "model                 scenario                      region variable                     unit      angle     ensemble_member                \n",
       "REMIND-MAgPIE 2.1-4.3 DeepElec_SSP2_ HighRE_Budg900 World  Carbon Dioxide Removal|Novel Mt CO2/yr 89.477519 4                7041.385515   \n",
       "\n",
       "                                                                                                                                    2099  \\\n",
       "model                 scenario                      region variable                     unit      angle     ensemble_member                \n",
       "REMIND-MAgPIE 2.1-4.3 DeepElec_SSP2_ HighRE_Budg900 World  Carbon Dioxide Removal|Novel Mt CO2/yr 89.477519 4                7138.468356   \n",
       "\n",
       "                                                                                                                                    2100  \n",
       "model                 scenario                      region variable                     unit      angle     ensemble_member               \n",
       "REMIND-MAgPIE 2.1-4.3 DeepElec_SSP2_ HighRE_Budg900 World  Carbon Dioxide Removal|Novel Mt CO2/yr 89.477519 4                7235.551198  \n",
       "\n",
       "[1 rows x 88 columns]"
      ]
     },
     "execution_count": 22,
     "metadata": {},
     "output_type": "execute_result"
    }
   ],
   "source": [
    "novel_cdr_for_iteration.timeseries()"
   ]
  },
  {
   "cell_type": "code",
   "execution_count": 23,
   "metadata": {},
   "outputs": [
    {
     "name": "stderr",
     "output_type": "stream",
     "text": [
      "/home/gaurav/.conda/envs/cdr_climate_uncertainty/lib/python3.10/site-packages/pyam/plotting.py:1073: FutureWarning: iteritems is deprecated and will be removed in a future version. Use .items instead.\n",
      "  for col, data in df.iteritems():\n",
      "/home/gaurav/.conda/envs/cdr_climate_uncertainty/lib/python3.10/site-packages/pyam/plotting.py:1073: FutureWarning: iteritems is deprecated and will be removed in a future version. Use .items instead.\n",
      "  for col, data in df.iteritems():\n"
     ]
    },
    {
     "data": {
      "text/plain": [
       "Text(0.5, 1.0, '')"
      ]
     },
     "execution_count": 23,
     "metadata": {},
     "output_type": "execute_result"
    },
    {
     "data": {
      "image/png": "[encoded data removed]",
      "text/plain": [
       "<Figure size 640x480 with 1 Axes>"
      ]
     },
     "metadata": {},
     "output_type": "display_data"
    }
   ],
   "source": [
    "fig, ax = plt.subplots()\n",
    "\n",
    "test.filter(\n",
    "    variable='*Emissions|CO2|Energy and Industrial Processes'\n",
    ").plot(ax=ax, color='red')\n",
    "\n",
    "emissions_for_iteration.filter(\n",
    "    variable='*Emissions|CO2|Energy and Industrial Processes'\n",
    ").plot(ax=ax, color='blue')\n",
    "\n",
    "ax.set_title('')"
   ]
  },
  {
   "cell_type": "markdown",
   "metadata": {},
   "source": [
    "Step 6: Create the input for MAGICC and run this through for a first cut."
   ]
  },
  {
   "cell_type": "code",
   "execution_count": 24,
   "metadata": {},
   "outputs": [
    {
     "name": "stderr",
     "output_type": "stream",
     "text": [
      "/home/gaurav/.conda/envs/cdr_climate_uncertainty/lib/python3.10/site-packages/climate_assessment/climate/wg3.py:42: FutureWarning: The default value of regex will change from True to False in a future version.\n",
      "  df_clean[\"variable\"] = df_clean[\"variable\"].str.replace(old, new)\n"
     ]
    }
   ],
   "source": [
    "input_scm = scmdata.ScmRun(\n",
    "    clean_wg3_scenarios(test)\n",
    ")"
   ]
  },
  {
   "cell_type": "code",
   "execution_count": 25,
   "metadata": {},
   "outputs": [
    {
     "data": {
      "application/vnd.jupyter.widget-view+json": {
       "model_id": "c3fc13f150844089b2fc8a10abd5163c",
       "version_major": 2,
       "version_minor": 0
      },
      "text/plain": [
       "Climate models:   0%|          | 0.00/1.00 [00:00<?, ?it/s]"
      ]
     },
     "metadata": {},
     "output_type": "display_data"
    },
    {
     "name": "stderr",
     "output_type": "stream",
     "text": [
      "openscm_runner.adapters.magicc7.magicc7 - WARNING: Historical data has not been checked\n",
      "/home/gaurav/.conda/envs/cdr_climate_uncertainty/lib/python3.10/site-packages/openscm_units/_unit_registry.py:471: FutureWarning: iteritems is deprecated and will be removed in a future version. Use .items instead.\n",
      "  for label, val in metric_conversion.iteritems():\n"
     ]
    },
    {
     "data": {
      "application/vnd.jupyter.widget-view+json": {
       "model_id": "930de9ddc62e4c8195bc872ade4fa747",
       "version_major": 2,
       "version_minor": 0
      },
      "text/plain": [
       "Writing SCEN7 files:   0%|          | 0.00/1.00 [00:00<?, ?it/s]"
      ]
     },
     "metadata": {},
     "output_type": "display_data"
    },
    {
     "name": "stderr",
     "output_type": "stream",
     "text": [
      "openscm_runner.adapters.magicc7._run_magicc_parallel - INFO: Entered _parallel_magicc_compact_out\n",
      "openscm_runner.adapters.magicc7._run_magicc_parallel - INFO: Running in parallel with up to 16 workers\n"
     ]
    },
    {
     "data": {
      "application/vnd.jupyter.widget-view+json": {
       "model_id": "45fbafb7511a4ad987be6bf904847550",
       "version_major": 2,
       "version_minor": 0
      },
      "text/plain": [
       "Front serial:   0%|          | 0.00/1.00 [00:00<?, ?it/s]"
      ]
     },
     "metadata": {},
     "output_type": "display_data"
    },
    {
     "name": "stderr",
     "output_type": "stream",
     "text": [
      "openscm_runner.adapters.magicc7._magicc_instances - INFO: Creating new magicc instance: (7, 'MainProcess') - /tmp/gaurav/pymagicc-95gp76q5\n",
      "openscm_runner.adapters.magicc7._run_magicc_parallel - INFO: Setting up MAGICC worker in /tmp/gaurav/pymagicc-95gp76q5\n",
      "openscm_runner.adapters.magicc7._run_magicc_parallel - INFO: Writing Pymagicc compatible MAGCFG_USER.CFG in /tmp/gaurav/pymagicc-95gp76q5/run\n",
      "/home/gaurav/.conda/envs/cdr_climate_uncertainty/lib/python3.10/site-packages/pymagicc/core.py:387: UserWarning: Not reading file: DAT_HEATCONT_EBALANCE_SUBANN.BINOUT. Monthly data are not read in automatically by `run`. Use `MAGICCData` instead.\n",
      "  warnings.warn(\n",
      "/home/gaurav/.conda/envs/cdr_climate_uncertainty/lib/python3.10/site-packages/pymagicc/core.py:387: UserWarning: Not reading file: DAT_HEATUPTK_EBALANCE_SUBANN.BINOUT. Monthly data are not read in automatically by `run`. Use `MAGICCData` instead.\n",
      "  warnings.warn(\n"
     ]
    },
    {
     "data": {
      "application/vnd.jupyter.widget-view+json": {
       "model_id": "9d4b7d3908704a6c8613429d5821b572",
       "version_major": 2,
       "version_minor": 0
      },
      "text/plain": [
       "Front parallel: 0.00it [00:00, ?it/s]"
      ]
     },
     "metadata": {},
     "output_type": "display_data"
    },
    {
     "data": {
      "application/vnd.jupyter.widget-view+json": {
       "model_id": "c7478ae9f87b4546b798320fdecce99a",
       "version_major": 2,
       "version_minor": 0
      },
      "text/plain": [
       "Parallel runs: 0.00it [00:00, ?it/s]"
      ]
     },
     "metadata": {},
     "output_type": "display_data"
    },
    {
     "name": "stderr",
     "output_type": "stream",
     "text": [
      "openscm_runner.adapters.magicc7._run_magicc_parallel - INFO: Appending results into a single ScmRun\n",
      "openscm_runner.adapters.magicc7._magicc_instances - INFO: removing /tmp/gaurav/pymagicc-95gp76q5\n",
      "openscm_runner.adapters.magicc7._run_magicc_parallel - INFO: Shutting down parallel pool\n",
      "openscm_runner.run - INFO: Only one model run, returning its results\n"
     ]
    }
   ],
   "source": [
    "try:\n",
    "    temp_confirmation =  openscm_runner.run(\n",
    "        {'MAGICC7':config_for_run},\n",
    "        input_scm,\n",
    "        output_variables=[\n",
    "            'Surface Temperature'\n",
    "        ]\n",
    "    )\n",
    "    temp_proc = (\n",
    "        rebase_temperatures_wg3(\n",
    "            temp_confirmation\n",
    "        )\n",
    "        .timeseries()\n",
    "    )\n",
    "    temp_calibrate_2100 = temp_proc['2100-01-01'].values[0].round(2)\n",
    "except:\n",
    "    temp_calibrate_2100 = 1.5"
   ]
  },
  {
   "cell_type": "code",
   "execution_count": 26,
   "metadata": {},
   "outputs": [
    {
     "data": {
      "text/plain": [
       "<matplotlib.lines.Line2D at 0x7f6fe9491a80>"
      ]
     },
     "execution_count": 26,
     "metadata": {},
     "output_type": "execute_result"
    },
    {
     "data": {
      "image/png": "[encoded data removed]",
      "text/plain": [
       "<Figure size 640x480 with 1 Axes>"
      ]
     },
     "metadata": {},
     "output_type": "display_data"
    }
   ],
   "source": [
    "fig, ax = plt.subplots()\n",
    "\n",
    "metrics_small = metrics.loc[\n",
    "    (MODEL, SCENARIO, ENSEMBLE_MEMBER),\n",
    "]\n",
    "\n",
    "ax.bar(x=0, height=metrics_small['peak_warming'], width=0.1)\n",
    "ax.bar(x=0.3, height=metrics_small['2100_warming'], width=0.1)\n",
    "ax.bar(x=0.6, height=temp_calibrate_2100, width=0.1)\n",
    "ax.axhline(1.5, color='black')"
   ]
  },
  {
   "cell_type": "markdown",
   "metadata": {},
   "source": [
    "Step 7: Now that we know the direction (whether above or below), we now need a few calibration runs to get to the correct direction."
   ]
  },
  {
   "cell_type": "code",
   "execution_count": 27,
   "metadata": {},
   "outputs": [
    {
     "name": "stdout",
     "output_type": "stream",
     "text": [
      "0.040000000000000036\n"
     ]
    }
   ],
   "source": [
    "deviation = temp_calibrate_2100 - 1.5\n",
    "print(deviation)"
   ]
  },
  {
   "cell_type": "code",
   "execution_count": 28,
   "metadata": {},
   "outputs": [],
   "source": [
    "def return_temperature_deviation(input_emissions):\n",
    "    # Step 1: Run this through the simple climate model\n",
    "    temperatures = openscm_runner.run(\n",
    "        {'MAGICC7':config_for_run},\n",
    "        input_emissions,\n",
    "        output_variables=[\n",
    "            'Surface Temperature'\n",
    "        ]    \n",
    "    )\n",
    "    # Step 2: Rebase to 1850-1900 and return the 2100 value deviation\n",
    "    temperatures_rebased = (\n",
    "        rebase_temperatures_wg3(temperatures)\n",
    "    )\n",
    "    temp_2100 = (\n",
    "        temperatures_rebased\n",
    "        .timeseries()['2100-01-01']\n",
    "        .values[0]\n",
    "    )\n",
    "    # Step 3: Return the deviation\n",
    "    return temp_2100 - 1.5"
   ]
  },
  {
   "cell_type": "code",
   "execution_count": 29,
   "metadata": {},
   "outputs": [],
   "source": [
    "novel_cdr_for_iteration.angle[0]\n",
    "if deviation < 0:\n",
    "    calibrate_type = 'reduce'\n",
    "elif deviation > 0:\n",
    "    calibrate_type = 'increase'\n",
    "else:\n",
    "    calibrate_type = 'none'"
   ]
  },
  {
   "cell_type": "code",
   "execution_count": 30,
   "metadata": {},
   "outputs": [
    {
     "data": {
      "text/plain": [
       "<class 'pyam.core.IamDataFrame'>\n",
       "Index:\n",
       " * model           : REMIND-MAgPIE 2.1-4.3 (1)\n",
       " * scenario        : DeepElec_SSP2_ HighRE_Budg900 (1)\n",
       "Timeseries data coordinates:\n",
       "   region          : World (1)\n",
       "   variable        : Carbon Dioxide Removal|Novel (1)\n",
       "   unit            : Mt CO2/yr (1)\n",
       "   angle           : 89.47751885380038 (1)\n",
       "   ensemble_member : 4 (1)\n",
       "   year            : 2005, 2010, 2015, 2016, 2017, 2018, 2019, ... 2100 (88)\n",
       "Meta indicators:\n",
       "   exclude (bool) False (1)\n",
       "   netzero|CO2 (int64) 2057 (1)"
      ]
     },
     "execution_count": 30,
     "metadata": {},
     "output_type": "execute_result"
    }
   ],
   "source": [
    "novel_cdr_for_iteration"
   ]
  },
  {
   "cell_type": "code",
   "execution_count": 31,
   "metadata": {},
   "outputs": [],
   "source": [
    "novel_cdr_original_filtered.meta = novel_cdr_for_iteration.meta"
   ]
  },
  {
   "cell_type": "code",
   "execution_count": 32,
   "metadata": {},
   "outputs": [],
   "source": [
    "def initial_calibration(\n",
    "        emissions,\n",
    "        cdr_first_guess,\n",
    "        angle_first_guess,\n",
    "        current_deviation\n",
    "):\n",
    "    # Step 1: Create a dictionary to store the calibrations\n",
    "    calibration = {}\n",
    "    emissions_copy = copy.deepcopy(emissions)\n",
    "    cdr = copy.deepcopy(cdr_first_guess)\n",
    "    # Step 2: Determine walk direction\n",
    "    if current_deviation > 0:\n",
    "        new_deviation = current_deviation\n",
    "        step_size=0.5\n",
    "        while new_deviation > 0:\n",
    "            new_angle = angle_first_guess + step_size\n",
    "            print(new_deviation, new_angle)\n",
    "            if new_angle > 91:\n",
    "                break\n",
    "            new_cdr, _ = rotate_and_calc_cumulative(\n",
    "                cdr,\n",
    "                new_angle\n",
    "            )\n",
    "            new_emissions = (\n",
    "                scmdata.ScmRun(\n",
    "                    clean_wg3_scenarios(\n",
    "                        construct_new_emissions_dataframe(\n",
    "                            emissions_copy,\n",
    "                            process_novel_cdr(new_cdr, cdr.meta['netzero|CO2'].values[0])\n",
    "                        )\n",
    "                    \n",
    "                    )\n",
    "                )\n",
    "            )\n",
    "            new_deviation = return_temperature_deviation(new_emissions)\n",
    "            calibration[new_angle] = new_deviation\n",
    "            step_size += step_size\n",
    "    elif current_deviation < 0:\n",
    "        step_size=5\n",
    "        new_deviation = current_deviation\n",
    "        while new_deviation < 0:\n",
    "            new_angle = angle_first_guess - step_size\n",
    "            if new_angle < 0:\n",
    "                break\n",
    "            print(new_deviation, new_angle)\n",
    "            new_cdr, _ = rotate_and_calc_cumulative(\n",
    "                cdr,\n",
    "                new_angle\n",
    "            )\n",
    "            new_emissions = (\n",
    "                scmdata.ScmRun(\n",
    "                    clean_wg3_scenarios(\n",
    "                        construct_new_emissions_dataframe(\n",
    "                            emissions_copy,\n",
    "                            process_novel_cdr(new_cdr, cdr.meta['netzero|CO2'].values[0])\n",
    "                        )\n",
    "                    \n",
    "                    )\n",
    "                )\n",
    "            )\n",
    "            new_deviation = return_temperature_deviation(new_emissions)\n",
    "            calibration[new_angle] = new_deviation\n",
    "            step_size += step_size\n",
    "    return pd.DataFrame(\n",
    "        calibration.items(),\n",
    "        columns=['angle', 'deviation']\n",
    "    )"
   ]
  },
  {
   "cell_type": "code",
   "execution_count": 33,
   "metadata": {},
   "outputs": [
    {
     "name": "stdout",
     "output_type": "stream",
     "text": [
      "0.040000000000000036 89.97751885380038\n"
     ]
    },
    {
     "name": "stderr",
     "output_type": "stream",
     "text": [
      "/home/gaurav/.conda/envs/cdr_climate_uncertainty/lib/python3.10/site-packages/climate_assessment/climate/wg3.py:42: FutureWarning: The default value of regex will change from True to False in a future version.\n",
      "  df_clean[\"variable\"] = df_clean[\"variable\"].str.replace(old, new)\n"
     ]
    },
    {
     "data": {
      "application/vnd.jupyter.widget-view+json": {
       "model_id": "29aff3858c284154aff83654f1a70b08",
       "version_major": 2,
       "version_minor": 0
      },
      "text/plain": [
       "Climate models:   0%|          | 0.00/1.00 [00:00<?, ?it/s]"
      ]
     },
     "metadata": {},
     "output_type": "display_data"
    },
    {
     "name": "stderr",
     "output_type": "stream",
     "text": [
      "openscm_runner.adapters.magicc7.magicc7 - WARNING: Historical data has not been checked\n"
     ]
    },
    {
     "data": {
      "application/vnd.jupyter.widget-view+json": {
       "model_id": "a62493ab9f5a42d8b95e2b05f3ff5dd6",
       "version_major": 2,
       "version_minor": 0
      },
      "text/plain": [
       "Writing SCEN7 files:   0%|          | 0.00/1.00 [00:00<?, ?it/s]"
      ]
     },
     "metadata": {},
     "output_type": "display_data"
    },
    {
     "name": "stderr",
     "output_type": "stream",
     "text": [
      "openscm_runner.adapters.magicc7._run_magicc_parallel - INFO: Entered _parallel_magicc_compact_out\n",
      "openscm_runner.adapters.magicc7._run_magicc_parallel - INFO: Running in parallel with up to 16 workers\n"
     ]
    },
    {
     "data": {
      "application/vnd.jupyter.widget-view+json": {
       "model_id": "9b3fee188c7b4cb98e27102645ba72bf",
       "version_major": 2,
       "version_minor": 0
      },
      "text/plain": [
       "Front serial:   0%|          | 0.00/1.00 [00:00<?, ?it/s]"
      ]
     },
     "metadata": {},
     "output_type": "display_data"
    },
    {
     "name": "stderr",
     "output_type": "stream",
     "text": [
      "openscm_runner.adapters.magicc7._magicc_instances - INFO: Creating new magicc instance: (7, 'MainProcess') - /tmp/gaurav/pymagicc-vnn1w80h\n",
      "openscm_runner.adapters.magicc7._run_magicc_parallel - INFO: Setting up MAGICC worker in /tmp/gaurav/pymagicc-vnn1w80h\n",
      "openscm_runner.adapters.magicc7._run_magicc_parallel - INFO: Writing Pymagicc compatible MAGCFG_USER.CFG in /tmp/gaurav/pymagicc-vnn1w80h/run\n",
      "/home/gaurav/.conda/envs/cdr_climate_uncertainty/lib/python3.10/site-packages/pymagicc/core.py:387: UserWarning: Not reading file: DAT_HEATCONT_EBALANCE_SUBANN.BINOUT. Monthly data are not read in automatically by `run`. Use `MAGICCData` instead.\n",
      "  warnings.warn(\n",
      "/home/gaurav/.conda/envs/cdr_climate_uncertainty/lib/python3.10/site-packages/pymagicc/core.py:387: UserWarning: Not reading file: DAT_HEATUPTK_EBALANCE_SUBANN.BINOUT. Monthly data are not read in automatically by `run`. Use `MAGICCData` instead.\n",
      "  warnings.warn(\n"
     ]
    },
    {
     "data": {
      "application/vnd.jupyter.widget-view+json": {
       "model_id": "1054d62f9aa84cf389157af1721eb494",
       "version_major": 2,
       "version_minor": 0
      },
      "text/plain": [
       "Front parallel: 0.00it [00:00, ?it/s]"
      ]
     },
     "metadata": {},
     "output_type": "display_data"
    },
    {
     "data": {
      "application/vnd.jupyter.widget-view+json": {
       "model_id": "bee83f6a1e0c4a0bbd187b40305d8cb5",
       "version_major": 2,
       "version_minor": 0
      },
      "text/plain": [
       "Parallel runs: 0.00it [00:00, ?it/s]"
      ]
     },
     "metadata": {},
     "output_type": "display_data"
    },
    {
     "name": "stderr",
     "output_type": "stream",
     "text": [
      "openscm_runner.adapters.magicc7._run_magicc_parallel - INFO: Appending results into a single ScmRun\n",
      "openscm_runner.adapters.magicc7._magicc_instances - INFO: removing /tmp/gaurav/pymagicc-vnn1w80h\n",
      "openscm_runner.adapters.magicc7._run_magicc_parallel - INFO: Shutting down parallel pool\n",
      "openscm_runner.run - INFO: Only one model run, returning its results\n"
     ]
    },
    {
     "name": "stdout",
     "output_type": "stream",
     "text": [
      "       angle  deviation\n",
      "0  89.977519  -1.194909\n"
     ]
    }
   ],
   "source": [
    "try:\n",
    "    initial_calibration_set = initial_calibration(\n",
    "        emissions_for_iteration,\n",
    "        novel_cdr_original_filtered,\n",
    "        novel_cdr_for_iteration.angle[0],\n",
    "        current_deviation=deviation,\n",
    "    )\n",
    "    print(initial_calibration_set)\n",
    "except:\n",
    "    print('Proceeding without initial calibration')"
   ]
  },
  {
   "cell_type": "code",
   "execution_count": 34,
   "metadata": {},
   "outputs": [],
   "source": [
    "def objective(angle, emissions, cdr_first_guess):\n",
    "    # Step 1: Get the new CDR pathway\n",
    "    new_cdr, _ = rotate_and_calc_cumulative(\n",
    "        cdr_first_guess,\n",
    "        angle\n",
    "    )\n",
    "    # Step 2: Get the new emissions pathway\n",
    "    new_emissions = (\n",
    "        scmdata.ScmRun(\n",
    "            clean_wg3_scenarios(\n",
    "                construct_new_emissions_dataframe(\n",
    "                    emissions,\n",
    "                    process_novel_cdr(new_cdr, cdr_first_guess.meta['netzero|CO2'].values[0])\n",
    "                )        \n",
    "            )\n",
    "        )\n",
    "    )\n",
    "    new_deviation = abs(return_temperature_deviation(new_emissions))\n",
    "    time.sleep(0.5)\n",
    "    return new_deviation"
   ]
  },
  {
   "cell_type": "code",
   "execution_count": 35,
   "metadata": {},
   "outputs": [
    {
     "data": {
      "text/plain": [
       "89.47751885380038"
      ]
     },
     "execution_count": 35,
     "metadata": {},
     "output_type": "execute_result"
    }
   ],
   "source": [
    "novel_cdr_for_iteration.angle[0]"
   ]
  },
  {
   "cell_type": "code",
   "execution_count": 36,
   "metadata": {},
   "outputs": [],
   "source": [
    "if calibrate_type == 'increase':\n",
    "    try: max_angle = min(90, initial_calibration_set.iloc[-1]['angle'])\n",
    "    except: max_angle=90\n",
    "    bounds = (novel_cdr_for_iteration.angle[0], max_angle)\n",
    "elif calibrate_type == 'reduce':\n",
    "    try: min_angle = max(0, initial_calibration_set.iloc[-1]['angle'])\n",
    "    except: min_angle=0\n",
    "    bounds = (min_angle, novel_cdr_for_iteration.angle[0])\n",
    "elif calibrate_type == 'none':\n",
    "    bounds = (novel_cdr_for_iteration.angle[0], novel_cdr_for_iteration.angle[0]) # Catch the issue where deviation is 0"
   ]
  },
  {
   "cell_type": "code",
   "execution_count": 37,
   "metadata": {},
   "outputs": [
    {
     "data": {
      "text/plain": [
       "(89.47751885380038, 89.97751885380038)"
      ]
     },
     "execution_count": 37,
     "metadata": {},
     "output_type": "execute_result"
    }
   ],
   "source": [
    "bounds"
   ]
  },
  {
   "cell_type": "markdown",
   "metadata": {},
   "source": [
    "try:\n",
    "    max_angle = min(90, initial_calibration_set.iloc[-1]['angle'])\n",
    "except: max_angle=90"
   ]
  },
  {
   "cell_type": "code",
   "execution_count": 38,
   "metadata": {},
   "outputs": [
    {
     "name": "stderr",
     "output_type": "stream",
     "text": [
      "/home/gaurav/.conda/envs/cdr_climate_uncertainty/lib/python3.10/site-packages/climate_assessment/climate/wg3.py:42: FutureWarning: The default value of regex will change from True to False in a future version.\n",
      "  df_clean[\"variable\"] = df_clean[\"variable\"].str.replace(old, new)\n"
     ]
    },
    {
     "data": {
      "application/vnd.jupyter.widget-view+json": {
       "model_id": "74cd1705f9344c73bc44d318c2f9aed5",
       "version_major": 2,
       "version_minor": 0
      },
      "text/plain": [
       "Climate models:   0%|          | 0.00/1.00 [00:00<?, ?it/s]"
      ]
     },
     "metadata": {},
     "output_type": "display_data"
    },
    {
     "name": "stderr",
     "output_type": "stream",
     "text": [
      "openscm_runner.adapters.magicc7.magicc7 - WARNING: Historical data has not been checked\n"
     ]
    },
    {
     "data": {
      "application/vnd.jupyter.widget-view+json": {
       "model_id": "daae3de64d1b4daa8414f2bda7bea47e",
       "version_major": 2,
       "version_minor": 0
      },
      "text/plain": [
       "Writing SCEN7 files:   0%|          | 0.00/1.00 [00:00<?, ?it/s]"
      ]
     },
     "metadata": {},
     "output_type": "display_data"
    },
    {
     "name": "stderr",
     "output_type": "stream",
     "text": [
      "openscm_runner.adapters.magicc7._run_magicc_parallel - INFO: Entered _parallel_magicc_compact_out\n",
      "openscm_runner.adapters.magicc7._run_magicc_parallel - INFO: Running in parallel with up to 16 workers\n"
     ]
    },
    {
     "data": {
      "application/vnd.jupyter.widget-view+json": {
       "model_id": "cc38f0764081407c9dfcaa52b37dc450",
       "version_major": 2,
       "version_minor": 0
      },
      "text/plain": [
       "Front serial:   0%|          | 0.00/1.00 [00:00<?, ?it/s]"
      ]
     },
     "metadata": {},
     "output_type": "display_data"
    },
    {
     "name": "stderr",
     "output_type": "stream",
     "text": [
      "openscm_runner.adapters.magicc7._magicc_instances - INFO: Creating new magicc instance: (7, 'MainProcess') - /tmp/gaurav/pymagicc-iim408am\n",
      "openscm_runner.adapters.magicc7._run_magicc_parallel - INFO: Setting up MAGICC worker in /tmp/gaurav/pymagicc-iim408am\n",
      "openscm_runner.adapters.magicc7._run_magicc_parallel - INFO: Writing Pymagicc compatible MAGCFG_USER.CFG in /tmp/gaurav/pymagicc-iim408am/run\n",
      "/home/gaurav/.conda/envs/cdr_climate_uncertainty/lib/python3.10/site-packages/pymagicc/core.py:387: UserWarning: Not reading file: DAT_HEATCONT_EBALANCE_SUBANN.BINOUT. Monthly data are not read in automatically by `run`. Use `MAGICCData` instead.\n",
      "  warnings.warn(\n",
      "/home/gaurav/.conda/envs/cdr_climate_uncertainty/lib/python3.10/site-packages/pymagicc/core.py:387: UserWarning: Not reading file: DAT_HEATUPTK_EBALANCE_SUBANN.BINOUT. Monthly data are not read in automatically by `run`. Use `MAGICCData` instead.\n",
      "  warnings.warn(\n"
     ]
    },
    {
     "data": {
      "application/vnd.jupyter.widget-view+json": {
       "model_id": "19c7f162c46941d698a7dbeb37bf1e7f",
       "version_major": 2,
       "version_minor": 0
      },
      "text/plain": [
       "Front parallel: 0.00it [00:00, ?it/s]"
      ]
     },
     "metadata": {},
     "output_type": "display_data"
    },
    {
     "data": {
      "application/vnd.jupyter.widget-view+json": {
       "model_id": "95c43bcd599a4069bb20b186a0f910ff",
       "version_major": 2,
       "version_minor": 0
      },
      "text/plain": [
       "Parallel runs: 0.00it [00:00, ?it/s]"
      ]
     },
     "metadata": {},
     "output_type": "display_data"
    },
    {
     "name": "stderr",
     "output_type": "stream",
     "text": [
      "openscm_runner.adapters.magicc7._run_magicc_parallel - INFO: Appending results into a single ScmRun\n",
      "openscm_runner.adapters.magicc7._magicc_instances - INFO: removing /tmp/gaurav/pymagicc-iim408am\n",
      "openscm_runner.adapters.magicc7._run_magicc_parallel - INFO: Shutting down parallel pool\n",
      "openscm_runner.run - INFO: Only one model run, returning its results\n",
      "/home/gaurav/.conda/envs/cdr_climate_uncertainty/lib/python3.10/site-packages/climate_assessment/climate/wg3.py:42: FutureWarning: The default value of regex will change from True to False in a future version.\n",
      "  df_clean[\"variable\"] = df_clean[\"variable\"].str.replace(old, new)\n"
     ]
    },
    {
     "data": {
      "application/vnd.jupyter.widget-view+json": {
       "model_id": "b76bbd19931946bdbdfcc055e240da78",
       "version_major": 2,
       "version_minor": 0
      },
      "text/plain": [
       "Climate models:   0%|          | 0.00/1.00 [00:00<?, ?it/s]"
      ]
     },
     "metadata": {},
     "output_type": "display_data"
    },
    {
     "name": "stderr",
     "output_type": "stream",
     "text": [
      "openscm_runner.adapters.magicc7.magicc7 - WARNING: Historical data has not been checked\n"
     ]
    },
    {
     "data": {
      "application/vnd.jupyter.widget-view+json": {
       "model_id": "5fa5e3e92a7e4bae9a86c983cd0b2aab",
       "version_major": 2,
       "version_minor": 0
      },
      "text/plain": [
       "Writing SCEN7 files:   0%|          | 0.00/1.00 [00:00<?, ?it/s]"
      ]
     },
     "metadata": {},
     "output_type": "display_data"
    },
    {
     "name": "stderr",
     "output_type": "stream",
     "text": [
      "openscm_runner.adapters.magicc7._run_magicc_parallel - INFO: Entered _parallel_magicc_compact_out\n",
      "openscm_runner.adapters.magicc7._run_magicc_parallel - INFO: Running in parallel with up to 16 workers\n"
     ]
    },
    {
     "data": {
      "application/vnd.jupyter.widget-view+json": {
       "model_id": "3f09f47227b740e8943a54a7065f318e",
       "version_major": 2,
       "version_minor": 0
      },
      "text/plain": [
       "Front serial:   0%|          | 0.00/1.00 [00:00<?, ?it/s]"
      ]
     },
     "metadata": {},
     "output_type": "display_data"
    },
    {
     "name": "stderr",
     "output_type": "stream",
     "text": [
      "openscm_runner.adapters.magicc7._magicc_instances - INFO: Creating new magicc instance: (7, 'MainProcess') - /tmp/gaurav/pymagicc-0myop9nr\n",
      "openscm_runner.adapters.magicc7._run_magicc_parallel - INFO: Setting up MAGICC worker in /tmp/gaurav/pymagicc-0myop9nr\n",
      "openscm_runner.adapters.magicc7._run_magicc_parallel - INFO: Writing Pymagicc compatible MAGCFG_USER.CFG in /tmp/gaurav/pymagicc-0myop9nr/run\n",
      "/home/gaurav/.conda/envs/cdr_climate_uncertainty/lib/python3.10/site-packages/pymagicc/core.py:387: UserWarning: Not reading file: DAT_HEATCONT_EBALANCE_SUBANN.BINOUT. Monthly data are not read in automatically by `run`. Use `MAGICCData` instead.\n",
      "  warnings.warn(\n",
      "/home/gaurav/.conda/envs/cdr_climate_uncertainty/lib/python3.10/site-packages/pymagicc/core.py:387: UserWarning: Not reading file: DAT_HEATUPTK_EBALANCE_SUBANN.BINOUT. Monthly data are not read in automatically by `run`. Use `MAGICCData` instead.\n",
      "  warnings.warn(\n"
     ]
    },
    {
     "data": {
      "application/vnd.jupyter.widget-view+json": {
       "model_id": "0f724d7ea86f4c46a6c8cdf10259a1e0",
       "version_major": 2,
       "version_minor": 0
      },
      "text/plain": [
       "Front parallel: 0.00it [00:00, ?it/s]"
      ]
     },
     "metadata": {},
     "output_type": "display_data"
    },
    {
     "data": {
      "application/vnd.jupyter.widget-view+json": {
       "model_id": "540e392da5364e72aa166e4b8854541b",
       "version_major": 2,
       "version_minor": 0
      },
      "text/plain": [
       "Parallel runs: 0.00it [00:00, ?it/s]"
      ]
     },
     "metadata": {},
     "output_type": "display_data"
    },
    {
     "name": "stderr",
     "output_type": "stream",
     "text": [
      "openscm_runner.adapters.magicc7._run_magicc_parallel - INFO: Appending results into a single ScmRun\n",
      "openscm_runner.adapters.magicc7._magicc_instances - INFO: removing /tmp/gaurav/pymagicc-0myop9nr\n",
      "openscm_runner.adapters.magicc7._run_magicc_parallel - INFO: Shutting down parallel pool\n",
      "openscm_runner.run - INFO: Only one model run, returning its results\n",
      "/home/gaurav/.conda/envs/cdr_climate_uncertainty/lib/python3.10/site-packages/climate_assessment/climate/wg3.py:42: FutureWarning: The default value of regex will change from True to False in a future version.\n",
      "  df_clean[\"variable\"] = df_clean[\"variable\"].str.replace(old, new)\n"
     ]
    },
    {
     "data": {
      "application/vnd.jupyter.widget-view+json": {
       "model_id": "5fb3d9838014414f96745c2230ef2310",
       "version_major": 2,
       "version_minor": 0
      },
      "text/plain": [
       "Climate models:   0%|          | 0.00/1.00 [00:00<?, ?it/s]"
      ]
     },
     "metadata": {},
     "output_type": "display_data"
    },
    {
     "name": "stderr",
     "output_type": "stream",
     "text": [
      "openscm_runner.adapters.magicc7.magicc7 - WARNING: Historical data has not been checked\n"
     ]
    },
    {
     "data": {
      "application/vnd.jupyter.widget-view+json": {
       "model_id": "33ac429a8f71431eb8737ccfecd0deb2",
       "version_major": 2,
       "version_minor": 0
      },
      "text/plain": [
       "Writing SCEN7 files:   0%|          | 0.00/1.00 [00:00<?, ?it/s]"
      ]
     },
     "metadata": {},
     "output_type": "display_data"
    },
    {
     "name": "stderr",
     "output_type": "stream",
     "text": [
      "openscm_runner.adapters.magicc7._run_magicc_parallel - INFO: Entered _parallel_magicc_compact_out\n",
      "openscm_runner.adapters.magicc7._run_magicc_parallel - INFO: Running in parallel with up to 16 workers\n"
     ]
    },
    {
     "data": {
      "application/vnd.jupyter.widget-view+json": {
       "model_id": "814142fe734c4af29825a15d1bd989cd",
       "version_major": 2,
       "version_minor": 0
      },
      "text/plain": [
       "Front serial:   0%|          | 0.00/1.00 [00:00<?, ?it/s]"
      ]
     },
     "metadata": {},
     "output_type": "display_data"
    },
    {
     "name": "stderr",
     "output_type": "stream",
     "text": [
      "openscm_runner.adapters.magicc7._magicc_instances - INFO: Creating new magicc instance: (7, 'MainProcess') - /tmp/gaurav/pymagicc-474rv7od\n",
      "openscm_runner.adapters.magicc7._run_magicc_parallel - INFO: Setting up MAGICC worker in /tmp/gaurav/pymagicc-474rv7od\n",
      "openscm_runner.adapters.magicc7._run_magicc_parallel - INFO: Writing Pymagicc compatible MAGCFG_USER.CFG in /tmp/gaurav/pymagicc-474rv7od/run\n",
      "/home/gaurav/.conda/envs/cdr_climate_uncertainty/lib/python3.10/site-packages/pymagicc/core.py:387: UserWarning: Not reading file: DAT_HEATCONT_EBALANCE_SUBANN.BINOUT. Monthly data are not read in automatically by `run`. Use `MAGICCData` instead.\n",
      "  warnings.warn(\n",
      "/home/gaurav/.conda/envs/cdr_climate_uncertainty/lib/python3.10/site-packages/pymagicc/core.py:387: UserWarning: Not reading file: DAT_HEATUPTK_EBALANCE_SUBANN.BINOUT. Monthly data are not read in automatically by `run`. Use `MAGICCData` instead.\n",
      "  warnings.warn(\n"
     ]
    },
    {
     "data": {
      "application/vnd.jupyter.widget-view+json": {
       "model_id": "96de9b9daa2747fea7d3be9a2a3aaa22",
       "version_major": 2,
       "version_minor": 0
      },
      "text/plain": [
       "Front parallel: 0.00it [00:00, ?it/s]"
      ]
     },
     "metadata": {},
     "output_type": "display_data"
    },
    {
     "data": {
      "application/vnd.jupyter.widget-view+json": {
       "model_id": "f270547ce86848f9addd5c758767b260",
       "version_major": 2,
       "version_minor": 0
      },
      "text/plain": [
       "Parallel runs: 0.00it [00:00, ?it/s]"
      ]
     },
     "metadata": {},
     "output_type": "display_data"
    },
    {
     "name": "stderr",
     "output_type": "stream",
     "text": [
      "openscm_runner.adapters.magicc7._run_magicc_parallel - INFO: Appending results into a single ScmRun\n",
      "openscm_runner.adapters.magicc7._magicc_instances - INFO: removing /tmp/gaurav/pymagicc-474rv7od\n",
      "openscm_runner.adapters.magicc7._run_magicc_parallel - INFO: Shutting down parallel pool\n",
      "openscm_runner.run - INFO: Only one model run, returning its results\n",
      "/home/gaurav/.conda/envs/cdr_climate_uncertainty/lib/python3.10/site-packages/climate_assessment/climate/wg3.py:42: FutureWarning: The default value of regex will change from True to False in a future version.\n",
      "  df_clean[\"variable\"] = df_clean[\"variable\"].str.replace(old, new)\n"
     ]
    },
    {
     "data": {
      "application/vnd.jupyter.widget-view+json": {
       "model_id": "79c98e9989aa422cb01c807982475e1b",
       "version_major": 2,
       "version_minor": 0
      },
      "text/plain": [
       "Climate models:   0%|          | 0.00/1.00 [00:00<?, ?it/s]"
      ]
     },
     "metadata": {},
     "output_type": "display_data"
    },
    {
     "name": "stderr",
     "output_type": "stream",
     "text": [
      "openscm_runner.adapters.magicc7.magicc7 - WARNING: Historical data has not been checked\n"
     ]
    },
    {
     "data": {
      "application/vnd.jupyter.widget-view+json": {
       "model_id": "f8c1c418969d4896a2ce8a6d12f04a5b",
       "version_major": 2,
       "version_minor": 0
      },
      "text/plain": [
       "Writing SCEN7 files:   0%|          | 0.00/1.00 [00:00<?, ?it/s]"
      ]
     },
     "metadata": {},
     "output_type": "display_data"
    },
    {
     "name": "stderr",
     "output_type": "stream",
     "text": [
      "openscm_runner.adapters.magicc7._run_magicc_parallel - INFO: Entered _parallel_magicc_compact_out\n",
      "openscm_runner.adapters.magicc7._run_magicc_parallel - INFO: Running in parallel with up to 16 workers\n"
     ]
    },
    {
     "data": {
      "application/vnd.jupyter.widget-view+json": {
       "model_id": "0542dc29ceda4347b8d6307b7675c767",
       "version_major": 2,
       "version_minor": 0
      },
      "text/plain": [
       "Front serial:   0%|          | 0.00/1.00 [00:00<?, ?it/s]"
      ]
     },
     "metadata": {},
     "output_type": "display_data"
    },
    {
     "name": "stderr",
     "output_type": "stream",
     "text": [
      "openscm_runner.adapters.magicc7._magicc_instances - INFO: Creating new magicc instance: (7, 'MainProcess') - /tmp/gaurav/pymagicc-txjroic6\n",
      "openscm_runner.adapters.magicc7._run_magicc_parallel - INFO: Setting up MAGICC worker in /tmp/gaurav/pymagicc-txjroic6\n",
      "openscm_runner.adapters.magicc7._run_magicc_parallel - INFO: Writing Pymagicc compatible MAGCFG_USER.CFG in /tmp/gaurav/pymagicc-txjroic6/run\n",
      "/home/gaurav/.conda/envs/cdr_climate_uncertainty/lib/python3.10/site-packages/pymagicc/core.py:387: UserWarning: Not reading file: DAT_HEATCONT_EBALANCE_SUBANN.BINOUT. Monthly data are not read in automatically by `run`. Use `MAGICCData` instead.\n",
      "  warnings.warn(\n",
      "/home/gaurav/.conda/envs/cdr_climate_uncertainty/lib/python3.10/site-packages/pymagicc/core.py:387: UserWarning: Not reading file: DAT_HEATUPTK_EBALANCE_SUBANN.BINOUT. Monthly data are not read in automatically by `run`. Use `MAGICCData` instead.\n",
      "  warnings.warn(\n"
     ]
    },
    {
     "data": {
      "application/vnd.jupyter.widget-view+json": {
       "model_id": "c2b6a92c0f834ea4812e4b663f8eb35d",
       "version_major": 2,
       "version_minor": 0
      },
      "text/plain": [
       "Front parallel: 0.00it [00:00, ?it/s]"
      ]
     },
     "metadata": {},
     "output_type": "display_data"
    },
    {
     "data": {
      "application/vnd.jupyter.widget-view+json": {
       "model_id": "8b4729525d214addb26880d688766f44",
       "version_major": 2,
       "version_minor": 0
      },
      "text/plain": [
       "Parallel runs: 0.00it [00:00, ?it/s]"
      ]
     },
     "metadata": {},
     "output_type": "display_data"
    },
    {
     "name": "stderr",
     "output_type": "stream",
     "text": [
      "openscm_runner.adapters.magicc7._run_magicc_parallel - INFO: Appending results into a single ScmRun\n",
      "openscm_runner.adapters.magicc7._magicc_instances - INFO: removing /tmp/gaurav/pymagicc-txjroic6\n",
      "openscm_runner.adapters.magicc7._run_magicc_parallel - INFO: Shutting down parallel pool\n",
      "openscm_runner.run - INFO: Only one model run, returning its results\n",
      "/home/gaurav/.conda/envs/cdr_climate_uncertainty/lib/python3.10/site-packages/climate_assessment/climate/wg3.py:42: FutureWarning: The default value of regex will change from True to False in a future version.\n",
      "  df_clean[\"variable\"] = df_clean[\"variable\"].str.replace(old, new)\n"
     ]
    },
    {
     "data": {
      "application/vnd.jupyter.widget-view+json": {
       "model_id": "acf5ad69571847fb8b6f1b9771167fba",
       "version_major": 2,
       "version_minor": 0
      },
      "text/plain": [
       "Climate models:   0%|          | 0.00/1.00 [00:00<?, ?it/s]"
      ]
     },
     "metadata": {},
     "output_type": "display_data"
    },
    {
     "name": "stderr",
     "output_type": "stream",
     "text": [
      "openscm_runner.adapters.magicc7.magicc7 - WARNING: Historical data has not been checked\n"
     ]
    },
    {
     "data": {
      "application/vnd.jupyter.widget-view+json": {
       "model_id": "8c1b2baba60c4b4582834e1d56b97e94",
       "version_major": 2,
       "version_minor": 0
      },
      "text/plain": [
       "Writing SCEN7 files:   0%|          | 0.00/1.00 [00:00<?, ?it/s]"
      ]
     },
     "metadata": {},
     "output_type": "display_data"
    },
    {
     "name": "stderr",
     "output_type": "stream",
     "text": [
      "openscm_runner.adapters.magicc7._run_magicc_parallel - INFO: Entered _parallel_magicc_compact_out\n",
      "openscm_runner.adapters.magicc7._run_magicc_parallel - INFO: Running in parallel with up to 16 workers\n"
     ]
    },
    {
     "data": {
      "application/vnd.jupyter.widget-view+json": {
       "model_id": "be0d4d6322974955a0cb9b3c4609e05e",
       "version_major": 2,
       "version_minor": 0
      },
      "text/plain": [
       "Front serial:   0%|          | 0.00/1.00 [00:00<?, ?it/s]"
      ]
     },
     "metadata": {},
     "output_type": "display_data"
    },
    {
     "name": "stderr",
     "output_type": "stream",
     "text": [
      "openscm_runner.adapters.magicc7._magicc_instances - INFO: Creating new magicc instance: (7, 'MainProcess') - /tmp/gaurav/pymagicc-ep0b61hx\n",
      "openscm_runner.adapters.magicc7._run_magicc_parallel - INFO: Setting up MAGICC worker in /tmp/gaurav/pymagicc-ep0b61hx\n",
      "openscm_runner.adapters.magicc7._run_magicc_parallel - INFO: Writing Pymagicc compatible MAGCFG_USER.CFG in /tmp/gaurav/pymagicc-ep0b61hx/run\n",
      "/home/gaurav/.conda/envs/cdr_climate_uncertainty/lib/python3.10/site-packages/pymagicc/core.py:387: UserWarning: Not reading file: DAT_HEATCONT_EBALANCE_SUBANN.BINOUT. Monthly data are not read in automatically by `run`. Use `MAGICCData` instead.\n",
      "  warnings.warn(\n",
      "/home/gaurav/.conda/envs/cdr_climate_uncertainty/lib/python3.10/site-packages/pymagicc/core.py:387: UserWarning: Not reading file: DAT_HEATUPTK_EBALANCE_SUBANN.BINOUT. Monthly data are not read in automatically by `run`. Use `MAGICCData` instead.\n",
      "  warnings.warn(\n"
     ]
    },
    {
     "data": {
      "application/vnd.jupyter.widget-view+json": {
       "model_id": "313981a4b0ac44efb3db6d9642e2b506",
       "version_major": 2,
       "version_minor": 0
      },
      "text/plain": [
       "Front parallel: 0.00it [00:00, ?it/s]"
      ]
     },
     "metadata": {},
     "output_type": "display_data"
    },
    {
     "data": {
      "application/vnd.jupyter.widget-view+json": {
       "model_id": "5c87c7f7fd4e4dda89cb90001f406998",
       "version_major": 2,
       "version_minor": 0
      },
      "text/plain": [
       "Parallel runs: 0.00it [00:00, ?it/s]"
      ]
     },
     "metadata": {},
     "output_type": "display_data"
    },
    {
     "name": "stderr",
     "output_type": "stream",
     "text": [
      "openscm_runner.adapters.magicc7._run_magicc_parallel - INFO: Appending results into a single ScmRun\n",
      "openscm_runner.adapters.magicc7._magicc_instances - INFO: removing /tmp/gaurav/pymagicc-ep0b61hx\n",
      "openscm_runner.adapters.magicc7._run_magicc_parallel - INFO: Shutting down parallel pool\n",
      "openscm_runner.run - INFO: Only one model run, returning its results\n",
      "/home/gaurav/.conda/envs/cdr_climate_uncertainty/lib/python3.10/site-packages/climate_assessment/climate/wg3.py:42: FutureWarning: The default value of regex will change from True to False in a future version.\n",
      "  df_clean[\"variable\"] = df_clean[\"variable\"].str.replace(old, new)\n"
     ]
    },
    {
     "data": {
      "application/vnd.jupyter.widget-view+json": {
       "model_id": "ba57e4f78f114d55be4bf8fb7658fd57",
       "version_major": 2,
       "version_minor": 0
      },
      "text/plain": [
       "Climate models:   0%|          | 0.00/1.00 [00:00<?, ?it/s]"
      ]
     },
     "metadata": {},
     "output_type": "display_data"
    },
    {
     "name": "stderr",
     "output_type": "stream",
     "text": [
      "openscm_runner.adapters.magicc7.magicc7 - WARNING: Historical data has not been checked\n"
     ]
    },
    {
     "data": {
      "application/vnd.jupyter.widget-view+json": {
       "model_id": "1e26574af5a843f6a363d05d77e65f7b",
       "version_major": 2,
       "version_minor": 0
      },
      "text/plain": [
       "Writing SCEN7 files:   0%|          | 0.00/1.00 [00:00<?, ?it/s]"
      ]
     },
     "metadata": {},
     "output_type": "display_data"
    },
    {
     "name": "stderr",
     "output_type": "stream",
     "text": [
      "openscm_runner.adapters.magicc7._run_magicc_parallel - INFO: Entered _parallel_magicc_compact_out\n",
      "openscm_runner.adapters.magicc7._run_magicc_parallel - INFO: Running in parallel with up to 16 workers\n"
     ]
    },
    {
     "data": {
      "application/vnd.jupyter.widget-view+json": {
       "model_id": "06c9781e64b442e9a71513d653f3483a",
       "version_major": 2,
       "version_minor": 0
      },
      "text/plain": [
       "Front serial:   0%|          | 0.00/1.00 [00:00<?, ?it/s]"
      ]
     },
     "metadata": {},
     "output_type": "display_data"
    },
    {
     "name": "stderr",
     "output_type": "stream",
     "text": [
      "openscm_runner.adapters.magicc7._magicc_instances - INFO: Creating new magicc instance: (7, 'MainProcess') - /tmp/gaurav/pymagicc-3moxws6j\n",
      "openscm_runner.adapters.magicc7._run_magicc_parallel - INFO: Setting up MAGICC worker in /tmp/gaurav/pymagicc-3moxws6j\n",
      "openscm_runner.adapters.magicc7._run_magicc_parallel - INFO: Writing Pymagicc compatible MAGCFG_USER.CFG in /tmp/gaurav/pymagicc-3moxws6j/run\n",
      "/home/gaurav/.conda/envs/cdr_climate_uncertainty/lib/python3.10/site-packages/pymagicc/core.py:387: UserWarning: Not reading file: DAT_HEATCONT_EBALANCE_SUBANN.BINOUT. Monthly data are not read in automatically by `run`. Use `MAGICCData` instead.\n",
      "  warnings.warn(\n",
      "/home/gaurav/.conda/envs/cdr_climate_uncertainty/lib/python3.10/site-packages/pymagicc/core.py:387: UserWarning: Not reading file: DAT_HEATUPTK_EBALANCE_SUBANN.BINOUT. Monthly data are not read in automatically by `run`. Use `MAGICCData` instead.\n",
      "  warnings.warn(\n"
     ]
    },
    {
     "data": {
      "application/vnd.jupyter.widget-view+json": {
       "model_id": "77a4ff889f0a4eaf92bcbb7bcee87258",
       "version_major": 2,
       "version_minor": 0
      },
      "text/plain": [
       "Front parallel: 0.00it [00:00, ?it/s]"
      ]
     },
     "metadata": {},
     "output_type": "display_data"
    },
    {
     "data": {
      "application/vnd.jupyter.widget-view+json": {
       "model_id": "89829499bbc44755a5a02eb28f2871b3",
       "version_major": 2,
       "version_minor": 0
      },
      "text/plain": [
       "Parallel runs: 0.00it [00:00, ?it/s]"
      ]
     },
     "metadata": {},
     "output_type": "display_data"
    },
    {
     "name": "stderr",
     "output_type": "stream",
     "text": [
      "openscm_runner.adapters.magicc7._run_magicc_parallel - INFO: Appending results into a single ScmRun\n",
      "openscm_runner.adapters.magicc7._magicc_instances - INFO: removing /tmp/gaurav/pymagicc-3moxws6j\n",
      "openscm_runner.adapters.magicc7._run_magicc_parallel - INFO: Shutting down parallel pool\n",
      "openscm_runner.run - INFO: Only one model run, returning its results\n",
      "/home/gaurav/.conda/envs/cdr_climate_uncertainty/lib/python3.10/site-packages/climate_assessment/climate/wg3.py:42: FutureWarning: The default value of regex will change from True to False in a future version.\n",
      "  df_clean[\"variable\"] = df_clean[\"variable\"].str.replace(old, new)\n"
     ]
    },
    {
     "data": {
      "application/vnd.jupyter.widget-view+json": {
       "model_id": "a821943e4a4b48b9989172565b3ddb0d",
       "version_major": 2,
       "version_minor": 0
      },
      "text/plain": [
       "Climate models:   0%|          | 0.00/1.00 [00:00<?, ?it/s]"
      ]
     },
     "metadata": {},
     "output_type": "display_data"
    },
    {
     "name": "stderr",
     "output_type": "stream",
     "text": [
      "openscm_runner.adapters.magicc7.magicc7 - WARNING: Historical data has not been checked\n"
     ]
    },
    {
     "data": {
      "application/vnd.jupyter.widget-view+json": {
       "model_id": "dd312b7e791d42fc87b5d9b3a89679e6",
       "version_major": 2,
       "version_minor": 0
      },
      "text/plain": [
       "Writing SCEN7 files:   0%|          | 0.00/1.00 [00:00<?, ?it/s]"
      ]
     },
     "metadata": {},
     "output_type": "display_data"
    },
    {
     "name": "stderr",
     "output_type": "stream",
     "text": [
      "openscm_runner.adapters.magicc7._run_magicc_parallel - INFO: Entered _parallel_magicc_compact_out\n",
      "openscm_runner.adapters.magicc7._run_magicc_parallel - INFO: Running in parallel with up to 16 workers\n"
     ]
    },
    {
     "data": {
      "application/vnd.jupyter.widget-view+json": {
       "model_id": "639dff21f7ef4cc1aadab0f3db9b28c6",
       "version_major": 2,
       "version_minor": 0
      },
      "text/plain": [
       "Front serial:   0%|          | 0.00/1.00 [00:00<?, ?it/s]"
      ]
     },
     "metadata": {},
     "output_type": "display_data"
    },
    {
     "name": "stderr",
     "output_type": "stream",
     "text": [
      "openscm_runner.adapters.magicc7._magicc_instances - INFO: Creating new magicc instance: (7, 'MainProcess') - /tmp/gaurav/pymagicc-wu1om1r_\n",
      "openscm_runner.adapters.magicc7._run_magicc_parallel - INFO: Setting up MAGICC worker in /tmp/gaurav/pymagicc-wu1om1r_\n",
      "openscm_runner.adapters.magicc7._run_magicc_parallel - INFO: Writing Pymagicc compatible MAGCFG_USER.CFG in /tmp/gaurav/pymagicc-wu1om1r_/run\n",
      "/home/gaurav/.conda/envs/cdr_climate_uncertainty/lib/python3.10/site-packages/pymagicc/core.py:387: UserWarning: Not reading file: DAT_HEATCONT_EBALANCE_SUBANN.BINOUT. Monthly data are not read in automatically by `run`. Use `MAGICCData` instead.\n",
      "  warnings.warn(\n",
      "/home/gaurav/.conda/envs/cdr_climate_uncertainty/lib/python3.10/site-packages/pymagicc/core.py:387: UserWarning: Not reading file: DAT_HEATUPTK_EBALANCE_SUBANN.BINOUT. Monthly data are not read in automatically by `run`. Use `MAGICCData` instead.\n",
      "  warnings.warn(\n"
     ]
    },
    {
     "data": {
      "application/vnd.jupyter.widget-view+json": {
       "model_id": "92a703595c784f678d6942fbad81bb03",
       "version_major": 2,
       "version_minor": 0
      },
      "text/plain": [
       "Front parallel: 0.00it [00:00, ?it/s]"
      ]
     },
     "metadata": {},
     "output_type": "display_data"
    },
    {
     "data": {
      "application/vnd.jupyter.widget-view+json": {
       "model_id": "b3619db1b054441b9b99d8b83215ffd8",
       "version_major": 2,
       "version_minor": 0
      },
      "text/plain": [
       "Parallel runs: 0.00it [00:00, ?it/s]"
      ]
     },
     "metadata": {},
     "output_type": "display_data"
    },
    {
     "name": "stderr",
     "output_type": "stream",
     "text": [
      "openscm_runner.adapters.magicc7._run_magicc_parallel - INFO: Appending results into a single ScmRun\n",
      "openscm_runner.adapters.magicc7._magicc_instances - INFO: removing /tmp/gaurav/pymagicc-wu1om1r_\n",
      "openscm_runner.adapters.magicc7._run_magicc_parallel - INFO: Shutting down parallel pool\n",
      "openscm_runner.run - INFO: Only one model run, returning its results\n",
      "/home/gaurav/.conda/envs/cdr_climate_uncertainty/lib/python3.10/site-packages/climate_assessment/climate/wg3.py:42: FutureWarning: The default value of regex will change from True to False in a future version.\n",
      "  df_clean[\"variable\"] = df_clean[\"variable\"].str.replace(old, new)\n"
     ]
    },
    {
     "data": {
      "application/vnd.jupyter.widget-view+json": {
       "model_id": "4addc45dece447099d0fa15fae9a945b",
       "version_major": 2,
       "version_minor": 0
      },
      "text/plain": [
       "Climate models:   0%|          | 0.00/1.00 [00:00<?, ?it/s]"
      ]
     },
     "metadata": {},
     "output_type": "display_data"
    },
    {
     "name": "stderr",
     "output_type": "stream",
     "text": [
      "openscm_runner.adapters.magicc7.magicc7 - WARNING: Historical data has not been checked\n"
     ]
    },
    {
     "data": {
      "application/vnd.jupyter.widget-view+json": {
       "model_id": "29bfe07d060b4cf7bcc1b3b1f879f68b",
       "version_major": 2,
       "version_minor": 0
      },
      "text/plain": [
       "Writing SCEN7 files:   0%|          | 0.00/1.00 [00:00<?, ?it/s]"
      ]
     },
     "metadata": {},
     "output_type": "display_data"
    },
    {
     "name": "stderr",
     "output_type": "stream",
     "text": [
      "openscm_runner.adapters.magicc7._run_magicc_parallel - INFO: Entered _parallel_magicc_compact_out\n",
      "openscm_runner.adapters.magicc7._run_magicc_parallel - INFO: Running in parallel with up to 16 workers\n"
     ]
    },
    {
     "data": {
      "application/vnd.jupyter.widget-view+json": {
       "model_id": "32e1f1579c7f4e4692af1535ea549e23",
       "version_major": 2,
       "version_minor": 0
      },
      "text/plain": [
       "Front serial:   0%|          | 0.00/1.00 [00:00<?, ?it/s]"
      ]
     },
     "metadata": {},
     "output_type": "display_data"
    },
    {
     "name": "stderr",
     "output_type": "stream",
     "text": [
      "openscm_runner.adapters.magicc7._magicc_instances - INFO: Creating new magicc instance: (7, 'MainProcess') - /tmp/gaurav/pymagicc-trv04am6\n",
      "openscm_runner.adapters.magicc7._run_magicc_parallel - INFO: Setting up MAGICC worker in /tmp/gaurav/pymagicc-trv04am6\n",
      "openscm_runner.adapters.magicc7._run_magicc_parallel - INFO: Writing Pymagicc compatible MAGCFG_USER.CFG in /tmp/gaurav/pymagicc-trv04am6/run\n",
      "/home/gaurav/.conda/envs/cdr_climate_uncertainty/lib/python3.10/site-packages/pymagicc/core.py:387: UserWarning: Not reading file: DAT_HEATCONT_EBALANCE_SUBANN.BINOUT. Monthly data are not read in automatically by `run`. Use `MAGICCData` instead.\n",
      "  warnings.warn(\n",
      "/home/gaurav/.conda/envs/cdr_climate_uncertainty/lib/python3.10/site-packages/pymagicc/core.py:387: UserWarning: Not reading file: DAT_HEATUPTK_EBALANCE_SUBANN.BINOUT. Monthly data are not read in automatically by `run`. Use `MAGICCData` instead.\n",
      "  warnings.warn(\n"
     ]
    },
    {
     "data": {
      "application/vnd.jupyter.widget-view+json": {
       "model_id": "01e77eef2afd4346b260548e531760cb",
       "version_major": 2,
       "version_minor": 0
      },
      "text/plain": [
       "Front parallel: 0.00it [00:00, ?it/s]"
      ]
     },
     "metadata": {},
     "output_type": "display_data"
    },
    {
     "data": {
      "application/vnd.jupyter.widget-view+json": {
       "model_id": "458288556902491aa80ed432d1d621b0",
       "version_major": 2,
       "version_minor": 0
      },
      "text/plain": [
       "Parallel runs: 0.00it [00:00, ?it/s]"
      ]
     },
     "metadata": {},
     "output_type": "display_data"
    },
    {
     "name": "stderr",
     "output_type": "stream",
     "text": [
      "openscm_runner.adapters.magicc7._run_magicc_parallel - INFO: Appending results into a single ScmRun\n",
      "openscm_runner.adapters.magicc7._magicc_instances - INFO: removing /tmp/gaurav/pymagicc-trv04am6\n",
      "openscm_runner.adapters.magicc7._run_magicc_parallel - INFO: Shutting down parallel pool\n",
      "openscm_runner.run - INFO: Only one model run, returning its results\n",
      "/home/gaurav/.conda/envs/cdr_climate_uncertainty/lib/python3.10/site-packages/climate_assessment/climate/wg3.py:42: FutureWarning: The default value of regex will change from True to False in a future version.\n",
      "  df_clean[\"variable\"] = df_clean[\"variable\"].str.replace(old, new)\n"
     ]
    },
    {
     "data": {
      "application/vnd.jupyter.widget-view+json": {
       "model_id": "3f683866f1d34c59bdf0ea2997452536",
       "version_major": 2,
       "version_minor": 0
      },
      "text/plain": [
       "Climate models:   0%|          | 0.00/1.00 [00:00<?, ?it/s]"
      ]
     },
     "metadata": {},
     "output_type": "display_data"
    },
    {
     "name": "stderr",
     "output_type": "stream",
     "text": [
      "openscm_runner.adapters.magicc7.magicc7 - WARNING: Historical data has not been checked\n"
     ]
    },
    {
     "data": {
      "application/vnd.jupyter.widget-view+json": {
       "model_id": "228dda971d37413893400b0e190610d3",
       "version_major": 2,
       "version_minor": 0
      },
      "text/plain": [
       "Writing SCEN7 files:   0%|          | 0.00/1.00 [00:00<?, ?it/s]"
      ]
     },
     "metadata": {},
     "output_type": "display_data"
    },
    {
     "name": "stderr",
     "output_type": "stream",
     "text": [
      "openscm_runner.adapters.magicc7._run_magicc_parallel - INFO: Entered _parallel_magicc_compact_out\n",
      "openscm_runner.adapters.magicc7._run_magicc_parallel - INFO: Running in parallel with up to 16 workers\n"
     ]
    },
    {
     "data": {
      "application/vnd.jupyter.widget-view+json": {
       "model_id": "bc58fb4b296f42aa8e80ad0fc28d99c0",
       "version_major": 2,
       "version_minor": 0
      },
      "text/plain": [
       "Front serial:   0%|          | 0.00/1.00 [00:00<?, ?it/s]"
      ]
     },
     "metadata": {},
     "output_type": "display_data"
    },
    {
     "name": "stderr",
     "output_type": "stream",
     "text": [
      "openscm_runner.adapters.magicc7._magicc_instances - INFO: Creating new magicc instance: (7, 'MainProcess') - /tmp/gaurav/pymagicc-2m2ag__i\n",
      "openscm_runner.adapters.magicc7._run_magicc_parallel - INFO: Setting up MAGICC worker in /tmp/gaurav/pymagicc-2m2ag__i\n",
      "openscm_runner.adapters.magicc7._run_magicc_parallel - INFO: Writing Pymagicc compatible MAGCFG_USER.CFG in /tmp/gaurav/pymagicc-2m2ag__i/run\n",
      "/home/gaurav/.conda/envs/cdr_climate_uncertainty/lib/python3.10/site-packages/pymagicc/core.py:387: UserWarning: Not reading file: DAT_HEATCONT_EBALANCE_SUBANN.BINOUT. Monthly data are not read in automatically by `run`. Use `MAGICCData` instead.\n",
      "  warnings.warn(\n",
      "/home/gaurav/.conda/envs/cdr_climate_uncertainty/lib/python3.10/site-packages/pymagicc/core.py:387: UserWarning: Not reading file: DAT_HEATUPTK_EBALANCE_SUBANN.BINOUT. Monthly data are not read in automatically by `run`. Use `MAGICCData` instead.\n",
      "  warnings.warn(\n"
     ]
    },
    {
     "data": {
      "application/vnd.jupyter.widget-view+json": {
       "model_id": "5b8323174821454ca231224f01d9f908",
       "version_major": 2,
       "version_minor": 0
      },
      "text/plain": [
       "Front parallel: 0.00it [00:00, ?it/s]"
      ]
     },
     "metadata": {},
     "output_type": "display_data"
    },
    {
     "data": {
      "application/vnd.jupyter.widget-view+json": {
       "model_id": "7d9ae6b1c8744b7a92ad40d1759844e9",
       "version_major": 2,
       "version_minor": 0
      },
      "text/plain": [
       "Parallel runs: 0.00it [00:00, ?it/s]"
      ]
     },
     "metadata": {},
     "output_type": "display_data"
    },
    {
     "name": "stderr",
     "output_type": "stream",
     "text": [
      "openscm_runner.adapters.magicc7._run_magicc_parallel - INFO: Appending results into a single ScmRun\n",
      "openscm_runner.adapters.magicc7._magicc_instances - INFO: removing /tmp/gaurav/pymagicc-2m2ag__i\n",
      "openscm_runner.adapters.magicc7._run_magicc_parallel - INFO: Shutting down parallel pool\n",
      "openscm_runner.run - INFO: Only one model run, returning its results\n",
      "/home/gaurav/.conda/envs/cdr_climate_uncertainty/lib/python3.10/site-packages/climate_assessment/climate/wg3.py:42: FutureWarning: The default value of regex will change from True to False in a future version.\n",
      "  df_clean[\"variable\"] = df_clean[\"variable\"].str.replace(old, new)\n"
     ]
    },
    {
     "data": {
      "application/vnd.jupyter.widget-view+json": {
       "model_id": "1810cee44be144fbb84d2580acdb7dd4",
       "version_major": 2,
       "version_minor": 0
      },
      "text/plain": [
       "Climate models:   0%|          | 0.00/1.00 [00:00<?, ?it/s]"
      ]
     },
     "metadata": {},
     "output_type": "display_data"
    },
    {
     "name": "stderr",
     "output_type": "stream",
     "text": [
      "openscm_runner.adapters.magicc7.magicc7 - WARNING: Historical data has not been checked\n"
     ]
    },
    {
     "data": {
      "application/vnd.jupyter.widget-view+json": {
       "model_id": "bcf0463274af4408a2e3633af313a6ff",
       "version_major": 2,
       "version_minor": 0
      },
      "text/plain": [
       "Writing SCEN7 files:   0%|          | 0.00/1.00 [00:00<?, ?it/s]"
      ]
     },
     "metadata": {},
     "output_type": "display_data"
    },
    {
     "name": "stderr",
     "output_type": "stream",
     "text": [
      "openscm_runner.adapters.magicc7._run_magicc_parallel - INFO: Entered _parallel_magicc_compact_out\n",
      "openscm_runner.adapters.magicc7._run_magicc_parallel - INFO: Running in parallel with up to 16 workers\n"
     ]
    },
    {
     "data": {
      "application/vnd.jupyter.widget-view+json": {
       "model_id": "847726e0bd4148368c223d87d405919d",
       "version_major": 2,
       "version_minor": 0
      },
      "text/plain": [
       "Front serial:   0%|          | 0.00/1.00 [00:00<?, ?it/s]"
      ]
     },
     "metadata": {},
     "output_type": "display_data"
    },
    {
     "name": "stderr",
     "output_type": "stream",
     "text": [
      "openscm_runner.adapters.magicc7._magicc_instances - INFO: Creating new magicc instance: (7, 'MainProcess') - /tmp/gaurav/pymagicc-9d7fifwy\n",
      "openscm_runner.adapters.magicc7._run_magicc_parallel - INFO: Setting up MAGICC worker in /tmp/gaurav/pymagicc-9d7fifwy\n",
      "openscm_runner.adapters.magicc7._run_magicc_parallel - INFO: Writing Pymagicc compatible MAGCFG_USER.CFG in /tmp/gaurav/pymagicc-9d7fifwy/run\n",
      "/home/gaurav/.conda/envs/cdr_climate_uncertainty/lib/python3.10/site-packages/pymagicc/core.py:387: UserWarning: Not reading file: DAT_HEATCONT_EBALANCE_SUBANN.BINOUT. Monthly data are not read in automatically by `run`. Use `MAGICCData` instead.\n",
      "  warnings.warn(\n",
      "/home/gaurav/.conda/envs/cdr_climate_uncertainty/lib/python3.10/site-packages/pymagicc/core.py:387: UserWarning: Not reading file: DAT_HEATUPTK_EBALANCE_SUBANN.BINOUT. Monthly data are not read in automatically by `run`. Use `MAGICCData` instead.\n",
      "  warnings.warn(\n"
     ]
    },
    {
     "data": {
      "application/vnd.jupyter.widget-view+json": {
       "model_id": "07f0bb1ac22b4c6fa65be75ead051095",
       "version_major": 2,
       "version_minor": 0
      },
      "text/plain": [
       "Front parallel: 0.00it [00:00, ?it/s]"
      ]
     },
     "metadata": {},
     "output_type": "display_data"
    },
    {
     "data": {
      "application/vnd.jupyter.widget-view+json": {
       "model_id": "eab60c234cd741de978108f6602481b6",
       "version_major": 2,
       "version_minor": 0
      },
      "text/plain": [
       "Parallel runs: 0.00it [00:00, ?it/s]"
      ]
     },
     "metadata": {},
     "output_type": "display_data"
    },
    {
     "name": "stderr",
     "output_type": "stream",
     "text": [
      "openscm_runner.adapters.magicc7._run_magicc_parallel - INFO: Appending results into a single ScmRun\n",
      "openscm_runner.adapters.magicc7._magicc_instances - INFO: removing /tmp/gaurav/pymagicc-9d7fifwy\n",
      "openscm_runner.adapters.magicc7._run_magicc_parallel - INFO: Shutting down parallel pool\n",
      "openscm_runner.run - INFO: Only one model run, returning its results\n",
      "/home/gaurav/.conda/envs/cdr_climate_uncertainty/lib/python3.10/site-packages/climate_assessment/climate/wg3.py:42: FutureWarning: The default value of regex will change from True to False in a future version.\n",
      "  df_clean[\"variable\"] = df_clean[\"variable\"].str.replace(old, new)\n"
     ]
    },
    {
     "data": {
      "application/vnd.jupyter.widget-view+json": {
       "model_id": "9ca9d1a3982f4abfaabce8b9da27065c",
       "version_major": 2,
       "version_minor": 0
      },
      "text/plain": [
       "Climate models:   0%|          | 0.00/1.00 [00:00<?, ?it/s]"
      ]
     },
     "metadata": {},
     "output_type": "display_data"
    },
    {
     "name": "stderr",
     "output_type": "stream",
     "text": [
      "openscm_runner.adapters.magicc7.magicc7 - WARNING: Historical data has not been checked\n"
     ]
    },
    {
     "data": {
      "application/vnd.jupyter.widget-view+json": {
       "model_id": "afe93807dc254caa931c0d03d6ad788b",
       "version_major": 2,
       "version_minor": 0
      },
      "text/plain": [
       "Writing SCEN7 files:   0%|          | 0.00/1.00 [00:00<?, ?it/s]"
      ]
     },
     "metadata": {},
     "output_type": "display_data"
    },
    {
     "name": "stderr",
     "output_type": "stream",
     "text": [
      "openscm_runner.adapters.magicc7._run_magicc_parallel - INFO: Entered _parallel_magicc_compact_out\n",
      "openscm_runner.adapters.magicc7._run_magicc_parallel - INFO: Running in parallel with up to 16 workers\n"
     ]
    },
    {
     "data": {
      "application/vnd.jupyter.widget-view+json": {
       "model_id": "6065d16b9b43470c8a413e553fe3fbcb",
       "version_major": 2,
       "version_minor": 0
      },
      "text/plain": [
       "Front serial:   0%|          | 0.00/1.00 [00:00<?, ?it/s]"
      ]
     },
     "metadata": {},
     "output_type": "display_data"
    },
    {
     "name": "stderr",
     "output_type": "stream",
     "text": [
      "openscm_runner.adapters.magicc7._magicc_instances - INFO: Creating new magicc instance: (7, 'MainProcess') - /tmp/gaurav/pymagicc-oxax1zdl\n",
      "openscm_runner.adapters.magicc7._run_magicc_parallel - INFO: Setting up MAGICC worker in /tmp/gaurav/pymagicc-oxax1zdl\n",
      "openscm_runner.adapters.magicc7._run_magicc_parallel - INFO: Writing Pymagicc compatible MAGCFG_USER.CFG in /tmp/gaurav/pymagicc-oxax1zdl/run\n",
      "/home/gaurav/.conda/envs/cdr_climate_uncertainty/lib/python3.10/site-packages/pymagicc/core.py:387: UserWarning: Not reading file: DAT_HEATCONT_EBALANCE_SUBANN.BINOUT. Monthly data are not read in automatically by `run`. Use `MAGICCData` instead.\n",
      "  warnings.warn(\n",
      "/home/gaurav/.conda/envs/cdr_climate_uncertainty/lib/python3.10/site-packages/pymagicc/core.py:387: UserWarning: Not reading file: DAT_HEATUPTK_EBALANCE_SUBANN.BINOUT. Monthly data are not read in automatically by `run`. Use `MAGICCData` instead.\n",
      "  warnings.warn(\n"
     ]
    },
    {
     "data": {
      "application/vnd.jupyter.widget-view+json": {
       "model_id": "a6ec93cfcb5442e783b12e25b9881e80",
       "version_major": 2,
       "version_minor": 0
      },
      "text/plain": [
       "Front parallel: 0.00it [00:00, ?it/s]"
      ]
     },
     "metadata": {},
     "output_type": "display_data"
    },
    {
     "data": {
      "application/vnd.jupyter.widget-view+json": {
       "model_id": "5856504709204e02aae77b313f3f459a",
       "version_major": 2,
       "version_minor": 0
      },
      "text/plain": [
       "Parallel runs: 0.00it [00:00, ?it/s]"
      ]
     },
     "metadata": {},
     "output_type": "display_data"
    },
    {
     "name": "stderr",
     "output_type": "stream",
     "text": [
      "openscm_runner.adapters.magicc7._run_magicc_parallel - INFO: Appending results into a single ScmRun\n",
      "openscm_runner.adapters.magicc7._magicc_instances - INFO: removing /tmp/gaurav/pymagicc-oxax1zdl\n",
      "openscm_runner.adapters.magicc7._run_magicc_parallel - INFO: Shutting down parallel pool\n",
      "openscm_runner.run - INFO: Only one model run, returning its results\n",
      "/home/gaurav/.conda/envs/cdr_climate_uncertainty/lib/python3.10/site-packages/climate_assessment/climate/wg3.py:42: FutureWarning: The default value of regex will change from True to False in a future version.\n",
      "  df_clean[\"variable\"] = df_clean[\"variable\"].str.replace(old, new)\n"
     ]
    },
    {
     "data": {
      "application/vnd.jupyter.widget-view+json": {
       "model_id": "bd40bded8ae9451ea03946535e149869",
       "version_major": 2,
       "version_minor": 0
      },
      "text/plain": [
       "Climate models:   0%|          | 0.00/1.00 [00:00<?, ?it/s]"
      ]
     },
     "metadata": {},
     "output_type": "display_data"
    },
    {
     "name": "stderr",
     "output_type": "stream",
     "text": [
      "openscm_runner.adapters.magicc7.magicc7 - WARNING: Historical data has not been checked\n"
     ]
    },
    {
     "data": {
      "application/vnd.jupyter.widget-view+json": {
       "model_id": "3caef7408a6046a6a7175502be2278ba",
       "version_major": 2,
       "version_minor": 0
      },
      "text/plain": [
       "Writing SCEN7 files:   0%|          | 0.00/1.00 [00:00<?, ?it/s]"
      ]
     },
     "metadata": {},
     "output_type": "display_data"
    },
    {
     "name": "stderr",
     "output_type": "stream",
     "text": [
      "openscm_runner.adapters.magicc7._run_magicc_parallel - INFO: Entered _parallel_magicc_compact_out\n",
      "openscm_runner.adapters.magicc7._run_magicc_parallel - INFO: Running in parallel with up to 16 workers\n"
     ]
    },
    {
     "data": {
      "application/vnd.jupyter.widget-view+json": {
       "model_id": "434785d7a52041a290d5ea09e9e869b0",
       "version_major": 2,
       "version_minor": 0
      },
      "text/plain": [
       "Front serial:   0%|          | 0.00/1.00 [00:00<?, ?it/s]"
      ]
     },
     "metadata": {},
     "output_type": "display_data"
    },
    {
     "name": "stderr",
     "output_type": "stream",
     "text": [
      "openscm_runner.adapters.magicc7._magicc_instances - INFO: Creating new magicc instance: (7, 'MainProcess') - /tmp/gaurav/pymagicc-xpxn7x08\n",
      "openscm_runner.adapters.magicc7._run_magicc_parallel - INFO: Setting up MAGICC worker in /tmp/gaurav/pymagicc-xpxn7x08\n",
      "openscm_runner.adapters.magicc7._run_magicc_parallel - INFO: Writing Pymagicc compatible MAGCFG_USER.CFG in /tmp/gaurav/pymagicc-xpxn7x08/run\n",
      "/home/gaurav/.conda/envs/cdr_climate_uncertainty/lib/python3.10/site-packages/pymagicc/core.py:387: UserWarning: Not reading file: DAT_HEATCONT_EBALANCE_SUBANN.BINOUT. Monthly data are not read in automatically by `run`. Use `MAGICCData` instead.\n",
      "  warnings.warn(\n",
      "/home/gaurav/.conda/envs/cdr_climate_uncertainty/lib/python3.10/site-packages/pymagicc/core.py:387: UserWarning: Not reading file: DAT_HEATUPTK_EBALANCE_SUBANN.BINOUT. Monthly data are not read in automatically by `run`. Use `MAGICCData` instead.\n",
      "  warnings.warn(\n"
     ]
    },
    {
     "data": {
      "application/vnd.jupyter.widget-view+json": {
       "model_id": "6313839610284f3783de127dc93e9686",
       "version_major": 2,
       "version_minor": 0
      },
      "text/plain": [
       "Front parallel: 0.00it [00:00, ?it/s]"
      ]
     },
     "metadata": {},
     "output_type": "display_data"
    },
    {
     "data": {
      "application/vnd.jupyter.widget-view+json": {
       "model_id": "2091a16abbbd41aca50d90a6056c6500",
       "version_major": 2,
       "version_minor": 0
      },
      "text/plain": [
       "Parallel runs: 0.00it [00:00, ?it/s]"
      ]
     },
     "metadata": {},
     "output_type": "display_data"
    },
    {
     "name": "stderr",
     "output_type": "stream",
     "text": [
      "openscm_runner.adapters.magicc7._run_magicc_parallel - INFO: Appending results into a single ScmRun\n",
      "openscm_runner.adapters.magicc7._magicc_instances - INFO: removing /tmp/gaurav/pymagicc-xpxn7x08\n",
      "openscm_runner.adapters.magicc7._run_magicc_parallel - INFO: Shutting down parallel pool\n",
      "openscm_runner.run - INFO: Only one model run, returning its results\n",
      "/home/gaurav/.conda/envs/cdr_climate_uncertainty/lib/python3.10/site-packages/climate_assessment/climate/wg3.py:42: FutureWarning: The default value of regex will change from True to False in a future version.\n",
      "  df_clean[\"variable\"] = df_clean[\"variable\"].str.replace(old, new)\n"
     ]
    },
    {
     "data": {
      "application/vnd.jupyter.widget-view+json": {
       "model_id": "752c27d9704f4c458a1d03644ede1440",
       "version_major": 2,
       "version_minor": 0
      },
      "text/plain": [
       "Climate models:   0%|          | 0.00/1.00 [00:00<?, ?it/s]"
      ]
     },
     "metadata": {},
     "output_type": "display_data"
    },
    {
     "name": "stderr",
     "output_type": "stream",
     "text": [
      "openscm_runner.adapters.magicc7.magicc7 - WARNING: Historical data has not been checked\n"
     ]
    },
    {
     "data": {
      "application/vnd.jupyter.widget-view+json": {
       "model_id": "9f0e1d87dacc418b91c4ca2068102405",
       "version_major": 2,
       "version_minor": 0
      },
      "text/plain": [
       "Writing SCEN7 files:   0%|          | 0.00/1.00 [00:00<?, ?it/s]"
      ]
     },
     "metadata": {},
     "output_type": "display_data"
    },
    {
     "name": "stderr",
     "output_type": "stream",
     "text": [
      "openscm_runner.adapters.magicc7._run_magicc_parallel - INFO: Entered _parallel_magicc_compact_out\n",
      "openscm_runner.adapters.magicc7._run_magicc_parallel - INFO: Running in parallel with up to 16 workers\n"
     ]
    },
    {
     "data": {
      "application/vnd.jupyter.widget-view+json": {
       "model_id": "d6afe54ef44d47078bd491a9c0827ec1",
       "version_major": 2,
       "version_minor": 0
      },
      "text/plain": [
       "Front serial:   0%|          | 0.00/1.00 [00:00<?, ?it/s]"
      ]
     },
     "metadata": {},
     "output_type": "display_data"
    },
    {
     "name": "stderr",
     "output_type": "stream",
     "text": [
      "openscm_runner.adapters.magicc7._magicc_instances - INFO: Creating new magicc instance: (7, 'MainProcess') - /tmp/gaurav/pymagicc-2l9v9k05\n",
      "openscm_runner.adapters.magicc7._run_magicc_parallel - INFO: Setting up MAGICC worker in /tmp/gaurav/pymagicc-2l9v9k05\n",
      "openscm_runner.adapters.magicc7._run_magicc_parallel - INFO: Writing Pymagicc compatible MAGCFG_USER.CFG in /tmp/gaurav/pymagicc-2l9v9k05/run\n",
      "/home/gaurav/.conda/envs/cdr_climate_uncertainty/lib/python3.10/site-packages/pymagicc/core.py:387: UserWarning: Not reading file: DAT_HEATCONT_EBALANCE_SUBANN.BINOUT. Monthly data are not read in automatically by `run`. Use `MAGICCData` instead.\n",
      "  warnings.warn(\n",
      "/home/gaurav/.conda/envs/cdr_climate_uncertainty/lib/python3.10/site-packages/pymagicc/core.py:387: UserWarning: Not reading file: DAT_HEATUPTK_EBALANCE_SUBANN.BINOUT. Monthly data are not read in automatically by `run`. Use `MAGICCData` instead.\n",
      "  warnings.warn(\n"
     ]
    },
    {
     "data": {
      "application/vnd.jupyter.widget-view+json": {
       "model_id": "2b4c466a8a244a13a0567fd2f660add5",
       "version_major": 2,
       "version_minor": 0
      },
      "text/plain": [
       "Front parallel: 0.00it [00:00, ?it/s]"
      ]
     },
     "metadata": {},
     "output_type": "display_data"
    },
    {
     "data": {
      "application/vnd.jupyter.widget-view+json": {
       "model_id": "0d48c117d88a48738e88f06a3532e514",
       "version_major": 2,
       "version_minor": 0
      },
      "text/plain": [
       "Parallel runs: 0.00it [00:00, ?it/s]"
      ]
     },
     "metadata": {},
     "output_type": "display_data"
    },
    {
     "name": "stderr",
     "output_type": "stream",
     "text": [
      "openscm_runner.adapters.magicc7._run_magicc_parallel - INFO: Appending results into a single ScmRun\n",
      "openscm_runner.adapters.magicc7._magicc_instances - INFO: removing /tmp/gaurav/pymagicc-2l9v9k05\n",
      "openscm_runner.adapters.magicc7._run_magicc_parallel - INFO: Shutting down parallel pool\n",
      "openscm_runner.run - INFO: Only one model run, returning its results\n",
      "/home/gaurav/.conda/envs/cdr_climate_uncertainty/lib/python3.10/site-packages/climate_assessment/climate/wg3.py:42: FutureWarning: The default value of regex will change from True to False in a future version.\n",
      "  df_clean[\"variable\"] = df_clean[\"variable\"].str.replace(old, new)\n"
     ]
    },
    {
     "data": {
      "application/vnd.jupyter.widget-view+json": {
       "model_id": "8dab8a61a21f4a89bdfc44cb7f71c40b",
       "version_major": 2,
       "version_minor": 0
      },
      "text/plain": [
       "Climate models:   0%|          | 0.00/1.00 [00:00<?, ?it/s]"
      ]
     },
     "metadata": {},
     "output_type": "display_data"
    },
    {
     "name": "stderr",
     "output_type": "stream",
     "text": [
      "openscm_runner.adapters.magicc7.magicc7 - WARNING: Historical data has not been checked\n"
     ]
    },
    {
     "data": {
      "application/vnd.jupyter.widget-view+json": {
       "model_id": "b5d8b691ad0d4fe18a8c30459d0ee875",
       "version_major": 2,
       "version_minor": 0
      },
      "text/plain": [
       "Writing SCEN7 files:   0%|          | 0.00/1.00 [00:00<?, ?it/s]"
      ]
     },
     "metadata": {},
     "output_type": "display_data"
    },
    {
     "name": "stderr",
     "output_type": "stream",
     "text": [
      "openscm_runner.adapters.magicc7._run_magicc_parallel - INFO: Entered _parallel_magicc_compact_out\n",
      "openscm_runner.adapters.magicc7._run_magicc_parallel - INFO: Running in parallel with up to 16 workers\n"
     ]
    },
    {
     "data": {
      "application/vnd.jupyter.widget-view+json": {
       "model_id": "b4de9a9633e541d6b39b17c11e85e9a0",
       "version_major": 2,
       "version_minor": 0
      },
      "text/plain": [
       "Front serial:   0%|          | 0.00/1.00 [00:00<?, ?it/s]"
      ]
     },
     "metadata": {},
     "output_type": "display_data"
    },
    {
     "name": "stderr",
     "output_type": "stream",
     "text": [
      "openscm_runner.adapters.magicc7._magicc_instances - INFO: Creating new magicc instance: (7, 'MainProcess') - /tmp/gaurav/pymagicc-oebjl4mk\n",
      "openscm_runner.adapters.magicc7._run_magicc_parallel - INFO: Setting up MAGICC worker in /tmp/gaurav/pymagicc-oebjl4mk\n",
      "openscm_runner.adapters.magicc7._run_magicc_parallel - INFO: Writing Pymagicc compatible MAGCFG_USER.CFG in /tmp/gaurav/pymagicc-oebjl4mk/run\n",
      "/home/gaurav/.conda/envs/cdr_climate_uncertainty/lib/python3.10/site-packages/pymagicc/core.py:387: UserWarning: Not reading file: DAT_HEATCONT_EBALANCE_SUBANN.BINOUT. Monthly data are not read in automatically by `run`. Use `MAGICCData` instead.\n",
      "  warnings.warn(\n",
      "/home/gaurav/.conda/envs/cdr_climate_uncertainty/lib/python3.10/site-packages/pymagicc/core.py:387: UserWarning: Not reading file: DAT_HEATUPTK_EBALANCE_SUBANN.BINOUT. Monthly data are not read in automatically by `run`. Use `MAGICCData` instead.\n",
      "  warnings.warn(\n"
     ]
    },
    {
     "data": {
      "application/vnd.jupyter.widget-view+json": {
       "model_id": "fd2692afa706471bbaccb97cce416d1e",
       "version_major": 2,
       "version_minor": 0
      },
      "text/plain": [
       "Front parallel: 0.00it [00:00, ?it/s]"
      ]
     },
     "metadata": {},
     "output_type": "display_data"
    },
    {
     "data": {
      "application/vnd.jupyter.widget-view+json": {
       "model_id": "ae58e972310e47a7b2c8d5b829297591",
       "version_major": 2,
       "version_minor": 0
      },
      "text/plain": [
       "Parallel runs: 0.00it [00:00, ?it/s]"
      ]
     },
     "metadata": {},
     "output_type": "display_data"
    },
    {
     "name": "stderr",
     "output_type": "stream",
     "text": [
      "openscm_runner.adapters.magicc7._run_magicc_parallel - INFO: Appending results into a single ScmRun\n",
      "openscm_runner.adapters.magicc7._magicc_instances - INFO: removing /tmp/gaurav/pymagicc-oebjl4mk\n",
      "openscm_runner.adapters.magicc7._run_magicc_parallel - INFO: Shutting down parallel pool\n",
      "openscm_runner.run - INFO: Only one model run, returning its results\n",
      "/home/gaurav/.conda/envs/cdr_climate_uncertainty/lib/python3.10/site-packages/climate_assessment/climate/wg3.py:42: FutureWarning: The default value of regex will change from True to False in a future version.\n",
      "  df_clean[\"variable\"] = df_clean[\"variable\"].str.replace(old, new)\n"
     ]
    },
    {
     "data": {
      "application/vnd.jupyter.widget-view+json": {
       "model_id": "393508f0352e4f8f83e6a525c5279fb5",
       "version_major": 2,
       "version_minor": 0
      },
      "text/plain": [
       "Climate models:   0%|          | 0.00/1.00 [00:00<?, ?it/s]"
      ]
     },
     "metadata": {},
     "output_type": "display_data"
    },
    {
     "name": "stderr",
     "output_type": "stream",
     "text": [
      "openscm_runner.adapters.magicc7.magicc7 - WARNING: Historical data has not been checked\n"
     ]
    },
    {
     "data": {
      "application/vnd.jupyter.widget-view+json": {
       "model_id": "74b29cdbd34941b98efe7aa20e431a32",
       "version_major": 2,
       "version_minor": 0
      },
      "text/plain": [
       "Writing SCEN7 files:   0%|          | 0.00/1.00 [00:00<?, ?it/s]"
      ]
     },
     "metadata": {},
     "output_type": "display_data"
    },
    {
     "name": "stderr",
     "output_type": "stream",
     "text": [
      "openscm_runner.adapters.magicc7._run_magicc_parallel - INFO: Entered _parallel_magicc_compact_out\n",
      "openscm_runner.adapters.magicc7._run_magicc_parallel - INFO: Running in parallel with up to 16 workers\n"
     ]
    },
    {
     "data": {
      "application/vnd.jupyter.widget-view+json": {
       "model_id": "30c505ac7ee9478da38289a4ab19e37a",
       "version_major": 2,
       "version_minor": 0
      },
      "text/plain": [
       "Front serial:   0%|          | 0.00/1.00 [00:00<?, ?it/s]"
      ]
     },
     "metadata": {},
     "output_type": "display_data"
    },
    {
     "name": "stderr",
     "output_type": "stream",
     "text": [
      "openscm_runner.adapters.magicc7._magicc_instances - INFO: Creating new magicc instance: (7, 'MainProcess') - /tmp/gaurav/pymagicc-f_zv27v2\n",
      "openscm_runner.adapters.magicc7._run_magicc_parallel - INFO: Setting up MAGICC worker in /tmp/gaurav/pymagicc-f_zv27v2\n",
      "openscm_runner.adapters.magicc7._run_magicc_parallel - INFO: Writing Pymagicc compatible MAGCFG_USER.CFG in /tmp/gaurav/pymagicc-f_zv27v2/run\n",
      "/home/gaurav/.conda/envs/cdr_climate_uncertainty/lib/python3.10/site-packages/pymagicc/core.py:387: UserWarning: Not reading file: DAT_HEATCONT_EBALANCE_SUBANN.BINOUT. Monthly data are not read in automatically by `run`. Use `MAGICCData` instead.\n",
      "  warnings.warn(\n",
      "/home/gaurav/.conda/envs/cdr_climate_uncertainty/lib/python3.10/site-packages/pymagicc/core.py:387: UserWarning: Not reading file: DAT_HEATUPTK_EBALANCE_SUBANN.BINOUT. Monthly data are not read in automatically by `run`. Use `MAGICCData` instead.\n",
      "  warnings.warn(\n"
     ]
    },
    {
     "data": {
      "application/vnd.jupyter.widget-view+json": {
       "model_id": "acb1b9ddaf5841baa854f56af856e43c",
       "version_major": 2,
       "version_minor": 0
      },
      "text/plain": [
       "Front parallel: 0.00it [00:00, ?it/s]"
      ]
     },
     "metadata": {},
     "output_type": "display_data"
    },
    {
     "data": {
      "application/vnd.jupyter.widget-view+json": {
       "model_id": "035e30753d0f4ba2825d09130f48c851",
       "version_major": 2,
       "version_minor": 0
      },
      "text/plain": [
       "Parallel runs: 0.00it [00:00, ?it/s]"
      ]
     },
     "metadata": {},
     "output_type": "display_data"
    },
    {
     "name": "stderr",
     "output_type": "stream",
     "text": [
      "openscm_runner.adapters.magicc7._run_magicc_parallel - INFO: Appending results into a single ScmRun\n",
      "openscm_runner.adapters.magicc7._magicc_instances - INFO: removing /tmp/gaurav/pymagicc-f_zv27v2\n",
      "openscm_runner.adapters.magicc7._run_magicc_parallel - INFO: Shutting down parallel pool\n",
      "openscm_runner.run - INFO: Only one model run, returning its results\n",
      "/home/gaurav/.conda/envs/cdr_climate_uncertainty/lib/python3.10/site-packages/climate_assessment/climate/wg3.py:42: FutureWarning: The default value of regex will change from True to False in a future version.\n",
      "  df_clean[\"variable\"] = df_clean[\"variable\"].str.replace(old, new)\n"
     ]
    },
    {
     "data": {
      "application/vnd.jupyter.widget-view+json": {
       "model_id": "3b53a94ae8024116b81072ba4d47b3eb",
       "version_major": 2,
       "version_minor": 0
      },
      "text/plain": [
       "Climate models:   0%|          | 0.00/1.00 [00:00<?, ?it/s]"
      ]
     },
     "metadata": {},
     "output_type": "display_data"
    },
    {
     "name": "stderr",
     "output_type": "stream",
     "text": [
      "openscm_runner.adapters.magicc7.magicc7 - WARNING: Historical data has not been checked\n"
     ]
    },
    {
     "data": {
      "application/vnd.jupyter.widget-view+json": {
       "model_id": "58b61157569f4fdc8ed4bbf1876dfe35",
       "version_major": 2,
       "version_minor": 0
      },
      "text/plain": [
       "Writing SCEN7 files:   0%|          | 0.00/1.00 [00:00<?, ?it/s]"
      ]
     },
     "metadata": {},
     "output_type": "display_data"
    },
    {
     "name": "stderr",
     "output_type": "stream",
     "text": [
      "openscm_runner.adapters.magicc7._run_magicc_parallel - INFO: Entered _parallel_magicc_compact_out\n",
      "openscm_runner.adapters.magicc7._run_magicc_parallel - INFO: Running in parallel with up to 16 workers\n"
     ]
    },
    {
     "data": {
      "application/vnd.jupyter.widget-view+json": {
       "model_id": "5fe28314b3e34b18b3a3df1158e37e9d",
       "version_major": 2,
       "version_minor": 0
      },
      "text/plain": [
       "Front serial:   0%|          | 0.00/1.00 [00:00<?, ?it/s]"
      ]
     },
     "metadata": {},
     "output_type": "display_data"
    },
    {
     "name": "stderr",
     "output_type": "stream",
     "text": [
      "openscm_runner.adapters.magicc7._magicc_instances - INFO: Creating new magicc instance: (7, 'MainProcess') - /tmp/gaurav/pymagicc-adm3ffg9\n",
      "openscm_runner.adapters.magicc7._run_magicc_parallel - INFO: Setting up MAGICC worker in /tmp/gaurav/pymagicc-adm3ffg9\n",
      "openscm_runner.adapters.magicc7._run_magicc_parallel - INFO: Writing Pymagicc compatible MAGCFG_USER.CFG in /tmp/gaurav/pymagicc-adm3ffg9/run\n",
      "/home/gaurav/.conda/envs/cdr_climate_uncertainty/lib/python3.10/site-packages/pymagicc/core.py:387: UserWarning: Not reading file: DAT_HEATCONT_EBALANCE_SUBANN.BINOUT. Monthly data are not read in automatically by `run`. Use `MAGICCData` instead.\n",
      "  warnings.warn(\n",
      "/home/gaurav/.conda/envs/cdr_climate_uncertainty/lib/python3.10/site-packages/pymagicc/core.py:387: UserWarning: Not reading file: DAT_HEATUPTK_EBALANCE_SUBANN.BINOUT. Monthly data are not read in automatically by `run`. Use `MAGICCData` instead.\n",
      "  warnings.warn(\n"
     ]
    },
    {
     "data": {
      "application/vnd.jupyter.widget-view+json": {
       "model_id": "80c6eab78af34850bf110a15699b9ab6",
       "version_major": 2,
       "version_minor": 0
      },
      "text/plain": [
       "Front parallel: 0.00it [00:00, ?it/s]"
      ]
     },
     "metadata": {},
     "output_type": "display_data"
    },
    {
     "data": {
      "application/vnd.jupyter.widget-view+json": {
       "model_id": "5bfea3c898ca4e55bcbc3e0751572731",
       "version_major": 2,
       "version_minor": 0
      },
      "text/plain": [
       "Parallel runs: 0.00it [00:00, ?it/s]"
      ]
     },
     "metadata": {},
     "output_type": "display_data"
    },
    {
     "name": "stderr",
     "output_type": "stream",
     "text": [
      "openscm_runner.adapters.magicc7._run_magicc_parallel - INFO: Appending results into a single ScmRun\n",
      "openscm_runner.adapters.magicc7._magicc_instances - INFO: removing /tmp/gaurav/pymagicc-adm3ffg9\n",
      "openscm_runner.adapters.magicc7._run_magicc_parallel - INFO: Shutting down parallel pool\n",
      "openscm_runner.run - INFO: Only one model run, returning its results\n",
      "/home/gaurav/.conda/envs/cdr_climate_uncertainty/lib/python3.10/site-packages/climate_assessment/climate/wg3.py:42: FutureWarning: The default value of regex will change from True to False in a future version.\n",
      "  df_clean[\"variable\"] = df_clean[\"variable\"].str.replace(old, new)\n"
     ]
    },
    {
     "data": {
      "application/vnd.jupyter.widget-view+json": {
       "model_id": "9d0ec357f6cd489cbcd09d9201c25c0d",
       "version_major": 2,
       "version_minor": 0
      },
      "text/plain": [
       "Climate models:   0%|          | 0.00/1.00 [00:00<?, ?it/s]"
      ]
     },
     "metadata": {},
     "output_type": "display_data"
    },
    {
     "name": "stderr",
     "output_type": "stream",
     "text": [
      "openscm_runner.adapters.magicc7.magicc7 - WARNING: Historical data has not been checked\n"
     ]
    },
    {
     "data": {
      "application/vnd.jupyter.widget-view+json": {
       "model_id": "7d71ffc996f742cca87b35976fbd892c",
       "version_major": 2,
       "version_minor": 0
      },
      "text/plain": [
       "Writing SCEN7 files:   0%|          | 0.00/1.00 [00:00<?, ?it/s]"
      ]
     },
     "metadata": {},
     "output_type": "display_data"
    },
    {
     "name": "stderr",
     "output_type": "stream",
     "text": [
      "openscm_runner.adapters.magicc7._run_magicc_parallel - INFO: Entered _parallel_magicc_compact_out\n",
      "openscm_runner.adapters.magicc7._run_magicc_parallel - INFO: Running in parallel with up to 16 workers\n"
     ]
    },
    {
     "data": {
      "application/vnd.jupyter.widget-view+json": {
       "model_id": "2730189482d04be4aa7b722338b0c99b",
       "version_major": 2,
       "version_minor": 0
      },
      "text/plain": [
       "Front serial:   0%|          | 0.00/1.00 [00:00<?, ?it/s]"
      ]
     },
     "metadata": {},
     "output_type": "display_data"
    },
    {
     "name": "stderr",
     "output_type": "stream",
     "text": [
      "openscm_runner.adapters.magicc7._magicc_instances - INFO: Creating new magicc instance: (7, 'MainProcess') - /tmp/gaurav/pymagicc-st7nbpzs\n",
      "openscm_runner.adapters.magicc7._run_magicc_parallel - INFO: Setting up MAGICC worker in /tmp/gaurav/pymagicc-st7nbpzs\n",
      "openscm_runner.adapters.magicc7._run_magicc_parallel - INFO: Writing Pymagicc compatible MAGCFG_USER.CFG in /tmp/gaurav/pymagicc-st7nbpzs/run\n",
      "/home/gaurav/.conda/envs/cdr_climate_uncertainty/lib/python3.10/site-packages/pymagicc/core.py:387: UserWarning: Not reading file: DAT_HEATCONT_EBALANCE_SUBANN.BINOUT. Monthly data are not read in automatically by `run`. Use `MAGICCData` instead.\n",
      "  warnings.warn(\n",
      "/home/gaurav/.conda/envs/cdr_climate_uncertainty/lib/python3.10/site-packages/pymagicc/core.py:387: UserWarning: Not reading file: DAT_HEATUPTK_EBALANCE_SUBANN.BINOUT. Monthly data are not read in automatically by `run`. Use `MAGICCData` instead.\n",
      "  warnings.warn(\n"
     ]
    },
    {
     "data": {
      "application/vnd.jupyter.widget-view+json": {
       "model_id": "bf54e13796694ba7a0449161856333a6",
       "version_major": 2,
       "version_minor": 0
      },
      "text/plain": [
       "Front parallel: 0.00it [00:00, ?it/s]"
      ]
     },
     "metadata": {},
     "output_type": "display_data"
    },
    {
     "data": {
      "application/vnd.jupyter.widget-view+json": {
       "model_id": "19540b7440cf4211bd4675f2e60db6b1",
       "version_major": 2,
       "version_minor": 0
      },
      "text/plain": [
       "Parallel runs: 0.00it [00:00, ?it/s]"
      ]
     },
     "metadata": {},
     "output_type": "display_data"
    },
    {
     "name": "stderr",
     "output_type": "stream",
     "text": [
      "openscm_runner.adapters.magicc7._run_magicc_parallel - INFO: Appending results into a single ScmRun\n",
      "openscm_runner.adapters.magicc7._magicc_instances - INFO: removing /tmp/gaurav/pymagicc-st7nbpzs\n",
      "openscm_runner.adapters.magicc7._run_magicc_parallel - INFO: Shutting down parallel pool\n",
      "openscm_runner.run - INFO: Only one model run, returning its results\n",
      "/home/gaurav/.conda/envs/cdr_climate_uncertainty/lib/python3.10/site-packages/climate_assessment/climate/wg3.py:42: FutureWarning: The default value of regex will change from True to False in a future version.\n",
      "  df_clean[\"variable\"] = df_clean[\"variable\"].str.replace(old, new)\n"
     ]
    },
    {
     "data": {
      "application/vnd.jupyter.widget-view+json": {
       "model_id": "3b95c4cff31e41a89982fce30342809a",
       "version_major": 2,
       "version_minor": 0
      },
      "text/plain": [
       "Climate models:   0%|          | 0.00/1.00 [00:00<?, ?it/s]"
      ]
     },
     "metadata": {},
     "output_type": "display_data"
    },
    {
     "name": "stderr",
     "output_type": "stream",
     "text": [
      "openscm_runner.adapters.magicc7.magicc7 - WARNING: Historical data has not been checked\n"
     ]
    },
    {
     "data": {
      "application/vnd.jupyter.widget-view+json": {
       "model_id": "7c7b2b3ea8004afabf4c61e117fbe950",
       "version_major": 2,
       "version_minor": 0
      },
      "text/plain": [
       "Writing SCEN7 files:   0%|          | 0.00/1.00 [00:00<?, ?it/s]"
      ]
     },
     "metadata": {},
     "output_type": "display_data"
    },
    {
     "name": "stderr",
     "output_type": "stream",
     "text": [
      "openscm_runner.adapters.magicc7._run_magicc_parallel - INFO: Entered _parallel_magicc_compact_out\n",
      "openscm_runner.adapters.magicc7._run_magicc_parallel - INFO: Running in parallel with up to 16 workers\n"
     ]
    },
    {
     "data": {
      "application/vnd.jupyter.widget-view+json": {
       "model_id": "8a104f91e25f43f989ed498c2084ac01",
       "version_major": 2,
       "version_minor": 0
      },
      "text/plain": [
       "Front serial:   0%|          | 0.00/1.00 [00:00<?, ?it/s]"
      ]
     },
     "metadata": {},
     "output_type": "display_data"
    },
    {
     "name": "stderr",
     "output_type": "stream",
     "text": [
      "openscm_runner.adapters.magicc7._magicc_instances - INFO: Creating new magicc instance: (7, 'MainProcess') - /tmp/gaurav/pymagicc-o30859yp\n",
      "openscm_runner.adapters.magicc7._run_magicc_parallel - INFO: Setting up MAGICC worker in /tmp/gaurav/pymagicc-o30859yp\n",
      "openscm_runner.adapters.magicc7._run_magicc_parallel - INFO: Writing Pymagicc compatible MAGCFG_USER.CFG in /tmp/gaurav/pymagicc-o30859yp/run\n",
      "/home/gaurav/.conda/envs/cdr_climate_uncertainty/lib/python3.10/site-packages/pymagicc/core.py:387: UserWarning: Not reading file: DAT_HEATCONT_EBALANCE_SUBANN.BINOUT. Monthly data are not read in automatically by `run`. Use `MAGICCData` instead.\n",
      "  warnings.warn(\n",
      "/home/gaurav/.conda/envs/cdr_climate_uncertainty/lib/python3.10/site-packages/pymagicc/core.py:387: UserWarning: Not reading file: DAT_HEATUPTK_EBALANCE_SUBANN.BINOUT. Monthly data are not read in automatically by `run`. Use `MAGICCData` instead.\n",
      "  warnings.warn(\n"
     ]
    },
    {
     "data": {
      "application/vnd.jupyter.widget-view+json": {
       "model_id": "954a72718c294a97b62518e17c208508",
       "version_major": 2,
       "version_minor": 0
      },
      "text/plain": [
       "Front parallel: 0.00it [00:00, ?it/s]"
      ]
     },
     "metadata": {},
     "output_type": "display_data"
    },
    {
     "data": {
      "application/vnd.jupyter.widget-view+json": {
       "model_id": "03f8f9e0a96c4978b35deac40a1ddf97",
       "version_major": 2,
       "version_minor": 0
      },
      "text/plain": [
       "Parallel runs: 0.00it [00:00, ?it/s]"
      ]
     },
     "metadata": {},
     "output_type": "display_data"
    },
    {
     "name": "stderr",
     "output_type": "stream",
     "text": [
      "openscm_runner.adapters.magicc7._run_magicc_parallel - INFO: Appending results into a single ScmRun\n",
      "openscm_runner.adapters.magicc7._magicc_instances - INFO: removing /tmp/gaurav/pymagicc-o30859yp\n",
      "openscm_runner.adapters.magicc7._run_magicc_parallel - INFO: Shutting down parallel pool\n",
      "openscm_runner.run - INFO: Only one model run, returning its results\n",
      "/home/gaurav/.conda/envs/cdr_climate_uncertainty/lib/python3.10/site-packages/climate_assessment/climate/wg3.py:42: FutureWarning: The default value of regex will change from True to False in a future version.\n",
      "  df_clean[\"variable\"] = df_clean[\"variable\"].str.replace(old, new)\n"
     ]
    },
    {
     "data": {
      "application/vnd.jupyter.widget-view+json": {
       "model_id": "235e313e23a745818803acfb84240fb9",
       "version_major": 2,
       "version_minor": 0
      },
      "text/plain": [
       "Climate models:   0%|          | 0.00/1.00 [00:00<?, ?it/s]"
      ]
     },
     "metadata": {},
     "output_type": "display_data"
    },
    {
     "name": "stderr",
     "output_type": "stream",
     "text": [
      "openscm_runner.adapters.magicc7.magicc7 - WARNING: Historical data has not been checked\n"
     ]
    },
    {
     "data": {
      "application/vnd.jupyter.widget-view+json": {
       "model_id": "5597d24866fa4e1abe4cb2cfd9ac7dbc",
       "version_major": 2,
       "version_minor": 0
      },
      "text/plain": [
       "Writing SCEN7 files:   0%|          | 0.00/1.00 [00:00<?, ?it/s]"
      ]
     },
     "metadata": {},
     "output_type": "display_data"
    },
    {
     "name": "stderr",
     "output_type": "stream",
     "text": [
      "openscm_runner.adapters.magicc7._run_magicc_parallel - INFO: Entered _parallel_magicc_compact_out\n",
      "openscm_runner.adapters.magicc7._run_magicc_parallel - INFO: Running in parallel with up to 16 workers\n"
     ]
    },
    {
     "data": {
      "application/vnd.jupyter.widget-view+json": {
       "model_id": "ab93aa7dc09e4a168d796e25d293559a",
       "version_major": 2,
       "version_minor": 0
      },
      "text/plain": [
       "Front serial:   0%|          | 0.00/1.00 [00:00<?, ?it/s]"
      ]
     },
     "metadata": {},
     "output_type": "display_data"
    },
    {
     "name": "stderr",
     "output_type": "stream",
     "text": [
      "openscm_runner.adapters.magicc7._magicc_instances - INFO: Creating new magicc instance: (7, 'MainProcess') - /tmp/gaurav/pymagicc-nrety0o8\n",
      "openscm_runner.adapters.magicc7._run_magicc_parallel - INFO: Setting up MAGICC worker in /tmp/gaurav/pymagicc-nrety0o8\n",
      "openscm_runner.adapters.magicc7._run_magicc_parallel - INFO: Writing Pymagicc compatible MAGCFG_USER.CFG in /tmp/gaurav/pymagicc-nrety0o8/run\n",
      "/home/gaurav/.conda/envs/cdr_climate_uncertainty/lib/python3.10/site-packages/pymagicc/core.py:387: UserWarning: Not reading file: DAT_HEATCONT_EBALANCE_SUBANN.BINOUT. Monthly data are not read in automatically by `run`. Use `MAGICCData` instead.\n",
      "  warnings.warn(\n",
      "/home/gaurav/.conda/envs/cdr_climate_uncertainty/lib/python3.10/site-packages/pymagicc/core.py:387: UserWarning: Not reading file: DAT_HEATUPTK_EBALANCE_SUBANN.BINOUT. Monthly data are not read in automatically by `run`. Use `MAGICCData` instead.\n",
      "  warnings.warn(\n"
     ]
    },
    {
     "data": {
      "application/vnd.jupyter.widget-view+json": {
       "model_id": "8c25ed085ecb478b9bb233033979e104",
       "version_major": 2,
       "version_minor": 0
      },
      "text/plain": [
       "Front parallel: 0.00it [00:00, ?it/s]"
      ]
     },
     "metadata": {},
     "output_type": "display_data"
    },
    {
     "data": {
      "application/vnd.jupyter.widget-view+json": {
       "model_id": "8112999d12c34d18941f8986170a2ee4",
       "version_major": 2,
       "version_minor": 0
      },
      "text/plain": [
       "Parallel runs: 0.00it [00:00, ?it/s]"
      ]
     },
     "metadata": {},
     "output_type": "display_data"
    },
    {
     "name": "stderr",
     "output_type": "stream",
     "text": [
      "openscm_runner.adapters.magicc7._run_magicc_parallel - INFO: Appending results into a single ScmRun\n",
      "openscm_runner.adapters.magicc7._magicc_instances - INFO: removing /tmp/gaurav/pymagicc-nrety0o8\n",
      "openscm_runner.adapters.magicc7._run_magicc_parallel - INFO: Shutting down parallel pool\n",
      "openscm_runner.run - INFO: Only one model run, returning its results\n"
     ]
    }
   ],
   "source": [
    "try:\n",
    "    result = minimize_scalar(\n",
    "        objective,\n",
    "        bounds=bounds,\n",
    "        args=(emissions_for_iteration, novel_cdr_original_filtered),\n",
    "        method='bounded'\n",
    "    )\n",
    "except:\n",
    "    result = minimize_scalar(\n",
    "        objective,\n",
    "        bounds=(0,90),\n",
    "        args=(emissions_for_iteration, novel_cdr_original_filtered),\n",
    "        method='bounded'\n",
    "    )"
   ]
  },
  {
   "cell_type": "code",
   "execution_count": 39,
   "metadata": {},
   "outputs": [],
   "source": [
    "if result.fun > 0.05 and calibrate_type == \"increase\":\n",
    "   result = minimize_scalar(\n",
    "        objective,\n",
    "        bounds=(0,90),\n",
    "        args=(emissions_for_iteration, novel_cdr_original_filtered),\n",
    "        method='bounded'\n",
    "    ) "
   ]
  },
  {
   "cell_type": "markdown",
   "metadata": {},
   "source": [
    "Last step: Make a function to construct and return the necessary CDR and temperature pathways."
   ]
  },
  {
   "cell_type": "code",
   "execution_count": 40,
   "metadata": {},
   "outputs": [],
   "source": [
    "def objective(angle, emissions, cdr_first_guess):\n",
    "    # Step 1: Get the new CDR pathway\n",
    "    new_cdr, _ = rotate_and_calc_cumulative(\n",
    "        cdr_first_guess,\n",
    "        angle\n",
    "    )\n",
    "    # Step 2: Get the new emissions pathway\n",
    "    new_emissions = (\n",
    "        scmdata.ScmRun(\n",
    "            clean_wg3_scenarios(\n",
    "                construct_new_emissions_dataframe(\n",
    "                    emissions,\n",
    "                    process_novel_cdr(new_cdr, cdr_first_guess.meta['netzero|CO2'].values[0])\n",
    "                )        \n",
    "            )\n",
    "        )\n",
    "    )\n",
    "    new_deviation = abs(return_temperature_deviation(new_emissions))\n",
    "    return new_deviation"
   ]
  },
  {
   "cell_type": "code",
   "execution_count": 41,
   "metadata": {},
   "outputs": [],
   "source": [
    "def compile_necessary_output_files(result):\n",
    "    # Step 1: Get the new CDR pathway\n",
    "    new_cdr, cumulative_cdr = rotate_and_calc_cumulative(\n",
    "        novel_cdr_original_filtered,\n",
    "        result.x\n",
    "    )\n",
    "    new_cdr.set_meta(\n",
    "        name='cumulative_cdr',\n",
    "        meta=cumulative_cdr\n",
    "    )\n",
    "    # Step 2: Get the new emissions pathway\n",
    "    new_emissions = (\n",
    "        scmdata.ScmRun(\n",
    "            clean_wg3_scenarios(\n",
    "                construct_new_emissions_dataframe(\n",
    "                    emissions_for_iteration,\n",
    "                    process_novel_cdr(new_cdr, novel_cdr_original_filtered.meta['netzero|CO2'].values[0])\n",
    "                )        \n",
    "            )\n",
    "        )\n",
    "    )\n",
    "    # Step 4: Calculate the warming\n",
    "    new_warming = openscm_runner.run(\n",
    "        {'MAGICC7':config_for_run},\n",
    "        new_emissions,\n",
    "        output_variables=[\n",
    "            'Surface Temperature'\n",
    "        ]    \n",
    "    )\n",
    "    # Step 4: Rebase and return\n",
    "    new_warming_rebased = (\n",
    "        rebase_temperatures_wg3(new_warming)\n",
    "    )\n",
    "    return new_cdr, new_warming_rebased"
   ]
  },
  {
   "cell_type": "code",
   "execution_count": 42,
   "metadata": {},
   "outputs": [
    {
     "name": "stderr",
     "output_type": "stream",
     "text": [
      "/home/gaurav/.conda/envs/cdr_climate_uncertainty/lib/python3.10/site-packages/climate_assessment/climate/wg3.py:42: FutureWarning: The default value of regex will change from True to False in a future version.\n",
      "  df_clean[\"variable\"] = df_clean[\"variable\"].str.replace(old, new)\n"
     ]
    },
    {
     "data": {
      "application/vnd.jupyter.widget-view+json": {
       "model_id": "3ea892a6fe33462689e77c48ea628cfa",
       "version_major": 2,
       "version_minor": 0
      },
      "text/plain": [
       "Climate models:   0%|          | 0.00/1.00 [00:00<?, ?it/s]"
      ]
     },
     "metadata": {},
     "output_type": "display_data"
    },
    {
     "name": "stderr",
     "output_type": "stream",
     "text": [
      "openscm_runner.adapters.magicc7.magicc7 - WARNING: Historical data has not been checked\n"
     ]
    },
    {
     "data": {
      "application/vnd.jupyter.widget-view+json": {
       "model_id": "89558995e3de4e768ae9f10c528bbfa2",
       "version_major": 2,
       "version_minor": 0
      },
      "text/plain": [
       "Writing SCEN7 files:   0%|          | 0.00/1.00 [00:00<?, ?it/s]"
      ]
     },
     "metadata": {},
     "output_type": "display_data"
    },
    {
     "name": "stderr",
     "output_type": "stream",
     "text": [
      "openscm_runner.adapters.magicc7._run_magicc_parallel - INFO: Entered _parallel_magicc_compact_out\n",
      "openscm_runner.adapters.magicc7._run_magicc_parallel - INFO: Running in parallel with up to 16 workers\n"
     ]
    },
    {
     "data": {
      "application/vnd.jupyter.widget-view+json": {
       "model_id": "654c5b209615414cad117bcb88998f27",
       "version_major": 2,
       "version_minor": 0
      },
      "text/plain": [
       "Front serial:   0%|          | 0.00/1.00 [00:00<?, ?it/s]"
      ]
     },
     "metadata": {},
     "output_type": "display_data"
    },
    {
     "name": "stderr",
     "output_type": "stream",
     "text": [
      "openscm_runner.adapters.magicc7._magicc_instances - INFO: Creating new magicc instance: (7, 'MainProcess') - /tmp/gaurav/pymagicc-1nvjjna0\n",
      "openscm_runner.adapters.magicc7._run_magicc_parallel - INFO: Setting up MAGICC worker in /tmp/gaurav/pymagicc-1nvjjna0\n",
      "openscm_runner.adapters.magicc7._run_magicc_parallel - INFO: Writing Pymagicc compatible MAGCFG_USER.CFG in /tmp/gaurav/pymagicc-1nvjjna0/run\n",
      "/home/gaurav/.conda/envs/cdr_climate_uncertainty/lib/python3.10/site-packages/pymagicc/core.py:387: UserWarning: Not reading file: DAT_HEATCONT_EBALANCE_SUBANN.BINOUT. Monthly data are not read in automatically by `run`. Use `MAGICCData` instead.\n",
      "  warnings.warn(\n",
      "/home/gaurav/.conda/envs/cdr_climate_uncertainty/lib/python3.10/site-packages/pymagicc/core.py:387: UserWarning: Not reading file: DAT_HEATUPTK_EBALANCE_SUBANN.BINOUT. Monthly data are not read in automatically by `run`. Use `MAGICCData` instead.\n",
      "  warnings.warn(\n"
     ]
    },
    {
     "data": {
      "application/vnd.jupyter.widget-view+json": {
       "model_id": "233115551b3f4088b52f51f7f4257ce7",
       "version_major": 2,
       "version_minor": 0
      },
      "text/plain": [
       "Front parallel: 0.00it [00:00, ?it/s]"
      ]
     },
     "metadata": {},
     "output_type": "display_data"
    },
    {
     "data": {
      "application/vnd.jupyter.widget-view+json": {
       "model_id": "48946cf4b2f848ebac9fd51213cc3229",
       "version_major": 2,
       "version_minor": 0
      },
      "text/plain": [
       "Parallel runs: 0.00it [00:00, ?it/s]"
      ]
     },
     "metadata": {},
     "output_type": "display_data"
    },
    {
     "name": "stderr",
     "output_type": "stream",
     "text": [
      "openscm_runner.adapters.magicc7._run_magicc_parallel - INFO: Appending results into a single ScmRun\n",
      "openscm_runner.adapters.magicc7._magicc_instances - INFO: removing /tmp/gaurav/pymagicc-1nvjjna0\n",
      "openscm_runner.adapters.magicc7._run_magicc_parallel - INFO: Shutting down parallel pool\n",
      "openscm_runner.run - INFO: Only one model run, returning its results\n"
     ]
    }
   ],
   "source": [
    "cdr_pathway, temperature_pathway = compile_necessary_output_files(result)"
   ]
  },
  {
   "cell_type": "code",
   "execution_count": 43,
   "metadata": {},
   "outputs": [
    {
     "data": {
      "text/plain": [
       " message: Solution found.\n",
       " success: True\n",
       "  status: 0\n",
       "     fun: 7.49673456645894e-08\n",
       "       x: 89.7082988507232\n",
       "     nit: 19\n",
       "    nfev: 19"
      ]
     },
     "execution_count": 43,
     "metadata": {},
     "output_type": "execute_result"
    }
   ],
   "source": [
    "result"
   ]
  },
  {
   "cell_type": "code",
   "execution_count": 44,
   "metadata": {},
   "outputs": [
    {
     "name": "stderr",
     "output_type": "stream",
     "text": [
      "/home/gaurav/.conda/envs/cdr_climate_uncertainty/lib/python3.10/site-packages/pyam/plotting.py:1073: FutureWarning: iteritems is deprecated and will be removed in a future version. Use .items instead.\n",
      "  for col, data in df.iteritems():\n",
      "/home/gaurav/.conda/envs/cdr_climate_uncertainty/lib/python3.10/site-packages/pyam/plotting.py:1073: FutureWarning: iteritems is deprecated and will be removed in a future version. Use .items instead.\n",
      "  for col, data in df.iteritems():\n",
      "/home/gaurav/.conda/envs/cdr_climate_uncertainty/lib/python3.10/site-packages/scmdata/plotting.py:79: FutureWarning: \n",
      "\n",
      "The `ci` parameter is deprecated. Use `errorbar='sd'` for the same effect.\n",
      "\n",
      "  ax = sns.lineplot(data=plt_df, **kwargs)\n"
     ]
    },
    {
     "data": {
      "text/plain": [
       "<matplotlib.lines.Line2D at 0x7f74317e0a90>"
      ]
     },
     "execution_count": 44,
     "metadata": {},
     "output_type": "execute_result"
    },
    {
     "data": {
      "image/png": "[encoded data removed]",
      "text/plain": [
       "<Figure size 1000x500 with 2 Axes>"
      ]
     },
     "metadata": {},
     "output_type": "display_data"
    }
   ],
   "source": [
    "fig, ax = plt.subplots(1, 2, figsize=(10, 5))\n",
    "\n",
    "# First, plot the CDR pathway\n",
    "cdr_pathway.plot(ax=ax[0])\n",
    "novel_cdr_original_filtered.plot(ax=ax[0], color='black', linestyle='--')\n",
    "\n",
    "# Plot the temperature\n",
    "temperature_pathway.filter(year=range(1850, 2100)).line_plot(ax=ax[1])\n",
    "ax[1].axhline(1.5, color='black')"
   ]
  },
  {
   "cell_type": "markdown",
   "metadata": {},
   "source": [
    "Save the files out for further assessment."
   ]
  },
  {
   "cell_type": "code",
   "execution_count": 45,
   "metadata": {},
   "outputs": [],
   "source": [
    "output_path=os.environ['OUTPUT_PATH']"
   ]
  },
  {
   "cell_type": "code",
   "execution_count": 46,
   "metadata": {},
   "outputs": [],
   "source": [
    "if '/' in MODEL:\n",
    "    MODEL=MODEL.replace('/', '-')"
   ]
  },
  {
   "cell_type": "code",
   "execution_count": 47,
   "metadata": {},
   "outputs": [],
   "source": [
    "cdr_output = Path(\n",
    "    f\"{output_path}/results/CDR_{MODEL}_{SCENARIO}_{ENSEMBLE_MEMBER}.csv\"\n",
    ")\n",
    "temp_output = Path(\n",
    "    f\"{output_path}/results/TEMP_{MODEL}_{SCENARIO}_{ENSEMBLE_MEMBER}.csv\"\n",
    ")"
   ]
  },
  {
   "cell_type": "code",
   "execution_count": 48,
   "metadata": {},
   "outputs": [],
   "source": [
    "cdr_pathway.to_csv(\n",
    "    cdr_output\n",
    ")"
   ]
  },
  {
   "cell_type": "code",
   "execution_count": 49,
   "metadata": {},
   "outputs": [],
   "source": [
    "temperature_pathway.to_csv(\n",
    "    temp_output\n",
    ")"
   ]
  },
  {
   "cell_type": "code",
   "execution_count": 50,
   "metadata": {},
   "outputs": [
    {
     "data": {
      "text/plain": [
       "PosixPath('/mnt/PROVIDE/gaurav/results/CDR_REMIND-MAgPIE 2.1-4.3_DeepElec_SSP2_ HighRE_Budg900_4.csv')"
      ]
     },
     "execution_count": 50,
     "metadata": {},
     "output_type": "execute_result"
    }
   ],
   "source": [
    "cdr_output"
   ]
  },
  {
   "cell_type": "code",
   "execution_count": 51,
   "metadata": {},
   "outputs": [
    {
     "data": {
      "text/plain": [
       "PosixPath('/mnt/PROVIDE/gaurav/results/TEMP_REMIND-MAgPIE 2.1-4.3_DeepElec_SSP2_ HighRE_Budg900_4.csv')"
      ]
     },
     "execution_count": 51,
     "metadata": {},
     "output_type": "execute_result"
    }
   ],
   "source": [
    "temp_output"
   ]
  },
  {
   "cell_type": "code",
   "execution_count": null,
   "metadata": {},
   "outputs": [],
   "source": []
  }
 ],
 "metadata": {
  "kernelspec": {
   "display_name": "Python 3 (ipykernel)",
   "language": "python",
   "name": "python3"
  },
  "language_info": {
   "codemirror_mode": {
    "name": "ipython",
    "version": 3
   },
   "file_extension": ".py",
   "mimetype": "text/x-python",
   "name": "python",
   "nbconvert_exporter": "python",
   "pygments_lexer": "ipython3",
   "version": "3.10.13"
  }
 },
 "nbformat": 4,
 "nbformat_minor": 4
}
