{
 "cells": [
  {
   "cell_type": "markdown",
   "metadata": {},
   "source": [
    "# 301 Calculate CO2 drawdown\n",
    "\n",
    "In this notebook, we assess the CO2 drawdown per scenario."
   ]
  },
  {
   "cell_type": "code",
   "execution_count": 1,
   "metadata": {},
   "outputs": [
    {
     "data": {
      "application/javascript": "if (typeof IPython !== 'undefined') { IPython.OutputArea.prototype._should_scroll = function(lines){ return false; }}",
      "text/plain": [
       "<IPython.core.display.Javascript object>"
      ]
     },
     "metadata": {},
     "output_type": "display_data"
    },
    {
     "name": "stderr",
     "output_type": "stream",
     "text": [
      "/Users/gauravganti/opt/anaconda3/envs/cdr_climate_uncertainty/lib/python3.10/site-packages/scmdata/database/_database.py:9: TqdmExperimentalWarning: Using `tqdm.autonotebook.tqdm` in notebook mode. Use `tqdm.tqdm` instead to force console mode (e.g. in jupyter console)\n",
      "  import tqdm.autonotebook as tqdman\n"
     ]
    }
   ],
   "source": [
    "import pyam\n",
    "import pandas as pd\n",
    "import numpy as np\n",
    "import scmdata\n",
    "from utils import (\n",
    "    assign_warming_levels,\n",
    "    _prep_df_for_subtract\n",
    ")\n",
    "\n",
    "from pathlib import Path\n",
    "%load_ext autoreload\n",
    "%autoreload 2"
   ]
  },
  {
   "cell_type": "markdown",
   "metadata": {},
   "source": [
    "## Read in the necessary data"
   ]
  },
  {
   "cell_type": "markdown",
   "metadata": {},
   "source": [
    "For this analysis, we want to compare the temperature drawdown across two cases:\n",
    "1. The original multi-gas pathway run through MAGICC for all gases\n",
    "2. The multi-gas pathway flat lined after net zero run through MAGICC for all gases"
   ]
  },
  {
   "cell_type": "code",
   "execution_count": 2,
   "metadata": {},
   "outputs": [
    {
     "name": "stderr",
     "output_type": "stream",
     "text": [
      "pyam - INFO: Running in a notebook, setting up a basic logging at level INFO\n",
      "pyam.core - INFO: Reading file ../data/201_original_all_ghg_temps.csv\n"
     ]
    }
   ],
   "source": [
    "df_original_ghg = pyam.IamDataFrame(\n",
    "    Path(\n",
    "        '../data/201_original_all_ghg_temps.csv'\n",
    "    )\n",
    ")"
   ]
  },
  {
   "cell_type": "code",
   "execution_count": 3,
   "metadata": {},
   "outputs": [
    {
     "name": "stderr",
     "output_type": "stream",
     "text": [
      "pyam.core - INFO: Reading file ../data/202_netzeroCO2_all_ghg_temps.csv\n"
     ]
    }
   ],
   "source": [
    "df_netzero_ghg = pyam.IamDataFrame(\n",
    "    Path(\n",
    "        '../data/202_netzeroCO2_all_ghg_temps.csv'\n",
    "    )\n",
    ")"
   ]
  },
  {
   "cell_type": "code",
   "execution_count": 4,
   "metadata": {},
   "outputs": [
    {
     "data": {
      "text/plain": [
       "['DeepElec_SSP2_ HighRE_Budg900_NZCO2',\n",
       " 'EN_NPi2020_400f_lowBECCS_NZCO2',\n",
       " 'SusDev_SDP-PkBudg1000_NZCO2']"
      ]
     },
     "execution_count": 4,
     "metadata": {},
     "output_type": "execute_result"
    }
   ],
   "source": [
    "df_netzero_ghg.scenario"
   ]
  },
  {
   "cell_type": "markdown",
   "metadata": {},
   "source": [
    "## Data processing"
   ]
  },
  {
   "cell_type": "markdown",
   "metadata": {},
   "source": [
    "Step 1: Calculate the drawdown for each dataframe"
   ]
  },
  {
   "cell_type": "code",
   "execution_count": 5,
   "metadata": {},
   "outputs": [],
   "source": [
    "drawdown_original = assign_warming_levels(\n",
    "    df_original_ghg\n",
    ")"
   ]
  },
  {
   "cell_type": "code",
   "execution_count": 6,
   "metadata": {},
   "outputs": [],
   "source": [
    "drawdown_netzero = assign_warming_levels(\n",
    "    df_netzero_ghg\n",
    ")"
   ]
  },
  {
   "cell_type": "markdown",
   "metadata": {},
   "source": [
    "Step 2: Rename the netzero scenario column so that we can subtract the two dataframes."
   ]
  },
  {
   "cell_type": "code",
   "execution_count": 7,
   "metadata": {},
   "outputs": [],
   "source": [
    "drawdown_netzero_for_metrics = drawdown_netzero.copy()"
   ]
  },
  {
   "cell_type": "code",
   "execution_count": 8,
   "metadata": {},
   "outputs": [],
   "source": [
    "drawdown_original_for_metrics = drawdown_original.copy()"
   ]
  },
  {
   "cell_type": "code",
   "execution_count": 9,
   "metadata": {},
   "outputs": [],
   "source": [
    "drawdown_netzero_for_metrics.loc[:,'scenario'] = (\n",
    "    drawdown_netzero_for_metrics.loc[:,'scenario']\n",
    "    .apply(\n",
    "        lambda x: x.replace('_NZCO2','')\n",
    "    )\n",
    ")"
   ]
  },
  {
   "cell_type": "markdown",
   "metadata": {},
   "source": [
    "Step 3: Pull out the necessary columns for calculations"
   ]
  },
  {
   "cell_type": "code",
   "execution_count": 10,
   "metadata": {},
   "outputs": [],
   "source": [
    "drawdown_original_for_metrics = _prep_df_for_subtract(\n",
    "    drawdown_original_for_metrics,\n",
    "    cols='drawdown'\n",
    ")"
   ]
  },
  {
   "cell_type": "code",
   "execution_count": 11,
   "metadata": {},
   "outputs": [],
   "source": [
    "drawdown_netzero_for_metrics = _prep_df_for_subtract(\n",
    "    drawdown_netzero_for_metrics,\n",
    "    cols='drawdown'\n",
    ")"
   ]
  },
  {
   "cell_type": "markdown",
   "metadata": {},
   "source": [
    "Step 4: Calculate the drawdown due to CO2"
   ]
  },
  {
   "cell_type": "code",
   "execution_count": 12,
   "metadata": {},
   "outputs": [],
   "source": [
    "drawdown_co2 = pd.DataFrame(\n",
    "    drawdown_netzero_for_metrics\n",
    "    -\n",
    "    drawdown_original_for_metrics\n",
    ")"
   ]
  },
  {
   "cell_type": "markdown",
   "metadata": {},
   "source": [
    "Step 5: Rename the drawdown column"
   ]
  },
  {
   "cell_type": "code",
   "execution_count": 13,
   "metadata": {},
   "outputs": [],
   "source": [
    "drawdown_co2.rename(\n",
    "    columns={\n",
    "        'drawdown':'drawdown_co2'\n",
    "    },\n",
    "    inplace=True\n",
    ")"
   ]
  },
  {
   "cell_type": "markdown",
   "metadata": {},
   "source": [
    "## Save out the data"
   ]
  },
  {
   "cell_type": "code",
   "execution_count": 14,
   "metadata": {},
   "outputs": [],
   "source": [
    "drawdown_co2.to_csv(\n",
    "    Path(\n",
    "        '../data/301_co2_drawdown.csv'\n",
    "    )\n",
    ")"
   ]
  }
 ],
 "metadata": {
  "kernelspec": {
   "display_name": "cdr_climate_uncertainty",
   "language": "python",
   "name": "python3"
  },
  "language_info": {
   "codemirror_mode": {
    "name": "ipython",
    "version": 3
   },
   "file_extension": ".py",
   "mimetype": "text/x-python",
   "name": "python",
   "nbconvert_exporter": "python",
   "pygments_lexer": "ipython3",
   "version": "3.10.12"
  },
  "orig_nbformat": 4
 },
 "nbformat": 4,
 "nbformat_minor": 2
}
