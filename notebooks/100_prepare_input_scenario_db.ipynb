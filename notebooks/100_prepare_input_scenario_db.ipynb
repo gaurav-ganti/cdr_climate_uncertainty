{
 "cells": [
  {
   "cell_type": "markdown",
   "metadata": {},
   "source": [
    "# 100 Prepare input scenario database\n",
    "In this notebook, we will prepare the input scenario database."
   ]
  },
  {
   "cell_type": "code",
   "execution_count": 1,
   "metadata": {},
   "outputs": [
    {
     "data": {
      "application/javascript": "\n            setTimeout(function() {\n                var nbb_cell_id = 1;\n                var nbb_unformatted_code = \"%load_ext nb_black\\n%load_ext autoreload\\n%autoreload 2\";\n                var nbb_formatted_code = \"%load_ext nb_black\\n%load_ext autoreload\\n%autoreload 2\";\n                var nbb_cells = Jupyter.notebook.get_cells();\n                for (var i = 0; i < nbb_cells.length; ++i) {\n                    if (nbb_cells[i].input_prompt_number == nbb_cell_id) {\n                        if (nbb_cells[i].get_text() == nbb_unformatted_code) {\n                             nbb_cells[i].set_text(nbb_formatted_code);\n                        }\n                        break;\n                    }\n                }\n            }, 500);\n            ",
      "text/plain": [
       "<IPython.core.display.Javascript object>"
      ]
     },
     "metadata": {},
     "output_type": "display_data"
    }
   ],
   "source": [
    "%load_ext nb_black\n",
    "%load_ext autoreload\n",
    "%autoreload 2"
   ]
  },
  {
   "cell_type": "code",
   "execution_count": 2,
   "metadata": {
    "tags": [
     "parameters"
    ]
   },
   "outputs": [
    {
     "data": {
      "application/javascript": "\n            setTimeout(function() {\n                var nbb_cell_id = 2;\n                var nbb_unformatted_code = \"AR6_FILTERS = {\\n    'IMP_marker':[\\n        'SP', 'Ren'\\n    ],\\n    #'Category':'C1'\\n}\";\n                var nbb_formatted_code = \"AR6_FILTERS = {\\n    \\\"IMP_marker\\\": [\\\"SP\\\", \\\"Ren\\\"],\\n    #'Category':'C1'\\n}\";\n                var nbb_cells = Jupyter.notebook.get_cells();\n                for (var i = 0; i < nbb_cells.length; ++i) {\n                    if (nbb_cells[i].input_prompt_number == nbb_cell_id) {\n                        if (nbb_cells[i].get_text() == nbb_unformatted_code) {\n                             nbb_cells[i].set_text(nbb_formatted_code);\n                        }\n                        break;\n                    }\n                }\n            }, 500);\n            ",
      "text/plain": [
       "<IPython.core.display.Javascript object>"
      ]
     },
     "metadata": {},
     "output_type": "display_data"
    }
   ],
   "source": [
    "AR6_FILTERS = {\n",
    "    'IMP_marker':[\n",
    "        'SP', 'Ren'\n",
    "    ],\n",
    "    #'Category':'C1'\n",
    "}"
   ]
  },
  {
   "cell_type": "code",
   "execution_count": 3,
   "metadata": {},
   "outputs": [
    {
     "data": {
      "application/javascript": "if (typeof IPython !== 'undefined') { IPython.OutputArea.prototype._should_scroll = function(lines){ return false; }}",
      "text/plain": [
       "<IPython.core.display.Javascript object>"
      ]
     },
     "metadata": {},
     "output_type": "display_data"
    },
    {
     "name": "stderr",
     "output_type": "stream",
     "text": [
      "/Users/gauravganti/opt/anaconda3/envs/cdr_climate_uncertainty/lib/python3.10/site-packages/scmdata/database/_database.py:9: TqdmExperimentalWarning: Using `tqdm.autonotebook.tqdm` in notebook mode. Use `tqdm.tqdm` instead to force console mode (e.g. in jupyter console)\n",
      "  import tqdm.autonotebook as tqdman\n"
     ]
    },
    {
     "data": {
      "application/javascript": "\n            setTimeout(function() {\n                var nbb_cell_id = 3;\n                var nbb_unformatted_code = \"import pyam\\nimport pandas as pd\\nimport matplotlib.pyplot as plt\\n\\nfrom pathlib import Path\\nimport dotenv\\nimport os\\n\\nfrom utils import calculate_netzero\\n\\nimport sys\\nsys.path.append('../scripts')\\nfrom cdr import compile_novel_cdr_estimates\";\n                var nbb_formatted_code = \"import pyam\\nimport pandas as pd\\nimport matplotlib.pyplot as plt\\n\\nfrom pathlib import Path\\nimport dotenv\\nimport os\\n\\nfrom utils import calculate_netzero\\n\\nimport sys\\n\\nsys.path.append(\\\"../scripts\\\")\\nfrom cdr import compile_novel_cdr_estimates\";\n                var nbb_cells = Jupyter.notebook.get_cells();\n                for (var i = 0; i < nbb_cells.length; ++i) {\n                    if (nbb_cells[i].input_prompt_number == nbb_cell_id) {\n                        if (nbb_cells[i].get_text() == nbb_unformatted_code) {\n                             nbb_cells[i].set_text(nbb_formatted_code);\n                        }\n                        break;\n                    }\n                }\n            }, 500);\n            ",
      "text/plain": [
       "<IPython.core.display.Javascript object>"
      ]
     },
     "metadata": {},
     "output_type": "display_data"
    }
   ],
   "source": [
    "import pyam\n",
    "import pandas as pd\n",
    "import matplotlib.pyplot as plt\n",
    "\n",
    "from pathlib import Path\n",
    "import dotenv\n",
    "import os\n",
    "\n",
    "from utils import calculate_netzero\n",
    "\n",
    "import sys\n",
    "sys.path.append('../scripts')\n",
    "from cdr import compile_novel_cdr_estimates"
   ]
  },
  {
   "cell_type": "code",
   "execution_count": 4,
   "metadata": {},
   "outputs": [
    {
     "data": {
      "text/plain": [
       "True"
      ]
     },
     "execution_count": 4,
     "metadata": {},
     "output_type": "execute_result"
    },
    {
     "data": {
      "application/javascript": "\n            setTimeout(function() {\n                var nbb_cell_id = 4;\n                var nbb_unformatted_code = \"dotenv.load_dotenv()\";\n                var nbb_formatted_code = \"dotenv.load_dotenv()\";\n                var nbb_cells = Jupyter.notebook.get_cells();\n                for (var i = 0; i < nbb_cells.length; ++i) {\n                    if (nbb_cells[i].input_prompt_number == nbb_cell_id) {\n                        if (nbb_cells[i].get_text() == nbb_unformatted_code) {\n                             nbb_cells[i].set_text(nbb_formatted_code);\n                        }\n                        break;\n                    }\n                }\n            }, 500);\n            ",
      "text/plain": [
       "<IPython.core.display.Javascript object>"
      ]
     },
     "metadata": {},
     "output_type": "display_data"
    }
   ],
   "source": [
    "dotenv.load_dotenv()"
   ]
  },
  {
   "cell_type": "markdown",
   "metadata": {},
   "source": [
    "## Read in the input dataframe\n",
    "The file should be in the `data` folder and is called: `20220314_ar6emissions_harmonized_infilled.csv`"
   ]
  },
  {
   "cell_type": "code",
   "execution_count": 5,
   "metadata": {},
   "outputs": [
    {
     "name": "stderr",
     "output_type": "stream",
     "text": [
      "pyam.core - INFO: Reading file ../data/20220314_ar6emissions_harmonized_infilled.csv\n"
     ]
    },
    {
     "data": {
      "application/javascript": "\n            setTimeout(function() {\n                var nbb_cell_id = 5;\n                var nbb_unformatted_code = \"df_input = pyam.IamDataFrame(\\n    Path(\\n        '../data/20220314_ar6emissions_harmonized_infilled.csv'\\n    )\\n)\";\n                var nbb_formatted_code = \"df_input = pyam.IamDataFrame(\\n    Path(\\\"../data/20220314_ar6emissions_harmonized_infilled.csv\\\")\\n)\";\n                var nbb_cells = Jupyter.notebook.get_cells();\n                for (var i = 0; i < nbb_cells.length; ++i) {\n                    if (nbb_cells[i].input_prompt_number == nbb_cell_id) {\n                        if (nbb_cells[i].get_text() == nbb_unformatted_code) {\n                             nbb_cells[i].set_text(nbb_formatted_code);\n                        }\n                        break;\n                    }\n                }\n            }, 500);\n            ",
      "text/plain": [
       "<IPython.core.display.Javascript object>"
      ]
     },
     "metadata": {},
     "output_type": "display_data"
    }
   ],
   "source": [
    "df_input = pyam.IamDataFrame(\n",
    "    Path(\n",
    "        '../data/20220314_ar6emissions_harmonized_infilled.csv'\n",
    "    )\n",
    ")"
   ]
  },
  {
   "cell_type": "markdown",
   "metadata": {},
   "source": [
    "For now, we will also add in the metadata that comes along with the AR6 scenario database."
   ]
  },
  {
   "cell_type": "code",
   "execution_count": 6,
   "metadata": {},
   "outputs": [
    {
     "name": "stderr",
     "output_type": "stream",
     "text": [
      "pyam.core - WARNING: No meta indicators for the following scenarios:\n",
      "         model           scenario\n",
      "0  AIM/CGE 2.2  EN_INDCi2030_1000\n",
      "1  AIM/CGE 2.2  EN_INDCi2030_500f\n",
      "2  AIM/CGE 2.2  EN_INDCi2030_600f\n",
      "3  AIM/CGE 2.2  EN_INDCi2030_700f\n",
      "4  AIM/CGE 2.2   EN_INDCi2030_800\n",
      "...\n",
      "pyam.core - WARNING: Ignoring meta indicators for the following scenarios:\n",
      "         model     scenario\n",
      "0  AIM/CGE 2.1  CO_2Deg2020\n",
      "1  AIM/CGE 2.1  CO_2Deg2030\n",
      "2  AIM/CGE 2.1       CO_BAU\n",
      "3  AIM/CGE 2.1       CO_GPP\n",
      "4  AIM/CGE 2.1   CO_NDCplus\n",
      "...\n"
     ]
    },
    {
     "data": {
      "application/javascript": "\n            setTimeout(function() {\n                var nbb_cell_id = 6;\n                var nbb_unformatted_code = \"df_input.load_meta(\\n    Path(\\n        os.environ['AR6_META']\\n    )\\n)\";\n                var nbb_formatted_code = \"df_input.load_meta(Path(os.environ[\\\"AR6_META\\\"]))\";\n                var nbb_cells = Jupyter.notebook.get_cells();\n                for (var i = 0; i < nbb_cells.length; ++i) {\n                    if (nbb_cells[i].input_prompt_number == nbb_cell_id) {\n                        if (nbb_cells[i].get_text() == nbb_unformatted_code) {\n                             nbb_cells[i].set_text(nbb_formatted_code);\n                        }\n                        break;\n                    }\n                }\n            }, 500);\n            ",
      "text/plain": [
       "<IPython.core.display.Javascript object>"
      ]
     },
     "metadata": {},
     "output_type": "display_data"
    }
   ],
   "source": [
    "df_input.load_meta(\n",
    "    Path(\n",
    "        os.environ['AR6_META']\n",
    "    )\n",
    ")"
   ]
  },
  {
   "cell_type": "markdown",
   "metadata": {},
   "source": [
    "We will also need the original scenario database for the CDR variables."
   ]
  },
  {
   "cell_type": "code",
   "execution_count": 7,
   "metadata": {},
   "outputs": [
    {
     "data": {
      "application/javascript": "\n            setTimeout(function() {\n                var nbb_cell_id = 7;\n                var nbb_unformatted_code = \"df_ar6_csv = pd.read_csv(\\n    Path(\\n        os.environ['AR6_GLOBAL']\\n    )\\n)\";\n                var nbb_formatted_code = \"df_ar6_csv = pd.read_csv(Path(os.environ[\\\"AR6_GLOBAL\\\"]))\";\n                var nbb_cells = Jupyter.notebook.get_cells();\n                for (var i = 0; i < nbb_cells.length; ++i) {\n                    if (nbb_cells[i].input_prompt_number == nbb_cell_id) {\n                        if (nbb_cells[i].get_text() == nbb_unformatted_code) {\n                             nbb_cells[i].set_text(nbb_formatted_code);\n                        }\n                        break;\n                    }\n                }\n            }, 500);\n            ",
      "text/plain": [
       "<IPython.core.display.Javascript object>"
      ]
     },
     "metadata": {},
     "output_type": "display_data"
    }
   ],
   "source": [
    "df_ar6_csv = pd.read_csv(\n",
    "    Path(\n",
    "        os.environ['AR6_GLOBAL']\n",
    "    )\n",
    ")"
   ]
  },
  {
   "cell_type": "code",
   "execution_count": 8,
   "metadata": {},
   "outputs": [
    {
     "data": {
      "application/javascript": "\n            setTimeout(function() {\n                var nbb_cell_id = 8;\n                var nbb_unformatted_code = \"df_ar6_csv = df_ar6_csv[df_ar6_csv.Variable.str.contains('Carbon Sequestration')]\";\n                var nbb_formatted_code = \"df_ar6_csv = df_ar6_csv[df_ar6_csv.Variable.str.contains(\\\"Carbon Sequestration\\\")]\";\n                var nbb_cells = Jupyter.notebook.get_cells();\n                for (var i = 0; i < nbb_cells.length; ++i) {\n                    if (nbb_cells[i].input_prompt_number == nbb_cell_id) {\n                        if (nbb_cells[i].get_text() == nbb_unformatted_code) {\n                             nbb_cells[i].set_text(nbb_formatted_code);\n                        }\n                        break;\n                    }\n                }\n            }, 500);\n            ",
      "text/plain": [
       "<IPython.core.display.Javascript object>"
      ]
     },
     "metadata": {},
     "output_type": "display_data"
    }
   ],
   "source": [
    "df_ar6_csv = df_ar6_csv[df_ar6_csv.Variable.str.contains('Carbon Sequestration')]"
   ]
  },
  {
   "cell_type": "code",
   "execution_count": 9,
   "metadata": {},
   "outputs": [
    {
     "data": {
      "text/plain": [
       "array(['Carbon Sequestration|CCS', 'Carbon Sequestration|CCS|Biomass',\n",
       "       'Carbon Sequestration|CCS|Biomass|Energy|Supply',\n",
       "       'Carbon Sequestration|CCS|Biomass|Energy|Supply|Electricity',\n",
       "       'Carbon Sequestration|CCS|Biomass|Energy|Supply|Liquids',\n",
       "       'Carbon Sequestration|CCS|Fossil',\n",
       "       'Carbon Sequestration|CCS|Fossil|Energy|Demand|Industry',\n",
       "       'Carbon Sequestration|CCS|Fossil|Energy|Supply',\n",
       "       'Carbon Sequestration|CCS|Fossil|Energy|Supply|Electricity',\n",
       "       'Carbon Sequestration|CCS|Fossil|Energy|Supply|Liquids',\n",
       "       'Carbon Sequestration|Land Use',\n",
       "       'Carbon Sequestration|Land Use|Afforestation',\n",
       "       'Carbon Sequestration|CCS|Industrial Processes',\n",
       "       'Carbon Sequestration|CCS|Biomass|Energy',\n",
       "       'Carbon Sequestration|CCS|Fossil|Energy',\n",
       "       'Carbon Sequestration|CCS|Fossil|Industrial Processes',\n",
       "       'Carbon Sequestration|Direct Air Capture',\n",
       "       'Carbon Sequestration|Enhanced Weathering',\n",
       "       'Carbon Sequestration|Land Use|Biochar',\n",
       "       'Carbon Sequestration|Land Use|Soil Carbon Management',\n",
       "       'Carbon Sequestration|CCS|Biomass|Energy|Supply|Gases',\n",
       "       'Carbon Sequestration|CCS|Fossil|Energy|Supply|Gases',\n",
       "       'Carbon Sequestration|Other',\n",
       "       'Carbon Sequestration|CCS|Biomass|Energy|Demand|Industry',\n",
       "       'Carbon Sequestration|CCS|Biomass|Energy|Supply|Hydrogen',\n",
       "       'Carbon Sequestration|CCS|Fossil|Energy|Supply|Hydrogen',\n",
       "       'Carbon Sequestration|CCS|Biomass|Energy|Supply|Other',\n",
       "       'Carbon Sequestration|CCS|Biomass|Industrial Processes',\n",
       "       'Carbon Sequestration|CCS|Fossil|Energy|Supply|Other',\n",
       "       'Carbon Sequestration|Feedstocks',\n",
       "       'Carbon Sequestration|Land Use|Other'], dtype=object)"
      ]
     },
     "execution_count": 9,
     "metadata": {},
     "output_type": "execute_result"
    },
    {
     "data": {
      "application/javascript": "\n            setTimeout(function() {\n                var nbb_cell_id = 9;\n                var nbb_unformatted_code = \"df_ar6_csv.Variable.unique()\";\n                var nbb_formatted_code = \"df_ar6_csv.Variable.unique()\";\n                var nbb_cells = Jupyter.notebook.get_cells();\n                for (var i = 0; i < nbb_cells.length; ++i) {\n                    if (nbb_cells[i].input_prompt_number == nbb_cell_id) {\n                        if (nbb_cells[i].get_text() == nbb_unformatted_code) {\n                             nbb_cells[i].set_text(nbb_formatted_code);\n                        }\n                        break;\n                    }\n                }\n            }, 500);\n            ",
      "text/plain": [
       "<IPython.core.display.Javascript object>"
      ]
     },
     "metadata": {},
     "output_type": "display_data"
    }
   ],
   "source": [
    "df_ar6_csv.Variable.unique()"
   ]
  },
  {
   "cell_type": "code",
   "execution_count": 10,
   "metadata": {},
   "outputs": [
    {
     "data": {
      "application/javascript": "\n            setTimeout(function() {\n                var nbb_cell_id = 10;\n                var nbb_unformatted_code = \"df_ar6 = pyam.IamDataFrame(\\n    df_ar6_csv\\n)\";\n                var nbb_formatted_code = \"df_ar6 = pyam.IamDataFrame(df_ar6_csv)\";\n                var nbb_cells = Jupyter.notebook.get_cells();\n                for (var i = 0; i < nbb_cells.length; ++i) {\n                    if (nbb_cells[i].input_prompt_number == nbb_cell_id) {\n                        if (nbb_cells[i].get_text() == nbb_unformatted_code) {\n                             nbb_cells[i].set_text(nbb_formatted_code);\n                        }\n                        break;\n                    }\n                }\n            }, 500);\n            ",
      "text/plain": [
       "<IPython.core.display.Javascript object>"
      ]
     },
     "metadata": {},
     "output_type": "display_data"
    }
   ],
   "source": [
    "df_ar6 = pyam.IamDataFrame(\n",
    "    df_ar6_csv\n",
    ")"
   ]
  },
  {
   "cell_type": "code",
   "execution_count": 11,
   "metadata": {},
   "outputs": [
    {
     "name": "stderr",
     "output_type": "stream",
     "text": [
      "pyam.core - WARNING: Ignoring meta indicators for the following scenarios:\n",
      "         model                scenario\n",
      "0  AIM/CGE 2.0         EMF30_BCOC-EndU\n",
      "1  AIM/CGE 2.0          EMF30_Baseline\n",
      "2  AIM/CGE 2.0          EMF30_CH4-Only\n",
      "3  AIM/CGE 2.0        EMF30_D_BCOC-Red\n",
      "4  AIM/CGE 2.0  EMF30_D_CH4-ClimPolicy\n",
      "...\n"
     ]
    },
    {
     "data": {
      "application/javascript": "\n            setTimeout(function() {\n                var nbb_cell_id = 11;\n                var nbb_unformatted_code = \"df_ar6.load_meta(\\n    Path(\\n        os.environ['AR6_META']\\n    )\\n)\";\n                var nbb_formatted_code = \"df_ar6.load_meta(Path(os.environ[\\\"AR6_META\\\"]))\";\n                var nbb_cells = Jupyter.notebook.get_cells();\n                for (var i = 0; i < nbb_cells.length; ++i) {\n                    if (nbb_cells[i].input_prompt_number == nbb_cell_id) {\n                        if (nbb_cells[i].get_text() == nbb_unformatted_code) {\n                             nbb_cells[i].set_text(nbb_formatted_code);\n                        }\n                        break;\n                    }\n                }\n            }, 500);\n            ",
      "text/plain": [
       "<IPython.core.display.Javascript object>"
      ]
     },
     "metadata": {},
     "output_type": "display_data"
    }
   ],
   "source": [
    "df_ar6.load_meta(\n",
    "    Path(\n",
    "        os.environ['AR6_META']\n",
    "    )\n",
    ")"
   ]
  },
  {
   "cell_type": "markdown",
   "metadata": {},
   "source": [
    "## Data processing"
   ]
  },
  {
   "cell_type": "markdown",
   "metadata": {},
   "source": [
    "Step 1: Filter out the necessary scenarios"
   ]
  },
  {
   "cell_type": "code",
   "execution_count": 12,
   "metadata": {},
   "outputs": [
    {
     "data": {
      "application/javascript": "\n            setTimeout(function() {\n                var nbb_cell_id = 12;\n                var nbb_unformatted_code = \"df_proc = df_input.filter(\\n    **AR6_FILTERS\\n)\";\n                var nbb_formatted_code = \"df_proc = df_input.filter(**AR6_FILTERS)\";\n                var nbb_cells = Jupyter.notebook.get_cells();\n                for (var i = 0; i < nbb_cells.length; ++i) {\n                    if (nbb_cells[i].input_prompt_number == nbb_cell_id) {\n                        if (nbb_cells[i].get_text() == nbb_unformatted_code) {\n                             nbb_cells[i].set_text(nbb_formatted_code);\n                        }\n                        break;\n                    }\n                }\n            }, 500);\n            ",
      "text/plain": [
       "<IPython.core.display.Javascript object>"
      ]
     },
     "metadata": {},
     "output_type": "display_data"
    }
   ],
   "source": [
    "df_proc = df_input.filter(\n",
    "    **AR6_FILTERS\n",
    ")"
   ]
  },
  {
   "cell_type": "markdown",
   "metadata": {},
   "source": [
    "Step 2: Check if total CO2 emissions are reported."
   ]
  },
  {
   "cell_type": "code",
   "execution_count": 14,
   "metadata": {},
   "outputs": [
    {
     "data": {
      "text/html": [
       "<div>\n",
       "<style scoped>\n",
       "    .dataframe tbody tr th:only-of-type {\n",
       "        vertical-align: middle;\n",
       "    }\n",
       "\n",
       "    .dataframe tbody tr th {\n",
       "        vertical-align: top;\n",
       "    }\n",
       "\n",
       "    .dataframe thead th {\n",
       "        text-align: right;\n",
       "    }\n",
       "</style>\n",
       "<table border=\"1\" class=\"dataframe\">\n",
       "  <thead>\n",
       "    <tr style=\"text-align: right;\">\n",
       "      <th></th>\n",
       "      <th>model</th>\n",
       "      <th>scenario</th>\n",
       "      <th>variable</th>\n",
       "    </tr>\n",
       "  </thead>\n",
       "  <tbody>\n",
       "    <tr>\n",
       "      <th>0</th>\n",
       "      <td>REMIND-MAgPIE 2.1-4.2</td>\n",
       "      <td>SusDev_SDP-PkBudg1000</td>\n",
       "      <td>AR6 climate diagnostics|Infilled|Emissions|CO2</td>\n",
       "    </tr>\n",
       "    <tr>\n",
       "      <th>1</th>\n",
       "      <td>REMIND-MAgPIE 2.1-4.3</td>\n",
       "      <td>DeepElec_SSP2_ HighRE_Budg900</td>\n",
       "      <td>AR6 climate diagnostics|Infilled|Emissions|CO2</td>\n",
       "    </tr>\n",
       "  </tbody>\n",
       "</table>\n",
       "</div>"
      ],
      "text/plain": [
       "                   model                       scenario  \\\n",
       "0  REMIND-MAgPIE 2.1-4.2          SusDev_SDP-PkBudg1000   \n",
       "1  REMIND-MAgPIE 2.1-4.3  DeepElec_SSP2_ HighRE_Budg900   \n",
       "\n",
       "                                         variable  \n",
       "0  AR6 climate diagnostics|Infilled|Emissions|CO2  \n",
       "1  AR6 climate diagnostics|Infilled|Emissions|CO2  "
      ]
     },
     "execution_count": 14,
     "metadata": {},
     "output_type": "execute_result"
    },
    {
     "data": {
      "application/javascript": "\n            setTimeout(function() {\n                var nbb_cell_id = 14;\n                var nbb_unformatted_code = \"df_proc.require_data(\\n    variable='AR6 climate diagnostics|Infilled|Emissions|CO2'\\n)\";\n                var nbb_formatted_code = \"df_proc.require_data(variable=\\\"AR6 climate diagnostics|Infilled|Emissions|CO2\\\")\";\n                var nbb_cells = Jupyter.notebook.get_cells();\n                for (var i = 0; i < nbb_cells.length; ++i) {\n                    if (nbb_cells[i].input_prompt_number == nbb_cell_id) {\n                        if (nbb_cells[i].get_text() == nbb_unformatted_code) {\n                             nbb_cells[i].set_text(nbb_formatted_code);\n                        }\n                        break;\n                    }\n                }\n            }, 500);\n            ",
      "text/plain": [
       "<IPython.core.display.Javascript object>"
      ]
     },
     "metadata": {},
     "output_type": "display_data"
    }
   ],
   "source": [
    "df_proc.require_data(\n",
    "    variable='AR6 climate diagnostics|Infilled|Emissions|CO2'\n",
    ")"
   ]
  },
  {
   "cell_type": "markdown",
   "metadata": {},
   "source": [
    "Step 3: It appears not. So let us construct this variable."
   ]
  },
  {
   "cell_type": "code",
   "execution_count": null,
   "metadata": {},
   "outputs": [
    {
     "data": {
      "application/javascript": "\n            setTimeout(function() {\n                var nbb_cell_id = 14;\n                var nbb_unformatted_code = \"df_proc.aggregate(\\n    variable='AR6 climate diagnostics|Infilled|Emissions|CO2',\\n    components=[\\n        'AR6 climate diagnostics|Infilled|Emissions|CO2|Energy and Industrial Processes',\\n        'AR6 climate diagnostics|Infilled|Emissions|CO2|AFOLU'\\n    ],\\n    append=True\\n)\";\n                var nbb_formatted_code = \"df_proc.aggregate(\\n    variable=\\\"AR6 climate diagnostics|Infilled|Emissions|CO2\\\",\\n    components=[\\n        \\\"AR6 climate diagnostics|Infilled|Emissions|CO2|Energy and Industrial Processes\\\",\\n        \\\"AR6 climate diagnostics|Infilled|Emissions|CO2|AFOLU\\\",\\n    ],\\n    append=True,\\n)\";\n                var nbb_cells = Jupyter.notebook.get_cells();\n                for (var i = 0; i < nbb_cells.length; ++i) {\n                    if (nbb_cells[i].input_prompt_number == nbb_cell_id) {\n                        if (nbb_cells[i].get_text() == nbb_unformatted_code) {\n                             nbb_cells[i].set_text(nbb_formatted_code);\n                        }\n                        break;\n                    }\n                }\n            }, 500);\n            ",
      "text/plain": [
       "<IPython.core.display.Javascript object>"
      ]
     },
     "metadata": {},
     "output_type": "display_data"
    }
   ],
   "source": [
    "df_proc.aggregate(\n",
    "    variable='AR6 climate diagnostics|Infilled|Emissions|CO2',\n",
    "    components=[\n",
    "        'AR6 climate diagnostics|Infilled|Emissions|CO2|Energy and Industrial Processes',\n",
    "        'AR6 climate diagnostics|Infilled|Emissions|CO2|AFOLU'\n",
    "    ],\n",
    "    append=True\n",
    ")"
   ]
  },
  {
   "cell_type": "markdown",
   "metadata": {},
   "source": [
    "Step 4: Assign the year of net zero CO2."
   ]
  },
  {
   "cell_type": "code",
   "execution_count": null,
   "metadata": {},
   "outputs": [
    {
     "data": {
      "application/javascript": "\n            setTimeout(function() {\n                var nbb_cell_id = 16;\n                var nbb_unformatted_code = \"df_proc.set_meta(\\n    calculate_netzero(co2),\\n    'netzero|CO2'\\n)\";\n                var nbb_formatted_code = \"df_proc.set_meta(calculate_netzero(co2), \\\"netzero|CO2\\\")\";\n                var nbb_cells = Jupyter.notebook.get_cells();\n                for (var i = 0; i < nbb_cells.length; ++i) {\n                    if (nbb_cells[i].input_prompt_number == nbb_cell_id) {\n                        if (nbb_cells[i].get_text() == nbb_unformatted_code) {\n                             nbb_cells[i].set_text(nbb_formatted_code);\n                        }\n                        break;\n                    }\n                }\n            }, 500);\n            ",
      "text/plain": [
       "<IPython.core.display.Javascript object>"
      ]
     },
     "metadata": {},
     "output_type": "display_data"
    }
   ],
   "source": [
    "df_proc.set_meta(\n",
    "    meta=df_proc.meta['Year of netzero CO2 emissions (Harm-Infilled) Table SPM2'],\n",
    "    'netzero|CO2'\n",
    ")"
   ]
  },
  {
   "cell_type": "markdown",
   "metadata": {},
   "source": [
    "Step 5: Filter out for the novel CDR variables and the necessary scenarios in the AR6 scenario database."
   ]
  },
  {
   "cell_type": "code",
   "execution_count": null,
   "metadata": {},
   "outputs": [
    {
     "name": "stdout",
     "output_type": "stream",
     "text": [
      "{'novel_cdr_vars': ['Carbon Sequestration|Direct Air Capture', 'Carbon Sequestration|Enhanced Weathering', 'Carbon Sequestration|CCS|Biomass'], 'netzero_column': 'netzero|CO2'}\n",
      "['Carbon Sequestration|CCS|Biomass', 'Carbon Sequestration|Direct Air Capture', 'Carbon Sequestration|Enhanced Weathering']\n"
     ]
    },
    {
     "data": {
      "application/javascript": "\n            setTimeout(function() {\n                var nbb_cell_id = 17;\n                var nbb_unformatted_code = \"novel_cdr = compile_novel_cdr_estimates(\\n    df_ar6,\\n    AR6_FILTERS\\n)\";\n                var nbb_formatted_code = \"novel_cdr = compile_novel_cdr_estimates(df_ar6, AR6_FILTERS)\";\n                var nbb_cells = Jupyter.notebook.get_cells();\n                for (var i = 0; i < nbb_cells.length; ++i) {\n                    if (nbb_cells[i].input_prompt_number == nbb_cell_id) {\n                        if (nbb_cells[i].get_text() == nbb_unformatted_code) {\n                             nbb_cells[i].set_text(nbb_formatted_code);\n                        }\n                        break;\n                    }\n                }\n            }, 500);\n            ",
      "text/plain": [
       "<IPython.core.display.Javascript object>"
      ]
     },
     "metadata": {},
     "output_type": "display_data"
    }
   ],
   "source": [
    "novel_cdr = compile_novel_cdr_estimates(\n",
    "    df_ar6,\n",
    "    AR6_FILTERS\n",
    ")"
   ]
  },
  {
   "cell_type": "markdown",
   "metadata": {},
   "source": [
    "## Save out the data"
   ]
  },
  {
   "cell_type": "code",
   "execution_count": null,
   "metadata": {},
   "outputs": [
    {
     "data": {
      "application/javascript": "\n            setTimeout(function() {\n                var nbb_cell_id = 18;\n                var nbb_unformatted_code = \"df_proc.to_csv(\\n    Path(\\n        '../data/100_scenarios.csv'\\n    )\\n)\";\n                var nbb_formatted_code = \"df_proc.to_csv(Path(\\\"../data/100_scenarios.csv\\\"))\";\n                var nbb_cells = Jupyter.notebook.get_cells();\n                for (var i = 0; i < nbb_cells.length; ++i) {\n                    if (nbb_cells[i].input_prompt_number == nbb_cell_id) {\n                        if (nbb_cells[i].get_text() == nbb_unformatted_code) {\n                             nbb_cells[i].set_text(nbb_formatted_code);\n                        }\n                        break;\n                    }\n                }\n            }, 500);\n            ",
      "text/plain": [
       "<IPython.core.display.Javascript object>"
      ]
     },
     "metadata": {},
     "output_type": "display_data"
    }
   ],
   "source": [
    "df_proc.to_csv(\n",
    "    Path(\n",
    "        '../data/100_scenarios.csv'\n",
    "    )\n",
    ")"
   ]
  },
  {
   "cell_type": "code",
   "execution_count": null,
   "metadata": {},
   "outputs": [
    {
     "data": {
      "application/javascript": "\n            setTimeout(function() {\n                var nbb_cell_id = 19;\n                var nbb_unformatted_code = \"df_proc.export_meta(\\n    Path(\\n        '../data/100_meta.xlsx'\\n    )\\n)\";\n                var nbb_formatted_code = \"df_proc.export_meta(Path(\\\"../data/100_meta.xlsx\\\"))\";\n                var nbb_cells = Jupyter.notebook.get_cells();\n                for (var i = 0; i < nbb_cells.length; ++i) {\n                    if (nbb_cells[i].input_prompt_number == nbb_cell_id) {\n                        if (nbb_cells[i].get_text() == nbb_unformatted_code) {\n                             nbb_cells[i].set_text(nbb_formatted_code);\n                        }\n                        break;\n                    }\n                }\n            }, 500);\n            ",
      "text/plain": [
       "<IPython.core.display.Javascript object>"
      ]
     },
     "metadata": {},
     "output_type": "display_data"
    }
   ],
   "source": [
    "df_proc.export_meta(\n",
    "    Path(\n",
    "        '../data/100_meta.xlsx'\n",
    "    )\n",
    ")"
   ]
  },
  {
   "cell_type": "code",
   "execution_count": null,
   "metadata": {},
   "outputs": [
    {
     "data": {
      "application/javascript": "\n            setTimeout(function() {\n                var nbb_cell_id = 20;\n                var nbb_unformatted_code = \"novel_cdr.to_csv(\\n    Path(\\n        '../data/100_novel_cdr.csv'\\n    )\\n)\";\n                var nbb_formatted_code = \"novel_cdr.to_csv(Path(\\\"../data/100_novel_cdr.csv\\\"))\";\n                var nbb_cells = Jupyter.notebook.get_cells();\n                for (var i = 0; i < nbb_cells.length; ++i) {\n                    if (nbb_cells[i].input_prompt_number == nbb_cell_id) {\n                        if (nbb_cells[i].get_text() == nbb_unformatted_code) {\n                             nbb_cells[i].set_text(nbb_formatted_code);\n                        }\n                        break;\n                    }\n                }\n            }, 500);\n            ",
      "text/plain": [
       "<IPython.core.display.Javascript object>"
      ]
     },
     "metadata": {},
     "output_type": "display_data"
    }
   ],
   "source": [
    "novel_cdr.to_csv(\n",
    "    Path(\n",
    "        '../data/100_novel_cdr.csv'\n",
    "    )\n",
    ")"
   ]
  },
  {
   "cell_type": "markdown",
   "metadata": {},
   "source": [
    "Lastly, we also want to read out the scenarios list."
   ]
  },
  {
   "cell_type": "code",
   "execution_count": null,
   "metadata": {},
   "outputs": [
    {
     "data": {
      "application/javascript": "\n            setTimeout(function() {\n                var nbb_cell_id = 21;\n                var nbb_unformatted_code = \"(\\n    df_proc\\n    .meta\\n    .index\\n    .to_frame()\\n    .reset_index(drop=True)\\n    .to_csv(\\n        Path(\\n            '../data/100_scenario_names.csv'\\n        ),\\n        header=False\\n    )\\n)\";\n                var nbb_formatted_code = \"(\\n    df_proc.meta.index.to_frame()\\n    .reset_index(drop=True)\\n    .to_csv(Path(\\\"../data/100_scenario_names.csv\\\"), header=False)\\n)\";\n                var nbb_cells = Jupyter.notebook.get_cells();\n                for (var i = 0; i < nbb_cells.length; ++i) {\n                    if (nbb_cells[i].input_prompt_number == nbb_cell_id) {\n                        if (nbb_cells[i].get_text() == nbb_unformatted_code) {\n                             nbb_cells[i].set_text(nbb_formatted_code);\n                        }\n                        break;\n                    }\n                }\n            }, 500);\n            ",
      "text/plain": [
       "<IPython.core.display.Javascript object>"
      ]
     },
     "metadata": {},
     "output_type": "display_data"
    }
   ],
   "source": [
    "(\n",
    "    df_proc\n",
    "    .meta\n",
    "    .index\n",
    "    .to_frame()\n",
    "    .reset_index(drop=True)\n",
    "    .to_csv(\n",
    "        Path(\n",
    "            '../data/100_scenario_names.csv'\n",
    "        ),\n",
    "        header=False\n",
    "    )\n",
    ")"
   ]
  },
  {
   "cell_type": "code",
   "execution_count": null,
   "metadata": {},
   "outputs": [],
   "source": []
  }
 ],
 "metadata": {
  "kernelspec": {
   "display_name": "Python 3 (ipykernel)",
   "language": "python",
   "name": "python3"
  },
  "language_info": {
   "codemirror_mode": {
    "name": "ipython",
    "version": 3
   },
   "file_extension": ".py",
   "mimetype": "text/x-python",
   "name": "python",
   "nbconvert_exporter": "python",
   "pygments_lexer": "ipython3",
   "version": "3.10.12"
  }
 },
 "nbformat": 4,
 "nbformat_minor": 4
}
